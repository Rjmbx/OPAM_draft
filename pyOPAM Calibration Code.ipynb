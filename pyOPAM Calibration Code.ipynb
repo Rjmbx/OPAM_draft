{
 "cells": [
  {
   "cell_type": "code",
   "execution_count": 1,
   "metadata": {},
   "outputs": [
    {
     "name": "stdout",
     "output_type": "stream",
     "text": [
      "(316, 25)\n"
     ]
    },
    {
     "data": {
      "text/html": [
       "<div>\n",
       "<style scoped>\n",
       "    .dataframe tbody tr th:only-of-type {\n",
       "        vertical-align: middle;\n",
       "    }\n",
       "\n",
       "    .dataframe tbody tr th {\n",
       "        vertical-align: top;\n",
       "    }\n",
       "\n",
       "    .dataframe thead th {\n",
       "        text-align: right;\n",
       "    }\n",
       "</style>\n",
       "<table border=\"1\" class=\"dataframe\">\n",
       "  <thead>\n",
       "    <tr style=\"text-align: right;\">\n",
       "      <th></th>\n",
       "      <th>Reference</th>\n",
       "      <th>Apparatus</th>\n",
       "      <th>Pressure_kbar</th>\n",
       "      <th>Pressure_error</th>\n",
       "      <th>Temperature_degC</th>\n",
       "      <th>Phases</th>\n",
       "      <th>SiO2</th>\n",
       "      <th>TiO2</th>\n",
       "      <th>Al2O3</th>\n",
       "      <th>FeO</th>\n",
       "      <th>...</th>\n",
       "      <th>P2O5</th>\n",
       "      <th>H2O</th>\n",
       "      <th>Cr2O3</th>\n",
       "      <th>Total</th>\n",
       "      <th>Alk Line</th>\n",
       "      <th>Sub line</th>\n",
       "      <th>Alkalinity (S)</th>\n",
       "      <th>Alkalinity (A)</th>\n",
       "      <th>alk</th>\n",
       "      <th>KB08</th>\n",
       "    </tr>\n",
       "    <tr>\n",
       "      <th>Experiment</th>\n",
       "      <th></th>\n",
       "      <th></th>\n",
       "      <th></th>\n",
       "      <th></th>\n",
       "      <th></th>\n",
       "      <th></th>\n",
       "      <th></th>\n",
       "      <th></th>\n",
       "      <th></th>\n",
       "      <th></th>\n",
       "      <th></th>\n",
       "      <th></th>\n",
       "      <th></th>\n",
       "      <th></th>\n",
       "      <th></th>\n",
       "      <th></th>\n",
       "      <th></th>\n",
       "      <th></th>\n",
       "      <th></th>\n",
       "      <th></th>\n",
       "      <th></th>\n",
       "    </tr>\n",
       "  </thead>\n",
       "  <tbody>\n",
       "    <tr>\n",
       "      <th>KN-54-2-2-1</th>\n",
       "      <td>Grove1992</td>\n",
       "      <td>1atm_furnace</td>\n",
       "      <td>0.001</td>\n",
       "      <td>0.00001</td>\n",
       "      <td>1161</td>\n",
       "      <td>gl-ol-cp-pl</td>\n",
       "      <td>51.90</td>\n",
       "      <td>2.38</td>\n",
       "      <td>13.60</td>\n",
       "      <td>11.30</td>\n",
       "      <td>...</td>\n",
       "      <td>0.00</td>\n",
       "      <td>0.0</td>\n",
       "      <td>0.06</td>\n",
       "      <td>99.54</td>\n",
       "      <td>7.720</td>\n",
       "      <td>4.93360</td>\n",
       "      <td>1.32360</td>\n",
       "      <td>4.110</td>\n",
       "      <td>3.61</td>\n",
       "      <td>3.4945</td>\n",
       "    </tr>\n",
       "    <tr>\n",
       "      <th>ALV-1690-20</th>\n",
       "      <td>Grove1992</td>\n",
       "      <td>zhm_ar</td>\n",
       "      <td>2.000</td>\n",
       "      <td>0.02</td>\n",
       "      <td>1163</td>\n",
       "      <td>gl-ol-cp-pl</td>\n",
       "      <td>49.80</td>\n",
       "      <td>2.35</td>\n",
       "      <td>13.60</td>\n",
       "      <td>12.20</td>\n",
       "      <td>...</td>\n",
       "      <td>0.32</td>\n",
       "      <td>0.0</td>\n",
       "      <td>0.00</td>\n",
       "      <td>99.14</td>\n",
       "      <td>6.040</td>\n",
       "      <td>3.85420</td>\n",
       "      <td>0.43420</td>\n",
       "      <td>2.620</td>\n",
       "      <td>3.42</td>\n",
       "      <td>2.7700</td>\n",
       "    </tr>\n",
       "    <tr>\n",
       "      <th>ALV-1690-20</th>\n",
       "      <td>Grove1992</td>\n",
       "      <td>zhm_ar</td>\n",
       "      <td>2.000</td>\n",
       "      <td>0.02</td>\n",
       "      <td>1152</td>\n",
       "      <td>gl-ol-cp-pl</td>\n",
       "      <td>50.00</td>\n",
       "      <td>2.47</td>\n",
       "      <td>13.70</td>\n",
       "      <td>11.70</td>\n",
       "      <td>...</td>\n",
       "      <td>0.36</td>\n",
       "      <td>0.0</td>\n",
       "      <td>0.00</td>\n",
       "      <td>99.10</td>\n",
       "      <td>6.200</td>\n",
       "      <td>3.95700</td>\n",
       "      <td>0.37700</td>\n",
       "      <td>2.620</td>\n",
       "      <td>3.58</td>\n",
       "      <td>3.1305</td>\n",
       "    </tr>\n",
       "    <tr>\n",
       "      <th>ALV-1690-20</th>\n",
       "      <td>Grove1992</td>\n",
       "      <td>zhm_ar</td>\n",
       "      <td>2.000</td>\n",
       "      <td>0.02</td>\n",
       "      <td>1148</td>\n",
       "      <td>gl-ol-cp-pl</td>\n",
       "      <td>49.80</td>\n",
       "      <td>2.30</td>\n",
       "      <td>13.70</td>\n",
       "      <td>12.00</td>\n",
       "      <td>...</td>\n",
       "      <td>0.32</td>\n",
       "      <td>0.0</td>\n",
       "      <td>0.00</td>\n",
       "      <td>99.09</td>\n",
       "      <td>6.040</td>\n",
       "      <td>3.85420</td>\n",
       "      <td>0.48420</td>\n",
       "      <td>2.670</td>\n",
       "      <td>3.37</td>\n",
       "      <td>3.4805</td>\n",
       "    </tr>\n",
       "    <tr>\n",
       "      <th>ALV-1690-20</th>\n",
       "      <td>Grove1992</td>\n",
       "      <td>zhm_ar</td>\n",
       "      <td>2.000</td>\n",
       "      <td>0.02</td>\n",
       "      <td>1145</td>\n",
       "      <td>gl-ol-cp-pl</td>\n",
       "      <td>49.80</td>\n",
       "      <td>3.32</td>\n",
       "      <td>12.90</td>\n",
       "      <td>12.90</td>\n",
       "      <td>...</td>\n",
       "      <td>0.43</td>\n",
       "      <td>0.0</td>\n",
       "      <td>0.00</td>\n",
       "      <td>98.92</td>\n",
       "      <td>6.040</td>\n",
       "      <td>3.85420</td>\n",
       "      <td>0.49420</td>\n",
       "      <td>2.680</td>\n",
       "      <td>3.36</td>\n",
       "      <td>4.4773</td>\n",
       "    </tr>\n",
       "    <tr>\n",
       "      <th>...</th>\n",
       "      <td>...</td>\n",
       "      <td>...</td>\n",
       "      <td>...</td>\n",
       "      <td>...</td>\n",
       "      <td>...</td>\n",
       "      <td>...</td>\n",
       "      <td>...</td>\n",
       "      <td>...</td>\n",
       "      <td>...</td>\n",
       "      <td>...</td>\n",
       "      <td>...</td>\n",
       "      <td>...</td>\n",
       "      <td>...</td>\n",
       "      <td>...</td>\n",
       "      <td>...</td>\n",
       "      <td>...</td>\n",
       "      <td>...</td>\n",
       "      <td>...</td>\n",
       "      <td>...</td>\n",
       "      <td>...</td>\n",
       "      <td>...</td>\n",
       "    </tr>\n",
       "    <tr>\n",
       "      <th>8759</th>\n",
       "      <td>Thy and Lofgren 1994</td>\n",
       "      <td>1atm_furnace</td>\n",
       "      <td>0.001</td>\n",
       "      <td>0</td>\n",
       "      <td>1098</td>\n",
       "      <td>gl-ol-cp-pl-ox</td>\n",
       "      <td>52.05</td>\n",
       "      <td>3.52</td>\n",
       "      <td>12.31</td>\n",
       "      <td>14.17</td>\n",
       "      <td>...</td>\n",
       "      <td>1.36</td>\n",
       "      <td>0.0</td>\n",
       "      <td>0.00</td>\n",
       "      <td>0.00</td>\n",
       "      <td>7.840</td>\n",
       "      <td>5.01070</td>\n",
       "      <td>-0.73930</td>\n",
       "      <td>2.090</td>\n",
       "      <td>5.75</td>\n",
       "      <td>2.9742</td>\n",
       "    </tr>\n",
       "    <tr>\n",
       "      <th>8759</th>\n",
       "      <td>Thy and Lofgren 1994</td>\n",
       "      <td>1atm_furnace</td>\n",
       "      <td>0.001</td>\n",
       "      <td>0</td>\n",
       "      <td>1090</td>\n",
       "      <td>gl-ol-cp-pl-ox</td>\n",
       "      <td>52.85</td>\n",
       "      <td>2.84</td>\n",
       "      <td>12.67</td>\n",
       "      <td>13.12</td>\n",
       "      <td>...</td>\n",
       "      <td>1.65</td>\n",
       "      <td>0.0</td>\n",
       "      <td>0.00</td>\n",
       "      <td>0.00</td>\n",
       "      <td>8.480</td>\n",
       "      <td>5.42190</td>\n",
       "      <td>-0.86810</td>\n",
       "      <td>2.190</td>\n",
       "      <td>6.29</td>\n",
       "      <td>11.5618</td>\n",
       "    </tr>\n",
       "    <tr>\n",
       "      <th>SAX2</th>\n",
       "      <td>Thy and Lofgren 1994</td>\n",
       "      <td>1atm_furnace</td>\n",
       "      <td>0.001</td>\n",
       "      <td>0</td>\n",
       "      <td>1081</td>\n",
       "      <td>gl-ol-cp-pl-ox</td>\n",
       "      <td>45.89</td>\n",
       "      <td>3.72</td>\n",
       "      <td>15.03</td>\n",
       "      <td>13.06</td>\n",
       "      <td>...</td>\n",
       "      <td>0.84</td>\n",
       "      <td>0.0</td>\n",
       "      <td>0.00</td>\n",
       "      <td>0.00</td>\n",
       "      <td>2.912</td>\n",
       "      <td>1.84446</td>\n",
       "      <td>-1.95554</td>\n",
       "      <td>-0.888</td>\n",
       "      <td>3.80</td>\n",
       "      <td>11.7114</td>\n",
       "    </tr>\n",
       "    <tr>\n",
       "      <th>SAX2</th>\n",
       "      <td>Thy and Lofgren 1994</td>\n",
       "      <td>1atm_furnace</td>\n",
       "      <td>0.001</td>\n",
       "      <td>0</td>\n",
       "      <td>1071</td>\n",
       "      <td>gl-ol-cp-pl-ox - ox</td>\n",
       "      <td>45.99</td>\n",
       "      <td>3.75</td>\n",
       "      <td>15.03</td>\n",
       "      <td>13.15</td>\n",
       "      <td>...</td>\n",
       "      <td>0.88</td>\n",
       "      <td>0.0</td>\n",
       "      <td>0.00</td>\n",
       "      <td>0.00</td>\n",
       "      <td>2.992</td>\n",
       "      <td>1.89586</td>\n",
       "      <td>-1.90414</td>\n",
       "      <td>-0.808</td>\n",
       "      <td>3.80</td>\n",
       "      <td>10.5125</td>\n",
       "    </tr>\n",
       "    <tr>\n",
       "      <th>SAX2</th>\n",
       "      <td>Thy and Lofgren 1994</td>\n",
       "      <td>1atm_furnace</td>\n",
       "      <td>0.001</td>\n",
       "      <td>0</td>\n",
       "      <td>1062</td>\n",
       "      <td>gl-ol-cp-pl-ox - ox</td>\n",
       "      <td>45.99</td>\n",
       "      <td>3.85</td>\n",
       "      <td>14.64</td>\n",
       "      <td>13.14</td>\n",
       "      <td>...</td>\n",
       "      <td>0.88</td>\n",
       "      <td>0.0</td>\n",
       "      <td>0.00</td>\n",
       "      <td>0.00</td>\n",
       "      <td>2.992</td>\n",
       "      <td>1.89586</td>\n",
       "      <td>-1.93414</td>\n",
       "      <td>-0.838</td>\n",
       "      <td>3.83</td>\n",
       "      <td>0.0000</td>\n",
       "    </tr>\n",
       "  </tbody>\n",
       "</table>\n",
       "<p>316 rows × 25 columns</p>\n",
       "</div>"
      ],
      "text/plain": [
       "                        Reference     Apparatus  Pressure_kbar Pressure_error  \\\n",
       "Experiment                                                                      \n",
       "KN-54-2-2-1             Grove1992  1atm_furnace          0.001        0.00001   \n",
       "ALV-1690-20             Grove1992        zhm_ar          2.000           0.02   \n",
       "ALV-1690-20             Grove1992        zhm_ar          2.000           0.02   \n",
       "ALV-1690-20             Grove1992        zhm_ar          2.000           0.02   \n",
       "ALV-1690-20             Grove1992        zhm_ar          2.000           0.02   \n",
       "...                           ...           ...            ...            ...   \n",
       "8759         Thy and Lofgren 1994  1atm_furnace          0.001              0   \n",
       "8759         Thy and Lofgren 1994  1atm_furnace          0.001              0   \n",
       "SAX2         Thy and Lofgren 1994  1atm_furnace          0.001              0   \n",
       "SAX2         Thy and Lofgren 1994  1atm_furnace          0.001              0   \n",
       "SAX2         Thy and Lofgren 1994  1atm_furnace          0.001              0   \n",
       "\n",
       "            Temperature_degC               Phases   SiO2  TiO2  Al2O3    FeO  \\\n",
       "Experiment                                                                     \n",
       "KN-54-2-2-1             1161          gl-ol-cp-pl  51.90  2.38  13.60  11.30   \n",
       "ALV-1690-20             1163          gl-ol-cp-pl  49.80  2.35  13.60  12.20   \n",
       "ALV-1690-20             1152          gl-ol-cp-pl  50.00  2.47  13.70  11.70   \n",
       "ALV-1690-20             1148          gl-ol-cp-pl  49.80  2.30  13.70  12.00   \n",
       "ALV-1690-20             1145          gl-ol-cp-pl  49.80  3.32  12.90  12.90   \n",
       "...                      ...                  ...    ...   ...    ...    ...   \n",
       "8759                    1098       gl-ol-cp-pl-ox  52.05  3.52  12.31  14.17   \n",
       "8759                    1090       gl-ol-cp-pl-ox  52.85  2.84  12.67  13.12   \n",
       "SAX2                    1081       gl-ol-cp-pl-ox  45.89  3.72  15.03  13.06   \n",
       "SAX2                    1071  gl-ol-cp-pl-ox - ox  45.99  3.75  15.03  13.15   \n",
       "SAX2                    1062  gl-ol-cp-pl-ox - ox  45.99  3.85  14.64  13.14   \n",
       "\n",
       "             ...  P2O5  H2O  Cr2O3  Total  Alk Line  Sub line  Alkalinity (S)  \\\n",
       "Experiment   ...                                                                \n",
       "KN-54-2-2-1  ...  0.00  0.0   0.06  99.54     7.720   4.93360         1.32360   \n",
       "ALV-1690-20  ...  0.32  0.0   0.00  99.14     6.040   3.85420         0.43420   \n",
       "ALV-1690-20  ...  0.36  0.0   0.00  99.10     6.200   3.95700         0.37700   \n",
       "ALV-1690-20  ...  0.32  0.0   0.00  99.09     6.040   3.85420         0.48420   \n",
       "ALV-1690-20  ...  0.43  0.0   0.00  98.92     6.040   3.85420         0.49420   \n",
       "...          ...   ...  ...    ...    ...       ...       ...             ...   \n",
       "8759         ...  1.36  0.0   0.00   0.00     7.840   5.01070        -0.73930   \n",
       "8759         ...  1.65  0.0   0.00   0.00     8.480   5.42190        -0.86810   \n",
       "SAX2         ...  0.84  0.0   0.00   0.00     2.912   1.84446        -1.95554   \n",
       "SAX2         ...  0.88  0.0   0.00   0.00     2.992   1.89586        -1.90414   \n",
       "SAX2         ...  0.88  0.0   0.00   0.00     2.992   1.89586        -1.93414   \n",
       "\n",
       "             Alkalinity (A)   alk     KB08  \n",
       "Experiment                                  \n",
       "KN-54-2-2-1           4.110  3.61   3.4945  \n",
       "ALV-1690-20           2.620  3.42   2.7700  \n",
       "ALV-1690-20           2.620  3.58   3.1305  \n",
       "ALV-1690-20           2.670  3.37   3.4805  \n",
       "ALV-1690-20           2.680  3.36   4.4773  \n",
       "...                     ...   ...      ...  \n",
       "8759                  2.090  5.75   2.9742  \n",
       "8759                  2.190  6.29  11.5618  \n",
       "SAX2                 -0.888  3.80  11.7114  \n",
       "SAX2                 -0.808  3.80  10.5125  \n",
       "SAX2                 -0.838  3.83   0.0000  \n",
       "\n",
       "[316 rows x 25 columns]"
      ]
     },
     "execution_count": 1,
     "metadata": {},
     "output_type": "execute_result"
    }
   ],
   "source": [
    "import pandas as pd\n",
    "import numpy as np\n",
    "import math\n",
    "import matplotlib.pyplot as plt\n",
    "import seaborn as sns; sns.set()\n",
    "import plotly.express as px\n",
    "from scipy.stats import chi2\n",
    "from scipy.optimize import minimize_scalar\n",
    "from scipy.optimize import minimize\n",
    "global my_dtype,molwt,catnum,catwt\n",
    "\n",
    "# import csv file\n",
    "df_all = pd.read_csv('Melt_cal_4.csv')\n",
    "\n",
    "index = df_all.index\n",
    "columns = df_all.columns\n",
    "data = df_all.values\n",
    "df_all.fillna(0, inplace=True)\n",
    "df_all.set_index('Experiment', inplace=True)\n",
    "\n",
    "#Check original dataframe\n",
    "print (df_all.shape)\n",
    "df_all"
   ]
  },
  {
   "cell_type": "code",
   "execution_count": 2,
   "metadata": {
    "scrolled": true
   },
   "outputs": [
    {
     "name": "stdout",
     "output_type": "stream",
     "text": [
      "(254, 25)\n"
     ]
    },
    {
     "data": {
      "text/html": [
       "<div>\n",
       "<style scoped>\n",
       "    .dataframe tbody tr th:only-of-type {\n",
       "        vertical-align: middle;\n",
       "    }\n",
       "\n",
       "    .dataframe tbody tr th {\n",
       "        vertical-align: top;\n",
       "    }\n",
       "\n",
       "    .dataframe thead th {\n",
       "        text-align: right;\n",
       "    }\n",
       "</style>\n",
       "<table border=\"1\" class=\"dataframe\">\n",
       "  <thead>\n",
       "    <tr style=\"text-align: right;\">\n",
       "      <th></th>\n",
       "      <th>Reference</th>\n",
       "      <th>Apparatus</th>\n",
       "      <th>Pressure_kbar</th>\n",
       "      <th>Pressure_error</th>\n",
       "      <th>Temperature_degC</th>\n",
       "      <th>Phases</th>\n",
       "      <th>SiO2</th>\n",
       "      <th>TiO2</th>\n",
       "      <th>Al2O3</th>\n",
       "      <th>FeO</th>\n",
       "      <th>...</th>\n",
       "      <th>P2O5</th>\n",
       "      <th>H2O</th>\n",
       "      <th>Cr2O3</th>\n",
       "      <th>Total</th>\n",
       "      <th>Alk Line</th>\n",
       "      <th>Sub line</th>\n",
       "      <th>Alkalinity (S)</th>\n",
       "      <th>Alkalinity (A)</th>\n",
       "      <th>alk</th>\n",
       "      <th>KB08</th>\n",
       "    </tr>\n",
       "    <tr>\n",
       "      <th>Experiment</th>\n",
       "      <th></th>\n",
       "      <th></th>\n",
       "      <th></th>\n",
       "      <th></th>\n",
       "      <th></th>\n",
       "      <th></th>\n",
       "      <th></th>\n",
       "      <th></th>\n",
       "      <th></th>\n",
       "      <th></th>\n",
       "      <th></th>\n",
       "      <th></th>\n",
       "      <th></th>\n",
       "      <th></th>\n",
       "      <th></th>\n",
       "      <th></th>\n",
       "      <th></th>\n",
       "      <th></th>\n",
       "      <th></th>\n",
       "      <th></th>\n",
       "      <th></th>\n",
       "    </tr>\n",
       "  </thead>\n",
       "  <tbody>\n",
       "    <tr>\n",
       "      <th>KN-54-2-2-1</th>\n",
       "      <td>Grove1992</td>\n",
       "      <td>1atm_furnace</td>\n",
       "      <td>0.001</td>\n",
       "      <td>0.00001</td>\n",
       "      <td>1161</td>\n",
       "      <td>gl-ol-cp-pl</td>\n",
       "      <td>51.90</td>\n",
       "      <td>2.38</td>\n",
       "      <td>13.60</td>\n",
       "      <td>11.300000</td>\n",
       "      <td>...</td>\n",
       "      <td>0.00</td>\n",
       "      <td>0.0</td>\n",
       "      <td>0.06</td>\n",
       "      <td>99.54</td>\n",
       "      <td>7.720</td>\n",
       "      <td>4.93360</td>\n",
       "      <td>1.32360</td>\n",
       "      <td>4.110</td>\n",
       "      <td>3.61</td>\n",
       "      <td>3.4945</td>\n",
       "    </tr>\n",
       "    <tr>\n",
       "      <th>ALV-1690-20</th>\n",
       "      <td>Grove1992</td>\n",
       "      <td>zhm_ar</td>\n",
       "      <td>2.000</td>\n",
       "      <td>0.02</td>\n",
       "      <td>1163</td>\n",
       "      <td>gl-ol-cp-pl</td>\n",
       "      <td>49.80</td>\n",
       "      <td>2.35</td>\n",
       "      <td>13.60</td>\n",
       "      <td>12.200000</td>\n",
       "      <td>...</td>\n",
       "      <td>0.32</td>\n",
       "      <td>0.0</td>\n",
       "      <td>0.00</td>\n",
       "      <td>99.14</td>\n",
       "      <td>6.040</td>\n",
       "      <td>3.85420</td>\n",
       "      <td>0.43420</td>\n",
       "      <td>2.620</td>\n",
       "      <td>3.42</td>\n",
       "      <td>2.7700</td>\n",
       "    </tr>\n",
       "    <tr>\n",
       "      <th>ALV-1690-20</th>\n",
       "      <td>Grove1992</td>\n",
       "      <td>zhm_ar</td>\n",
       "      <td>2.000</td>\n",
       "      <td>0.02</td>\n",
       "      <td>1152</td>\n",
       "      <td>gl-ol-cp-pl</td>\n",
       "      <td>50.00</td>\n",
       "      <td>2.47</td>\n",
       "      <td>13.70</td>\n",
       "      <td>11.700000</td>\n",
       "      <td>...</td>\n",
       "      <td>0.36</td>\n",
       "      <td>0.0</td>\n",
       "      <td>0.00</td>\n",
       "      <td>99.10</td>\n",
       "      <td>6.200</td>\n",
       "      <td>3.95700</td>\n",
       "      <td>0.37700</td>\n",
       "      <td>2.620</td>\n",
       "      <td>3.58</td>\n",
       "      <td>3.1305</td>\n",
       "    </tr>\n",
       "    <tr>\n",
       "      <th>ALV-1690-20</th>\n",
       "      <td>Grove1992</td>\n",
       "      <td>zhm_ar</td>\n",
       "      <td>2.000</td>\n",
       "      <td>0.02</td>\n",
       "      <td>1148</td>\n",
       "      <td>gl-ol-cp-pl</td>\n",
       "      <td>49.80</td>\n",
       "      <td>2.30</td>\n",
       "      <td>13.70</td>\n",
       "      <td>12.000000</td>\n",
       "      <td>...</td>\n",
       "      <td>0.32</td>\n",
       "      <td>0.0</td>\n",
       "      <td>0.00</td>\n",
       "      <td>99.09</td>\n",
       "      <td>6.040</td>\n",
       "      <td>3.85420</td>\n",
       "      <td>0.48420</td>\n",
       "      <td>2.670</td>\n",
       "      <td>3.37</td>\n",
       "      <td>3.4805</td>\n",
       "    </tr>\n",
       "    <tr>\n",
       "      <th>ALV-1690-20</th>\n",
       "      <td>Grove1992</td>\n",
       "      <td>zhm_ar</td>\n",
       "      <td>2.000</td>\n",
       "      <td>0.02</td>\n",
       "      <td>1145</td>\n",
       "      <td>gl-ol-cp-pl</td>\n",
       "      <td>49.80</td>\n",
       "      <td>3.32</td>\n",
       "      <td>12.90</td>\n",
       "      <td>12.900000</td>\n",
       "      <td>...</td>\n",
       "      <td>0.43</td>\n",
       "      <td>0.0</td>\n",
       "      <td>0.00</td>\n",
       "      <td>98.92</td>\n",
       "      <td>6.040</td>\n",
       "      <td>3.85420</td>\n",
       "      <td>0.49420</td>\n",
       "      <td>2.680</td>\n",
       "      <td>3.36</td>\n",
       "      <td>4.4773</td>\n",
       "    </tr>\n",
       "    <tr>\n",
       "      <th>...</th>\n",
       "      <td>...</td>\n",
       "      <td>...</td>\n",
       "      <td>...</td>\n",
       "      <td>...</td>\n",
       "      <td>...</td>\n",
       "      <td>...</td>\n",
       "      <td>...</td>\n",
       "      <td>...</td>\n",
       "      <td>...</td>\n",
       "      <td>...</td>\n",
       "      <td>...</td>\n",
       "      <td>...</td>\n",
       "      <td>...</td>\n",
       "      <td>...</td>\n",
       "      <td>...</td>\n",
       "      <td>...</td>\n",
       "      <td>...</td>\n",
       "      <td>...</td>\n",
       "      <td>...</td>\n",
       "      <td>...</td>\n",
       "      <td>...</td>\n",
       "    </tr>\n",
       "    <tr>\n",
       "      <th>6</th>\n",
       "      <td>Thy 1991</td>\n",
       "      <td>Piston Cylinder</td>\n",
       "      <td>10.000</td>\n",
       "      <td>0</td>\n",
       "      <td>1180</td>\n",
       "      <td>gl-ol-cp-pl</td>\n",
       "      <td>45.49</td>\n",
       "      <td>4.01</td>\n",
       "      <td>14.97</td>\n",
       "      <td>14.860000</td>\n",
       "      <td>...</td>\n",
       "      <td>0.50</td>\n",
       "      <td>0.0</td>\n",
       "      <td>0.00</td>\n",
       "      <td>100.04</td>\n",
       "      <td>2.592</td>\n",
       "      <td>1.63886</td>\n",
       "      <td>-3.36114</td>\n",
       "      <td>-2.408</td>\n",
       "      <td>5.00</td>\n",
       "      <td>7.0899</td>\n",
       "    </tr>\n",
       "    <tr>\n",
       "      <th>DVDP2 basanite</th>\n",
       "      <td>Gerke et al., 2004</td>\n",
       "      <td>1atm_furnace</td>\n",
       "      <td>0.001</td>\n",
       "      <td>0</td>\n",
       "      <td>1,104</td>\n",
       "      <td>gl-ol-cp-pl-ox</td>\n",
       "      <td>42.64</td>\n",
       "      <td>5.39</td>\n",
       "      <td>15.92</td>\n",
       "      <td>9.822666</td>\n",
       "      <td>...</td>\n",
       "      <td>1.87</td>\n",
       "      <td>0.0</td>\n",
       "      <td>0.00</td>\n",
       "      <td>97.26</td>\n",
       "      <td>0.312</td>\n",
       "      <td>0.17396</td>\n",
       "      <td>-7.40604</td>\n",
       "      <td>-7.268</td>\n",
       "      <td>7.58</td>\n",
       "      <td>4.7136</td>\n",
       "    </tr>\n",
       "    <tr>\n",
       "      <th>SAX2</th>\n",
       "      <td>Thy and Lofgren 1994</td>\n",
       "      <td>1atm_furnace</td>\n",
       "      <td>0.001</td>\n",
       "      <td>0</td>\n",
       "      <td>1081</td>\n",
       "      <td>gl-ol-cp-pl-ox</td>\n",
       "      <td>45.89</td>\n",
       "      <td>3.72</td>\n",
       "      <td>15.03</td>\n",
       "      <td>13.060000</td>\n",
       "      <td>...</td>\n",
       "      <td>0.84</td>\n",
       "      <td>0.0</td>\n",
       "      <td>0.00</td>\n",
       "      <td>0.00</td>\n",
       "      <td>2.912</td>\n",
       "      <td>1.84446</td>\n",
       "      <td>-1.95554</td>\n",
       "      <td>-0.888</td>\n",
       "      <td>3.80</td>\n",
       "      <td>11.7114</td>\n",
       "    </tr>\n",
       "    <tr>\n",
       "      <th>SAX2</th>\n",
       "      <td>Thy and Lofgren 1994</td>\n",
       "      <td>1atm_furnace</td>\n",
       "      <td>0.001</td>\n",
       "      <td>0</td>\n",
       "      <td>1071</td>\n",
       "      <td>gl-ol-cp-pl-ox - ox</td>\n",
       "      <td>45.99</td>\n",
       "      <td>3.75</td>\n",
       "      <td>15.03</td>\n",
       "      <td>13.150000</td>\n",
       "      <td>...</td>\n",
       "      <td>0.88</td>\n",
       "      <td>0.0</td>\n",
       "      <td>0.00</td>\n",
       "      <td>0.00</td>\n",
       "      <td>2.992</td>\n",
       "      <td>1.89586</td>\n",
       "      <td>-1.90414</td>\n",
       "      <td>-0.808</td>\n",
       "      <td>3.80</td>\n",
       "      <td>10.5125</td>\n",
       "    </tr>\n",
       "    <tr>\n",
       "      <th>SAX2</th>\n",
       "      <td>Thy and Lofgren 1994</td>\n",
       "      <td>1atm_furnace</td>\n",
       "      <td>0.001</td>\n",
       "      <td>0</td>\n",
       "      <td>1062</td>\n",
       "      <td>gl-ol-cp-pl-ox - ox</td>\n",
       "      <td>45.99</td>\n",
       "      <td>3.85</td>\n",
       "      <td>14.64</td>\n",
       "      <td>13.140000</td>\n",
       "      <td>...</td>\n",
       "      <td>0.88</td>\n",
       "      <td>0.0</td>\n",
       "      <td>0.00</td>\n",
       "      <td>0.00</td>\n",
       "      <td>2.992</td>\n",
       "      <td>1.89586</td>\n",
       "      <td>-1.93414</td>\n",
       "      <td>-0.838</td>\n",
       "      <td>3.83</td>\n",
       "      <td>0.0000</td>\n",
       "    </tr>\n",
       "  </tbody>\n",
       "</table>\n",
       "<p>254 rows × 25 columns</p>\n",
       "</div>"
      ],
      "text/plain": [
       "                           Reference        Apparatus  Pressure_kbar  \\\n",
       "Experiment                                                             \n",
       "KN-54-2-2-1                Grove1992     1atm_furnace          0.001   \n",
       "ALV-1690-20                Grove1992           zhm_ar          2.000   \n",
       "ALV-1690-20                Grove1992           zhm_ar          2.000   \n",
       "ALV-1690-20                Grove1992           zhm_ar          2.000   \n",
       "ALV-1690-20                Grove1992           zhm_ar          2.000   \n",
       "...                              ...              ...            ...   \n",
       "6                           Thy 1991  Piston Cylinder         10.000   \n",
       "DVDP2 basanite    Gerke et al., 2004     1atm_furnace          0.001   \n",
       "SAX2            Thy and Lofgren 1994     1atm_furnace          0.001   \n",
       "SAX2            Thy and Lofgren 1994     1atm_furnace          0.001   \n",
       "SAX2            Thy and Lofgren 1994     1atm_furnace          0.001   \n",
       "\n",
       "               Pressure_error Temperature_degC               Phases   SiO2  \\\n",
       "Experiment                                                                   \n",
       "KN-54-2-2-1           0.00001             1161          gl-ol-cp-pl  51.90   \n",
       "ALV-1690-20              0.02             1163          gl-ol-cp-pl  49.80   \n",
       "ALV-1690-20              0.02             1152          gl-ol-cp-pl  50.00   \n",
       "ALV-1690-20              0.02             1148          gl-ol-cp-pl  49.80   \n",
       "ALV-1690-20              0.02             1145          gl-ol-cp-pl  49.80   \n",
       "...                       ...              ...                  ...    ...   \n",
       "6                           0             1180          gl-ol-cp-pl  45.49   \n",
       "DVDP2 basanite              0            1,104       gl-ol-cp-pl-ox  42.64   \n",
       "SAX2                        0             1081       gl-ol-cp-pl-ox  45.89   \n",
       "SAX2                        0             1071  gl-ol-cp-pl-ox - ox  45.99   \n",
       "SAX2                        0             1062  gl-ol-cp-pl-ox - ox  45.99   \n",
       "\n",
       "                TiO2  Al2O3        FeO  ...  P2O5  H2O  Cr2O3   Total  \\\n",
       "Experiment                              ...                             \n",
       "KN-54-2-2-1     2.38  13.60  11.300000  ...  0.00  0.0   0.06   99.54   \n",
       "ALV-1690-20     2.35  13.60  12.200000  ...  0.32  0.0   0.00   99.14   \n",
       "ALV-1690-20     2.47  13.70  11.700000  ...  0.36  0.0   0.00   99.10   \n",
       "ALV-1690-20     2.30  13.70  12.000000  ...  0.32  0.0   0.00   99.09   \n",
       "ALV-1690-20     3.32  12.90  12.900000  ...  0.43  0.0   0.00   98.92   \n",
       "...              ...    ...        ...  ...   ...  ...    ...     ...   \n",
       "6               4.01  14.97  14.860000  ...  0.50  0.0   0.00  100.04   \n",
       "DVDP2 basanite  5.39  15.92   9.822666  ...  1.87  0.0   0.00   97.26   \n",
       "SAX2            3.72  15.03  13.060000  ...  0.84  0.0   0.00    0.00   \n",
       "SAX2            3.75  15.03  13.150000  ...  0.88  0.0   0.00    0.00   \n",
       "SAX2            3.85  14.64  13.140000  ...  0.88  0.0   0.00    0.00   \n",
       "\n",
       "                Alk Line  Sub line  Alkalinity (S)  Alkalinity (A)   alk  \\\n",
       "Experiment                                                                 \n",
       "KN-54-2-2-1        7.720   4.93360         1.32360           4.110  3.61   \n",
       "ALV-1690-20        6.040   3.85420         0.43420           2.620  3.42   \n",
       "ALV-1690-20        6.200   3.95700         0.37700           2.620  3.58   \n",
       "ALV-1690-20        6.040   3.85420         0.48420           2.670  3.37   \n",
       "ALV-1690-20        6.040   3.85420         0.49420           2.680  3.36   \n",
       "...                  ...       ...             ...             ...   ...   \n",
       "6                  2.592   1.63886        -3.36114          -2.408  5.00   \n",
       "DVDP2 basanite     0.312   0.17396        -7.40604          -7.268  7.58   \n",
       "SAX2               2.912   1.84446        -1.95554          -0.888  3.80   \n",
       "SAX2               2.992   1.89586        -1.90414          -0.808  3.80   \n",
       "SAX2               2.992   1.89586        -1.93414          -0.838  3.83   \n",
       "\n",
       "                   KB08  \n",
       "Experiment               \n",
       "KN-54-2-2-1      3.4945  \n",
       "ALV-1690-20      2.7700  \n",
       "ALV-1690-20      3.1305  \n",
       "ALV-1690-20      3.4805  \n",
       "ALV-1690-20      4.4773  \n",
       "...                 ...  \n",
       "6                7.0899  \n",
       "DVDP2 basanite   4.7136  \n",
       "SAX2            11.7114  \n",
       "SAX2            10.5125  \n",
       "SAX2             0.0000  \n",
       "\n",
       "[254 rows x 25 columns]"
      ]
     },
     "execution_count": 2,
     "metadata": {},
     "output_type": "execute_result"
    }
   ],
   "source": [
    "\"Basaltic compositions <4 wt% MgO \"\n",
    "#Filter out data with low MgO\n",
    "df = df_all.drop(df_all[df_all.MgO<4.0].index)\n",
    "\n",
    "#Check dataframe\n",
    "print (df.shape)\n",
    "df"
   ]
  },
  {
   "cell_type": "markdown",
   "metadata": {},
   "source": [
    "### Cells 4 to 7 set up the nexessary functions for the OPAM pressure to be calculated and minimisations be estimated in Cell 8"
   ]
  },
  {
   "cell_type": "code",
   "execution_count": 3,
   "metadata": {},
   "outputs": [],
   "source": [
    "# turn weight percent oxides into mole fractions\n",
    "names=['SiO2', 'TiO2', 'Al2O3', 'FeO', 'MgO', 'MnO', 'CaO', 'Na2O', 'K2O', 'P2O5','Cr2O3','H2O']\n",
    "formats=['<f8','<f8','<f8', '<f8', '<f8', '<f8', '<f8', '<f8', '<f8', '<f8', '<f8', '<f8']\n",
    "my_dtype = dict(names=names, formats=formats)\n",
    "molwt = np.array([(60.08,79.866,101.96,71.844,40.3044,70.9374,56.0774,61.9789,94.20,283.89,151.99,18.01528)],dtype=my_dtype)\n",
    "catnum = np.array([(1.,1.,2.,1.,1.,1.,1.,2.,2.,2.,2.,2.)],dtype=my_dtype)\n",
    "catwt = np.zeros_like(molwt) # mol weight of oxide with single cation in formula unit\n",
    "for n in my_dtype['names']:\n",
    "    catwt[n] = molwt[n]/catnum[n] # Beattie style single cation molar fracs"
   ]
  },
  {
   "cell_type": "code",
   "execution_count": 4,
   "metadata": {},
   "outputs": [],
   "source": [
    "def wt2cat (majwt):\n",
    "    \"convert wt% oxide to atomic % of cation\"\n",
    "    # create empty dataframe of same shape\n",
    "    catprop= df*0 \n",
    "    for n in my_dtype['names']:\n",
    "        #calc cation wt sum of each sample\n",
    "        catprop[n] = majwt[n]/catwt[n]\n",
    "        \n",
    "    catprop['molsum']= catprop.sum(axis=1)\n",
    "    Msum = catprop['molsum'].to_numpy()\n",
    "    \n",
    "    catfrac = df*0\n",
    "    for n in my_dtype['names']:\n",
    "        catfrac[n] = catprop[n]/Msum \n",
    "    return catfrac"
   ]
  },
  {
   "cell_type": "code",
   "execution_count": 5,
   "metadata": {},
   "outputs": [],
   "source": [
    "def xpred (p,xna,xk,xti,xfe,xsi):\n",
    "    \"calculate XAl,XCa,XMg for Yang model\"\n",
    "     \n",
    "    xalp = 0.236 + 0.00218*p + 0.109*xna + 0.593*xk -0.350*xti -0.299*xfe - 0.130*xsi\n",
    "    xcap = 1.133 - 0.00339*p -0.569*xna -0.776*xk-0.672*xti-0.214*xfe-3.355*xsi + 2.830*(xsi*xsi)\n",
    "    xmgp = -0.277 + 0.00114*p -0.543*xna -0.947*xk -0.117*xti-0.490*xfe+2.086*xsi -2.400*(xsi*xsi) # original from table   \n",
    " \n",
    "    return(xalp,xcap,xmgp)"
   ]
  },
  {
   "cell_type": "code",
   "execution_count": 6,
   "metadata": {},
   "outputs": [],
   "source": [
    "def cc (pkbar,xna,xk,xti,xfe,xsi,xalo,xcao,xmgo,xals,xcas,xmgs):\n",
    "    \"chi2 function to minimise\"\n",
    "    xalp,xcap,xmgp = xpred(pkbar,xna,xk,xti,xfe,xsi)    \n",
    "    cc =((xalo-xalp)/xals)**2. + ((xcao-xcap)/xcas)**2. + ((xmgo-xmgp)/xmgs)**2.\n",
    " \n",
    "    return(cc)"
   ]
  },
  {
   "cell_type": "markdown",
   "metadata": {},
   "source": [
    "### Iterative calculation for OPAM barometer, following parameterisation of Yang et al., 1996"
   ]
  },
  {
   "cell_type": "code",
   "execution_count": 7,
   "metadata": {
    "scrolled": true
   },
   "outputs": [
    {
     "name": "stderr",
     "output_type": "stream",
     "text": [
      "C:\\Users\\r.j.m.baxter\\.conda\\envs\\pygmt\\lib\\site-packages\\pandas\\core\\indexing.py:1596: SettingWithCopyWarning: \n",
      "A value is trying to be set on a copy of a slice from a DataFrame.\n",
      "Try using .loc[row_indexer,col_indexer] = value instead\n",
      "\n",
      "See the caveats in the documentation: https://pandas.pydata.org/pandas-docs/stable/user_guide/indexing.html#returning-a-view-versus-a-copy\n",
      "  self.obj[key] = _infer_fill_value(value)\n",
      "C:\\Users\\r.j.m.baxter\\.conda\\envs\\pygmt\\lib\\site-packages\\pandas\\core\\indexing.py:1745: SettingWithCopyWarning: \n",
      "A value is trying to be set on a copy of a slice from a DataFrame.\n",
      "Try using .loc[row_indexer,col_indexer] = value instead\n",
      "\n",
      "See the caveats in the documentation: https://pandas.pydata.org/pandas-docs/stable/user_guide/indexing.html#returning-a-view-versus-a-copy\n",
      "  isetter(ilocs[0], value)\n"
     ]
    },
    {
     "data": {
      "text/html": [
       "<div>\n",
       "<style scoped>\n",
       "    .dataframe tbody tr th:only-of-type {\n",
       "        vertical-align: middle;\n",
       "    }\n",
       "\n",
       "    .dataframe tbody tr th {\n",
       "        vertical-align: top;\n",
       "    }\n",
       "\n",
       "    .dataframe thead th {\n",
       "        text-align: right;\n",
       "    }\n",
       "</style>\n",
       "<table border=\"1\" class=\"dataframe\">\n",
       "  <thead>\n",
       "    <tr style=\"text-align: right;\">\n",
       "      <th></th>\n",
       "      <th>Reference</th>\n",
       "      <th>Apparatus</th>\n",
       "      <th>Pressure_kbar</th>\n",
       "      <th>Pressure_error</th>\n",
       "      <th>Temperature_degC</th>\n",
       "      <th>Phases</th>\n",
       "      <th>SiO2</th>\n",
       "      <th>TiO2</th>\n",
       "      <th>Al2O3</th>\n",
       "      <th>FeO</th>\n",
       "      <th>...</th>\n",
       "      <th>Cr2O3</th>\n",
       "      <th>Total</th>\n",
       "      <th>Alk Line</th>\n",
       "      <th>Sub line</th>\n",
       "      <th>Alkalinity (S)</th>\n",
       "      <th>Alkalinity (A)</th>\n",
       "      <th>alk</th>\n",
       "      <th>KB08</th>\n",
       "      <th>Pressure_min</th>\n",
       "      <th>Probability</th>\n",
       "    </tr>\n",
       "    <tr>\n",
       "      <th>Experiment</th>\n",
       "      <th></th>\n",
       "      <th></th>\n",
       "      <th></th>\n",
       "      <th></th>\n",
       "      <th></th>\n",
       "      <th></th>\n",
       "      <th></th>\n",
       "      <th></th>\n",
       "      <th></th>\n",
       "      <th></th>\n",
       "      <th></th>\n",
       "      <th></th>\n",
       "      <th></th>\n",
       "      <th></th>\n",
       "      <th></th>\n",
       "      <th></th>\n",
       "      <th></th>\n",
       "      <th></th>\n",
       "      <th></th>\n",
       "      <th></th>\n",
       "      <th></th>\n",
       "    </tr>\n",
       "  </thead>\n",
       "  <tbody>\n",
       "    <tr>\n",
       "      <th>KN-54-2-2-1</th>\n",
       "      <td>Grove1992</td>\n",
       "      <td>1atm_furnace</td>\n",
       "      <td>0.001</td>\n",
       "      <td>0.00001</td>\n",
       "      <td>1161</td>\n",
       "      <td>gl-ol-cp-pl</td>\n",
       "      <td>51.90</td>\n",
       "      <td>2.38</td>\n",
       "      <td>13.60</td>\n",
       "      <td>11.300000</td>\n",
       "      <td>...</td>\n",
       "      <td>0.06</td>\n",
       "      <td>99.54</td>\n",
       "      <td>7.720</td>\n",
       "      <td>4.93360</td>\n",
       "      <td>1.32360</td>\n",
       "      <td>4.110</td>\n",
       "      <td>3.61</td>\n",
       "      <td>3.4945</td>\n",
       "      <td>-0.717450</td>\n",
       "      <td>0.820937</td>\n",
       "    </tr>\n",
       "    <tr>\n",
       "      <th>ALV-1690-20</th>\n",
       "      <td>Grove1992</td>\n",
       "      <td>zhm_ar</td>\n",
       "      <td>2.000</td>\n",
       "      <td>0.02</td>\n",
       "      <td>1163</td>\n",
       "      <td>gl-ol-cp-pl</td>\n",
       "      <td>49.80</td>\n",
       "      <td>2.35</td>\n",
       "      <td>13.60</td>\n",
       "      <td>12.200000</td>\n",
       "      <td>...</td>\n",
       "      <td>0.00</td>\n",
       "      <td>99.14</td>\n",
       "      <td>6.040</td>\n",
       "      <td>3.85420</td>\n",
       "      <td>0.43420</td>\n",
       "      <td>2.620</td>\n",
       "      <td>3.42</td>\n",
       "      <td>2.7700</td>\n",
       "      <td>2.316884</td>\n",
       "      <td>0.896354</td>\n",
       "    </tr>\n",
       "    <tr>\n",
       "      <th>ALV-1690-20</th>\n",
       "      <td>Grove1992</td>\n",
       "      <td>zhm_ar</td>\n",
       "      <td>2.000</td>\n",
       "      <td>0.02</td>\n",
       "      <td>1152</td>\n",
       "      <td>gl-ol-cp-pl</td>\n",
       "      <td>50.00</td>\n",
       "      <td>2.47</td>\n",
       "      <td>13.70</td>\n",
       "      <td>11.700000</td>\n",
       "      <td>...</td>\n",
       "      <td>0.00</td>\n",
       "      <td>99.10</td>\n",
       "      <td>6.200</td>\n",
       "      <td>3.95700</td>\n",
       "      <td>0.37700</td>\n",
       "      <td>2.620</td>\n",
       "      <td>3.58</td>\n",
       "      <td>3.1305</td>\n",
       "      <td>1.681299</td>\n",
       "      <td>0.966585</td>\n",
       "    </tr>\n",
       "    <tr>\n",
       "      <th>ALV-1690-20</th>\n",
       "      <td>Grove1992</td>\n",
       "      <td>zhm_ar</td>\n",
       "      <td>2.000</td>\n",
       "      <td>0.02</td>\n",
       "      <td>1148</td>\n",
       "      <td>gl-ol-cp-pl</td>\n",
       "      <td>49.80</td>\n",
       "      <td>2.30</td>\n",
       "      <td>13.70</td>\n",
       "      <td>12.000000</td>\n",
       "      <td>...</td>\n",
       "      <td>0.00</td>\n",
       "      <td>99.09</td>\n",
       "      <td>6.040</td>\n",
       "      <td>3.85420</td>\n",
       "      <td>0.48420</td>\n",
       "      <td>2.670</td>\n",
       "      <td>3.37</td>\n",
       "      <td>3.4805</td>\n",
       "      <td>1.994374</td>\n",
       "      <td>0.985431</td>\n",
       "    </tr>\n",
       "    <tr>\n",
       "      <th>ALV-1690-20</th>\n",
       "      <td>Grove1992</td>\n",
       "      <td>zhm_ar</td>\n",
       "      <td>2.000</td>\n",
       "      <td>0.02</td>\n",
       "      <td>1145</td>\n",
       "      <td>gl-ol-cp-pl</td>\n",
       "      <td>49.80</td>\n",
       "      <td>3.32</td>\n",
       "      <td>12.90</td>\n",
       "      <td>12.900000</td>\n",
       "      <td>...</td>\n",
       "      <td>0.00</td>\n",
       "      <td>98.92</td>\n",
       "      <td>6.040</td>\n",
       "      <td>3.85420</td>\n",
       "      <td>0.49420</td>\n",
       "      <td>2.680</td>\n",
       "      <td>3.36</td>\n",
       "      <td>4.4773</td>\n",
       "      <td>1.035496</td>\n",
       "      <td>0.986987</td>\n",
       "    </tr>\n",
       "    <tr>\n",
       "      <th>...</th>\n",
       "      <td>...</td>\n",
       "      <td>...</td>\n",
       "      <td>...</td>\n",
       "      <td>...</td>\n",
       "      <td>...</td>\n",
       "      <td>...</td>\n",
       "      <td>...</td>\n",
       "      <td>...</td>\n",
       "      <td>...</td>\n",
       "      <td>...</td>\n",
       "      <td>...</td>\n",
       "      <td>...</td>\n",
       "      <td>...</td>\n",
       "      <td>...</td>\n",
       "      <td>...</td>\n",
       "      <td>...</td>\n",
       "      <td>...</td>\n",
       "      <td>...</td>\n",
       "      <td>...</td>\n",
       "      <td>...</td>\n",
       "      <td>...</td>\n",
       "    </tr>\n",
       "    <tr>\n",
       "      <th>6</th>\n",
       "      <td>Thy 1991</td>\n",
       "      <td>Piston Cylinder</td>\n",
       "      <td>10.000</td>\n",
       "      <td>0</td>\n",
       "      <td>1180</td>\n",
       "      <td>gl-ol-cp-pl</td>\n",
       "      <td>45.49</td>\n",
       "      <td>4.01</td>\n",
       "      <td>14.97</td>\n",
       "      <td>14.860000</td>\n",
       "      <td>...</td>\n",
       "      <td>0.00</td>\n",
       "      <td>100.04</td>\n",
       "      <td>2.592</td>\n",
       "      <td>1.63886</td>\n",
       "      <td>-3.36114</td>\n",
       "      <td>-2.408</td>\n",
       "      <td>5.00</td>\n",
       "      <td>7.0899</td>\n",
       "      <td>6.748706</td>\n",
       "      <td>0.974859</td>\n",
       "    </tr>\n",
       "    <tr>\n",
       "      <th>DVDP2 basanite</th>\n",
       "      <td>Gerke et al., 2004</td>\n",
       "      <td>1atm_furnace</td>\n",
       "      <td>0.001</td>\n",
       "      <td>0</td>\n",
       "      <td>1,104</td>\n",
       "      <td>gl-ol-cp-pl-ox</td>\n",
       "      <td>42.64</td>\n",
       "      <td>5.39</td>\n",
       "      <td>15.92</td>\n",
       "      <td>9.822666</td>\n",
       "      <td>...</td>\n",
       "      <td>0.00</td>\n",
       "      <td>97.26</td>\n",
       "      <td>0.312</td>\n",
       "      <td>0.17396</td>\n",
       "      <td>-7.40604</td>\n",
       "      <td>-7.268</td>\n",
       "      <td>7.58</td>\n",
       "      <td>4.7136</td>\n",
       "      <td>5.089034</td>\n",
       "      <td>0.272646</td>\n",
       "    </tr>\n",
       "    <tr>\n",
       "      <th>SAX2</th>\n",
       "      <td>Thy and Lofgren 1994</td>\n",
       "      <td>1atm_furnace</td>\n",
       "      <td>0.001</td>\n",
       "      <td>0</td>\n",
       "      <td>1081</td>\n",
       "      <td>gl-ol-cp-pl-ox</td>\n",
       "      <td>45.89</td>\n",
       "      <td>3.72</td>\n",
       "      <td>15.03</td>\n",
       "      <td>13.060000</td>\n",
       "      <td>...</td>\n",
       "      <td>0.00</td>\n",
       "      <td>0.00</td>\n",
       "      <td>2.912</td>\n",
       "      <td>1.84446</td>\n",
       "      <td>-1.95554</td>\n",
       "      <td>-0.888</td>\n",
       "      <td>3.80</td>\n",
       "      <td>11.7114</td>\n",
       "      <td>4.635597</td>\n",
       "      <td>0.078370</td>\n",
       "    </tr>\n",
       "    <tr>\n",
       "      <th>SAX2</th>\n",
       "      <td>Thy and Lofgren 1994</td>\n",
       "      <td>1atm_furnace</td>\n",
       "      <td>0.001</td>\n",
       "      <td>0</td>\n",
       "      <td>1071</td>\n",
       "      <td>gl-ol-cp-pl-ox - ox</td>\n",
       "      <td>45.99</td>\n",
       "      <td>3.75</td>\n",
       "      <td>15.03</td>\n",
       "      <td>13.150000</td>\n",
       "      <td>...</td>\n",
       "      <td>0.00</td>\n",
       "      <td>0.00</td>\n",
       "      <td>2.992</td>\n",
       "      <td>1.89586</td>\n",
       "      <td>-1.90414</td>\n",
       "      <td>-0.808</td>\n",
       "      <td>3.80</td>\n",
       "      <td>10.5125</td>\n",
       "      <td>4.620686</td>\n",
       "      <td>0.090716</td>\n",
       "    </tr>\n",
       "    <tr>\n",
       "      <th>SAX2</th>\n",
       "      <td>Thy and Lofgren 1994</td>\n",
       "      <td>1atm_furnace</td>\n",
       "      <td>0.001</td>\n",
       "      <td>0</td>\n",
       "      <td>1062</td>\n",
       "      <td>gl-ol-cp-pl-ox - ox</td>\n",
       "      <td>45.99</td>\n",
       "      <td>3.85</td>\n",
       "      <td>14.64</td>\n",
       "      <td>13.140000</td>\n",
       "      <td>...</td>\n",
       "      <td>0.00</td>\n",
       "      <td>0.00</td>\n",
       "      <td>2.992</td>\n",
       "      <td>1.89586</td>\n",
       "      <td>-1.93414</td>\n",
       "      <td>-0.838</td>\n",
       "      <td>3.83</td>\n",
       "      <td>0.0000</td>\n",
       "      <td>3.778848</td>\n",
       "      <td>0.189572</td>\n",
       "    </tr>\n",
       "  </tbody>\n",
       "</table>\n",
       "<p>254 rows × 27 columns</p>\n",
       "</div>"
      ],
      "text/plain": [
       "                           Reference        Apparatus  Pressure_kbar  \\\n",
       "Experiment                                                             \n",
       "KN-54-2-2-1                Grove1992     1atm_furnace          0.001   \n",
       "ALV-1690-20                Grove1992           zhm_ar          2.000   \n",
       "ALV-1690-20                Grove1992           zhm_ar          2.000   \n",
       "ALV-1690-20                Grove1992           zhm_ar          2.000   \n",
       "ALV-1690-20                Grove1992           zhm_ar          2.000   \n",
       "...                              ...              ...            ...   \n",
       "6                           Thy 1991  Piston Cylinder         10.000   \n",
       "DVDP2 basanite    Gerke et al., 2004     1atm_furnace          0.001   \n",
       "SAX2            Thy and Lofgren 1994     1atm_furnace          0.001   \n",
       "SAX2            Thy and Lofgren 1994     1atm_furnace          0.001   \n",
       "SAX2            Thy and Lofgren 1994     1atm_furnace          0.001   \n",
       "\n",
       "               Pressure_error Temperature_degC               Phases   SiO2  \\\n",
       "Experiment                                                                   \n",
       "KN-54-2-2-1           0.00001             1161          gl-ol-cp-pl  51.90   \n",
       "ALV-1690-20              0.02             1163          gl-ol-cp-pl  49.80   \n",
       "ALV-1690-20              0.02             1152          gl-ol-cp-pl  50.00   \n",
       "ALV-1690-20              0.02             1148          gl-ol-cp-pl  49.80   \n",
       "ALV-1690-20              0.02             1145          gl-ol-cp-pl  49.80   \n",
       "...                       ...              ...                  ...    ...   \n",
       "6                           0             1180          gl-ol-cp-pl  45.49   \n",
       "DVDP2 basanite              0            1,104       gl-ol-cp-pl-ox  42.64   \n",
       "SAX2                        0             1081       gl-ol-cp-pl-ox  45.89   \n",
       "SAX2                        0             1071  gl-ol-cp-pl-ox - ox  45.99   \n",
       "SAX2                        0             1062  gl-ol-cp-pl-ox - ox  45.99   \n",
       "\n",
       "                TiO2  Al2O3        FeO  ...  Cr2O3   Total  Alk Line  \\\n",
       "Experiment                              ...                            \n",
       "KN-54-2-2-1     2.38  13.60  11.300000  ...   0.06   99.54     7.720   \n",
       "ALV-1690-20     2.35  13.60  12.200000  ...   0.00   99.14     6.040   \n",
       "ALV-1690-20     2.47  13.70  11.700000  ...   0.00   99.10     6.200   \n",
       "ALV-1690-20     2.30  13.70  12.000000  ...   0.00   99.09     6.040   \n",
       "ALV-1690-20     3.32  12.90  12.900000  ...   0.00   98.92     6.040   \n",
       "...              ...    ...        ...  ...    ...     ...       ...   \n",
       "6               4.01  14.97  14.860000  ...   0.00  100.04     2.592   \n",
       "DVDP2 basanite  5.39  15.92   9.822666  ...   0.00   97.26     0.312   \n",
       "SAX2            3.72  15.03  13.060000  ...   0.00    0.00     2.912   \n",
       "SAX2            3.75  15.03  13.150000  ...   0.00    0.00     2.992   \n",
       "SAX2            3.85  14.64  13.140000  ...   0.00    0.00     2.992   \n",
       "\n",
       "                Sub line  Alkalinity (S)  Alkalinity (A)   alk     KB08  \\\n",
       "Experiment                                                                \n",
       "KN-54-2-2-1      4.93360         1.32360           4.110  3.61   3.4945   \n",
       "ALV-1690-20      3.85420         0.43420           2.620  3.42   2.7700   \n",
       "ALV-1690-20      3.95700         0.37700           2.620  3.58   3.1305   \n",
       "ALV-1690-20      3.85420         0.48420           2.670  3.37   3.4805   \n",
       "ALV-1690-20      3.85420         0.49420           2.680  3.36   4.4773   \n",
       "...                  ...             ...             ...   ...      ...   \n",
       "6                1.63886        -3.36114          -2.408  5.00   7.0899   \n",
       "DVDP2 basanite   0.17396        -7.40604          -7.268  7.58   4.7136   \n",
       "SAX2             1.84446        -1.95554          -0.888  3.80  11.7114   \n",
       "SAX2             1.89586        -1.90414          -0.808  3.80  10.5125   \n",
       "SAX2             1.89586        -1.93414          -0.838  3.83   0.0000   \n",
       "\n",
       "                Pressure_min  Probability  \n",
       "Experiment                                 \n",
       "KN-54-2-2-1        -0.717450     0.820937  \n",
       "ALV-1690-20         2.316884     0.896354  \n",
       "ALV-1690-20         1.681299     0.966585  \n",
       "ALV-1690-20         1.994374     0.985431  \n",
       "ALV-1690-20         1.035496     0.986987  \n",
       "...                      ...          ...  \n",
       "6                   6.748706     0.974859  \n",
       "DVDP2 basanite      5.089034     0.272646  \n",
       "SAX2                4.635597     0.078370  \n",
       "SAX2                4.620686     0.090716  \n",
       "SAX2                3.778848     0.189572  \n",
       "\n",
       "[254 rows x 27 columns]"
      ]
     },
     "execution_count": 7,
     "metadata": {},
     "output_type": "execute_result"
    }
   ],
   "source": [
    "majwt = df.copy()\n",
    "xobs = wt2cat(majwt)    \n",
    "xalo,xcao,xmgo = xobs['Al2O3'],xobs['CaO'],xobs['MgO']\n",
    "\n",
    "# 5% precision on major elements in glasses - 1 sig - estimate from NEAVE et al., 2015\n",
    "xals,xcas,xmgs = 0.05*xalo,0.05*xcao,0.05*xmgo\n",
    "\n",
    "xna,xk,xti,xfe,xsi = xobs['Na2O'],xobs['K2O'],xobs['TiO2'],xobs['FeO'],xobs['SiO2']\n",
    "pkbar = 3.0\n",
    "\n",
    "\n",
    "cctest = cc(pkbar,xna,xk,xti,xfe,xsi,xalo,xcao,xmgo,xals,xcas,xmgs)\n",
    "\n",
    "ppmin = [] \n",
    "pprob = []\n",
    "\n",
    "#Minimisation to iteratively estimate best fit of Pressure.\n",
    "for q in range(len(xsi)):\n",
    "    res = minimize_scalar(cc, method= 'brent', args = (xna[q],xk[q],xti[q],xfe[q],xsi[q],xalo[q],xcao[q],xmgo[q],xals[q],xcas[q],xmgs[q]))\n",
    "    pmin = res.x\n",
    "    cpmin = res.fun\n",
    "    \n",
    "    #Probability of pressure estimate fit.\n",
    "    prob = 1- chi2.cdf(cpmin,2) # Probability distribution function - signifance value\n",
    "    ppmin.append(pmin)\n",
    "    pprob.append(prob)\n",
    "\n",
    "#adding estimated Pressure minimum and probability of estimatation to dataframe     \n",
    "df.loc[:,('Pressure_min')] = ppmin    \n",
    "df.loc[:,('Probability')] = pprob \n",
    "\n",
    "#Check dataframe\n",
    "df_Un = df\n",
    "df_Un"
   ]
  },
  {
   "cell_type": "code",
   "execution_count": 8,
   "metadata": {},
   "outputs": [],
   "source": [
    "#print (cctest)"
   ]
  },
  {
   "cell_type": "markdown",
   "metadata": {},
   "source": [
    "# **Unfiltered data**"
   ]
  },
  {
   "cell_type": "code",
   "execution_count": 9,
   "metadata": {},
   "outputs": [
    {
     "data": {
      "image/png": "[encoded data removed]",
      "text/plain": [
       "<Figure size 720x720 with 1 Axes>"
      ]
     },
     "metadata": {},
     "output_type": "display_data"
    }
   ],
   "source": [
    "#plot results before probability filter\n",
    "'Known experimental pressure versus Predicted pressure'\n",
    "sns.set(rc={'figure.figsize':(10,10)})\n",
    "sns.set_style(\"dark\")\n",
    "plt.style.use(\"dark_background\")\n",
    "ax = sns.scatterplot(x=\"Pressure_min\", y=\"Pressure_kbar\", data=df_Un, s=300, color = \"azure\", alpha = 0.3)\n",
    "#ax.legend(loc='center left', bbox_to_anchor=(1.25, 0.5), ncol=1)\n",
    "\n",
    "ax.axes.set_title(\"Experimental vs Calculated Pressures (Unfiltered)\",fontsize=25)\n",
    "ax.set_xlabel(\"Calculated Pressure (Kbar)\",fontsize=20)\n",
    "ax.set_ylabel(\"Experimental Pressure (Kbar)\",fontsize=20)\n",
    "ax.tick_params(labelsize=20)\n",
    "\n",
    "#creating 1:1 line\n",
    "x = np.linspace(-1,15,100)\n",
    "y = 1*x+0\n",
    "plt.plot(x, y, '-w', linewidth=4.0)\n",
    "plt.show()"
   ]
  },
  {
   "cell_type": "code",
   "execution_count": 10,
   "metadata": {},
   "outputs": [
    {
     "data": {
      "image/png": "[encoded data removed]",
      "text/plain": [
       "<Figure size 720x720 with 1 Axes>"
      ]
     },
     "metadata": {},
     "output_type": "display_data"
    }
   ],
   "source": [
    "#plot results before probability filter\n",
    "'Known experimental pressure versus Predicted pressure'\n",
    "sns.set(rc={'figure.figsize':(10,10)})\n",
    "sns.set_style(\"dark\")\n",
    "plt.style.use(\"dark_background\")\n",
    "ax = sns.scatterplot(x=\"KB08\", y=\"Pressure_kbar\", data=df_Un, s=300, color = \"azure\", alpha = 0.3)\n",
    "#ax.legend(loc='center left', bbox_to_anchor=(1.25, 0.5), ncol=1)\n",
    "\n",
    "ax.axes.set_title(\"Experimental vs Calculated Pressures by KB08\",fontsize=25)\n",
    "ax.set_xlabel(\"Calculated Pressureby KB08 (Kbar)\",fontsize=20)\n",
    "ax.set_ylabel(\"Experimental Pressure (Kbar)\",fontsize=20)\n",
    "ax.tick_params(labelsize=20)\n",
    "\n",
    "#creating 1:1 line\n",
    "x = np.linspace(-1,15,100)\n",
    "y = 1*x+0\n",
    "plt.plot(x, y, '-w', linewidth=4.0)\n",
    "plt.show()"
   ]
  },
  {
   "cell_type": "code",
   "execution_count": 40,
   "metadata": {},
   "outputs": [
    {
     "name": "stdout",
     "output_type": "stream",
     "text": [
      "2.857636842105263\n"
     ]
    }
   ],
   "source": [
    "#df_up['delta_P'] = df_up['Pressure_min']-df_up['Pressure_kbar']\n",
    "\"test mean absolute error of KB08?????????\"\n",
    "df_up['delta_P2'] = df_up['KB08']-df_up['Pressure_kbar']\n",
    "\n",
    "#Finding Mean Absolute Error\n",
    "df_up['Abs_deltaP']=abs(df_up['delta_P2'])\n",
    "#print (df_up['Abs_deltaP'])\n",
    "Sum_of_error = sum(df_up['Abs_deltaP'])\n",
    "#print (Sum_of_error)\n",
    "N = len(df_up.index)\n",
    "#print (N)\n",
    "MAE = Sum_of_error/N\n",
    "print (MAE)\n"
   ]
  },
  {
   "cell_type": "code",
   "execution_count": 12,
   "metadata": {},
   "outputs": [
    {
     "name": "stdout",
     "output_type": "stream",
     "text": [
      "2.7644942084932964\n"
     ]
    },
    {
     "name": "stderr",
     "output_type": "stream",
     "text": [
      "<ipython-input-12-3bb9183c7d79>:5: SettingWithCopyWarning: \n",
      "A value is trying to be set on a copy of a slice from a DataFrame.\n",
      "Try using .loc[row_indexer,col_indexer] = value instead\n",
      "\n",
      "See the caveats in the documentation: https://pandas.pydata.org/pandas-docs/stable/user_guide/indexing.html#returning-a-view-versus-a-copy\n",
      "  df_Un['Sqrd_Rsd']=df_Un['delta_P']**2\n"
     ]
    }
   ],
   "source": [
    "#Finding RMSE\n",
    "import math\n",
    "\n",
    "#Residuals squared\n",
    "df_Un['Sqrd_Rsd']=df_Un['delta_P']**2\n",
    "#print (df_Un['Sqrd_Rsd'])\n",
    "#mean of residuals\n",
    "Res = sum(df_Un['Sqrd_Rsd'])\n",
    "#print (Res)\n",
    "M = len(df_Un.index)\n",
    "#print (M)\n",
    "Mean_Res = Res/M\n",
    "#print (Mean_Res)\n",
    "\n",
    "#Squared root of mean residuals\n",
    "RMSE = math.sqrt(Mean_Res)\n",
    "print (RMSE)"
   ]
  },
  {
   "cell_type": "code",
   "execution_count": 61,
   "metadata": {},
   "outputs": [
    {
     "data": {
      "application/vnd.plotly.v1+json": {
       "config": {
        "plotlyServerURL": "https://plot.ly"
       },
       "data": [
        {
         "hovertemplate": "ΔP=%{x}<br>Probability=%{y}<br>alk=%{marker.color}<extra></extra>",
         "legendgroup": "",
         "marker": {
          "color": [
           3.61,
           3.42,
           3.58,
           3.37,
           3.36,
           3.57,
           3.25,
           3.71,
           3.76,
           2.44,
           2.35,
           2.42,
           3.28,
           2.69,
           3.66,
           3.48,
           3.97,
           3.35,
           3.44,
           3.15,
           3.72,
           3.46,
           3.93,
           3.07,
           3.06,
           3.32,
           3.19,
           2.69,
           2.76,
           2.83,
           3.69,
           3.7,
           3,
           2.83,
           3.45,
           3.95,
           4,
           3.25,
           3.28,
           3.19,
           2.92,
           3.22,
           3.45,
           3.45,
           1.49,
           1.63,
           1.84,
           1.61,
           3.12,
           3.07,
           3.1,
           3.37,
           3.26,
           3.47,
           3.25,
           3.4,
           2.57,
           2.81,
           2.73,
           2.75,
           2.74,
           3.22,
           3.27,
           3.41,
           3.42,
           2.49,
           2.52,
           3.04,
           3.04,
           3.01,
           3.16,
           2.82,
           3.08,
           3.15,
           3.09,
           2.82,
           2.9,
           3.12,
           3.22,
           3.07,
           3.32,
           3.33,
           3.47,
           3.67,
           3.46,
           3.85,
           4.4,
           4.37,
           3.27,
           3.7,
           4.27,
           4.38,
           3.67,
           4.09,
           4.4,
           3.95,
           4.17,
           4.89,
           3.18,
           3.18,
           3.46,
           3.86,
           4.04,
           4.57,
           3.63,
           3.35,
           3.41,
           3.83,
           3.89,
           4.01,
           3.27,
           2.62,
           3.69,
           2.64,
           2.76,
           3.6,
           2.54,
           2.68,
           3.91,
           3.36,
           3.97,
           3.44,
           3.03,
           3.21,
           3.11,
           3.7,
           3.36,
           3.34,
           3.8,
           3.65,
           3.4,
           3.17,
           2.54,
           3.24,
           2.92,
           3.85,
           3.55,
           2.88,
           2.85,
           3.67,
           3.47,
           3.24,
           2.87,
           3.81,
           3.57,
           3.4,
           3.71,
           3.45,
           3.55,
           3.36,
           1.79,
           1.97,
           2.19,
           2.5,
           2.08,
           2.11,
           1.9,
           2.04,
           2.07,
           2.73,
           2.78,
           2.58,
           2.74,
           2.86,
           2.52,
           2.55,
           2.36,
           2.65,
           2.6,
           2.44,
           2.12,
           2.56,
           2.78,
           2.41,
           2.35,
           2.23,
           1.94,
           2.24,
           2.29,
           2.21,
           2.3,
           2.29,
           2.31,
           2.39,
           2.45,
           2.26,
           2.38,
           2.44,
           2.39,
           2.57,
           1.01,
           1.44,
           1.67,
           6.21,
           5.52,
           4.21,
           4.58,
           2.12,
           1.6,
           1.57,
           1.56,
           1.39,
           1.63,
           2.06,
           1.94,
           1.7,
           1.65,
           2.23,
           2.1,
           2.17,
           2.59,
           2.07,
           2.29,
           2.64,
           3.02,
           2.09,
           2.71,
           2.99,
           2.46,
           6.1,
           7.52,
           7.33,
           8.94,
           5.88,
           6.83,
           7.84,
           6.41,
           4.06,
           6.69,
           3.62,
           5.68,
           6.21,
           5.58,
           6.09,
           6.66,
           6.88,
           5.52,
           6.16,
           6.91,
           6.81,
           5.73,
           6.2,
           6.59,
           4.18,
           4.29,
           3.96,
           4.79,
           5.65,
           4.27,
           5,
           7.58,
           3.8,
           3.8,
           3.83
          ],
          "coloraxis": "coloraxis",
          "symbol": "circle"
         },
         "mode": "markers",
         "name": "",
         "orientation": "v",
         "showlegend": false,
         "type": "scatter",
         "x": [
          -0.7184502733624623,
          0.3168841452710347,
          -0.31870080287410696,
          -0.005625768773046325,
          -0.964504022524997,
          -0.9065078202684169,
          -1.3639489828816895,
          0.39779131417254554,
          -0.274825482493549,
          1.8960207290109743,
          -0.7610154789998269,
          -0.26518144378849406,
          0.55359341079091,
          0.6373929515195371,
          -1.1674551834708833,
          -2.583994797052651,
          0.5165787186831388,
          2.1079057813829127,
          0.30738296527975995,
          -0.6299009629245198,
          0.3972739452482525,
          -0.1291057290640712,
          1.396410659544079,
          1.9075990453387757,
          0.24823787153804844,
          -1.6612971131638474,
          -0.2474877795182744,
          0.40376668004160077,
          -0.2023139537937081,
          -1.0154137973289918,
          0.020067990657676005,
          -0.37704117014722094,
          -0.6628098573524176,
          0.9727769147782421,
          -0.27366617561450113,
          -0.9346846975967105,
          -2.350870986646548,
          0.6758270949803159,
          -0.905206322563929,
          -1.566940402928563,
          0.4317892026483253,
          -0.02926867484721888,
          -0.7647045366357849,
          -1.322581895546519,
          1.9590797418523198,
          0.9479332082264148,
          1.8035842349093616,
          1.486074661347976,
          -1.48666289513515,
          -2.7595538061457985,
          -2.686708585832543,
          -2.2196088016986977,
          -0.24416508116255461,
          -3.1161766852707697,
          -2.958180671774819,
          -3.5864267731542903,
          2.521143937398651,
          -0.8138094349761,
          1.7627305502007096,
          1.0409988431377668,
          1.0078230057002575,
          0.13455945318689097,
          0.15877829998383516,
          -1.6206855533456603,
          -1.528893541753387,
          2.945295942429557,
          1.4917294586608838,
          1.2683208949478524,
          -0.31345443176234433,
          0.9052395570259552,
          -1.5929450055900953,
          3.000482376233701,
          2.948383397291074,
          2.6891014523720993,
          2.436213443966197,
          0.21889687695574744,
          0.34014454527855204,
          -0.5276328914785413,
          -0.9684341758018147,
          0.5280408870062924,
          6.2193227905134165,
          -0.2452933073409702,
          5.316894250055806,
          0.9696165060950652,
          1.2476783795507087,
          2.8739676855086405,
          4.238134263334173,
          6.173446240104692,
          0.2697765817080642,
          -1.2932691803804097,
          -0.9681817137455457,
          -0.833728492898671,
          -1.5734222481404432,
          -1.447933127044887,
          -2.0932671267987635,
          -1.173418160287928,
          -1.6221616330370157,
          -2.094587625411666,
          -0.2613995913358246,
          1.0881423656042841,
          1.376480613498365,
          5.419811181884149,
          4.9391179911742045,
          3.6025821768677773,
          3.3884198097497014,
          5.332223145568498,
          3.5334699105465885,
          4.141825435194686,
          4.397385435198231,
          6.4242969156611665,
          -1.4367713830706272,
          0.9632333550700736,
          2.9128438331987785,
          1.3233685957742223,
          0.9424973825043401,
          2.560192086737379,
          2.3782893387276873,
          2.7113976898782237,
          -0.4106900605356927,
          -0.8394341050109924,
          -0.05122300256920331,
          -0.8242593518822066,
          -0.44477789965321657,
          0.5884644577685414,
          0.16076726613545844,
          0.7632801388539052,
          -1.7293659272925286,
          -0.8085562540900049,
          4.576630893221191,
          4.329064150530711,
          5.879111196202081,
          4.86242407053844,
          6.088265894675241,
          6.164677872708201,
          5.647068783554419,
          6.619326505011152,
          6.702009839955236,
          8.176361057198598,
          7.542459966920017,
          3.2859662451727645,
          2.3198544040338716,
          2.583037980526365,
          3.126573270360054,
          2.1597564959827014,
          2.9185747380434277,
          4.0781376404644405,
          5.149544592814998,
          4.806236396420731,
          2.24235550795049,
          3.4109522986351317,
          2.417722208451539,
          3.7912664506738665,
          2.870782816762139,
          3.4825649094944993,
          3.8528737709494987,
          2.6620584912020924,
          0.6820090566237011,
          0.0380680729016456,
          0.65249450151483,
          3.00989457879688,
          2.777846379354256,
          -0.463635788933884,
          -1.0475707415410909,
          -1.9027056722707558,
          0.2780269348266866,
          -1.4705719877721148,
          -1.3511493686867617,
          0.6367025472476446,
          1.5765296233094137,
          1.8831051346872232,
          5.846817037772927,
          -0.025446360030355067,
          0.08961913287189255,
          1.3794748879580032,
          2.0106395702970414,
          1.2377085955072198,
          0.7289816426888536,
          0.6802404264820407,
          0.6838778018901926,
          4.903435363816639,
          4.4572031941288275,
          4.749986020104786,
          4.184726771618456,
          4.73097960686746,
          4.58033615154047,
          5.038807612224982,
          2.1855851113231797,
          4.498443521510064,
          4.831815237174058,
          3.4100838068940416,
          2.503052457333534,
          2.309305806397403,
          1.8459656805310576,
          2.190982882719679,
          -0.8027109586157571,
          0.47215486335692936,
          -0.47392175119518065,
          2.336919101054987,
          1.9222041944882031,
          2.0604379236726498,
          2.5419615907167414,
          1.1861533496942815,
          2.5355576422756267,
          1.122121168657743,
          1.1869546255225512,
          0.6085403529225356,
          1.8535346597379192,
          0.4178094817184535,
          1.0051928277846218,
          2.0496405275893053,
          0.6800776528876379,
          1.067449054580603,
          0.6486701919892628,
          -0.036639677301450395,
          -0.6912172204612715,
          0.38867447061046645,
          0.015753267822704094,
          -0.07442560128845702,
          0.3974386508525427,
          4.294232065515066,
          8.511163299287627,
          3.0536034099615157,
          3.959388837494978,
          4.788724078516759,
          4.342992578765969,
          5.416190452599734,
          -1.9784059063574835,
          -1.2715052122100665,
          0.8489152408927164,
          0.18326984342022587,
          0.35439704611087264,
          2.190982882719679,
          -0.9242612463711491,
          0.10432247491140641,
          -1.6511728912987573,
          -1.0954875259659147,
          -0.8027109586157571,
          1.1588018232011656,
          9.200783498091699,
          0.6930375286568948,
          -0.1455625078342464,
          -0.1660240116060018,
          0.5196467414666077,
          -1.9984264667115008,
          0.33850737483112037,
          -1.9405541163091586,
          0.4119513232953537,
          -1.526020813188115,
          -3.8950991977194436,
          -3.251294115354148,
          5.088034381524278,
          4.63459660505057,
          4.619685822236436,
          3.7778483409457055
         ],
         "xaxis": "x",
         "y": [
          0.8209372194811392,
          0.896354299398174,
          0.9665851031253295,
          0.9854308975217188,
          0.9869869700434856,
          0.703742618478878,
          0.959800304548087,
          0.9074989309794503,
          0.9508294990973474,
          0.9738326202648905,
          0.8353230198382104,
          0.9723138655521862,
          0.8366132836713415,
          0.6104001528149074,
          0.1756487267342578,
          0.956555199227138,
          0.9051337712913186,
          0.9722657778003455,
          0.9404159563243957,
          0.9644558553425885,
          0.7974040217801179,
          0.5304614332891675,
          0.9457028007851369,
          0.8786893438270998,
          0.719597231623585,
          0.6032815197825163,
          0.9548717473396539,
          0.9833385854994126,
          0.9945019667859394,
          0.9137037817344903,
          0.9346535569120309,
          0.9877590233676162,
          0.9597884208450668,
          0.9896492720804259,
          0.9685439448668752,
          0.9676145185130273,
          0.8383923251397513,
          0.924751122420079,
          0.889011058925085,
          0.8828822137056273,
          0.9958775693359069,
          0.9916214757764308,
          0.9852375041761754,
          0.9171902424689333,
          0.908424285406523,
          0.8623954557407918,
          0.982952000506152,
          0.8128778825206385,
          0.7976032762575175,
          0.8001294215240162,
          0.6766857512658218,
          0.7476855763504415,
          0.756366513864398,
          0.7004612403330415,
          0.475187744403999,
          0.6214620831262687,
          8.226849595160957e-05,
          0,
          0.9678092446616063,
          0.9450848384614687,
          0.8251706376977097,
          0.8681632246041231,
          0.883543471570022,
          0.5348095313615587,
          0.5704808879021053,
          0.9994643136422503,
          0.8613899781752191,
          0.9815135947230735,
          0.6322708886122894,
          0.9601374634998799,
          0.8887360689469619,
          0.960005154690388,
          0.9114161135009525,
          0.785331534222599,
          0.9437011199066249,
          0.9742224979232014,
          0.9387538462781208,
          0.9101723709683076,
          0.9344759692200637,
          0.9480580377246914,
          0,
          1.553202011450594e-12,
          0,
          1.583096668555939e-05,
          0.01967097714420596,
          0.7196440055160507,
          0.5525976759820084,
          0.09539071888602058,
          0.5959012013282728,
          0.8436220126875862,
          0.6212914267916915,
          0.06562182027576025,
          0.6020676955808661,
          0.2932811493401719,
          0.11992693810343469,
          0.6239863634221268,
          0.4833260090752617,
          0.28633710102625787,
          0.840536067522814,
          0.002792221873888945,
          4.599033814312037e-05,
          1.249532672886744e-07,
          5.551115123125783e-16,
          0,
          3.4074965071795305e-12,
          3.2027713814386516e-12,
          6.643775529724394e-10,
          0,
          0,
          0,
          0.039903612789979004,
          0.1127742407151523,
          0.10060594031501147,
          0.39831286928901644,
          0.39566352600062193,
          0.4981570607517196,
          0.27165093153247166,
          0.16934801245273567,
          0.10280144748034803,
          0.13606675656955391,
          0.9983600559496042,
          0.029298553900966806,
          0.141591845601593,
          0.0013257955526678744,
          0.2102529453318549,
          0.21131840513512312,
          0.11382428390704269,
          0.34126488142741485,
          8.544753793415794e-11,
          0.006103132425780866,
          0.003079242815688832,
          0.000696161195275824,
          3.938852274953941e-05,
          1.4541068693585402e-07,
          0.0006011446034602796,
          2.1266455263457829e-10,
          2.241781530121223e-05,
          0.0010532428215216383,
          0.0005624370263656031,
          0.0008317642039685769,
          2.7061192864774597e-05,
          3.19882488242218e-06,
          0.001634395400391675,
          2.668936738281502e-09,
          2.693344439608225e-05,
          1.0332512623278944e-11,
          5.69934868632771e-07,
          0.00571790139120576,
          0,
          7.61296981011128e-09,
          0.21514428530683383,
          0.18738051754810325,
          0.052237171361213086,
          0.0894975973921025,
          0.3269752003765547,
          0.3746945562996389,
          0.43202820561812116,
          0.9992940180551476,
          0.9815420654144593,
          0.3706769767651269,
          0.27048934946532166,
          0.33844619725626823,
          0.4534338513120204,
          0.9760405774423395,
          0.3397354969045896,
          0.310153856800521,
          0.277842883432982,
          0.6952176286249032,
          0.8561907466118521,
          0.8335063539737729,
          0.6193173035887105,
          0.69734944357936,
          0.7556570062157393,
          0.6181153413926044,
          0.8248418275560765,
          0.6674124489959928,
          0.6773344943866653,
          0.8409921115772019,
          0.9552499680919331,
          0.1700095759585839,
          0.19953138893800593,
          0.848881707411733,
          0.26627231592332934,
          0.4726053252799043,
          0.2461078006819145,
          0.6713223806075337,
          0.8942092107003409,
          0.1521971157345524,
          0.054510291776924236,
          0.09186259199724345,
          0.9881567969871916,
          0.9975095070063648,
          0.8325324045437645,
          0.20471851155263554,
          0.3909786654345214,
          0.778798940863053,
          0.8442420104278501,
          0.6929678894153439,
          0.8682444644290148,
          0.9586014798375162,
          0.7715787007325965,
          0.6976367888417212,
          0.7646833033672861,
          0.6501786717282558,
          0.9933481516358599,
          0.9689261664747582,
          0.7093979781843858,
          0.9834560015880214,
          0.9882428469942937,
          0.9503269227015372,
          0.7460011526000017,
          0.9647566343119921,
          0.5905184796213864,
          0.967698362575021,
          0.8676842323317498,
          0.1899968518304762,
          0.8996536539029529,
          0.8717718457314045,
          0.949983569234108,
          0.02276562541036209,
          0.0050748570502500145,
          0.6065219584205996,
          0.5657787023829861,
          0.31543813355626604,
          0.1956337553334464,
          0.00023565044358164755,
          0.5198497617929704,
          0.634372418942349,
          0.22348593816444762,
          0.3092776056208606,
          0.7474177609685559,
          0.20471851155263554,
          0.6832629138374839,
          0.2163445402159565,
          0.09977072997051573,
          0.025174347486988546,
          0.3909786654345214,
          0.7337706337231589,
          0.0012116106246616853,
          0.09409469137355286,
          0.7155464042413353,
          0.44628650921738033,
          0.11687232815907,
          0.9425206138785955,
          0.6982566601820227,
          0.9864409968276755,
          0.9066330227148516,
          0.49112913498908484,
          0.9834689295230287,
          0.9748591304885881,
          0.27264637112977463,
          0.07836989473891098,
          0.09071594083162149,
          0.1895716557308974
         ],
         "yaxis": "y"
        },
        {
         "alignmentgroup": "True",
         "bingroup": "x",
         "hovertemplate": "ΔP=%{x}<br>count=%{y}<extra></extra>",
         "legendgroup": "",
         "marker": {
          "color": "rgb(253, 253, 204)"
         },
         "name": "",
         "offsetgroup": "",
         "opacity": 0.5,
         "showlegend": false,
         "type": "histogram",
         "x": [
          -0.7184502733624623,
          0.3168841452710347,
          -0.31870080287410696,
          -0.005625768773046325,
          -0.964504022524997,
          -0.9065078202684169,
          -1.3639489828816895,
          0.39779131417254554,
          -0.274825482493549,
          1.8960207290109743,
          -0.7610154789998269,
          -0.26518144378849406,
          0.55359341079091,
          0.6373929515195371,
          -1.1674551834708833,
          -2.583994797052651,
          0.5165787186831388,
          2.1079057813829127,
          0.30738296527975995,
          -0.6299009629245198,
          0.3972739452482525,
          -0.1291057290640712,
          1.396410659544079,
          1.9075990453387757,
          0.24823787153804844,
          -1.6612971131638474,
          -0.2474877795182744,
          0.40376668004160077,
          -0.2023139537937081,
          -1.0154137973289918,
          0.020067990657676005,
          -0.37704117014722094,
          -0.6628098573524176,
          0.9727769147782421,
          -0.27366617561450113,
          -0.9346846975967105,
          -2.350870986646548,
          0.6758270949803159,
          -0.905206322563929,
          -1.566940402928563,
          0.4317892026483253,
          -0.02926867484721888,
          -0.7647045366357849,
          -1.322581895546519,
          1.9590797418523198,
          0.9479332082264148,
          1.8035842349093616,
          1.486074661347976,
          -1.48666289513515,
          -2.7595538061457985,
          -2.686708585832543,
          -2.2196088016986977,
          -0.24416508116255461,
          -3.1161766852707697,
          -2.958180671774819,
          -3.5864267731542903,
          2.521143937398651,
          -0.8138094349761,
          1.7627305502007096,
          1.0409988431377668,
          1.0078230057002575,
          0.13455945318689097,
          0.15877829998383516,
          -1.6206855533456603,
          -1.528893541753387,
          2.945295942429557,
          1.4917294586608838,
          1.2683208949478524,
          -0.31345443176234433,
          0.9052395570259552,
          -1.5929450055900953,
          3.000482376233701,
          2.948383397291074,
          2.6891014523720993,
          2.436213443966197,
          0.21889687695574744,
          0.34014454527855204,
          -0.5276328914785413,
          -0.9684341758018147,
          0.5280408870062924,
          6.2193227905134165,
          -0.2452933073409702,
          5.316894250055806,
          0.9696165060950652,
          1.2476783795507087,
          2.8739676855086405,
          4.238134263334173,
          6.173446240104692,
          0.2697765817080642,
          -1.2932691803804097,
          -0.9681817137455457,
          -0.833728492898671,
          -1.5734222481404432,
          -1.447933127044887,
          -2.0932671267987635,
          -1.173418160287928,
          -1.6221616330370157,
          -2.094587625411666,
          -0.2613995913358246,
          1.0881423656042841,
          1.376480613498365,
          5.419811181884149,
          4.9391179911742045,
          3.6025821768677773,
          3.3884198097497014,
          5.332223145568498,
          3.5334699105465885,
          4.141825435194686,
          4.397385435198231,
          6.4242969156611665,
          -1.4367713830706272,
          0.9632333550700736,
          2.9128438331987785,
          1.3233685957742223,
          0.9424973825043401,
          2.560192086737379,
          2.3782893387276873,
          2.7113976898782237,
          -0.4106900605356927,
          -0.8394341050109924,
          -0.05122300256920331,
          -0.8242593518822066,
          -0.44477789965321657,
          0.5884644577685414,
          0.16076726613545844,
          0.7632801388539052,
          -1.7293659272925286,
          -0.8085562540900049,
          4.576630893221191,
          4.329064150530711,
          5.879111196202081,
          4.86242407053844,
          6.088265894675241,
          6.164677872708201,
          5.647068783554419,
          6.619326505011152,
          6.702009839955236,
          8.176361057198598,
          7.542459966920017,
          3.2859662451727645,
          2.3198544040338716,
          2.583037980526365,
          3.126573270360054,
          2.1597564959827014,
          2.9185747380434277,
          4.0781376404644405,
          5.149544592814998,
          4.806236396420731,
          2.24235550795049,
          3.4109522986351317,
          2.417722208451539,
          3.7912664506738665,
          2.870782816762139,
          3.4825649094944993,
          3.8528737709494987,
          2.6620584912020924,
          0.6820090566237011,
          0.0380680729016456,
          0.65249450151483,
          3.00989457879688,
          2.777846379354256,
          -0.463635788933884,
          -1.0475707415410909,
          -1.9027056722707558,
          0.2780269348266866,
          -1.4705719877721148,
          -1.3511493686867617,
          0.6367025472476446,
          1.5765296233094137,
          1.8831051346872232,
          5.846817037772927,
          -0.025446360030355067,
          0.08961913287189255,
          1.3794748879580032,
          2.0106395702970414,
          1.2377085955072198,
          0.7289816426888536,
          0.6802404264820407,
          0.6838778018901926,
          4.903435363816639,
          4.4572031941288275,
          4.749986020104786,
          4.184726771618456,
          4.73097960686746,
          4.58033615154047,
          5.038807612224982,
          2.1855851113231797,
          4.498443521510064,
          4.831815237174058,
          3.4100838068940416,
          2.503052457333534,
          2.309305806397403,
          1.8459656805310576,
          2.190982882719679,
          -0.8027109586157571,
          0.47215486335692936,
          -0.47392175119518065,
          2.336919101054987,
          1.9222041944882031,
          2.0604379236726498,
          2.5419615907167414,
          1.1861533496942815,
          2.5355576422756267,
          1.122121168657743,
          1.1869546255225512,
          0.6085403529225356,
          1.8535346597379192,
          0.4178094817184535,
          1.0051928277846218,
          2.0496405275893053,
          0.6800776528876379,
          1.067449054580603,
          0.6486701919892628,
          -0.036639677301450395,
          -0.6912172204612715,
          0.38867447061046645,
          0.015753267822704094,
          -0.07442560128845702,
          0.3974386508525427,
          4.294232065515066,
          8.511163299287627,
          3.0536034099615157,
          3.959388837494978,
          4.788724078516759,
          4.342992578765969,
          5.416190452599734,
          -1.9784059063574835,
          -1.2715052122100665,
          0.8489152408927164,
          0.18326984342022587,
          0.35439704611087264,
          2.190982882719679,
          -0.9242612463711491,
          0.10432247491140641,
          -1.6511728912987573,
          -1.0954875259659147,
          -0.8027109586157571,
          1.1588018232011656,
          9.200783498091699,
          0.6930375286568948,
          -0.1455625078342464,
          -0.1660240116060018,
          0.5196467414666077,
          -1.9984264667115008,
          0.33850737483112037,
          -1.9405541163091586,
          0.4119513232953537,
          -1.526020813188115,
          -3.8950991977194436,
          -3.251294115354148,
          5.088034381524278,
          4.63459660505057,
          4.619685822236436,
          3.7778483409457055
         ],
         "xaxis": "x3",
         "yaxis": "y3"
        },
        {
         "alignmentgroup": "True",
         "bingroup": "y",
         "hovertemplate": "Probability=%{y}<br>count=%{x}<extra></extra>",
         "legendgroup": "",
         "marker": {
          "color": "rgb(253, 253, 204)"
         },
         "name": "",
         "offsetgroup": "",
         "opacity": 0.5,
         "showlegend": false,
         "type": "histogram",
         "xaxis": "x2",
         "y": [
          0.8209372194811392,
          0.896354299398174,
          0.9665851031253295,
          0.9854308975217188,
          0.9869869700434856,
          0.703742618478878,
          0.959800304548087,
          0.9074989309794503,
          0.9508294990973474,
          0.9738326202648905,
          0.8353230198382104,
          0.9723138655521862,
          0.8366132836713415,
          0.6104001528149074,
          0.1756487267342578,
          0.956555199227138,
          0.9051337712913186,
          0.9722657778003455,
          0.9404159563243957,
          0.9644558553425885,
          0.7974040217801179,
          0.5304614332891675,
          0.9457028007851369,
          0.8786893438270998,
          0.719597231623585,
          0.6032815197825163,
          0.9548717473396539,
          0.9833385854994126,
          0.9945019667859394,
          0.9137037817344903,
          0.9346535569120309,
          0.9877590233676162,
          0.9597884208450668,
          0.9896492720804259,
          0.9685439448668752,
          0.9676145185130273,
          0.8383923251397513,
          0.924751122420079,
          0.889011058925085,
          0.8828822137056273,
          0.9958775693359069,
          0.9916214757764308,
          0.9852375041761754,
          0.9171902424689333,
          0.908424285406523,
          0.8623954557407918,
          0.982952000506152,
          0.8128778825206385,
          0.7976032762575175,
          0.8001294215240162,
          0.6766857512658218,
          0.7476855763504415,
          0.756366513864398,
          0.7004612403330415,
          0.475187744403999,
          0.6214620831262687,
          8.226849595160957e-05,
          0,
          0.9678092446616063,
          0.9450848384614687,
          0.8251706376977097,
          0.8681632246041231,
          0.883543471570022,
          0.5348095313615587,
          0.5704808879021053,
          0.9994643136422503,
          0.8613899781752191,
          0.9815135947230735,
          0.6322708886122894,
          0.9601374634998799,
          0.8887360689469619,
          0.960005154690388,
          0.9114161135009525,
          0.785331534222599,
          0.9437011199066249,
          0.9742224979232014,
          0.9387538462781208,
          0.9101723709683076,
          0.9344759692200637,
          0.9480580377246914,
          0,
          1.553202011450594e-12,
          0,
          1.583096668555939e-05,
          0.01967097714420596,
          0.7196440055160507,
          0.5525976759820084,
          0.09539071888602058,
          0.5959012013282728,
          0.8436220126875862,
          0.6212914267916915,
          0.06562182027576025,
          0.6020676955808661,
          0.2932811493401719,
          0.11992693810343469,
          0.6239863634221268,
          0.4833260090752617,
          0.28633710102625787,
          0.840536067522814,
          0.002792221873888945,
          4.599033814312037e-05,
          1.249532672886744e-07,
          5.551115123125783e-16,
          0,
          3.4074965071795305e-12,
          3.2027713814386516e-12,
          6.643775529724394e-10,
          0,
          0,
          0,
          0.039903612789979004,
          0.1127742407151523,
          0.10060594031501147,
          0.39831286928901644,
          0.39566352600062193,
          0.4981570607517196,
          0.27165093153247166,
          0.16934801245273567,
          0.10280144748034803,
          0.13606675656955391,
          0.9983600559496042,
          0.029298553900966806,
          0.141591845601593,
          0.0013257955526678744,
          0.2102529453318549,
          0.21131840513512312,
          0.11382428390704269,
          0.34126488142741485,
          8.544753793415794e-11,
          0.006103132425780866,
          0.003079242815688832,
          0.000696161195275824,
          3.938852274953941e-05,
          1.4541068693585402e-07,
          0.0006011446034602796,
          2.1266455263457829e-10,
          2.241781530121223e-05,
          0.0010532428215216383,
          0.0005624370263656031,
          0.0008317642039685769,
          2.7061192864774597e-05,
          3.19882488242218e-06,
          0.001634395400391675,
          2.668936738281502e-09,
          2.693344439608225e-05,
          1.0332512623278944e-11,
          5.69934868632771e-07,
          0.00571790139120576,
          0,
          7.61296981011128e-09,
          0.21514428530683383,
          0.18738051754810325,
          0.052237171361213086,
          0.0894975973921025,
          0.3269752003765547,
          0.3746945562996389,
          0.43202820561812116,
          0.9992940180551476,
          0.9815420654144593,
          0.3706769767651269,
          0.27048934946532166,
          0.33844619725626823,
          0.4534338513120204,
          0.9760405774423395,
          0.3397354969045896,
          0.310153856800521,
          0.277842883432982,
          0.6952176286249032,
          0.8561907466118521,
          0.8335063539737729,
          0.6193173035887105,
          0.69734944357936,
          0.7556570062157393,
          0.6181153413926044,
          0.8248418275560765,
          0.6674124489959928,
          0.6773344943866653,
          0.8409921115772019,
          0.9552499680919331,
          0.1700095759585839,
          0.19953138893800593,
          0.848881707411733,
          0.26627231592332934,
          0.4726053252799043,
          0.2461078006819145,
          0.6713223806075337,
          0.8942092107003409,
          0.1521971157345524,
          0.054510291776924236,
          0.09186259199724345,
          0.9881567969871916,
          0.9975095070063648,
          0.8325324045437645,
          0.20471851155263554,
          0.3909786654345214,
          0.778798940863053,
          0.8442420104278501,
          0.6929678894153439,
          0.8682444644290148,
          0.9586014798375162,
          0.7715787007325965,
          0.6976367888417212,
          0.7646833033672861,
          0.6501786717282558,
          0.9933481516358599,
          0.9689261664747582,
          0.7093979781843858,
          0.9834560015880214,
          0.9882428469942937,
          0.9503269227015372,
          0.7460011526000017,
          0.9647566343119921,
          0.5905184796213864,
          0.967698362575021,
          0.8676842323317498,
          0.1899968518304762,
          0.8996536539029529,
          0.8717718457314045,
          0.949983569234108,
          0.02276562541036209,
          0.0050748570502500145,
          0.6065219584205996,
          0.5657787023829861,
          0.31543813355626604,
          0.1956337553334464,
          0.00023565044358164755,
          0.5198497617929704,
          0.634372418942349,
          0.22348593816444762,
          0.3092776056208606,
          0.7474177609685559,
          0.20471851155263554,
          0.6832629138374839,
          0.2163445402159565,
          0.09977072997051573,
          0.025174347486988546,
          0.3909786654345214,
          0.7337706337231589,
          0.0012116106246616853,
          0.09409469137355286,
          0.7155464042413353,
          0.44628650921738033,
          0.11687232815907,
          0.9425206138785955,
          0.6982566601820227,
          0.9864409968276755,
          0.9066330227148516,
          0.49112913498908484,
          0.9834689295230287,
          0.9748591304885881,
          0.27264637112977463,
          0.07836989473891098,
          0.09071594083162149,
          0.1895716557308974
         ],
         "yaxis": "y2"
        }
       ],
       "layout": {
        "barmode": "overlay",
        "coloraxis": {
         "colorbar": {
          "title": {
           "text": "alk"
          }
         },
         "colorscale": [
          [
           0,
           "rgb(253, 253, 204)"
          ],
          [
           0.09090909090909091,
           "rgb(206, 236, 179)"
          ],
          [
           0.18181818181818182,
           "rgb(156, 219, 165)"
          ],
          [
           0.2727272727272727,
           "rgb(111, 201, 163)"
          ],
          [
           0.36363636363636365,
           "rgb(86, 177, 163)"
          ],
          [
           0.45454545454545453,
           "rgb(76, 153, 160)"
          ],
          [
           0.5454545454545454,
           "rgb(68, 130, 155)"
          ],
          [
           0.6363636363636364,
           "rgb(62, 108, 150)"
          ],
          [
           0.7272727272727273,
           "rgb(62, 82, 143)"
          ],
          [
           0.8181818181818182,
           "rgb(64, 60, 115)"
          ],
          [
           0.9090909090909091,
           "rgb(54, 43, 77)"
          ],
          [
           1,
           "rgb(39, 26, 44)"
          ]
         ]
        },
        "legend": {
         "tracegroupgap": 0
        },
        "template": {
         "data": {
          "bar": [
           {
            "error_x": {
             "color": "#f2f5fa"
            },
            "error_y": {
             "color": "#f2f5fa"
            },
            "marker": {
             "line": {
              "color": "rgb(17,17,17)",
              "width": 0.5
             }
            },
            "type": "bar"
           }
          ],
          "barpolar": [
           {
            "marker": {
             "line": {
              "color": "rgb(17,17,17)",
              "width": 0.5
             }
            },
            "type": "barpolar"
           }
          ],
          "carpet": [
           {
            "aaxis": {
             "endlinecolor": "#A2B1C6",
             "gridcolor": "#506784",
             "linecolor": "#506784",
             "minorgridcolor": "#506784",
             "startlinecolor": "#A2B1C6"
            },
            "baxis": {
             "endlinecolor": "#A2B1C6",
             "gridcolor": "#506784",
             "linecolor": "#506784",
             "minorgridcolor": "#506784",
             "startlinecolor": "#A2B1C6"
            },
            "type": "carpet"
           }
          ],
          "choropleth": [
           {
            "colorbar": {
             "outlinewidth": 0,
             "ticks": ""
            },
            "type": "choropleth"
           }
          ],
          "contour": [
           {
            "colorbar": {
             "outlinewidth": 0,
             "ticks": ""
            },
            "colorscale": [
             [
              0,
              "#0d0887"
             ],
             [
              0.1111111111111111,
              "#46039f"
             ],
             [
              0.2222222222222222,
              "#7201a8"
             ],
             [
              0.3333333333333333,
              "#9c179e"
             ],
             [
              0.4444444444444444,
              "#bd3786"
             ],
             [
              0.5555555555555556,
              "#d8576b"
             ],
             [
              0.6666666666666666,
              "#ed7953"
             ],
             [
              0.7777777777777778,
              "#fb9f3a"
             ],
             [
              0.8888888888888888,
              "#fdca26"
             ],
             [
              1,
              "#f0f921"
             ]
            ],
            "type": "contour"
           }
          ],
          "contourcarpet": [
           {
            "colorbar": {
             "outlinewidth": 0,
             "ticks": ""
            },
            "type": "contourcarpet"
           }
          ],
          "heatmap": [
           {
            "colorbar": {
             "outlinewidth": 0,
             "ticks": ""
            },
            "colorscale": [
             [
              0,
              "#0d0887"
             ],
             [
              0.1111111111111111,
              "#46039f"
             ],
             [
              0.2222222222222222,
              "#7201a8"
             ],
             [
              0.3333333333333333,
              "#9c179e"
             ],
             [
              0.4444444444444444,
              "#bd3786"
             ],
             [
              0.5555555555555556,
              "#d8576b"
             ],
             [
              0.6666666666666666,
              "#ed7953"
             ],
             [
              0.7777777777777778,
              "#fb9f3a"
             ],
             [
              0.8888888888888888,
              "#fdca26"
             ],
             [
              1,
              "#f0f921"
             ]
            ],
            "type": "heatmap"
           }
          ],
          "heatmapgl": [
           {
            "colorbar": {
             "outlinewidth": 0,
             "ticks": ""
            },
            "colorscale": [
             [
              0,
              "#0d0887"
             ],
             [
              0.1111111111111111,
              "#46039f"
             ],
             [
              0.2222222222222222,
              "#7201a8"
             ],
             [
              0.3333333333333333,
              "#9c179e"
             ],
             [
              0.4444444444444444,
              "#bd3786"
             ],
             [
              0.5555555555555556,
              "#d8576b"
             ],
             [
              0.6666666666666666,
              "#ed7953"
             ],
             [
              0.7777777777777778,
              "#fb9f3a"
             ],
             [
              0.8888888888888888,
              "#fdca26"
             ],
             [
              1,
              "#f0f921"
             ]
            ],
            "type": "heatmapgl"
           }
          ],
          "histogram": [
           {
            "marker": {
             "colorbar": {
              "outlinewidth": 0,
              "ticks": ""
             }
            },
            "type": "histogram"
           }
          ],
          "histogram2d": [
           {
            "colorbar": {
             "outlinewidth": 0,
             "ticks": ""
            },
            "colorscale": [
             [
              0,
              "#0d0887"
             ],
             [
              0.1111111111111111,
              "#46039f"
             ],
             [
              0.2222222222222222,
              "#7201a8"
             ],
             [
              0.3333333333333333,
              "#9c179e"
             ],
             [
              0.4444444444444444,
              "#bd3786"
             ],
             [
              0.5555555555555556,
              "#d8576b"
             ],
             [
              0.6666666666666666,
              "#ed7953"
             ],
             [
              0.7777777777777778,
              "#fb9f3a"
             ],
             [
              0.8888888888888888,
              "#fdca26"
             ],
             [
              1,
              "#f0f921"
             ]
            ],
            "type": "histogram2d"
           }
          ],
          "histogram2dcontour": [
           {
            "colorbar": {
             "outlinewidth": 0,
             "ticks": ""
            },
            "colorscale": [
             [
              0,
              "#0d0887"
             ],
             [
              0.1111111111111111,
              "#46039f"
             ],
             [
              0.2222222222222222,
              "#7201a8"
             ],
             [
              0.3333333333333333,
              "#9c179e"
             ],
             [
              0.4444444444444444,
              "#bd3786"
             ],
             [
              0.5555555555555556,
              "#d8576b"
             ],
             [
              0.6666666666666666,
              "#ed7953"
             ],
             [
              0.7777777777777778,
              "#fb9f3a"
             ],
             [
              0.8888888888888888,
              "#fdca26"
             ],
             [
              1,
              "#f0f921"
             ]
            ],
            "type": "histogram2dcontour"
           }
          ],
          "mesh3d": [
           {
            "colorbar": {
             "outlinewidth": 0,
             "ticks": ""
            },
            "type": "mesh3d"
           }
          ],
          "parcoords": [
           {
            "line": {
             "colorbar": {
              "outlinewidth": 0,
              "ticks": ""
             }
            },
            "type": "parcoords"
           }
          ],
          "pie": [
           {
            "automargin": true,
            "type": "pie"
           }
          ],
          "scatter": [
           {
            "marker": {
             "line": {
              "color": "#283442"
             }
            },
            "type": "scatter"
           }
          ],
          "scatter3d": [
           {
            "line": {
             "colorbar": {
              "outlinewidth": 0,
              "ticks": ""
             }
            },
            "marker": {
             "colorbar": {
              "outlinewidth": 0,
              "ticks": ""
             }
            },
            "type": "scatter3d"
           }
          ],
          "scattercarpet": [
           {
            "marker": {
             "colorbar": {
              "outlinewidth": 0,
              "ticks": ""
             }
            },
            "type": "scattercarpet"
           }
          ],
          "scattergeo": [
           {
            "marker": {
             "colorbar": {
              "outlinewidth": 0,
              "ticks": ""
             }
            },
            "type": "scattergeo"
           }
          ],
          "scattergl": [
           {
            "marker": {
             "line": {
              "color": "#283442"
             }
            },
            "type": "scattergl"
           }
          ],
          "scattermapbox": [
           {
            "marker": {
             "colorbar": {
              "outlinewidth": 0,
              "ticks": ""
             }
            },
            "type": "scattermapbox"
           }
          ],
          "scatterpolar": [
           {
            "marker": {
             "colorbar": {
              "outlinewidth": 0,
              "ticks": ""
             }
            },
            "type": "scatterpolar"
           }
          ],
          "scatterpolargl": [
           {
            "marker": {
             "colorbar": {
              "outlinewidth": 0,
              "ticks": ""
             }
            },
            "type": "scatterpolargl"
           }
          ],
          "scatterternary": [
           {
            "marker": {
             "colorbar": {
              "outlinewidth": 0,
              "ticks": ""
             }
            },
            "type": "scatterternary"
           }
          ],
          "surface": [
           {
            "colorbar": {
             "outlinewidth": 0,
             "ticks": ""
            },
            "colorscale": [
             [
              0,
              "#0d0887"
             ],
             [
              0.1111111111111111,
              "#46039f"
             ],
             [
              0.2222222222222222,
              "#7201a8"
             ],
             [
              0.3333333333333333,
              "#9c179e"
             ],
             [
              0.4444444444444444,
              "#bd3786"
             ],
             [
              0.5555555555555556,
              "#d8576b"
             ],
             [
              0.6666666666666666,
              "#ed7953"
             ],
             [
              0.7777777777777778,
              "#fb9f3a"
             ],
             [
              0.8888888888888888,
              "#fdca26"
             ],
             [
              1,
              "#f0f921"
             ]
            ],
            "type": "surface"
           }
          ],
          "table": [
           {
            "cells": {
             "fill": {
              "color": "#506784"
             },
             "line": {
              "color": "rgb(17,17,17)"
             }
            },
            "header": {
             "fill": {
              "color": "#2a3f5f"
             },
             "line": {
              "color": "rgb(17,17,17)"
             }
            },
            "type": "table"
           }
          ]
         },
         "layout": {
          "annotationdefaults": {
           "arrowcolor": "#f2f5fa",
           "arrowhead": 0,
           "arrowwidth": 1
          },
          "autotypenumbers": "strict",
          "coloraxis": {
           "colorbar": {
            "outlinewidth": 0,
            "ticks": ""
           }
          },
          "colorscale": {
           "diverging": [
            [
             0,
             "#8e0152"
            ],
            [
             0.1,
             "#c51b7d"
            ],
            [
             0.2,
             "#de77ae"
            ],
            [
             0.3,
             "#f1b6da"
            ],
            [
             0.4,
             "#fde0ef"
            ],
            [
             0.5,
             "#f7f7f7"
            ],
            [
             0.6,
             "#e6f5d0"
            ],
            [
             0.7,
             "#b8e186"
            ],
            [
             0.8,
             "#7fbc41"
            ],
            [
             0.9,
             "#4d9221"
            ],
            [
             1,
             "#276419"
            ]
           ],
           "sequential": [
            [
             0,
             "#0d0887"
            ],
            [
             0.1111111111111111,
             "#46039f"
            ],
            [
             0.2222222222222222,
             "#7201a8"
            ],
            [
             0.3333333333333333,
             "#9c179e"
            ],
            [
             0.4444444444444444,
             "#bd3786"
            ],
            [
             0.5555555555555556,
             "#d8576b"
            ],
            [
             0.6666666666666666,
             "#ed7953"
            ],
            [
             0.7777777777777778,
             "#fb9f3a"
            ],
            [
             0.8888888888888888,
             "#fdca26"
            ],
            [
             1,
             "#f0f921"
            ]
           ],
           "sequentialminus": [
            [
             0,
             "#0d0887"
            ],
            [
             0.1111111111111111,
             "#46039f"
            ],
            [
             0.2222222222222222,
             "#7201a8"
            ],
            [
             0.3333333333333333,
             "#9c179e"
            ],
            [
             0.4444444444444444,
             "#bd3786"
            ],
            [
             0.5555555555555556,
             "#d8576b"
            ],
            [
             0.6666666666666666,
             "#ed7953"
            ],
            [
             0.7777777777777778,
             "#fb9f3a"
            ],
            [
             0.8888888888888888,
             "#fdca26"
            ],
            [
             1,
             "#f0f921"
            ]
           ]
          },
          "colorway": [
           "#636efa",
           "#EF553B",
           "#00cc96",
           "#ab63fa",
           "#FFA15A",
           "#19d3f3",
           "#FF6692",
           "#B6E880",
           "#FF97FF",
           "#FECB52"
          ],
          "font": {
           "color": "#f2f5fa"
          },
          "geo": {
           "bgcolor": "rgb(17,17,17)",
           "lakecolor": "rgb(17,17,17)",
           "landcolor": "rgb(17,17,17)",
           "showlakes": true,
           "showland": true,
           "subunitcolor": "#506784"
          },
          "hoverlabel": {
           "align": "left"
          },
          "hovermode": "closest",
          "mapbox": {
           "style": "dark"
          },
          "paper_bgcolor": "rgb(17,17,17)",
          "plot_bgcolor": "rgb(17,17,17)",
          "polar": {
           "angularaxis": {
            "gridcolor": "#506784",
            "linecolor": "#506784",
            "ticks": ""
           },
           "bgcolor": "rgb(17,17,17)",
           "radialaxis": {
            "gridcolor": "#506784",
            "linecolor": "#506784",
            "ticks": ""
           }
          },
          "scene": {
           "xaxis": {
            "backgroundcolor": "rgb(17,17,17)",
            "gridcolor": "#506784",
            "gridwidth": 2,
            "linecolor": "#506784",
            "showbackground": true,
            "ticks": "",
            "zerolinecolor": "#C8D4E3"
           },
           "yaxis": {
            "backgroundcolor": "rgb(17,17,17)",
            "gridcolor": "#506784",
            "gridwidth": 2,
            "linecolor": "#506784",
            "showbackground": true,
            "ticks": "",
            "zerolinecolor": "#C8D4E3"
           },
           "zaxis": {
            "backgroundcolor": "rgb(17,17,17)",
            "gridcolor": "#506784",
            "gridwidth": 2,
            "linecolor": "#506784",
            "showbackground": true,
            "ticks": "",
            "zerolinecolor": "#C8D4E3"
           }
          },
          "shapedefaults": {
           "line": {
            "color": "#f2f5fa"
           }
          },
          "sliderdefaults": {
           "bgcolor": "#C8D4E3",
           "bordercolor": "rgb(17,17,17)",
           "borderwidth": 1,
           "tickwidth": 0
          },
          "ternary": {
           "aaxis": {
            "gridcolor": "#506784",
            "linecolor": "#506784",
            "ticks": ""
           },
           "baxis": {
            "gridcolor": "#506784",
            "linecolor": "#506784",
            "ticks": ""
           },
           "bgcolor": "rgb(17,17,17)",
           "caxis": {
            "gridcolor": "#506784",
            "linecolor": "#506784",
            "ticks": ""
           }
          },
          "title": {
           "x": 0.05
          },
          "updatemenudefaults": {
           "bgcolor": "#506784",
           "borderwidth": 0
          },
          "xaxis": {
           "automargin": true,
           "gridcolor": "#283442",
           "linecolor": "#506784",
           "ticks": "",
           "title": {
            "standoff": 15
           },
           "zerolinecolor": "#283442",
           "zerolinewidth": 2
          },
          "yaxis": {
           "automargin": true,
           "gridcolor": "#283442",
           "linecolor": "#506784",
           "ticks": "",
           "title": {
            "standoff": 15
           },
           "zerolinecolor": "#283442",
           "zerolinewidth": 2
          }
         }
        },
        "title": {
         "text": "ΔP vs Alkalinity"
        },
        "xaxis": {
         "anchor": "y",
         "domain": [
          0,
          0.7363
         ],
         "title": {
          "text": "ΔP"
         }
        },
        "xaxis2": {
         "anchor": "y2",
         "domain": [
          0.7413,
          1
         ],
         "matches": "x2",
         "showgrid": true,
         "showline": false,
         "showticklabels": false,
         "ticks": ""
        },
        "xaxis3": {
         "anchor": "y3",
         "domain": [
          0,
          0.7363
         ],
         "matches": "x",
         "showgrid": true,
         "showticklabels": false
        },
        "xaxis4": {
         "anchor": "y4",
         "domain": [
          0.7413,
          1
         ],
         "matches": "x2",
         "showgrid": true,
         "showline": false,
         "showticklabels": false,
         "ticks": ""
        },
        "yaxis": {
         "anchor": "x",
         "domain": [
          0,
          0.7326
         ],
         "title": {
          "text": "Probability"
         }
        },
        "yaxis2": {
         "anchor": "x2",
         "domain": [
          0,
          0.7326
         ],
         "matches": "y",
         "showgrid": true,
         "showticklabels": false
        },
        "yaxis3": {
         "anchor": "x3",
         "domain": [
          0.7426,
          1
         ],
         "matches": "y3",
         "showgrid": true,
         "showline": false,
         "showticklabels": false,
         "ticks": ""
        },
        "yaxis4": {
         "anchor": "x4",
         "domain": [
          0.7426,
          1
         ],
         "matches": "y3",
         "showgrid": true,
         "showline": false,
         "showticklabels": false,
         "ticks": ""
        }
       }
      },
      "text/html": [
       "<div>                            <div id=\"a2aa4efe-3e8c-4653-a434-4173a7b86ff7\" class=\"plotly-graph-div\" style=\"height:525px; width:100%;\"></div>            <script type=\"text/javascript\">                require([\"plotly\"], function(Plotly) {                    window.PLOTLYENV=window.PLOTLYENV || {};                                    if (document.getElementById(\"a2aa4efe-3e8c-4653-a434-4173a7b86ff7\")) {                    Plotly.newPlot(                        \"a2aa4efe-3e8c-4653-a434-4173a7b86ff7\",                        [{\"hovertemplate\": \"\\u0394P=%{x}<br>Probability=%{y}<br>alk=%{marker.color}<extra></extra>\", \"legendgroup\": \"\", \"marker\": {\"color\": [3.61, 3.42, 3.58, 3.37, 3.36, 3.57, 3.25, 3.71, 3.76, 2.44, 2.35, 2.42, 3.28, 2.69, 3.66, 3.48, 3.97, 3.35, 3.44, 3.15, 3.72, 3.46, 3.93, 3.07, 3.06, 3.32, 3.19, 2.69, 2.76, 2.83, 3.69, 3.7, 3.0, 2.83, 3.45, 3.95, 4.0, 3.25, 3.28, 3.19, 2.92, 3.22, 3.45, 3.45, 1.49, 1.63, 1.84, 1.61, 3.12, 3.07, 3.1, 3.37, 3.26, 3.47, 3.25, 3.4, 2.57, 2.81, 2.73, 2.75, 2.74, 3.22, 3.27, 3.41, 3.42, 2.49, 2.52, 3.04, 3.04, 3.01, 3.16, 2.82, 3.08, 3.15, 3.09, 2.82, 2.9, 3.12, 3.22, 3.07, 3.32, 3.33, 3.47, 3.67, 3.46, 3.85, 4.4, 4.37, 3.27, 3.7, 4.27, 4.38, 3.67, 4.09, 4.4, 3.95, 4.17, 4.89, 3.18, 3.18, 3.46, 3.86, 4.04, 4.57, 3.63, 3.35, 3.41, 3.83, 3.89, 4.01, 3.27, 2.62, 3.69, 2.64, 2.76, 3.6, 2.54, 2.68, 3.91, 3.36, 3.97, 3.44, 3.03, 3.21, 3.11, 3.7, 3.36, 3.34, 3.8, 3.65, 3.4, 3.17, 2.54, 3.24, 2.92, 3.85, 3.55, 2.88, 2.85, 3.67, 3.47, 3.24, 2.87, 3.81, 3.57, 3.4, 3.71, 3.45, 3.55, 3.36, 1.79, 1.97, 2.19, 2.5, 2.08, 2.11, 1.9, 2.04, 2.07, 2.73, 2.78, 2.58, 2.74, 2.86, 2.52, 2.55, 2.36, 2.65, 2.6, 2.44, 2.12, 2.56, 2.78, 2.41, 2.35, 2.23, 1.94, 2.24, 2.29, 2.21, 2.3, 2.29, 2.31, 2.39, 2.45, 2.26, 2.38, 2.44, 2.39, 2.57, 1.01, 1.44, 1.67, 6.21, 5.52, 4.21, 4.58, 2.12, 1.6, 1.57, 1.56, 1.39, 1.63, 2.06, 1.94, 1.7, 1.65, 2.23, 2.1, 2.17, 2.59, 2.07, 2.29, 2.64, 3.02, 2.09, 2.71, 2.99, 2.46, 6.1, 7.52, 7.33, 8.94, 5.88, 6.83, 7.84, 6.41, 4.06, 6.69, 3.62, 5.68, 6.21, 5.58, 6.09, 6.66, 6.88, 5.52, 6.16, 6.91, 6.81, 5.73, 6.2, 6.59, 4.18, 4.29, 3.96, 4.79, 5.65, 4.27, 5.0, 7.58, 3.8, 3.8, 3.83], \"coloraxis\": \"coloraxis\", \"symbol\": \"circle\"}, \"mode\": \"markers\", \"name\": \"\", \"orientation\": \"v\", \"showlegend\": false, \"type\": \"scatter\", \"x\": [-0.7184502733624623, 0.3168841452710347, -0.31870080287410696, -0.005625768773046325, -0.964504022524997, -0.9065078202684169, -1.3639489828816895, 0.39779131417254554, -0.274825482493549, 1.8960207290109743, -0.7610154789998269, -0.26518144378849406, 0.55359341079091, 0.6373929515195371, -1.1674551834708833, -2.583994797052651, 0.5165787186831388, 2.1079057813829127, 0.30738296527975995, -0.6299009629245198, 0.3972739452482525, -0.1291057290640712, 1.396410659544079, 1.9075990453387757, 0.24823787153804844, -1.6612971131638474, -0.2474877795182744, 0.40376668004160077, -0.2023139537937081, -1.0154137973289918, 0.020067990657676005, -0.37704117014722094, -0.6628098573524176, 0.9727769147782421, -0.27366617561450113, -0.9346846975967105, -2.350870986646548, 0.6758270949803159, -0.905206322563929, -1.566940402928563, 0.4317892026483253, -0.02926867484721888, -0.7647045366357849, -1.322581895546519, 1.9590797418523198, 0.9479332082264148, 1.8035842349093616, 1.486074661347976, -1.48666289513515, -2.7595538061457985, -2.686708585832543, -2.2196088016986977, -0.24416508116255461, -3.1161766852707697, -2.958180671774819, -3.5864267731542903, 2.521143937398651, -0.8138094349761, 1.7627305502007096, 1.0409988431377668, 1.0078230057002575, 0.13455945318689097, 0.15877829998383516, -1.6206855533456603, -1.528893541753387, 2.945295942429557, 1.4917294586608838, 1.2683208949478524, -0.31345443176234433, 0.9052395570259552, -1.5929450055900953, 3.000482376233701, 2.948383397291074, 2.6891014523720993, 2.436213443966197, 0.21889687695574744, 0.34014454527855204, -0.5276328914785413, -0.9684341758018147, 0.5280408870062924, 6.2193227905134165, -0.2452933073409702, 5.316894250055806, 0.9696165060950652, 1.2476783795507087, 2.8739676855086405, 4.238134263334173, 6.173446240104692, 0.2697765817080642, -1.2932691803804097, -0.9681817137455457, -0.833728492898671, -1.5734222481404432, -1.447933127044887, -2.0932671267987635, -1.173418160287928, -1.6221616330370157, -2.094587625411666, -0.2613995913358246, 1.0881423656042841, 1.376480613498365, 5.419811181884149, 4.9391179911742045, 3.6025821768677773, 3.3884198097497014, 5.332223145568498, 3.5334699105465885, 4.141825435194686, 4.397385435198231, 6.4242969156611665, -1.4367713830706272, 0.9632333550700736, 2.9128438331987785, 1.3233685957742223, 0.9424973825043401, 2.560192086737379, 2.3782893387276873, 2.7113976898782237, -0.4106900605356927, -0.8394341050109924, -0.05122300256920331, -0.8242593518822066, -0.44477789965321657, 0.5884644577685414, 0.16076726613545844, 0.7632801388539052, -1.7293659272925286, -0.8085562540900049, 4.576630893221191, 4.329064150530711, 5.879111196202081, 4.86242407053844, 6.088265894675241, 6.164677872708201, 5.647068783554419, 6.619326505011152, 6.702009839955236, 8.176361057198598, 7.542459966920017, 3.2859662451727645, 2.3198544040338716, 2.583037980526365, 3.126573270360054, 2.1597564959827014, 2.9185747380434277, 4.0781376404644405, 5.149544592814998, 4.806236396420731, 2.24235550795049, 3.4109522986351317, 2.417722208451539, 3.7912664506738665, 2.870782816762139, 3.4825649094944993, 3.8528737709494987, 2.6620584912020924, 0.6820090566237011, 0.0380680729016456, 0.65249450151483, 3.00989457879688, 2.777846379354256, -0.463635788933884, -1.0475707415410909, -1.9027056722707558, 0.2780269348266866, -1.4705719877721148, -1.3511493686867617, 0.6367025472476446, 1.5765296233094137, 1.8831051346872232, 5.846817037772927, -0.025446360030355067, 0.08961913287189255, 1.3794748879580032, 2.0106395702970414, 1.2377085955072198, 0.7289816426888536, 0.6802404264820407, 0.6838778018901926, 4.903435363816639, 4.4572031941288275, 4.749986020104786, 4.184726771618456, 4.73097960686746, 4.58033615154047, 5.038807612224982, 2.1855851113231797, 4.498443521510064, 4.831815237174058, 3.4100838068940416, 2.503052457333534, 2.309305806397403, 1.8459656805310576, 2.190982882719679, -0.8027109586157571, 0.47215486335692936, -0.47392175119518065, 2.336919101054987, 1.9222041944882031, 2.0604379236726498, 2.5419615907167414, 1.1861533496942815, 2.5355576422756267, 1.122121168657743, 1.1869546255225512, 0.6085403529225356, 1.8535346597379192, 0.4178094817184535, 1.0051928277846218, 2.0496405275893053, 0.6800776528876379, 1.067449054580603, 0.6486701919892628, -0.036639677301450395, -0.6912172204612715, 0.38867447061046645, 0.015753267822704094, -0.07442560128845702, 0.3974386508525427, 4.294232065515066, 8.511163299287627, 3.0536034099615157, 3.959388837494978, 4.788724078516759, 4.342992578765969, 5.416190452599734, -1.9784059063574835, -1.2715052122100665, 0.8489152408927164, 0.18326984342022587, 0.35439704611087264, 2.190982882719679, -0.9242612463711491, 0.10432247491140641, -1.6511728912987573, -1.0954875259659147, -0.8027109586157571, 1.1588018232011656, 9.200783498091699, 0.6930375286568948, -0.1455625078342464, -0.1660240116060018, 0.5196467414666077, -1.9984264667115008, 0.33850737483112037, -1.9405541163091586, 0.4119513232953537, -1.526020813188115, -3.8950991977194436, -3.251294115354148, 5.088034381524278, 4.63459660505057, 4.619685822236436, 3.7778483409457055], \"xaxis\": \"x\", \"y\": [0.8209372194811392, 0.896354299398174, 0.9665851031253295, 0.9854308975217188, 0.9869869700434856, 0.703742618478878, 0.959800304548087, 0.9074989309794503, 0.9508294990973474, 0.9738326202648905, 0.8353230198382104, 0.9723138655521862, 0.8366132836713415, 0.6104001528149074, 0.1756487267342578, 0.956555199227138, 0.9051337712913186, 0.9722657778003455, 0.9404159563243957, 0.9644558553425885, 0.7974040217801179, 0.5304614332891675, 0.9457028007851369, 0.8786893438270998, 0.719597231623585, 0.6032815197825163, 0.9548717473396539, 0.9833385854994126, 0.9945019667859394, 0.9137037817344903, 0.9346535569120309, 0.9877590233676162, 0.9597884208450668, 0.9896492720804259, 0.9685439448668752, 0.9676145185130273, 0.8383923251397513, 0.924751122420079, 0.889011058925085, 0.8828822137056273, 0.9958775693359069, 0.9916214757764308, 0.9852375041761754, 0.9171902424689333, 0.908424285406523, 0.8623954557407918, 0.982952000506152, 0.8128778825206385, 0.7976032762575175, 0.8001294215240162, 0.6766857512658218, 0.7476855763504415, 0.756366513864398, 0.7004612403330415, 0.475187744403999, 0.6214620831262687, 8.226849595160957e-05, 0.0, 0.9678092446616063, 0.9450848384614687, 0.8251706376977097, 0.8681632246041231, 0.883543471570022, 0.5348095313615587, 0.5704808879021053, 0.9994643136422503, 0.8613899781752191, 0.9815135947230735, 0.6322708886122894, 0.9601374634998799, 0.8887360689469619, 0.960005154690388, 0.9114161135009525, 0.785331534222599, 0.9437011199066249, 0.9742224979232014, 0.9387538462781208, 0.9101723709683076, 0.9344759692200637, 0.9480580377246914, 0.0, 1.553202011450594e-12, 0.0, 1.583096668555939e-05, 0.01967097714420596, 0.7196440055160507, 0.5525976759820084, 0.09539071888602058, 0.5959012013282728, 0.8436220126875862, 0.6212914267916915, 0.06562182027576025, 0.6020676955808661, 0.2932811493401719, 0.11992693810343469, 0.6239863634221268, 0.4833260090752617, 0.28633710102625787, 0.840536067522814, 0.002792221873888945, 4.599033814312037e-05, 1.249532672886744e-07, 5.551115123125783e-16, 0.0, 3.4074965071795305e-12, 3.2027713814386516e-12, 6.643775529724394e-10, 0.0, 0.0, 0.0, 0.039903612789979004, 0.1127742407151523, 0.10060594031501147, 0.39831286928901644, 0.39566352600062193, 0.4981570607517196, 0.27165093153247166, 0.16934801245273567, 0.10280144748034803, 0.13606675656955391, 0.9983600559496042, 0.029298553900966806, 0.141591845601593, 0.0013257955526678744, 0.2102529453318549, 0.21131840513512312, 0.11382428390704269, 0.34126488142741485, 8.544753793415794e-11, 0.006103132425780866, 0.003079242815688832, 0.000696161195275824, 3.938852274953941e-05, 1.4541068693585402e-07, 0.0006011446034602796, 2.1266455263457829e-10, 2.241781530121223e-05, 0.0010532428215216383, 0.0005624370263656031, 0.0008317642039685769, 2.7061192864774597e-05, 3.19882488242218e-06, 0.001634395400391675, 2.668936738281502e-09, 2.693344439608225e-05, 1.0332512623278944e-11, 5.69934868632771e-07, 0.00571790139120576, 0.0, 7.61296981011128e-09, 0.21514428530683383, 0.18738051754810325, 0.052237171361213086, 0.0894975973921025, 0.3269752003765547, 0.3746945562996389, 0.43202820561812116, 0.9992940180551476, 0.9815420654144593, 0.3706769767651269, 0.27048934946532166, 0.33844619725626823, 0.4534338513120204, 0.9760405774423395, 0.3397354969045896, 0.310153856800521, 0.277842883432982, 0.6952176286249032, 0.8561907466118521, 0.8335063539737729, 0.6193173035887105, 0.69734944357936, 0.7556570062157393, 0.6181153413926044, 0.8248418275560765, 0.6674124489959928, 0.6773344943866653, 0.8409921115772019, 0.9552499680919331, 0.1700095759585839, 0.19953138893800593, 0.848881707411733, 0.26627231592332934, 0.4726053252799043, 0.2461078006819145, 0.6713223806075337, 0.8942092107003409, 0.1521971157345524, 0.054510291776924236, 0.09186259199724345, 0.9881567969871916, 0.9975095070063648, 0.8325324045437645, 0.20471851155263554, 0.3909786654345214, 0.778798940863053, 0.8442420104278501, 0.6929678894153439, 0.8682444644290148, 0.9586014798375162, 0.7715787007325965, 0.6976367888417212, 0.7646833033672861, 0.6501786717282558, 0.9933481516358599, 0.9689261664747582, 0.7093979781843858, 0.9834560015880214, 0.9882428469942937, 0.9503269227015372, 0.7460011526000017, 0.9647566343119921, 0.5905184796213864, 0.967698362575021, 0.8676842323317498, 0.1899968518304762, 0.8996536539029529, 0.8717718457314045, 0.949983569234108, 0.02276562541036209, 0.0050748570502500145, 0.6065219584205996, 0.5657787023829861, 0.31543813355626604, 0.1956337553334464, 0.00023565044358164755, 0.5198497617929704, 0.634372418942349, 0.22348593816444762, 0.3092776056208606, 0.7474177609685559, 0.20471851155263554, 0.6832629138374839, 0.2163445402159565, 0.09977072997051573, 0.025174347486988546, 0.3909786654345214, 0.7337706337231589, 0.0012116106246616853, 0.09409469137355286, 0.7155464042413353, 0.44628650921738033, 0.11687232815907, 0.9425206138785955, 0.6982566601820227, 0.9864409968276755, 0.9066330227148516, 0.49112913498908484, 0.9834689295230287, 0.9748591304885881, 0.27264637112977463, 0.07836989473891098, 0.09071594083162149, 0.1895716557308974], \"yaxis\": \"y\"}, {\"alignmentgroup\": \"True\", \"bingroup\": \"x\", \"hovertemplate\": \"\\u0394P=%{x}<br>count=%{y}<extra></extra>\", \"legendgroup\": \"\", \"marker\": {\"color\": \"rgb(253, 253, 204)\"}, \"name\": \"\", \"offsetgroup\": \"\", \"opacity\": 0.5, \"showlegend\": false, \"type\": \"histogram\", \"x\": [-0.7184502733624623, 0.3168841452710347, -0.31870080287410696, -0.005625768773046325, -0.964504022524997, -0.9065078202684169, -1.3639489828816895, 0.39779131417254554, -0.274825482493549, 1.8960207290109743, -0.7610154789998269, -0.26518144378849406, 0.55359341079091, 0.6373929515195371, -1.1674551834708833, -2.583994797052651, 0.5165787186831388, 2.1079057813829127, 0.30738296527975995, -0.6299009629245198, 0.3972739452482525, -0.1291057290640712, 1.396410659544079, 1.9075990453387757, 0.24823787153804844, -1.6612971131638474, -0.2474877795182744, 0.40376668004160077, -0.2023139537937081, -1.0154137973289918, 0.020067990657676005, -0.37704117014722094, -0.6628098573524176, 0.9727769147782421, -0.27366617561450113, -0.9346846975967105, -2.350870986646548, 0.6758270949803159, -0.905206322563929, -1.566940402928563, 0.4317892026483253, -0.02926867484721888, -0.7647045366357849, -1.322581895546519, 1.9590797418523198, 0.9479332082264148, 1.8035842349093616, 1.486074661347976, -1.48666289513515, -2.7595538061457985, -2.686708585832543, -2.2196088016986977, -0.24416508116255461, -3.1161766852707697, -2.958180671774819, -3.5864267731542903, 2.521143937398651, -0.8138094349761, 1.7627305502007096, 1.0409988431377668, 1.0078230057002575, 0.13455945318689097, 0.15877829998383516, -1.6206855533456603, -1.528893541753387, 2.945295942429557, 1.4917294586608838, 1.2683208949478524, -0.31345443176234433, 0.9052395570259552, -1.5929450055900953, 3.000482376233701, 2.948383397291074, 2.6891014523720993, 2.436213443966197, 0.21889687695574744, 0.34014454527855204, -0.5276328914785413, -0.9684341758018147, 0.5280408870062924, 6.2193227905134165, -0.2452933073409702, 5.316894250055806, 0.9696165060950652, 1.2476783795507087, 2.8739676855086405, 4.238134263334173, 6.173446240104692, 0.2697765817080642, -1.2932691803804097, -0.9681817137455457, -0.833728492898671, -1.5734222481404432, -1.447933127044887, -2.0932671267987635, -1.173418160287928, -1.6221616330370157, -2.094587625411666, -0.2613995913358246, 1.0881423656042841, 1.376480613498365, 5.419811181884149, 4.9391179911742045, 3.6025821768677773, 3.3884198097497014, 5.332223145568498, 3.5334699105465885, 4.141825435194686, 4.397385435198231, 6.4242969156611665, -1.4367713830706272, 0.9632333550700736, 2.9128438331987785, 1.3233685957742223, 0.9424973825043401, 2.560192086737379, 2.3782893387276873, 2.7113976898782237, -0.4106900605356927, -0.8394341050109924, -0.05122300256920331, -0.8242593518822066, -0.44477789965321657, 0.5884644577685414, 0.16076726613545844, 0.7632801388539052, -1.7293659272925286, -0.8085562540900049, 4.576630893221191, 4.329064150530711, 5.879111196202081, 4.86242407053844, 6.088265894675241, 6.164677872708201, 5.647068783554419, 6.619326505011152, 6.702009839955236, 8.176361057198598, 7.542459966920017, 3.2859662451727645, 2.3198544040338716, 2.583037980526365, 3.126573270360054, 2.1597564959827014, 2.9185747380434277, 4.0781376404644405, 5.149544592814998, 4.806236396420731, 2.24235550795049, 3.4109522986351317, 2.417722208451539, 3.7912664506738665, 2.870782816762139, 3.4825649094944993, 3.8528737709494987, 2.6620584912020924, 0.6820090566237011, 0.0380680729016456, 0.65249450151483, 3.00989457879688, 2.777846379354256, -0.463635788933884, -1.0475707415410909, -1.9027056722707558, 0.2780269348266866, -1.4705719877721148, -1.3511493686867617, 0.6367025472476446, 1.5765296233094137, 1.8831051346872232, 5.846817037772927, -0.025446360030355067, 0.08961913287189255, 1.3794748879580032, 2.0106395702970414, 1.2377085955072198, 0.7289816426888536, 0.6802404264820407, 0.6838778018901926, 4.903435363816639, 4.4572031941288275, 4.749986020104786, 4.184726771618456, 4.73097960686746, 4.58033615154047, 5.038807612224982, 2.1855851113231797, 4.498443521510064, 4.831815237174058, 3.4100838068940416, 2.503052457333534, 2.309305806397403, 1.8459656805310576, 2.190982882719679, -0.8027109586157571, 0.47215486335692936, -0.47392175119518065, 2.336919101054987, 1.9222041944882031, 2.0604379236726498, 2.5419615907167414, 1.1861533496942815, 2.5355576422756267, 1.122121168657743, 1.1869546255225512, 0.6085403529225356, 1.8535346597379192, 0.4178094817184535, 1.0051928277846218, 2.0496405275893053, 0.6800776528876379, 1.067449054580603, 0.6486701919892628, -0.036639677301450395, -0.6912172204612715, 0.38867447061046645, 0.015753267822704094, -0.07442560128845702, 0.3974386508525427, 4.294232065515066, 8.511163299287627, 3.0536034099615157, 3.959388837494978, 4.788724078516759, 4.342992578765969, 5.416190452599734, -1.9784059063574835, -1.2715052122100665, 0.8489152408927164, 0.18326984342022587, 0.35439704611087264, 2.190982882719679, -0.9242612463711491, 0.10432247491140641, -1.6511728912987573, -1.0954875259659147, -0.8027109586157571, 1.1588018232011656, 9.200783498091699, 0.6930375286568948, -0.1455625078342464, -0.1660240116060018, 0.5196467414666077, -1.9984264667115008, 0.33850737483112037, -1.9405541163091586, 0.4119513232953537, -1.526020813188115, -3.8950991977194436, -3.251294115354148, 5.088034381524278, 4.63459660505057, 4.619685822236436, 3.7778483409457055], \"xaxis\": \"x3\", \"yaxis\": \"y3\"}, {\"alignmentgroup\": \"True\", \"bingroup\": \"y\", \"hovertemplate\": \"Probability=%{y}<br>count=%{x}<extra></extra>\", \"legendgroup\": \"\", \"marker\": {\"color\": \"rgb(253, 253, 204)\"}, \"name\": \"\", \"offsetgroup\": \"\", \"opacity\": 0.5, \"showlegend\": false, \"type\": \"histogram\", \"xaxis\": \"x2\", \"y\": [0.8209372194811392, 0.896354299398174, 0.9665851031253295, 0.9854308975217188, 0.9869869700434856, 0.703742618478878, 0.959800304548087, 0.9074989309794503, 0.9508294990973474, 0.9738326202648905, 0.8353230198382104, 0.9723138655521862, 0.8366132836713415, 0.6104001528149074, 0.1756487267342578, 0.956555199227138, 0.9051337712913186, 0.9722657778003455, 0.9404159563243957, 0.9644558553425885, 0.7974040217801179, 0.5304614332891675, 0.9457028007851369, 0.8786893438270998, 0.719597231623585, 0.6032815197825163, 0.9548717473396539, 0.9833385854994126, 0.9945019667859394, 0.9137037817344903, 0.9346535569120309, 0.9877590233676162, 0.9597884208450668, 0.9896492720804259, 0.9685439448668752, 0.9676145185130273, 0.8383923251397513, 0.924751122420079, 0.889011058925085, 0.8828822137056273, 0.9958775693359069, 0.9916214757764308, 0.9852375041761754, 0.9171902424689333, 0.908424285406523, 0.8623954557407918, 0.982952000506152, 0.8128778825206385, 0.7976032762575175, 0.8001294215240162, 0.6766857512658218, 0.7476855763504415, 0.756366513864398, 0.7004612403330415, 0.475187744403999, 0.6214620831262687, 8.226849595160957e-05, 0.0, 0.9678092446616063, 0.9450848384614687, 0.8251706376977097, 0.8681632246041231, 0.883543471570022, 0.5348095313615587, 0.5704808879021053, 0.9994643136422503, 0.8613899781752191, 0.9815135947230735, 0.6322708886122894, 0.9601374634998799, 0.8887360689469619, 0.960005154690388, 0.9114161135009525, 0.785331534222599, 0.9437011199066249, 0.9742224979232014, 0.9387538462781208, 0.9101723709683076, 0.9344759692200637, 0.9480580377246914, 0.0, 1.553202011450594e-12, 0.0, 1.583096668555939e-05, 0.01967097714420596, 0.7196440055160507, 0.5525976759820084, 0.09539071888602058, 0.5959012013282728, 0.8436220126875862, 0.6212914267916915, 0.06562182027576025, 0.6020676955808661, 0.2932811493401719, 0.11992693810343469, 0.6239863634221268, 0.4833260090752617, 0.28633710102625787, 0.840536067522814, 0.002792221873888945, 4.599033814312037e-05, 1.249532672886744e-07, 5.551115123125783e-16, 0.0, 3.4074965071795305e-12, 3.2027713814386516e-12, 6.643775529724394e-10, 0.0, 0.0, 0.0, 0.039903612789979004, 0.1127742407151523, 0.10060594031501147, 0.39831286928901644, 0.39566352600062193, 0.4981570607517196, 0.27165093153247166, 0.16934801245273567, 0.10280144748034803, 0.13606675656955391, 0.9983600559496042, 0.029298553900966806, 0.141591845601593, 0.0013257955526678744, 0.2102529453318549, 0.21131840513512312, 0.11382428390704269, 0.34126488142741485, 8.544753793415794e-11, 0.006103132425780866, 0.003079242815688832, 0.000696161195275824, 3.938852274953941e-05, 1.4541068693585402e-07, 0.0006011446034602796, 2.1266455263457829e-10, 2.241781530121223e-05, 0.0010532428215216383, 0.0005624370263656031, 0.0008317642039685769, 2.7061192864774597e-05, 3.19882488242218e-06, 0.001634395400391675, 2.668936738281502e-09, 2.693344439608225e-05, 1.0332512623278944e-11, 5.69934868632771e-07, 0.00571790139120576, 0.0, 7.61296981011128e-09, 0.21514428530683383, 0.18738051754810325, 0.052237171361213086, 0.0894975973921025, 0.3269752003765547, 0.3746945562996389, 0.43202820561812116, 0.9992940180551476, 0.9815420654144593, 0.3706769767651269, 0.27048934946532166, 0.33844619725626823, 0.4534338513120204, 0.9760405774423395, 0.3397354969045896, 0.310153856800521, 0.277842883432982, 0.6952176286249032, 0.8561907466118521, 0.8335063539737729, 0.6193173035887105, 0.69734944357936, 0.7556570062157393, 0.6181153413926044, 0.8248418275560765, 0.6674124489959928, 0.6773344943866653, 0.8409921115772019, 0.9552499680919331, 0.1700095759585839, 0.19953138893800593, 0.848881707411733, 0.26627231592332934, 0.4726053252799043, 0.2461078006819145, 0.6713223806075337, 0.8942092107003409, 0.1521971157345524, 0.054510291776924236, 0.09186259199724345, 0.9881567969871916, 0.9975095070063648, 0.8325324045437645, 0.20471851155263554, 0.3909786654345214, 0.778798940863053, 0.8442420104278501, 0.6929678894153439, 0.8682444644290148, 0.9586014798375162, 0.7715787007325965, 0.6976367888417212, 0.7646833033672861, 0.6501786717282558, 0.9933481516358599, 0.9689261664747582, 0.7093979781843858, 0.9834560015880214, 0.9882428469942937, 0.9503269227015372, 0.7460011526000017, 0.9647566343119921, 0.5905184796213864, 0.967698362575021, 0.8676842323317498, 0.1899968518304762, 0.8996536539029529, 0.8717718457314045, 0.949983569234108, 0.02276562541036209, 0.0050748570502500145, 0.6065219584205996, 0.5657787023829861, 0.31543813355626604, 0.1956337553334464, 0.00023565044358164755, 0.5198497617929704, 0.634372418942349, 0.22348593816444762, 0.3092776056208606, 0.7474177609685559, 0.20471851155263554, 0.6832629138374839, 0.2163445402159565, 0.09977072997051573, 0.025174347486988546, 0.3909786654345214, 0.7337706337231589, 0.0012116106246616853, 0.09409469137355286, 0.7155464042413353, 0.44628650921738033, 0.11687232815907, 0.9425206138785955, 0.6982566601820227, 0.9864409968276755, 0.9066330227148516, 0.49112913498908484, 0.9834689295230287, 0.9748591304885881, 0.27264637112977463, 0.07836989473891098, 0.09071594083162149, 0.1895716557308974], \"yaxis\": \"y2\"}],                        {\"barmode\": \"overlay\", \"coloraxis\": {\"colorbar\": {\"title\": {\"text\": \"alk\"}}, \"colorscale\": [[0.0, \"rgb(253, 253, 204)\"], [0.09090909090909091, \"rgb(206, 236, 179)\"], [0.18181818181818182, \"rgb(156, 219, 165)\"], [0.2727272727272727, \"rgb(111, 201, 163)\"], [0.36363636363636365, \"rgb(86, 177, 163)\"], [0.45454545454545453, \"rgb(76, 153, 160)\"], [0.5454545454545454, \"rgb(68, 130, 155)\"], [0.6363636363636364, \"rgb(62, 108, 150)\"], [0.7272727272727273, \"rgb(62, 82, 143)\"], [0.8181818181818182, \"rgb(64, 60, 115)\"], [0.9090909090909091, \"rgb(54, 43, 77)\"], [1.0, \"rgb(39, 26, 44)\"]]}, \"legend\": {\"tracegroupgap\": 0}, \"template\": {\"data\": {\"bar\": [{\"error_x\": {\"color\": \"#f2f5fa\"}, \"error_y\": {\"color\": \"#f2f5fa\"}, \"marker\": {\"line\": {\"color\": \"rgb(17,17,17)\", \"width\": 0.5}}, \"type\": \"bar\"}], \"barpolar\": [{\"marker\": {\"line\": {\"color\": \"rgb(17,17,17)\", \"width\": 0.5}}, \"type\": \"barpolar\"}], \"carpet\": [{\"aaxis\": {\"endlinecolor\": \"#A2B1C6\", \"gridcolor\": \"#506784\", \"linecolor\": \"#506784\", \"minorgridcolor\": \"#506784\", \"startlinecolor\": \"#A2B1C6\"}, \"baxis\": {\"endlinecolor\": \"#A2B1C6\", \"gridcolor\": \"#506784\", \"linecolor\": \"#506784\", \"minorgridcolor\": \"#506784\", \"startlinecolor\": \"#A2B1C6\"}, \"type\": \"carpet\"}], \"choropleth\": [{\"colorbar\": {\"outlinewidth\": 0, \"ticks\": \"\"}, \"type\": \"choropleth\"}], \"contour\": [{\"colorbar\": {\"outlinewidth\": 0, \"ticks\": \"\"}, \"colorscale\": [[0.0, \"#0d0887\"], [0.1111111111111111, \"#46039f\"], [0.2222222222222222, \"#7201a8\"], [0.3333333333333333, \"#9c179e\"], [0.4444444444444444, \"#bd3786\"], [0.5555555555555556, \"#d8576b\"], [0.6666666666666666, \"#ed7953\"], [0.7777777777777778, \"#fb9f3a\"], [0.8888888888888888, \"#fdca26\"], [1.0, \"#f0f921\"]], \"type\": \"contour\"}], \"contourcarpet\": [{\"colorbar\": {\"outlinewidth\": 0, \"ticks\": \"\"}, \"type\": \"contourcarpet\"}], \"heatmap\": [{\"colorbar\": {\"outlinewidth\": 0, \"ticks\": \"\"}, \"colorscale\": [[0.0, \"#0d0887\"], [0.1111111111111111, \"#46039f\"], [0.2222222222222222, \"#7201a8\"], [0.3333333333333333, \"#9c179e\"], [0.4444444444444444, \"#bd3786\"], [0.5555555555555556, \"#d8576b\"], [0.6666666666666666, \"#ed7953\"], [0.7777777777777778, \"#fb9f3a\"], [0.8888888888888888, \"#fdca26\"], [1.0, \"#f0f921\"]], \"type\": \"heatmap\"}], \"heatmapgl\": [{\"colorbar\": {\"outlinewidth\": 0, \"ticks\": \"\"}, \"colorscale\": [[0.0, \"#0d0887\"], [0.1111111111111111, \"#46039f\"], [0.2222222222222222, \"#7201a8\"], [0.3333333333333333, \"#9c179e\"], [0.4444444444444444, \"#bd3786\"], [0.5555555555555556, \"#d8576b\"], [0.6666666666666666, \"#ed7953\"], [0.7777777777777778, \"#fb9f3a\"], [0.8888888888888888, \"#fdca26\"], [1.0, \"#f0f921\"]], \"type\": \"heatmapgl\"}], \"histogram\": [{\"marker\": {\"colorbar\": {\"outlinewidth\": 0, \"ticks\": \"\"}}, \"type\": \"histogram\"}], \"histogram2d\": [{\"colorbar\": {\"outlinewidth\": 0, \"ticks\": \"\"}, \"colorscale\": [[0.0, \"#0d0887\"], [0.1111111111111111, \"#46039f\"], [0.2222222222222222, \"#7201a8\"], [0.3333333333333333, \"#9c179e\"], [0.4444444444444444, \"#bd3786\"], [0.5555555555555556, \"#d8576b\"], [0.6666666666666666, \"#ed7953\"], [0.7777777777777778, \"#fb9f3a\"], [0.8888888888888888, \"#fdca26\"], [1.0, \"#f0f921\"]], \"type\": \"histogram2d\"}], \"histogram2dcontour\": [{\"colorbar\": {\"outlinewidth\": 0, \"ticks\": \"\"}, \"colorscale\": [[0.0, \"#0d0887\"], [0.1111111111111111, \"#46039f\"], [0.2222222222222222, \"#7201a8\"], [0.3333333333333333, \"#9c179e\"], [0.4444444444444444, \"#bd3786\"], [0.5555555555555556, \"#d8576b\"], [0.6666666666666666, \"#ed7953\"], [0.7777777777777778, \"#fb9f3a\"], [0.8888888888888888, \"#fdca26\"], [1.0, \"#f0f921\"]], \"type\": \"histogram2dcontour\"}], \"mesh3d\": [{\"colorbar\": {\"outlinewidth\": 0, \"ticks\": \"\"}, \"type\": \"mesh3d\"}], \"parcoords\": [{\"line\": {\"colorbar\": {\"outlinewidth\": 0, \"ticks\": \"\"}}, \"type\": \"parcoords\"}], \"pie\": [{\"automargin\": true, \"type\": \"pie\"}], \"scatter\": [{\"marker\": {\"line\": {\"color\": \"#283442\"}}, \"type\": \"scatter\"}], \"scatter3d\": [{\"line\": {\"colorbar\": {\"outlinewidth\": 0, \"ticks\": \"\"}}, \"marker\": {\"colorbar\": {\"outlinewidth\": 0, \"ticks\": \"\"}}, \"type\": \"scatter3d\"}], \"scattercarpet\": [{\"marker\": {\"colorbar\": {\"outlinewidth\": 0, \"ticks\": \"\"}}, \"type\": \"scattercarpet\"}], \"scattergeo\": [{\"marker\": {\"colorbar\": {\"outlinewidth\": 0, \"ticks\": \"\"}}, \"type\": \"scattergeo\"}], \"scattergl\": [{\"marker\": {\"line\": {\"color\": \"#283442\"}}, \"type\": \"scattergl\"}], \"scattermapbox\": [{\"marker\": {\"colorbar\": {\"outlinewidth\": 0, \"ticks\": \"\"}}, \"type\": \"scattermapbox\"}], \"scatterpolar\": [{\"marker\": {\"colorbar\": {\"outlinewidth\": 0, \"ticks\": \"\"}}, \"type\": \"scatterpolar\"}], \"scatterpolargl\": [{\"marker\": {\"colorbar\": {\"outlinewidth\": 0, \"ticks\": \"\"}}, \"type\": \"scatterpolargl\"}], \"scatterternary\": [{\"marker\": {\"colorbar\": {\"outlinewidth\": 0, \"ticks\": \"\"}}, \"type\": \"scatterternary\"}], \"surface\": [{\"colorbar\": {\"outlinewidth\": 0, \"ticks\": \"\"}, \"colorscale\": [[0.0, \"#0d0887\"], [0.1111111111111111, \"#46039f\"], [0.2222222222222222, \"#7201a8\"], [0.3333333333333333, \"#9c179e\"], [0.4444444444444444, \"#bd3786\"], [0.5555555555555556, \"#d8576b\"], [0.6666666666666666, \"#ed7953\"], [0.7777777777777778, \"#fb9f3a\"], [0.8888888888888888, \"#fdca26\"], [1.0, \"#f0f921\"]], \"type\": \"surface\"}], \"table\": [{\"cells\": {\"fill\": {\"color\": \"#506784\"}, \"line\": {\"color\": \"rgb(17,17,17)\"}}, \"header\": {\"fill\": {\"color\": \"#2a3f5f\"}, \"line\": {\"color\": \"rgb(17,17,17)\"}}, \"type\": \"table\"}]}, \"layout\": {\"annotationdefaults\": {\"arrowcolor\": \"#f2f5fa\", \"arrowhead\": 0, \"arrowwidth\": 1}, \"autotypenumbers\": \"strict\", \"coloraxis\": {\"colorbar\": {\"outlinewidth\": 0, \"ticks\": \"\"}}, \"colorscale\": {\"diverging\": [[0, \"#8e0152\"], [0.1, \"#c51b7d\"], [0.2, \"#de77ae\"], [0.3, \"#f1b6da\"], [0.4, \"#fde0ef\"], [0.5, \"#f7f7f7\"], [0.6, \"#e6f5d0\"], [0.7, \"#b8e186\"], [0.8, \"#7fbc41\"], [0.9, \"#4d9221\"], [1, \"#276419\"]], \"sequential\": [[0.0, \"#0d0887\"], [0.1111111111111111, \"#46039f\"], [0.2222222222222222, \"#7201a8\"], [0.3333333333333333, \"#9c179e\"], [0.4444444444444444, \"#bd3786\"], [0.5555555555555556, \"#d8576b\"], [0.6666666666666666, \"#ed7953\"], [0.7777777777777778, \"#fb9f3a\"], [0.8888888888888888, \"#fdca26\"], [1.0, \"#f0f921\"]], \"sequentialminus\": [[0.0, \"#0d0887\"], [0.1111111111111111, \"#46039f\"], [0.2222222222222222, \"#7201a8\"], [0.3333333333333333, \"#9c179e\"], [0.4444444444444444, \"#bd3786\"], [0.5555555555555556, \"#d8576b\"], [0.6666666666666666, \"#ed7953\"], [0.7777777777777778, \"#fb9f3a\"], [0.8888888888888888, \"#fdca26\"], [1.0, \"#f0f921\"]]}, \"colorway\": [\"#636efa\", \"#EF553B\", \"#00cc96\", \"#ab63fa\", \"#FFA15A\", \"#19d3f3\", \"#FF6692\", \"#B6E880\", \"#FF97FF\", \"#FECB52\"], \"font\": {\"color\": \"#f2f5fa\"}, \"geo\": {\"bgcolor\": \"rgb(17,17,17)\", \"lakecolor\": \"rgb(17,17,17)\", \"landcolor\": \"rgb(17,17,17)\", \"showlakes\": true, \"showland\": true, \"subunitcolor\": \"#506784\"}, \"hoverlabel\": {\"align\": \"left\"}, \"hovermode\": \"closest\", \"mapbox\": {\"style\": \"dark\"}, \"paper_bgcolor\": \"rgb(17,17,17)\", \"plot_bgcolor\": \"rgb(17,17,17)\", \"polar\": {\"angularaxis\": {\"gridcolor\": \"#506784\", \"linecolor\": \"#506784\", \"ticks\": \"\"}, \"bgcolor\": \"rgb(17,17,17)\", \"radialaxis\": {\"gridcolor\": \"#506784\", \"linecolor\": \"#506784\", \"ticks\": \"\"}}, \"scene\": {\"xaxis\": {\"backgroundcolor\": \"rgb(17,17,17)\", \"gridcolor\": \"#506784\", \"gridwidth\": 2, \"linecolor\": \"#506784\", \"showbackground\": true, \"ticks\": \"\", \"zerolinecolor\": \"#C8D4E3\"}, \"yaxis\": {\"backgroundcolor\": \"rgb(17,17,17)\", \"gridcolor\": \"#506784\", \"gridwidth\": 2, \"linecolor\": \"#506784\", \"showbackground\": true, \"ticks\": \"\", \"zerolinecolor\": \"#C8D4E3\"}, \"zaxis\": {\"backgroundcolor\": \"rgb(17,17,17)\", \"gridcolor\": \"#506784\", \"gridwidth\": 2, \"linecolor\": \"#506784\", \"showbackground\": true, \"ticks\": \"\", \"zerolinecolor\": \"#C8D4E3\"}}, \"shapedefaults\": {\"line\": {\"color\": \"#f2f5fa\"}}, \"sliderdefaults\": {\"bgcolor\": \"#C8D4E3\", \"bordercolor\": \"rgb(17,17,17)\", \"borderwidth\": 1, \"tickwidth\": 0}, \"ternary\": {\"aaxis\": {\"gridcolor\": \"#506784\", \"linecolor\": \"#506784\", \"ticks\": \"\"}, \"baxis\": {\"gridcolor\": \"#506784\", \"linecolor\": \"#506784\", \"ticks\": \"\"}, \"bgcolor\": \"rgb(17,17,17)\", \"caxis\": {\"gridcolor\": \"#506784\", \"linecolor\": \"#506784\", \"ticks\": \"\"}}, \"title\": {\"x\": 0.05}, \"updatemenudefaults\": {\"bgcolor\": \"#506784\", \"borderwidth\": 0}, \"xaxis\": {\"automargin\": true, \"gridcolor\": \"#283442\", \"linecolor\": \"#506784\", \"ticks\": \"\", \"title\": {\"standoff\": 15}, \"zerolinecolor\": \"#283442\", \"zerolinewidth\": 2}, \"yaxis\": {\"automargin\": true, \"gridcolor\": \"#283442\", \"linecolor\": \"#506784\", \"ticks\": \"\", \"title\": {\"standoff\": 15}, \"zerolinecolor\": \"#283442\", \"zerolinewidth\": 2}}}, \"title\": {\"text\": \"\\u0394P vs Alkalinity\"}, \"xaxis\": {\"anchor\": \"y\", \"domain\": [0.0, 0.7363], \"title\": {\"text\": \"\\u0394P\"}}, \"xaxis2\": {\"anchor\": \"y2\", \"domain\": [0.7413, 1.0], \"matches\": \"x2\", \"showgrid\": true, \"showline\": false, \"showticklabels\": false, \"ticks\": \"\"}, \"xaxis3\": {\"anchor\": \"y3\", \"domain\": [0.0, 0.7363], \"matches\": \"x\", \"showgrid\": true, \"showticklabels\": false}, \"xaxis4\": {\"anchor\": \"y4\", \"domain\": [0.7413, 1.0], \"matches\": \"x2\", \"showgrid\": true, \"showline\": false, \"showticklabels\": false, \"ticks\": \"\"}, \"yaxis\": {\"anchor\": \"x\", \"domain\": [0.0, 0.7326], \"title\": {\"text\": \"Probability\"}}, \"yaxis2\": {\"anchor\": \"x2\", \"domain\": [0.0, 0.7326], \"matches\": \"y\", \"showgrid\": true, \"showticklabels\": false}, \"yaxis3\": {\"anchor\": \"x3\", \"domain\": [0.7426, 1.0], \"matches\": \"y3\", \"showgrid\": true, \"showline\": false, \"showticklabels\": false, \"ticks\": \"\"}, \"yaxis4\": {\"anchor\": \"x4\", \"domain\": [0.7426, 1.0], \"matches\": \"y3\", \"showgrid\": true, \"showline\": false, \"showticklabels\": false, \"ticks\": \"\"}},                        {\"responsive\": true}                    ).then(function(){\n",
       "                            \n",
       "var gd = document.getElementById('a2aa4efe-3e8c-4653-a434-4173a7b86ff7');\n",
       "var x = new MutationObserver(function (mutations, observer) {{\n",
       "        var display = window.getComputedStyle(gd).display;\n",
       "        if (!display || display === 'none') {{\n",
       "            console.log([gd, 'removed!']);\n",
       "            Plotly.purge(gd);\n",
       "            observer.disconnect();\n",
       "        }}\n",
       "}});\n",
       "\n",
       "// Listen for the removal of the full notebook cells\n",
       "var notebookContainer = gd.closest('#notebook-container');\n",
       "if (notebookContainer) {{\n",
       "    x.observe(notebookContainer, {childList: true});\n",
       "}}\n",
       "\n",
       "// Listen for the clearing of the current output cell\n",
       "var outputEl = gd.closest('.output');\n",
       "if (outputEl) {{\n",
       "    x.observe(outputEl, {childList: true});\n",
       "}}\n",
       "\n",
       "                        })                };                });            </script>        </div>"
      ]
     },
     "metadata": {},
     "output_type": "display_data"
    }
   ],
   "source": [
    "fig = px.scatter(df_Un, x=\"delta_P\", y=\"Probability\",  template= \"plotly_dark\", labels={\"delta_P\": \"ΔP\",  \"Pressure_kbar\": \"Experimental Pressure\"}, marginal_x=\"histogram\", marginal_y=\"histogram\", color='alk',color_continuous_scale=px.colors.sequential.deep, title=\"ΔP vs Alkalinity\")\n",
    "fig.show()"
   ]
  },
  {
   "cell_type": "code",
   "execution_count": 36,
   "metadata": {},
   "outputs": [
    {
     "name": "stderr",
     "output_type": "stream",
     "text": [
      "<ipython-input-36-b7e276b2ab64>:1: SettingWithCopyWarning:\n",
      "\n",
      "\n",
      "A value is trying to be set on a copy of a slice from a DataFrame.\n",
      "Try using .loc[row_indexer,col_indexer] = value instead\n",
      "\n",
      "See the caveats in the documentation: https://pandas.pydata.org/pandas-docs/stable/user_guide/indexing.html#returning-a-view-versus-a-copy\n",
      "\n"
     ]
    }
   ],
   "source": [
    "df_Un['delta_P2'] = df_Un['KB08']-df_Un['Pressure_kbar']"
   ]
  },
  {
   "cell_type": "code",
   "execution_count": 62,
   "metadata": {},
   "outputs": [
    {
     "data": {
      "application/vnd.plotly.v1+json": {
       "config": {
        "plotlyServerURL": "https://plot.ly"
       },
       "data": [
        {
         "hovertemplate": "delta_P2=%{x}<br>Probability=%{y}<br>alk=%{marker.color}<extra></extra>",
         "legendgroup": "",
         "marker": {
          "color": [
           3.61,
           3.42,
           3.58,
           3.37,
           3.36,
           3.57,
           3.25,
           3.71,
           3.76,
           2.44,
           2.35,
           2.42,
           3.28,
           2.69,
           3.66,
           3.48,
           3.97,
           3.35,
           3.44,
           3.15,
           3.72,
           3.46,
           3.93,
           3.07,
           3.06,
           3.32,
           3.19,
           2.69,
           2.76,
           2.83,
           3.69,
           3.7,
           3,
           2.83,
           3.45,
           3.95,
           4,
           3.25,
           3.28,
           3.19,
           2.92,
           3.22,
           3.45,
           3.45,
           1.49,
           1.63,
           1.84,
           1.61,
           3.12,
           3.07,
           3.1,
           3.37,
           3.26,
           3.47,
           3.25,
           3.4,
           2.57,
           2.81,
           2.73,
           2.75,
           2.74,
           3.22,
           3.27,
           3.41,
           3.42,
           2.49,
           2.52,
           3.04,
           3.04,
           3.01,
           3.16,
           2.82,
           3.08,
           3.15,
           3.09,
           2.82,
           2.9,
           3.12,
           3.22,
           3.07,
           3.32,
           3.33,
           3.47,
           3.67,
           3.46,
           3.85,
           4.4,
           4.37,
           3.27,
           3.7,
           4.27,
           4.38,
           3.67,
           4.09,
           4.4,
           3.95,
           4.17,
           4.89,
           3.18,
           3.18,
           3.46,
           3.86,
           4.04,
           4.57,
           3.63,
           3.35,
           3.41,
           3.83,
           3.89,
           4.01,
           3.27,
           2.62,
           3.69,
           2.64,
           2.76,
           3.6,
           2.54,
           2.68,
           3.91,
           3.36,
           3.97,
           3.44,
           3.03,
           3.21,
           3.11,
           3.7,
           3.36,
           3.34,
           3.8,
           3.65,
           3.4,
           3.17,
           2.54,
           3.24,
           2.92,
           3.85,
           3.55,
           2.88,
           2.85,
           3.67,
           3.47,
           3.24,
           2.87,
           3.81,
           3.57,
           3.4,
           3.71,
           3.45,
           3.55,
           3.36,
           1.79,
           1.97,
           2.19,
           2.5,
           2.08,
           2.11,
           1.9,
           2.04,
           2.07,
           2.73,
           2.78,
           2.58,
           2.74,
           2.86,
           2.52,
           2.55,
           2.36,
           2.65,
           2.6,
           2.44,
           2.12,
           2.56,
           2.78,
           2.41,
           2.35,
           2.23,
           1.94,
           2.24,
           2.29,
           2.21,
           2.3,
           2.29,
           2.31,
           2.39,
           2.45,
           2.26,
           2.38,
           2.44,
           2.39,
           2.57,
           1.01,
           1.44,
           1.67,
           6.21,
           5.52,
           4.21,
           4.58,
           2.12,
           1.6,
           1.57,
           1.56,
           1.39,
           1.63,
           2.06,
           1.94,
           1.7,
           1.65,
           2.23,
           2.1,
           2.17,
           2.59,
           2.07,
           2.29,
           2.64,
           3.02,
           2.09,
           2.71,
           2.99,
           2.46,
           6.1,
           7.52,
           7.33,
           8.94,
           5.88,
           6.83,
           7.84,
           6.41,
           4.06,
           6.69,
           3.62,
           5.68,
           6.21,
           5.58,
           6.09,
           6.66,
           6.88,
           5.52,
           6.16,
           6.91,
           6.81,
           5.73,
           6.2,
           6.59,
           4.18,
           4.29,
           3.96,
           4.79,
           5.65,
           4.27,
           5,
           7.58,
           3.8,
           3.8,
           3.83
          ],
          "coloraxis": "coloraxis",
          "symbol": "circle"
         },
         "mode": "markers",
         "name": "",
         "orientation": "v",
         "showlegend": false,
         "type": "scatter",
         "x": [
          3.4935,
          0.77,
          1.1305,
          1.4805000000000001,
          2.4772999999999996,
          2.9867,
          0.21610000000000085,
          -0.15829999999999966,
          -0.6871999999999998,
          -2.8832000000000004,
          -1.0429000000000004,
          1.0436999999999994,
          -3.1844,
          -0.7731000000000003,
          0.6868999999999996,
          1.4815000000000005,
          1.5976,
          -10.2989,
          0.8247,
          1.0613000000000001,
          -0.0919,
          2.3332,
          -0.6313,
          -0.5411999999999999,
          -0.9424999999999999,
          0.8638999999999992,
          -8.2153,
          1.9857,
          2.2680000000000002,
          0.6569,
          1.0315,
          3.0134000000000003,
          1.2632,
          1.5924,
          1.9206,
          1.5501,
          1.3147000000000002,
          2.2289000000000003,
          3.612,
          1.0982,
          1.8511000000000002,
          2.4426,
          3.678,
          -0.7288,
          0.3377,
          0.2907,
          -1.4494999999999998,
          1.8030000000000002,
          0.2457,
          0.5797,
          1.3265,
          3.2470000000000003,
          1.2179000000000002,
          0.5479,
          1.1825,
          1.6588,
          1.3857,
          1.7037999999999998,
          3.7535000000000003,
          4.569599999999999,
          4.3214999999999995,
          4.9079,
          3.7848,
          4.0665,
          2.0653,
          1.9664000000000001,
          3.7969,
          5.326899999999999,
          4.2673,
          5.8900999999999994,
          7.7448999999999995,
          9.259300000000001,
          9.9076,
          10.986600000000001,
          10.152600000000001,
          5.754899999999999,
          6.0516,
          5.856199999999999,
          6.076499999999999,
          3.9981,
          1.0072,
          3.0723000000000003,
          -1.2319,
          -1.2371999999999999,
          14.633599999999998,
          12.104399999999998,
          18.843999999999998,
          -0.5020000000000007,
          1.3637000000000006,
          3.5218999999999996,
          5.7808,
          -1.6846999999999994,
          2.8119000000000005,
          3.2817,
          0.0821000000000005,
          2.7008,
          1.9465000000000003,
          -1.1049999999999998,
          4.037599999999999,
          0.7357000000000005,
          6.8679,
          5.3366,
          2.9922000000000004,
          -5.0923,
          -2.8944,
          -2.6654999999999998,
          -1.2414999999999998,
          -1.8613,
          4.3508,
          -1.2401999999999997,
          1.3420999999999998,
          8.571000000000002,
          0.891,
          -0.2630999999999999,
          8.267800000000001,
          2.0449,
          6.4254,
          0.2716000000000003,
          2.1638,
          5.662599999999999,
          2.8005999999999998,
          0.2597999999999998,
          7.2371,
          2.792,
          11.4234,
          -0.11660000000000004,
          12.4966,
          5.707000000000001,
          5.794499999999999,
          4.1587000000000005,
          3.9791,
          1.2428,
          7.1400999999999994,
          2.9286000000000003,
          11.8374,
          8.305200000000001,
          6.1381,
          4.6991,
          1.7806000000000006,
          2.8355,
          0.7965,
          1.0081999999999998,
          7.0786999999999995,
          8.7476,
          3.5090000000000003,
          9.1878,
          7.8862000000000005,
          3.2136,
          7.1614,
          2.1408000000000005,
          5.0992999999999995,
          4.9029,
          7.3124,
          6.134399999999999,
          6.8072,
          -0.4100999999999999,
          0.6951999999999998,
          5.0062999999999995,
          4.9099,
          6.3283000000000005,
          1.3795000000000002,
          3.1506999999999996,
          4.1109,
          -1.0722,
          1.9632999999999998,
          1.3757000000000001,
          -3.6198,
          0.529,
          -0.7634,
          2.0147,
          -1.4398,
          -0.9883,
          -0.9318,
          0.418,
          -1.2083,
          -2.6193999999999997,
          -1.0506,
          -1.0811,
          1.1881000000000002,
          2.0138000000000003,
          -0.0878,
          1.7598,
          1.3920000000000001,
          2.2906,
          0.6487,
          -0.7936,
          0.6488,
          2.3497,
          16.4366,
          -10.6643,
          -0.7124,
          0.1087,
          -5.9337,
          5.7242,
          7.1978,
          -2.4748,
          1.7362000000000002,
          -0.2097,
          0.8965,
          0.867,
          1.2171,
          -0.6673,
          -0.3288,
          -1.1232,
          -0.9523,
          0.1495,
          -0.1882,
          -3.2889,
          -1.0971,
          -0.939,
          -1.7928,
          -1.4708999999999999,
          -2.4773,
          -2.3032,
          -1.0117999999999998,
          -2.049,
          -1.0335999999999999,
          0.2646,
          -14.0099,
          4.1632,
          5.369199999999999,
          3.6206,
          0.5585,
          9.374600000000001,
          4.7139,
          3.5373,
          -2.1447,
          0.6954,
          8.39,
          12.0265,
          24.360599999999998,
          8.8733,
          12.9063,
          36.6728,
          -4.3119,
          -2.2748,
          7.1978,
          -0.9765,
          35.8654,
          0.8553,
          0.713,
          0.7992,
          -1.2,
          4.9634,
          2.4564,
          5.2520999999999995,
          2.3622,
          -4.7268,
          6.164300000000001,
          -2.9101,
          4.712599999999999,
          11.7104,
          10.5115,
          -0.001
         ],
         "xaxis": "x",
         "y": [
          0.8209372194811392,
          0.896354299398174,
          0.9665851031253295,
          0.9854308975217188,
          0.9869869700434856,
          0.703742618478878,
          0.959800304548087,
          0.9074989309794503,
          0.9508294990973474,
          0.9738326202648905,
          0.8353230198382104,
          0.9723138655521862,
          0.8366132836713415,
          0.6104001528149074,
          0.1756487267342578,
          0.956555199227138,
          0.9051337712913186,
          0.9722657778003455,
          0.9404159563243957,
          0.9644558553425885,
          0.7974040217801179,
          0.5304614332891675,
          0.9457028007851369,
          0.8786893438270998,
          0.719597231623585,
          0.6032815197825163,
          0.9548717473396539,
          0.9833385854994126,
          0.9945019667859394,
          0.9137037817344903,
          0.9346535569120309,
          0.9877590233676162,
          0.9597884208450668,
          0.9896492720804259,
          0.9685439448668752,
          0.9676145185130273,
          0.8383923251397513,
          0.924751122420079,
          0.889011058925085,
          0.8828822137056273,
          0.9958775693359069,
          0.9916214757764308,
          0.9852375041761754,
          0.9171902424689333,
          0.908424285406523,
          0.8623954557407918,
          0.982952000506152,
          0.8128778825206385,
          0.7976032762575175,
          0.8001294215240162,
          0.6766857512658218,
          0.7476855763504415,
          0.756366513864398,
          0.7004612403330415,
          0.475187744403999,
          0.6214620831262687,
          8.226849595160957e-05,
          0,
          0.9678092446616063,
          0.9450848384614687,
          0.8251706376977097,
          0.8681632246041231,
          0.883543471570022,
          0.5348095313615587,
          0.5704808879021053,
          0.9994643136422503,
          0.8613899781752191,
          0.9815135947230735,
          0.6322708886122894,
          0.9601374634998799,
          0.8887360689469619,
          0.960005154690388,
          0.9114161135009525,
          0.785331534222599,
          0.9437011199066249,
          0.9742224979232014,
          0.9387538462781208,
          0.9101723709683076,
          0.9344759692200637,
          0.9480580377246914,
          0,
          1.553202011450594e-12,
          0,
          1.583096668555939e-05,
          0.01967097714420596,
          0.7196440055160507,
          0.5525976759820084,
          0.09539071888602058,
          0.5959012013282728,
          0.8436220126875862,
          0.6212914267916915,
          0.06562182027576025,
          0.6020676955808661,
          0.2932811493401719,
          0.11992693810343469,
          0.6239863634221268,
          0.4833260090752617,
          0.28633710102625787,
          0.840536067522814,
          0.002792221873888945,
          4.599033814312037e-05,
          1.249532672886744e-07,
          5.551115123125783e-16,
          0,
          3.4074965071795305e-12,
          3.2027713814386516e-12,
          6.643775529724394e-10,
          0,
          0,
          0,
          0.039903612789979004,
          0.1127742407151523,
          0.10060594031501147,
          0.39831286928901644,
          0.39566352600062193,
          0.4981570607517196,
          0.27165093153247166,
          0.16934801245273567,
          0.10280144748034803,
          0.13606675656955391,
          0.9983600559496042,
          0.029298553900966806,
          0.141591845601593,
          0.0013257955526678744,
          0.2102529453318549,
          0.21131840513512312,
          0.11382428390704269,
          0.34126488142741485,
          8.544753793415794e-11,
          0.006103132425780866,
          0.003079242815688832,
          0.000696161195275824,
          3.938852274953941e-05,
          1.4541068693585402e-07,
          0.0006011446034602796,
          2.1266455263457829e-10,
          2.241781530121223e-05,
          0.0010532428215216383,
          0.0005624370263656031,
          0.0008317642039685769,
          2.7061192864774597e-05,
          3.19882488242218e-06,
          0.001634395400391675,
          2.668936738281502e-09,
          2.693344439608225e-05,
          1.0332512623278944e-11,
          5.69934868632771e-07,
          0.00571790139120576,
          0,
          7.61296981011128e-09,
          0.21514428530683383,
          0.18738051754810325,
          0.052237171361213086,
          0.0894975973921025,
          0.3269752003765547,
          0.3746945562996389,
          0.43202820561812116,
          0.9992940180551476,
          0.9815420654144593,
          0.3706769767651269,
          0.27048934946532166,
          0.33844619725626823,
          0.4534338513120204,
          0.9760405774423395,
          0.3397354969045896,
          0.310153856800521,
          0.277842883432982,
          0.6952176286249032,
          0.8561907466118521,
          0.8335063539737729,
          0.6193173035887105,
          0.69734944357936,
          0.7556570062157393,
          0.6181153413926044,
          0.8248418275560765,
          0.6674124489959928,
          0.6773344943866653,
          0.8409921115772019,
          0.9552499680919331,
          0.1700095759585839,
          0.19953138893800593,
          0.848881707411733,
          0.26627231592332934,
          0.4726053252799043,
          0.2461078006819145,
          0.6713223806075337,
          0.8942092107003409,
          0.1521971157345524,
          0.054510291776924236,
          0.09186259199724345,
          0.9881567969871916,
          0.9975095070063648,
          0.8325324045437645,
          0.20471851155263554,
          0.3909786654345214,
          0.778798940863053,
          0.8442420104278501,
          0.6929678894153439,
          0.8682444644290148,
          0.9586014798375162,
          0.7715787007325965,
          0.6976367888417212,
          0.7646833033672861,
          0.6501786717282558,
          0.9933481516358599,
          0.9689261664747582,
          0.7093979781843858,
          0.9834560015880214,
          0.9882428469942937,
          0.9503269227015372,
          0.7460011526000017,
          0.9647566343119921,
          0.5905184796213864,
          0.967698362575021,
          0.8676842323317498,
          0.1899968518304762,
          0.8996536539029529,
          0.8717718457314045,
          0.949983569234108,
          0.02276562541036209,
          0.0050748570502500145,
          0.6065219584205996,
          0.5657787023829861,
          0.31543813355626604,
          0.1956337553334464,
          0.00023565044358164755,
          0.5198497617929704,
          0.634372418942349,
          0.22348593816444762,
          0.3092776056208606,
          0.7474177609685559,
          0.20471851155263554,
          0.6832629138374839,
          0.2163445402159565,
          0.09977072997051573,
          0.025174347486988546,
          0.3909786654345214,
          0.7337706337231589,
          0.0012116106246616853,
          0.09409469137355286,
          0.7155464042413353,
          0.44628650921738033,
          0.11687232815907,
          0.9425206138785955,
          0.6982566601820227,
          0.9864409968276755,
          0.9066330227148516,
          0.49112913498908484,
          0.9834689295230287,
          0.9748591304885881,
          0.27264637112977463,
          0.07836989473891098,
          0.09071594083162149,
          0.1895716557308974
         ],
         "yaxis": "y"
        },
        {
         "alignmentgroup": "True",
         "bingroup": "x",
         "hovertemplate": "delta_P2=%{x}<br>count=%{y}<extra></extra>",
         "legendgroup": "",
         "marker": {
          "color": "rgb(253, 253, 204)"
         },
         "name": "",
         "offsetgroup": "",
         "opacity": 0.5,
         "showlegend": false,
         "type": "histogram",
         "x": [
          3.4935,
          0.77,
          1.1305,
          1.4805000000000001,
          2.4772999999999996,
          2.9867,
          0.21610000000000085,
          -0.15829999999999966,
          -0.6871999999999998,
          -2.8832000000000004,
          -1.0429000000000004,
          1.0436999999999994,
          -3.1844,
          -0.7731000000000003,
          0.6868999999999996,
          1.4815000000000005,
          1.5976,
          -10.2989,
          0.8247,
          1.0613000000000001,
          -0.0919,
          2.3332,
          -0.6313,
          -0.5411999999999999,
          -0.9424999999999999,
          0.8638999999999992,
          -8.2153,
          1.9857,
          2.2680000000000002,
          0.6569,
          1.0315,
          3.0134000000000003,
          1.2632,
          1.5924,
          1.9206,
          1.5501,
          1.3147000000000002,
          2.2289000000000003,
          3.612,
          1.0982,
          1.8511000000000002,
          2.4426,
          3.678,
          -0.7288,
          0.3377,
          0.2907,
          -1.4494999999999998,
          1.8030000000000002,
          0.2457,
          0.5797,
          1.3265,
          3.2470000000000003,
          1.2179000000000002,
          0.5479,
          1.1825,
          1.6588,
          1.3857,
          1.7037999999999998,
          3.7535000000000003,
          4.569599999999999,
          4.3214999999999995,
          4.9079,
          3.7848,
          4.0665,
          2.0653,
          1.9664000000000001,
          3.7969,
          5.326899999999999,
          4.2673,
          5.8900999999999994,
          7.7448999999999995,
          9.259300000000001,
          9.9076,
          10.986600000000001,
          10.152600000000001,
          5.754899999999999,
          6.0516,
          5.856199999999999,
          6.076499999999999,
          3.9981,
          1.0072,
          3.0723000000000003,
          -1.2319,
          -1.2371999999999999,
          14.633599999999998,
          12.104399999999998,
          18.843999999999998,
          -0.5020000000000007,
          1.3637000000000006,
          3.5218999999999996,
          5.7808,
          -1.6846999999999994,
          2.8119000000000005,
          3.2817,
          0.0821000000000005,
          2.7008,
          1.9465000000000003,
          -1.1049999999999998,
          4.037599999999999,
          0.7357000000000005,
          6.8679,
          5.3366,
          2.9922000000000004,
          -5.0923,
          -2.8944,
          -2.6654999999999998,
          -1.2414999999999998,
          -1.8613,
          4.3508,
          -1.2401999999999997,
          1.3420999999999998,
          8.571000000000002,
          0.891,
          -0.2630999999999999,
          8.267800000000001,
          2.0449,
          6.4254,
          0.2716000000000003,
          2.1638,
          5.662599999999999,
          2.8005999999999998,
          0.2597999999999998,
          7.2371,
          2.792,
          11.4234,
          -0.11660000000000004,
          12.4966,
          5.707000000000001,
          5.794499999999999,
          4.1587000000000005,
          3.9791,
          1.2428,
          7.1400999999999994,
          2.9286000000000003,
          11.8374,
          8.305200000000001,
          6.1381,
          4.6991,
          1.7806000000000006,
          2.8355,
          0.7965,
          1.0081999999999998,
          7.0786999999999995,
          8.7476,
          3.5090000000000003,
          9.1878,
          7.8862000000000005,
          3.2136,
          7.1614,
          2.1408000000000005,
          5.0992999999999995,
          4.9029,
          7.3124,
          6.134399999999999,
          6.8072,
          -0.4100999999999999,
          0.6951999999999998,
          5.0062999999999995,
          4.9099,
          6.3283000000000005,
          1.3795000000000002,
          3.1506999999999996,
          4.1109,
          -1.0722,
          1.9632999999999998,
          1.3757000000000001,
          -3.6198,
          0.529,
          -0.7634,
          2.0147,
          -1.4398,
          -0.9883,
          -0.9318,
          0.418,
          -1.2083,
          -2.6193999999999997,
          -1.0506,
          -1.0811,
          1.1881000000000002,
          2.0138000000000003,
          -0.0878,
          1.7598,
          1.3920000000000001,
          2.2906,
          0.6487,
          -0.7936,
          0.6488,
          2.3497,
          16.4366,
          -10.6643,
          -0.7124,
          0.1087,
          -5.9337,
          5.7242,
          7.1978,
          -2.4748,
          1.7362000000000002,
          -0.2097,
          0.8965,
          0.867,
          1.2171,
          -0.6673,
          -0.3288,
          -1.1232,
          -0.9523,
          0.1495,
          -0.1882,
          -3.2889,
          -1.0971,
          -0.939,
          -1.7928,
          -1.4708999999999999,
          -2.4773,
          -2.3032,
          -1.0117999999999998,
          -2.049,
          -1.0335999999999999,
          0.2646,
          -14.0099,
          4.1632,
          5.369199999999999,
          3.6206,
          0.5585,
          9.374600000000001,
          4.7139,
          3.5373,
          -2.1447,
          0.6954,
          8.39,
          12.0265,
          24.360599999999998,
          8.8733,
          12.9063,
          36.6728,
          -4.3119,
          -2.2748,
          7.1978,
          -0.9765,
          35.8654,
          0.8553,
          0.713,
          0.7992,
          -1.2,
          4.9634,
          2.4564,
          5.2520999999999995,
          2.3622,
          -4.7268,
          6.164300000000001,
          -2.9101,
          4.712599999999999,
          11.7104,
          10.5115,
          -0.001
         ],
         "xaxis": "x3",
         "yaxis": "y3"
        },
        {
         "alignmentgroup": "True",
         "bingroup": "y",
         "hovertemplate": "Probability=%{y}<br>count=%{x}<extra></extra>",
         "legendgroup": "",
         "marker": {
          "color": "rgb(253, 253, 204)"
         },
         "name": "",
         "offsetgroup": "",
         "opacity": 0.5,
         "showlegend": false,
         "type": "histogram",
         "xaxis": "x2",
         "y": [
          0.8209372194811392,
          0.896354299398174,
          0.9665851031253295,
          0.9854308975217188,
          0.9869869700434856,
          0.703742618478878,
          0.959800304548087,
          0.9074989309794503,
          0.9508294990973474,
          0.9738326202648905,
          0.8353230198382104,
          0.9723138655521862,
          0.8366132836713415,
          0.6104001528149074,
          0.1756487267342578,
          0.956555199227138,
          0.9051337712913186,
          0.9722657778003455,
          0.9404159563243957,
          0.9644558553425885,
          0.7974040217801179,
          0.5304614332891675,
          0.9457028007851369,
          0.8786893438270998,
          0.719597231623585,
          0.6032815197825163,
          0.9548717473396539,
          0.9833385854994126,
          0.9945019667859394,
          0.9137037817344903,
          0.9346535569120309,
          0.9877590233676162,
          0.9597884208450668,
          0.9896492720804259,
          0.9685439448668752,
          0.9676145185130273,
          0.8383923251397513,
          0.924751122420079,
          0.889011058925085,
          0.8828822137056273,
          0.9958775693359069,
          0.9916214757764308,
          0.9852375041761754,
          0.9171902424689333,
          0.908424285406523,
          0.8623954557407918,
          0.982952000506152,
          0.8128778825206385,
          0.7976032762575175,
          0.8001294215240162,
          0.6766857512658218,
          0.7476855763504415,
          0.756366513864398,
          0.7004612403330415,
          0.475187744403999,
          0.6214620831262687,
          8.226849595160957e-05,
          0,
          0.9678092446616063,
          0.9450848384614687,
          0.8251706376977097,
          0.8681632246041231,
          0.883543471570022,
          0.5348095313615587,
          0.5704808879021053,
          0.9994643136422503,
          0.8613899781752191,
          0.9815135947230735,
          0.6322708886122894,
          0.9601374634998799,
          0.8887360689469619,
          0.960005154690388,
          0.9114161135009525,
          0.785331534222599,
          0.9437011199066249,
          0.9742224979232014,
          0.9387538462781208,
          0.9101723709683076,
          0.9344759692200637,
          0.9480580377246914,
          0,
          1.553202011450594e-12,
          0,
          1.583096668555939e-05,
          0.01967097714420596,
          0.7196440055160507,
          0.5525976759820084,
          0.09539071888602058,
          0.5959012013282728,
          0.8436220126875862,
          0.6212914267916915,
          0.06562182027576025,
          0.6020676955808661,
          0.2932811493401719,
          0.11992693810343469,
          0.6239863634221268,
          0.4833260090752617,
          0.28633710102625787,
          0.840536067522814,
          0.002792221873888945,
          4.599033814312037e-05,
          1.249532672886744e-07,
          5.551115123125783e-16,
          0,
          3.4074965071795305e-12,
          3.2027713814386516e-12,
          6.643775529724394e-10,
          0,
          0,
          0,
          0.039903612789979004,
          0.1127742407151523,
          0.10060594031501147,
          0.39831286928901644,
          0.39566352600062193,
          0.4981570607517196,
          0.27165093153247166,
          0.16934801245273567,
          0.10280144748034803,
          0.13606675656955391,
          0.9983600559496042,
          0.029298553900966806,
          0.141591845601593,
          0.0013257955526678744,
          0.2102529453318549,
          0.21131840513512312,
          0.11382428390704269,
          0.34126488142741485,
          8.544753793415794e-11,
          0.006103132425780866,
          0.003079242815688832,
          0.000696161195275824,
          3.938852274953941e-05,
          1.4541068693585402e-07,
          0.0006011446034602796,
          2.1266455263457829e-10,
          2.241781530121223e-05,
          0.0010532428215216383,
          0.0005624370263656031,
          0.0008317642039685769,
          2.7061192864774597e-05,
          3.19882488242218e-06,
          0.001634395400391675,
          2.668936738281502e-09,
          2.693344439608225e-05,
          1.0332512623278944e-11,
          5.69934868632771e-07,
          0.00571790139120576,
          0,
          7.61296981011128e-09,
          0.21514428530683383,
          0.18738051754810325,
          0.052237171361213086,
          0.0894975973921025,
          0.3269752003765547,
          0.3746945562996389,
          0.43202820561812116,
          0.9992940180551476,
          0.9815420654144593,
          0.3706769767651269,
          0.27048934946532166,
          0.33844619725626823,
          0.4534338513120204,
          0.9760405774423395,
          0.3397354969045896,
          0.310153856800521,
          0.277842883432982,
          0.6952176286249032,
          0.8561907466118521,
          0.8335063539737729,
          0.6193173035887105,
          0.69734944357936,
          0.7556570062157393,
          0.6181153413926044,
          0.8248418275560765,
          0.6674124489959928,
          0.6773344943866653,
          0.8409921115772019,
          0.9552499680919331,
          0.1700095759585839,
          0.19953138893800593,
          0.848881707411733,
          0.26627231592332934,
          0.4726053252799043,
          0.2461078006819145,
          0.6713223806075337,
          0.8942092107003409,
          0.1521971157345524,
          0.054510291776924236,
          0.09186259199724345,
          0.9881567969871916,
          0.9975095070063648,
          0.8325324045437645,
          0.20471851155263554,
          0.3909786654345214,
          0.778798940863053,
          0.8442420104278501,
          0.6929678894153439,
          0.8682444644290148,
          0.9586014798375162,
          0.7715787007325965,
          0.6976367888417212,
          0.7646833033672861,
          0.6501786717282558,
          0.9933481516358599,
          0.9689261664747582,
          0.7093979781843858,
          0.9834560015880214,
          0.9882428469942937,
          0.9503269227015372,
          0.7460011526000017,
          0.9647566343119921,
          0.5905184796213864,
          0.967698362575021,
          0.8676842323317498,
          0.1899968518304762,
          0.8996536539029529,
          0.8717718457314045,
          0.949983569234108,
          0.02276562541036209,
          0.0050748570502500145,
          0.6065219584205996,
          0.5657787023829861,
          0.31543813355626604,
          0.1956337553334464,
          0.00023565044358164755,
          0.5198497617929704,
          0.634372418942349,
          0.22348593816444762,
          0.3092776056208606,
          0.7474177609685559,
          0.20471851155263554,
          0.6832629138374839,
          0.2163445402159565,
          0.09977072997051573,
          0.025174347486988546,
          0.3909786654345214,
          0.7337706337231589,
          0.0012116106246616853,
          0.09409469137355286,
          0.7155464042413353,
          0.44628650921738033,
          0.11687232815907,
          0.9425206138785955,
          0.6982566601820227,
          0.9864409968276755,
          0.9066330227148516,
          0.49112913498908484,
          0.9834689295230287,
          0.9748591304885881,
          0.27264637112977463,
          0.07836989473891098,
          0.09071594083162149,
          0.1895716557308974
         ],
         "yaxis": "y2"
        }
       ],
       "layout": {
        "barmode": "overlay",
        "coloraxis": {
         "colorbar": {
          "title": {
           "text": "alk"
          }
         },
         "colorscale": [
          [
           0,
           "rgb(253, 253, 204)"
          ],
          [
           0.09090909090909091,
           "rgb(206, 236, 179)"
          ],
          [
           0.18181818181818182,
           "rgb(156, 219, 165)"
          ],
          [
           0.2727272727272727,
           "rgb(111, 201, 163)"
          ],
          [
           0.36363636363636365,
           "rgb(86, 177, 163)"
          ],
          [
           0.45454545454545453,
           "rgb(76, 153, 160)"
          ],
          [
           0.5454545454545454,
           "rgb(68, 130, 155)"
          ],
          [
           0.6363636363636364,
           "rgb(62, 108, 150)"
          ],
          [
           0.7272727272727273,
           "rgb(62, 82, 143)"
          ],
          [
           0.8181818181818182,
           "rgb(64, 60, 115)"
          ],
          [
           0.9090909090909091,
           "rgb(54, 43, 77)"
          ],
          [
           1,
           "rgb(39, 26, 44)"
          ]
         ]
        },
        "legend": {
         "tracegroupgap": 0
        },
        "template": {
         "data": {
          "bar": [
           {
            "error_x": {
             "color": "#f2f5fa"
            },
            "error_y": {
             "color": "#f2f5fa"
            },
            "marker": {
             "line": {
              "color": "rgb(17,17,17)",
              "width": 0.5
             }
            },
            "type": "bar"
           }
          ],
          "barpolar": [
           {
            "marker": {
             "line": {
              "color": "rgb(17,17,17)",
              "width": 0.5
             }
            },
            "type": "barpolar"
           }
          ],
          "carpet": [
           {
            "aaxis": {
             "endlinecolor": "#A2B1C6",
             "gridcolor": "#506784",
             "linecolor": "#506784",
             "minorgridcolor": "#506784",
             "startlinecolor": "#A2B1C6"
            },
            "baxis": {
             "endlinecolor": "#A2B1C6",
             "gridcolor": "#506784",
             "linecolor": "#506784",
             "minorgridcolor": "#506784",
             "startlinecolor": "#A2B1C6"
            },
            "type": "carpet"
           }
          ],
          "choropleth": [
           {
            "colorbar": {
             "outlinewidth": 0,
             "ticks": ""
            },
            "type": "choropleth"
           }
          ],
          "contour": [
           {
            "colorbar": {
             "outlinewidth": 0,
             "ticks": ""
            },
            "colorscale": [
             [
              0,
              "#0d0887"
             ],
             [
              0.1111111111111111,
              "#46039f"
             ],
             [
              0.2222222222222222,
              "#7201a8"
             ],
             [
              0.3333333333333333,
              "#9c179e"
             ],
             [
              0.4444444444444444,
              "#bd3786"
             ],
             [
              0.5555555555555556,
              "#d8576b"
             ],
             [
              0.6666666666666666,
              "#ed7953"
             ],
             [
              0.7777777777777778,
              "#fb9f3a"
             ],
             [
              0.8888888888888888,
              "#fdca26"
             ],
             [
              1,
              "#f0f921"
             ]
            ],
            "type": "contour"
           }
          ],
          "contourcarpet": [
           {
            "colorbar": {
             "outlinewidth": 0,
             "ticks": ""
            },
            "type": "contourcarpet"
           }
          ],
          "heatmap": [
           {
            "colorbar": {
             "outlinewidth": 0,
             "ticks": ""
            },
            "colorscale": [
             [
              0,
              "#0d0887"
             ],
             [
              0.1111111111111111,
              "#46039f"
             ],
             [
              0.2222222222222222,
              "#7201a8"
             ],
             [
              0.3333333333333333,
              "#9c179e"
             ],
             [
              0.4444444444444444,
              "#bd3786"
             ],
             [
              0.5555555555555556,
              "#d8576b"
             ],
             [
              0.6666666666666666,
              "#ed7953"
             ],
             [
              0.7777777777777778,
              "#fb9f3a"
             ],
             [
              0.8888888888888888,
              "#fdca26"
             ],
             [
              1,
              "#f0f921"
             ]
            ],
            "type": "heatmap"
           }
          ],
          "heatmapgl": [
           {
            "colorbar": {
             "outlinewidth": 0,
             "ticks": ""
            },
            "colorscale": [
             [
              0,
              "#0d0887"
             ],
             [
              0.1111111111111111,
              "#46039f"
             ],
             [
              0.2222222222222222,
              "#7201a8"
             ],
             [
              0.3333333333333333,
              "#9c179e"
             ],
             [
              0.4444444444444444,
              "#bd3786"
             ],
             [
              0.5555555555555556,
              "#d8576b"
             ],
             [
              0.6666666666666666,
              "#ed7953"
             ],
             [
              0.7777777777777778,
              "#fb9f3a"
             ],
             [
              0.8888888888888888,
              "#fdca26"
             ],
             [
              1,
              "#f0f921"
             ]
            ],
            "type": "heatmapgl"
           }
          ],
          "histogram": [
           {
            "marker": {
             "colorbar": {
              "outlinewidth": 0,
              "ticks": ""
             }
            },
            "type": "histogram"
           }
          ],
          "histogram2d": [
           {
            "colorbar": {
             "outlinewidth": 0,
             "ticks": ""
            },
            "colorscale": [
             [
              0,
              "#0d0887"
             ],
             [
              0.1111111111111111,
              "#46039f"
             ],
             [
              0.2222222222222222,
              "#7201a8"
             ],
             [
              0.3333333333333333,
              "#9c179e"
             ],
             [
              0.4444444444444444,
              "#bd3786"
             ],
             [
              0.5555555555555556,
              "#d8576b"
             ],
             [
              0.6666666666666666,
              "#ed7953"
             ],
             [
              0.7777777777777778,
              "#fb9f3a"
             ],
             [
              0.8888888888888888,
              "#fdca26"
             ],
             [
              1,
              "#f0f921"
             ]
            ],
            "type": "histogram2d"
           }
          ],
          "histogram2dcontour": [
           {
            "colorbar": {
             "outlinewidth": 0,
             "ticks": ""
            },
            "colorscale": [
             [
              0,
              "#0d0887"
             ],
             [
              0.1111111111111111,
              "#46039f"
             ],
             [
              0.2222222222222222,
              "#7201a8"
             ],
             [
              0.3333333333333333,
              "#9c179e"
             ],
             [
              0.4444444444444444,
              "#bd3786"
             ],
             [
              0.5555555555555556,
              "#d8576b"
             ],
             [
              0.6666666666666666,
              "#ed7953"
             ],
             [
              0.7777777777777778,
              "#fb9f3a"
             ],
             [
              0.8888888888888888,
              "#fdca26"
             ],
             [
              1,
              "#f0f921"
             ]
            ],
            "type": "histogram2dcontour"
           }
          ],
          "mesh3d": [
           {
            "colorbar": {
             "outlinewidth": 0,
             "ticks": ""
            },
            "type": "mesh3d"
           }
          ],
          "parcoords": [
           {
            "line": {
             "colorbar": {
              "outlinewidth": 0,
              "ticks": ""
             }
            },
            "type": "parcoords"
           }
          ],
          "pie": [
           {
            "automargin": true,
            "type": "pie"
           }
          ],
          "scatter": [
           {
            "marker": {
             "line": {
              "color": "#283442"
             }
            },
            "type": "scatter"
           }
          ],
          "scatter3d": [
           {
            "line": {
             "colorbar": {
              "outlinewidth": 0,
              "ticks": ""
             }
            },
            "marker": {
             "colorbar": {
              "outlinewidth": 0,
              "ticks": ""
             }
            },
            "type": "scatter3d"
           }
          ],
          "scattercarpet": [
           {
            "marker": {
             "colorbar": {
              "outlinewidth": 0,
              "ticks": ""
             }
            },
            "type": "scattercarpet"
           }
          ],
          "scattergeo": [
           {
            "marker": {
             "colorbar": {
              "outlinewidth": 0,
              "ticks": ""
             }
            },
            "type": "scattergeo"
           }
          ],
          "scattergl": [
           {
            "marker": {
             "line": {
              "color": "#283442"
             }
            },
            "type": "scattergl"
           }
          ],
          "scattermapbox": [
           {
            "marker": {
             "colorbar": {
              "outlinewidth": 0,
              "ticks": ""
             }
            },
            "type": "scattermapbox"
           }
          ],
          "scatterpolar": [
           {
            "marker": {
             "colorbar": {
              "outlinewidth": 0,
              "ticks": ""
             }
            },
            "type": "scatterpolar"
           }
          ],
          "scatterpolargl": [
           {
            "marker": {
             "colorbar": {
              "outlinewidth": 0,
              "ticks": ""
             }
            },
            "type": "scatterpolargl"
           }
          ],
          "scatterternary": [
           {
            "marker": {
             "colorbar": {
              "outlinewidth": 0,
              "ticks": ""
             }
            },
            "type": "scatterternary"
           }
          ],
          "surface": [
           {
            "colorbar": {
             "outlinewidth": 0,
             "ticks": ""
            },
            "colorscale": [
             [
              0,
              "#0d0887"
             ],
             [
              0.1111111111111111,
              "#46039f"
             ],
             [
              0.2222222222222222,
              "#7201a8"
             ],
             [
              0.3333333333333333,
              "#9c179e"
             ],
             [
              0.4444444444444444,
              "#bd3786"
             ],
             [
              0.5555555555555556,
              "#d8576b"
             ],
             [
              0.6666666666666666,
              "#ed7953"
             ],
             [
              0.7777777777777778,
              "#fb9f3a"
             ],
             [
              0.8888888888888888,
              "#fdca26"
             ],
             [
              1,
              "#f0f921"
             ]
            ],
            "type": "surface"
           }
          ],
          "table": [
           {
            "cells": {
             "fill": {
              "color": "#506784"
             },
             "line": {
              "color": "rgb(17,17,17)"
             }
            },
            "header": {
             "fill": {
              "color": "#2a3f5f"
             },
             "line": {
              "color": "rgb(17,17,17)"
             }
            },
            "type": "table"
           }
          ]
         },
         "layout": {
          "annotationdefaults": {
           "arrowcolor": "#f2f5fa",
           "arrowhead": 0,
           "arrowwidth": 1
          },
          "autotypenumbers": "strict",
          "coloraxis": {
           "colorbar": {
            "outlinewidth": 0,
            "ticks": ""
           }
          },
          "colorscale": {
           "diverging": [
            [
             0,
             "#8e0152"
            ],
            [
             0.1,
             "#c51b7d"
            ],
            [
             0.2,
             "#de77ae"
            ],
            [
             0.3,
             "#f1b6da"
            ],
            [
             0.4,
             "#fde0ef"
            ],
            [
             0.5,
             "#f7f7f7"
            ],
            [
             0.6,
             "#e6f5d0"
            ],
            [
             0.7,
             "#b8e186"
            ],
            [
             0.8,
             "#7fbc41"
            ],
            [
             0.9,
             "#4d9221"
            ],
            [
             1,
             "#276419"
            ]
           ],
           "sequential": [
            [
             0,
             "#0d0887"
            ],
            [
             0.1111111111111111,
             "#46039f"
            ],
            [
             0.2222222222222222,
             "#7201a8"
            ],
            [
             0.3333333333333333,
             "#9c179e"
            ],
            [
             0.4444444444444444,
             "#bd3786"
            ],
            [
             0.5555555555555556,
             "#d8576b"
            ],
            [
             0.6666666666666666,
             "#ed7953"
            ],
            [
             0.7777777777777778,
             "#fb9f3a"
            ],
            [
             0.8888888888888888,
             "#fdca26"
            ],
            [
             1,
             "#f0f921"
            ]
           ],
           "sequentialminus": [
            [
             0,
             "#0d0887"
            ],
            [
             0.1111111111111111,
             "#46039f"
            ],
            [
             0.2222222222222222,
             "#7201a8"
            ],
            [
             0.3333333333333333,
             "#9c179e"
            ],
            [
             0.4444444444444444,
             "#bd3786"
            ],
            [
             0.5555555555555556,
             "#d8576b"
            ],
            [
             0.6666666666666666,
             "#ed7953"
            ],
            [
             0.7777777777777778,
             "#fb9f3a"
            ],
            [
             0.8888888888888888,
             "#fdca26"
            ],
            [
             1,
             "#f0f921"
            ]
           ]
          },
          "colorway": [
           "#636efa",
           "#EF553B",
           "#00cc96",
           "#ab63fa",
           "#FFA15A",
           "#19d3f3",
           "#FF6692",
           "#B6E880",
           "#FF97FF",
           "#FECB52"
          ],
          "font": {
           "color": "#f2f5fa"
          },
          "geo": {
           "bgcolor": "rgb(17,17,17)",
           "lakecolor": "rgb(17,17,17)",
           "landcolor": "rgb(17,17,17)",
           "showlakes": true,
           "showland": true,
           "subunitcolor": "#506784"
          },
          "hoverlabel": {
           "align": "left"
          },
          "hovermode": "closest",
          "mapbox": {
           "style": "dark"
          },
          "paper_bgcolor": "rgb(17,17,17)",
          "plot_bgcolor": "rgb(17,17,17)",
          "polar": {
           "angularaxis": {
            "gridcolor": "#506784",
            "linecolor": "#506784",
            "ticks": ""
           },
           "bgcolor": "rgb(17,17,17)",
           "radialaxis": {
            "gridcolor": "#506784",
            "linecolor": "#506784",
            "ticks": ""
           }
          },
          "scene": {
           "xaxis": {
            "backgroundcolor": "rgb(17,17,17)",
            "gridcolor": "#506784",
            "gridwidth": 2,
            "linecolor": "#506784",
            "showbackground": true,
            "ticks": "",
            "zerolinecolor": "#C8D4E3"
           },
           "yaxis": {
            "backgroundcolor": "rgb(17,17,17)",
            "gridcolor": "#506784",
            "gridwidth": 2,
            "linecolor": "#506784",
            "showbackground": true,
            "ticks": "",
            "zerolinecolor": "#C8D4E3"
           },
           "zaxis": {
            "backgroundcolor": "rgb(17,17,17)",
            "gridcolor": "#506784",
            "gridwidth": 2,
            "linecolor": "#506784",
            "showbackground": true,
            "ticks": "",
            "zerolinecolor": "#C8D4E3"
           }
          },
          "shapedefaults": {
           "line": {
            "color": "#f2f5fa"
           }
          },
          "sliderdefaults": {
           "bgcolor": "#C8D4E3",
           "bordercolor": "rgb(17,17,17)",
           "borderwidth": 1,
           "tickwidth": 0
          },
          "ternary": {
           "aaxis": {
            "gridcolor": "#506784",
            "linecolor": "#506784",
            "ticks": ""
           },
           "baxis": {
            "gridcolor": "#506784",
            "linecolor": "#506784",
            "ticks": ""
           },
           "bgcolor": "rgb(17,17,17)",
           "caxis": {
            "gridcolor": "#506784",
            "linecolor": "#506784",
            "ticks": ""
           }
          },
          "title": {
           "x": 0.05
          },
          "updatemenudefaults": {
           "bgcolor": "#506784",
           "borderwidth": 0
          },
          "xaxis": {
           "automargin": true,
           "gridcolor": "#283442",
           "linecolor": "#506784",
           "ticks": "",
           "title": {
            "standoff": 15
           },
           "zerolinecolor": "#283442",
           "zerolinewidth": 2
          },
          "yaxis": {
           "automargin": true,
           "gridcolor": "#283442",
           "linecolor": "#506784",
           "ticks": "",
           "title": {
            "standoff": 15
           },
           "zerolinecolor": "#283442",
           "zerolinewidth": 2
          }
         }
        },
        "title": {
         "text": "ΔP vs Alkalinity, KB08"
        },
        "xaxis": {
         "anchor": "y",
         "domain": [
          0,
          0.7363
         ],
         "title": {
          "text": "delta_P2"
         }
        },
        "xaxis2": {
         "anchor": "y2",
         "domain": [
          0.7413,
          1
         ],
         "matches": "x2",
         "showgrid": true,
         "showline": false,
         "showticklabels": false,
         "ticks": ""
        },
        "xaxis3": {
         "anchor": "y3",
         "domain": [
          0,
          0.7363
         ],
         "matches": "x",
         "showgrid": true,
         "showticklabels": false
        },
        "xaxis4": {
         "anchor": "y4",
         "domain": [
          0.7413,
          1
         ],
         "matches": "x2",
         "showgrid": true,
         "showline": false,
         "showticklabels": false,
         "ticks": ""
        },
        "yaxis": {
         "anchor": "x",
         "domain": [
          0,
          0.7326
         ],
         "title": {
          "text": "Probability"
         }
        },
        "yaxis2": {
         "anchor": "x2",
         "domain": [
          0,
          0.7326
         ],
         "matches": "y",
         "showgrid": true,
         "showticklabels": false
        },
        "yaxis3": {
         "anchor": "x3",
         "domain": [
          0.7426,
          1
         ],
         "matches": "y3",
         "showgrid": true,
         "showline": false,
         "showticklabels": false,
         "ticks": ""
        },
        "yaxis4": {
         "anchor": "x4",
         "domain": [
          0.7426,
          1
         ],
         "matches": "y3",
         "showgrid": true,
         "showline": false,
         "showticklabels": false,
         "ticks": ""
        }
       }
      },
      "text/html": [
       "<div>                            <div id=\"bf2e5a68-c509-466e-bfad-b240cd89db76\" class=\"plotly-graph-div\" style=\"height:525px; width:100%;\"></div>            <script type=\"text/javascript\">                require([\"plotly\"], function(Plotly) {                    window.PLOTLYENV=window.PLOTLYENV || {};                                    if (document.getElementById(\"bf2e5a68-c509-466e-bfad-b240cd89db76\")) {                    Plotly.newPlot(                        \"bf2e5a68-c509-466e-bfad-b240cd89db76\",                        [{\"hovertemplate\": \"delta_P2=%{x}<br>Probability=%{y}<br>alk=%{marker.color}<extra></extra>\", \"legendgroup\": \"\", \"marker\": {\"color\": [3.61, 3.42, 3.58, 3.37, 3.36, 3.57, 3.25, 3.71, 3.76, 2.44, 2.35, 2.42, 3.28, 2.69, 3.66, 3.48, 3.97, 3.35, 3.44, 3.15, 3.72, 3.46, 3.93, 3.07, 3.06, 3.32, 3.19, 2.69, 2.76, 2.83, 3.69, 3.7, 3.0, 2.83, 3.45, 3.95, 4.0, 3.25, 3.28, 3.19, 2.92, 3.22, 3.45, 3.45, 1.49, 1.63, 1.84, 1.61, 3.12, 3.07, 3.1, 3.37, 3.26, 3.47, 3.25, 3.4, 2.57, 2.81, 2.73, 2.75, 2.74, 3.22, 3.27, 3.41, 3.42, 2.49, 2.52, 3.04, 3.04, 3.01, 3.16, 2.82, 3.08, 3.15, 3.09, 2.82, 2.9, 3.12, 3.22, 3.07, 3.32, 3.33, 3.47, 3.67, 3.46, 3.85, 4.4, 4.37, 3.27, 3.7, 4.27, 4.38, 3.67, 4.09, 4.4, 3.95, 4.17, 4.89, 3.18, 3.18, 3.46, 3.86, 4.04, 4.57, 3.63, 3.35, 3.41, 3.83, 3.89, 4.01, 3.27, 2.62, 3.69, 2.64, 2.76, 3.6, 2.54, 2.68, 3.91, 3.36, 3.97, 3.44, 3.03, 3.21, 3.11, 3.7, 3.36, 3.34, 3.8, 3.65, 3.4, 3.17, 2.54, 3.24, 2.92, 3.85, 3.55, 2.88, 2.85, 3.67, 3.47, 3.24, 2.87, 3.81, 3.57, 3.4, 3.71, 3.45, 3.55, 3.36, 1.79, 1.97, 2.19, 2.5, 2.08, 2.11, 1.9, 2.04, 2.07, 2.73, 2.78, 2.58, 2.74, 2.86, 2.52, 2.55, 2.36, 2.65, 2.6, 2.44, 2.12, 2.56, 2.78, 2.41, 2.35, 2.23, 1.94, 2.24, 2.29, 2.21, 2.3, 2.29, 2.31, 2.39, 2.45, 2.26, 2.38, 2.44, 2.39, 2.57, 1.01, 1.44, 1.67, 6.21, 5.52, 4.21, 4.58, 2.12, 1.6, 1.57, 1.56, 1.39, 1.63, 2.06, 1.94, 1.7, 1.65, 2.23, 2.1, 2.17, 2.59, 2.07, 2.29, 2.64, 3.02, 2.09, 2.71, 2.99, 2.46, 6.1, 7.52, 7.33, 8.94, 5.88, 6.83, 7.84, 6.41, 4.06, 6.69, 3.62, 5.68, 6.21, 5.58, 6.09, 6.66, 6.88, 5.52, 6.16, 6.91, 6.81, 5.73, 6.2, 6.59, 4.18, 4.29, 3.96, 4.79, 5.65, 4.27, 5.0, 7.58, 3.8, 3.8, 3.83], \"coloraxis\": \"coloraxis\", \"symbol\": \"circle\"}, \"mode\": \"markers\", \"name\": \"\", \"orientation\": \"v\", \"showlegend\": false, \"type\": \"scatter\", \"x\": [3.4935, 0.77, 1.1305, 1.4805000000000001, 2.4772999999999996, 2.9867, 0.21610000000000085, -0.15829999999999966, -0.6871999999999998, -2.8832000000000004, -1.0429000000000004, 1.0436999999999994, -3.1844, -0.7731000000000003, 0.6868999999999996, 1.4815000000000005, 1.5976, -10.2989, 0.8247, 1.0613000000000001, -0.0919, 2.3332, -0.6313, -0.5411999999999999, -0.9424999999999999, 0.8638999999999992, -8.2153, 1.9857, 2.2680000000000002, 0.6569, 1.0315, 3.0134000000000003, 1.2632, 1.5924, 1.9206, 1.5501, 1.3147000000000002, 2.2289000000000003, 3.612, 1.0982, 1.8511000000000002, 2.4426, 3.678, -0.7288, 0.3377, 0.2907, -1.4494999999999998, 1.8030000000000002, 0.2457, 0.5797, 1.3265, 3.2470000000000003, 1.2179000000000002, 0.5479, 1.1825, 1.6588, 1.3857, 1.7037999999999998, 3.7535000000000003, 4.569599999999999, 4.3214999999999995, 4.9079, 3.7848, 4.0665, 2.0653, 1.9664000000000001, 3.7969, 5.326899999999999, 4.2673, 5.8900999999999994, 7.7448999999999995, 9.259300000000001, 9.9076, 10.986600000000001, 10.152600000000001, 5.754899999999999, 6.0516, 5.856199999999999, 6.076499999999999, 3.9981, 1.0072, 3.0723000000000003, -1.2319, -1.2371999999999999, 14.633599999999998, 12.104399999999998, 18.843999999999998, -0.5020000000000007, 1.3637000000000006, 3.5218999999999996, 5.7808, -1.6846999999999994, 2.8119000000000005, 3.2817, 0.0821000000000005, 2.7008, 1.9465000000000003, -1.1049999999999998, 4.037599999999999, 0.7357000000000005, 6.8679, 5.3366, 2.9922000000000004, -5.0923, -2.8944, -2.6654999999999998, -1.2414999999999998, -1.8613, 4.3508, -1.2401999999999997, 1.3420999999999998, 8.571000000000002, 0.891, -0.2630999999999999, 8.267800000000001, 2.0449, 6.4254, 0.2716000000000003, 2.1638, 5.662599999999999, 2.8005999999999998, 0.2597999999999998, 7.2371, 2.792, 11.4234, -0.11660000000000004, 12.4966, 5.707000000000001, 5.794499999999999, 4.1587000000000005, 3.9791, 1.2428, 7.1400999999999994, 2.9286000000000003, 11.8374, 8.305200000000001, 6.1381, 4.6991, 1.7806000000000006, 2.8355, 0.7965, 1.0081999999999998, 7.0786999999999995, 8.7476, 3.5090000000000003, 9.1878, 7.8862000000000005, 3.2136, 7.1614, 2.1408000000000005, 5.0992999999999995, 4.9029, 7.3124, 6.134399999999999, 6.8072, -0.4100999999999999, 0.6951999999999998, 5.0062999999999995, 4.9099, 6.3283000000000005, 1.3795000000000002, 3.1506999999999996, 4.1109, -1.0722, 1.9632999999999998, 1.3757000000000001, -3.6198, 0.529, -0.7634, 2.0147, -1.4398, -0.9883, -0.9318, 0.418, -1.2083, -2.6193999999999997, -1.0506, -1.0811, 1.1881000000000002, 2.0138000000000003, -0.0878, 1.7598, 1.3920000000000001, 2.2906, 0.6487, -0.7936, 0.6488, 2.3497, 16.4366, -10.6643, -0.7124, 0.1087, -5.9337, 5.7242, 7.1978, -2.4748, 1.7362000000000002, -0.2097, 0.8965, 0.867, 1.2171, -0.6673, -0.3288, -1.1232, -0.9523, 0.1495, -0.1882, -3.2889, -1.0971, -0.939, -1.7928, -1.4708999999999999, -2.4773, -2.3032, -1.0117999999999998, -2.049, -1.0335999999999999, 0.2646, -14.0099, 4.1632, 5.369199999999999, 3.6206, 0.5585, 9.374600000000001, 4.7139, 3.5373, -2.1447, 0.6954, 8.39, 12.0265, 24.360599999999998, 8.8733, 12.9063, 36.6728, -4.3119, -2.2748, 7.1978, -0.9765, 35.8654, 0.8553, 0.713, 0.7992, -1.2, 4.9634, 2.4564, 5.2520999999999995, 2.3622, -4.7268, 6.164300000000001, -2.9101, 4.712599999999999, 11.7104, 10.5115, -0.001], \"xaxis\": \"x\", \"y\": [0.8209372194811392, 0.896354299398174, 0.9665851031253295, 0.9854308975217188, 0.9869869700434856, 0.703742618478878, 0.959800304548087, 0.9074989309794503, 0.9508294990973474, 0.9738326202648905, 0.8353230198382104, 0.9723138655521862, 0.8366132836713415, 0.6104001528149074, 0.1756487267342578, 0.956555199227138, 0.9051337712913186, 0.9722657778003455, 0.9404159563243957, 0.9644558553425885, 0.7974040217801179, 0.5304614332891675, 0.9457028007851369, 0.8786893438270998, 0.719597231623585, 0.6032815197825163, 0.9548717473396539, 0.9833385854994126, 0.9945019667859394, 0.9137037817344903, 0.9346535569120309, 0.9877590233676162, 0.9597884208450668, 0.9896492720804259, 0.9685439448668752, 0.9676145185130273, 0.8383923251397513, 0.924751122420079, 0.889011058925085, 0.8828822137056273, 0.9958775693359069, 0.9916214757764308, 0.9852375041761754, 0.9171902424689333, 0.908424285406523, 0.8623954557407918, 0.982952000506152, 0.8128778825206385, 0.7976032762575175, 0.8001294215240162, 0.6766857512658218, 0.7476855763504415, 0.756366513864398, 0.7004612403330415, 0.475187744403999, 0.6214620831262687, 8.226849595160957e-05, 0.0, 0.9678092446616063, 0.9450848384614687, 0.8251706376977097, 0.8681632246041231, 0.883543471570022, 0.5348095313615587, 0.5704808879021053, 0.9994643136422503, 0.8613899781752191, 0.9815135947230735, 0.6322708886122894, 0.9601374634998799, 0.8887360689469619, 0.960005154690388, 0.9114161135009525, 0.785331534222599, 0.9437011199066249, 0.9742224979232014, 0.9387538462781208, 0.9101723709683076, 0.9344759692200637, 0.9480580377246914, 0.0, 1.553202011450594e-12, 0.0, 1.583096668555939e-05, 0.01967097714420596, 0.7196440055160507, 0.5525976759820084, 0.09539071888602058, 0.5959012013282728, 0.8436220126875862, 0.6212914267916915, 0.06562182027576025, 0.6020676955808661, 0.2932811493401719, 0.11992693810343469, 0.6239863634221268, 0.4833260090752617, 0.28633710102625787, 0.840536067522814, 0.002792221873888945, 4.599033814312037e-05, 1.249532672886744e-07, 5.551115123125783e-16, 0.0, 3.4074965071795305e-12, 3.2027713814386516e-12, 6.643775529724394e-10, 0.0, 0.0, 0.0, 0.039903612789979004, 0.1127742407151523, 0.10060594031501147, 0.39831286928901644, 0.39566352600062193, 0.4981570607517196, 0.27165093153247166, 0.16934801245273567, 0.10280144748034803, 0.13606675656955391, 0.9983600559496042, 0.029298553900966806, 0.141591845601593, 0.0013257955526678744, 0.2102529453318549, 0.21131840513512312, 0.11382428390704269, 0.34126488142741485, 8.544753793415794e-11, 0.006103132425780866, 0.003079242815688832, 0.000696161195275824, 3.938852274953941e-05, 1.4541068693585402e-07, 0.0006011446034602796, 2.1266455263457829e-10, 2.241781530121223e-05, 0.0010532428215216383, 0.0005624370263656031, 0.0008317642039685769, 2.7061192864774597e-05, 3.19882488242218e-06, 0.001634395400391675, 2.668936738281502e-09, 2.693344439608225e-05, 1.0332512623278944e-11, 5.69934868632771e-07, 0.00571790139120576, 0.0, 7.61296981011128e-09, 0.21514428530683383, 0.18738051754810325, 0.052237171361213086, 0.0894975973921025, 0.3269752003765547, 0.3746945562996389, 0.43202820561812116, 0.9992940180551476, 0.9815420654144593, 0.3706769767651269, 0.27048934946532166, 0.33844619725626823, 0.4534338513120204, 0.9760405774423395, 0.3397354969045896, 0.310153856800521, 0.277842883432982, 0.6952176286249032, 0.8561907466118521, 0.8335063539737729, 0.6193173035887105, 0.69734944357936, 0.7556570062157393, 0.6181153413926044, 0.8248418275560765, 0.6674124489959928, 0.6773344943866653, 0.8409921115772019, 0.9552499680919331, 0.1700095759585839, 0.19953138893800593, 0.848881707411733, 0.26627231592332934, 0.4726053252799043, 0.2461078006819145, 0.6713223806075337, 0.8942092107003409, 0.1521971157345524, 0.054510291776924236, 0.09186259199724345, 0.9881567969871916, 0.9975095070063648, 0.8325324045437645, 0.20471851155263554, 0.3909786654345214, 0.778798940863053, 0.8442420104278501, 0.6929678894153439, 0.8682444644290148, 0.9586014798375162, 0.7715787007325965, 0.6976367888417212, 0.7646833033672861, 0.6501786717282558, 0.9933481516358599, 0.9689261664747582, 0.7093979781843858, 0.9834560015880214, 0.9882428469942937, 0.9503269227015372, 0.7460011526000017, 0.9647566343119921, 0.5905184796213864, 0.967698362575021, 0.8676842323317498, 0.1899968518304762, 0.8996536539029529, 0.8717718457314045, 0.949983569234108, 0.02276562541036209, 0.0050748570502500145, 0.6065219584205996, 0.5657787023829861, 0.31543813355626604, 0.1956337553334464, 0.00023565044358164755, 0.5198497617929704, 0.634372418942349, 0.22348593816444762, 0.3092776056208606, 0.7474177609685559, 0.20471851155263554, 0.6832629138374839, 0.2163445402159565, 0.09977072997051573, 0.025174347486988546, 0.3909786654345214, 0.7337706337231589, 0.0012116106246616853, 0.09409469137355286, 0.7155464042413353, 0.44628650921738033, 0.11687232815907, 0.9425206138785955, 0.6982566601820227, 0.9864409968276755, 0.9066330227148516, 0.49112913498908484, 0.9834689295230287, 0.9748591304885881, 0.27264637112977463, 0.07836989473891098, 0.09071594083162149, 0.1895716557308974], \"yaxis\": \"y\"}, {\"alignmentgroup\": \"True\", \"bingroup\": \"x\", \"hovertemplate\": \"delta_P2=%{x}<br>count=%{y}<extra></extra>\", \"legendgroup\": \"\", \"marker\": {\"color\": \"rgb(253, 253, 204)\"}, \"name\": \"\", \"offsetgroup\": \"\", \"opacity\": 0.5, \"showlegend\": false, \"type\": \"histogram\", \"x\": [3.4935, 0.77, 1.1305, 1.4805000000000001, 2.4772999999999996, 2.9867, 0.21610000000000085, -0.15829999999999966, -0.6871999999999998, -2.8832000000000004, -1.0429000000000004, 1.0436999999999994, -3.1844, -0.7731000000000003, 0.6868999999999996, 1.4815000000000005, 1.5976, -10.2989, 0.8247, 1.0613000000000001, -0.0919, 2.3332, -0.6313, -0.5411999999999999, -0.9424999999999999, 0.8638999999999992, -8.2153, 1.9857, 2.2680000000000002, 0.6569, 1.0315, 3.0134000000000003, 1.2632, 1.5924, 1.9206, 1.5501, 1.3147000000000002, 2.2289000000000003, 3.612, 1.0982, 1.8511000000000002, 2.4426, 3.678, -0.7288, 0.3377, 0.2907, -1.4494999999999998, 1.8030000000000002, 0.2457, 0.5797, 1.3265, 3.2470000000000003, 1.2179000000000002, 0.5479, 1.1825, 1.6588, 1.3857, 1.7037999999999998, 3.7535000000000003, 4.569599999999999, 4.3214999999999995, 4.9079, 3.7848, 4.0665, 2.0653, 1.9664000000000001, 3.7969, 5.326899999999999, 4.2673, 5.8900999999999994, 7.7448999999999995, 9.259300000000001, 9.9076, 10.986600000000001, 10.152600000000001, 5.754899999999999, 6.0516, 5.856199999999999, 6.076499999999999, 3.9981, 1.0072, 3.0723000000000003, -1.2319, -1.2371999999999999, 14.633599999999998, 12.104399999999998, 18.843999999999998, -0.5020000000000007, 1.3637000000000006, 3.5218999999999996, 5.7808, -1.6846999999999994, 2.8119000000000005, 3.2817, 0.0821000000000005, 2.7008, 1.9465000000000003, -1.1049999999999998, 4.037599999999999, 0.7357000000000005, 6.8679, 5.3366, 2.9922000000000004, -5.0923, -2.8944, -2.6654999999999998, -1.2414999999999998, -1.8613, 4.3508, -1.2401999999999997, 1.3420999999999998, 8.571000000000002, 0.891, -0.2630999999999999, 8.267800000000001, 2.0449, 6.4254, 0.2716000000000003, 2.1638, 5.662599999999999, 2.8005999999999998, 0.2597999999999998, 7.2371, 2.792, 11.4234, -0.11660000000000004, 12.4966, 5.707000000000001, 5.794499999999999, 4.1587000000000005, 3.9791, 1.2428, 7.1400999999999994, 2.9286000000000003, 11.8374, 8.305200000000001, 6.1381, 4.6991, 1.7806000000000006, 2.8355, 0.7965, 1.0081999999999998, 7.0786999999999995, 8.7476, 3.5090000000000003, 9.1878, 7.8862000000000005, 3.2136, 7.1614, 2.1408000000000005, 5.0992999999999995, 4.9029, 7.3124, 6.134399999999999, 6.8072, -0.4100999999999999, 0.6951999999999998, 5.0062999999999995, 4.9099, 6.3283000000000005, 1.3795000000000002, 3.1506999999999996, 4.1109, -1.0722, 1.9632999999999998, 1.3757000000000001, -3.6198, 0.529, -0.7634, 2.0147, -1.4398, -0.9883, -0.9318, 0.418, -1.2083, -2.6193999999999997, -1.0506, -1.0811, 1.1881000000000002, 2.0138000000000003, -0.0878, 1.7598, 1.3920000000000001, 2.2906, 0.6487, -0.7936, 0.6488, 2.3497, 16.4366, -10.6643, -0.7124, 0.1087, -5.9337, 5.7242, 7.1978, -2.4748, 1.7362000000000002, -0.2097, 0.8965, 0.867, 1.2171, -0.6673, -0.3288, -1.1232, -0.9523, 0.1495, -0.1882, -3.2889, -1.0971, -0.939, -1.7928, -1.4708999999999999, -2.4773, -2.3032, -1.0117999999999998, -2.049, -1.0335999999999999, 0.2646, -14.0099, 4.1632, 5.369199999999999, 3.6206, 0.5585, 9.374600000000001, 4.7139, 3.5373, -2.1447, 0.6954, 8.39, 12.0265, 24.360599999999998, 8.8733, 12.9063, 36.6728, -4.3119, -2.2748, 7.1978, -0.9765, 35.8654, 0.8553, 0.713, 0.7992, -1.2, 4.9634, 2.4564, 5.2520999999999995, 2.3622, -4.7268, 6.164300000000001, -2.9101, 4.712599999999999, 11.7104, 10.5115, -0.001], \"xaxis\": \"x3\", \"yaxis\": \"y3\"}, {\"alignmentgroup\": \"True\", \"bingroup\": \"y\", \"hovertemplate\": \"Probability=%{y}<br>count=%{x}<extra></extra>\", \"legendgroup\": \"\", \"marker\": {\"color\": \"rgb(253, 253, 204)\"}, \"name\": \"\", \"offsetgroup\": \"\", \"opacity\": 0.5, \"showlegend\": false, \"type\": \"histogram\", \"xaxis\": \"x2\", \"y\": [0.8209372194811392, 0.896354299398174, 0.9665851031253295, 0.9854308975217188, 0.9869869700434856, 0.703742618478878, 0.959800304548087, 0.9074989309794503, 0.9508294990973474, 0.9738326202648905, 0.8353230198382104, 0.9723138655521862, 0.8366132836713415, 0.6104001528149074, 0.1756487267342578, 0.956555199227138, 0.9051337712913186, 0.9722657778003455, 0.9404159563243957, 0.9644558553425885, 0.7974040217801179, 0.5304614332891675, 0.9457028007851369, 0.8786893438270998, 0.719597231623585, 0.6032815197825163, 0.9548717473396539, 0.9833385854994126, 0.9945019667859394, 0.9137037817344903, 0.9346535569120309, 0.9877590233676162, 0.9597884208450668, 0.9896492720804259, 0.9685439448668752, 0.9676145185130273, 0.8383923251397513, 0.924751122420079, 0.889011058925085, 0.8828822137056273, 0.9958775693359069, 0.9916214757764308, 0.9852375041761754, 0.9171902424689333, 0.908424285406523, 0.8623954557407918, 0.982952000506152, 0.8128778825206385, 0.7976032762575175, 0.8001294215240162, 0.6766857512658218, 0.7476855763504415, 0.756366513864398, 0.7004612403330415, 0.475187744403999, 0.6214620831262687, 8.226849595160957e-05, 0.0, 0.9678092446616063, 0.9450848384614687, 0.8251706376977097, 0.8681632246041231, 0.883543471570022, 0.5348095313615587, 0.5704808879021053, 0.9994643136422503, 0.8613899781752191, 0.9815135947230735, 0.6322708886122894, 0.9601374634998799, 0.8887360689469619, 0.960005154690388, 0.9114161135009525, 0.785331534222599, 0.9437011199066249, 0.9742224979232014, 0.9387538462781208, 0.9101723709683076, 0.9344759692200637, 0.9480580377246914, 0.0, 1.553202011450594e-12, 0.0, 1.583096668555939e-05, 0.01967097714420596, 0.7196440055160507, 0.5525976759820084, 0.09539071888602058, 0.5959012013282728, 0.8436220126875862, 0.6212914267916915, 0.06562182027576025, 0.6020676955808661, 0.2932811493401719, 0.11992693810343469, 0.6239863634221268, 0.4833260090752617, 0.28633710102625787, 0.840536067522814, 0.002792221873888945, 4.599033814312037e-05, 1.249532672886744e-07, 5.551115123125783e-16, 0.0, 3.4074965071795305e-12, 3.2027713814386516e-12, 6.643775529724394e-10, 0.0, 0.0, 0.0, 0.039903612789979004, 0.1127742407151523, 0.10060594031501147, 0.39831286928901644, 0.39566352600062193, 0.4981570607517196, 0.27165093153247166, 0.16934801245273567, 0.10280144748034803, 0.13606675656955391, 0.9983600559496042, 0.029298553900966806, 0.141591845601593, 0.0013257955526678744, 0.2102529453318549, 0.21131840513512312, 0.11382428390704269, 0.34126488142741485, 8.544753793415794e-11, 0.006103132425780866, 0.003079242815688832, 0.000696161195275824, 3.938852274953941e-05, 1.4541068693585402e-07, 0.0006011446034602796, 2.1266455263457829e-10, 2.241781530121223e-05, 0.0010532428215216383, 0.0005624370263656031, 0.0008317642039685769, 2.7061192864774597e-05, 3.19882488242218e-06, 0.001634395400391675, 2.668936738281502e-09, 2.693344439608225e-05, 1.0332512623278944e-11, 5.69934868632771e-07, 0.00571790139120576, 0.0, 7.61296981011128e-09, 0.21514428530683383, 0.18738051754810325, 0.052237171361213086, 0.0894975973921025, 0.3269752003765547, 0.3746945562996389, 0.43202820561812116, 0.9992940180551476, 0.9815420654144593, 0.3706769767651269, 0.27048934946532166, 0.33844619725626823, 0.4534338513120204, 0.9760405774423395, 0.3397354969045896, 0.310153856800521, 0.277842883432982, 0.6952176286249032, 0.8561907466118521, 0.8335063539737729, 0.6193173035887105, 0.69734944357936, 0.7556570062157393, 0.6181153413926044, 0.8248418275560765, 0.6674124489959928, 0.6773344943866653, 0.8409921115772019, 0.9552499680919331, 0.1700095759585839, 0.19953138893800593, 0.848881707411733, 0.26627231592332934, 0.4726053252799043, 0.2461078006819145, 0.6713223806075337, 0.8942092107003409, 0.1521971157345524, 0.054510291776924236, 0.09186259199724345, 0.9881567969871916, 0.9975095070063648, 0.8325324045437645, 0.20471851155263554, 0.3909786654345214, 0.778798940863053, 0.8442420104278501, 0.6929678894153439, 0.8682444644290148, 0.9586014798375162, 0.7715787007325965, 0.6976367888417212, 0.7646833033672861, 0.6501786717282558, 0.9933481516358599, 0.9689261664747582, 0.7093979781843858, 0.9834560015880214, 0.9882428469942937, 0.9503269227015372, 0.7460011526000017, 0.9647566343119921, 0.5905184796213864, 0.967698362575021, 0.8676842323317498, 0.1899968518304762, 0.8996536539029529, 0.8717718457314045, 0.949983569234108, 0.02276562541036209, 0.0050748570502500145, 0.6065219584205996, 0.5657787023829861, 0.31543813355626604, 0.1956337553334464, 0.00023565044358164755, 0.5198497617929704, 0.634372418942349, 0.22348593816444762, 0.3092776056208606, 0.7474177609685559, 0.20471851155263554, 0.6832629138374839, 0.2163445402159565, 0.09977072997051573, 0.025174347486988546, 0.3909786654345214, 0.7337706337231589, 0.0012116106246616853, 0.09409469137355286, 0.7155464042413353, 0.44628650921738033, 0.11687232815907, 0.9425206138785955, 0.6982566601820227, 0.9864409968276755, 0.9066330227148516, 0.49112913498908484, 0.9834689295230287, 0.9748591304885881, 0.27264637112977463, 0.07836989473891098, 0.09071594083162149, 0.1895716557308974], \"yaxis\": \"y2\"}],                        {\"barmode\": \"overlay\", \"coloraxis\": {\"colorbar\": {\"title\": {\"text\": \"alk\"}}, \"colorscale\": [[0.0, \"rgb(253, 253, 204)\"], [0.09090909090909091, \"rgb(206, 236, 179)\"], [0.18181818181818182, \"rgb(156, 219, 165)\"], [0.2727272727272727, \"rgb(111, 201, 163)\"], [0.36363636363636365, \"rgb(86, 177, 163)\"], [0.45454545454545453, \"rgb(76, 153, 160)\"], [0.5454545454545454, \"rgb(68, 130, 155)\"], [0.6363636363636364, \"rgb(62, 108, 150)\"], [0.7272727272727273, \"rgb(62, 82, 143)\"], [0.8181818181818182, \"rgb(64, 60, 115)\"], [0.9090909090909091, \"rgb(54, 43, 77)\"], [1.0, \"rgb(39, 26, 44)\"]]}, \"legend\": {\"tracegroupgap\": 0}, \"template\": {\"data\": {\"bar\": [{\"error_x\": {\"color\": \"#f2f5fa\"}, \"error_y\": {\"color\": \"#f2f5fa\"}, \"marker\": {\"line\": {\"color\": \"rgb(17,17,17)\", \"width\": 0.5}}, \"type\": \"bar\"}], \"barpolar\": [{\"marker\": {\"line\": {\"color\": \"rgb(17,17,17)\", \"width\": 0.5}}, \"type\": \"barpolar\"}], \"carpet\": [{\"aaxis\": {\"endlinecolor\": \"#A2B1C6\", \"gridcolor\": \"#506784\", \"linecolor\": \"#506784\", \"minorgridcolor\": \"#506784\", \"startlinecolor\": \"#A2B1C6\"}, \"baxis\": {\"endlinecolor\": \"#A2B1C6\", \"gridcolor\": \"#506784\", \"linecolor\": \"#506784\", \"minorgridcolor\": \"#506784\", \"startlinecolor\": \"#A2B1C6\"}, \"type\": \"carpet\"}], \"choropleth\": [{\"colorbar\": {\"outlinewidth\": 0, \"ticks\": \"\"}, \"type\": \"choropleth\"}], \"contour\": [{\"colorbar\": {\"outlinewidth\": 0, \"ticks\": \"\"}, \"colorscale\": [[0.0, \"#0d0887\"], [0.1111111111111111, \"#46039f\"], [0.2222222222222222, \"#7201a8\"], [0.3333333333333333, \"#9c179e\"], [0.4444444444444444, \"#bd3786\"], [0.5555555555555556, \"#d8576b\"], [0.6666666666666666, \"#ed7953\"], [0.7777777777777778, \"#fb9f3a\"], [0.8888888888888888, \"#fdca26\"], [1.0, \"#f0f921\"]], \"type\": \"contour\"}], \"contourcarpet\": [{\"colorbar\": {\"outlinewidth\": 0, \"ticks\": \"\"}, \"type\": \"contourcarpet\"}], \"heatmap\": [{\"colorbar\": {\"outlinewidth\": 0, \"ticks\": \"\"}, \"colorscale\": [[0.0, \"#0d0887\"], [0.1111111111111111, \"#46039f\"], [0.2222222222222222, \"#7201a8\"], [0.3333333333333333, \"#9c179e\"], [0.4444444444444444, \"#bd3786\"], [0.5555555555555556, \"#d8576b\"], [0.6666666666666666, \"#ed7953\"], [0.7777777777777778, \"#fb9f3a\"], [0.8888888888888888, \"#fdca26\"], [1.0, \"#f0f921\"]], \"type\": \"heatmap\"}], \"heatmapgl\": [{\"colorbar\": {\"outlinewidth\": 0, \"ticks\": \"\"}, \"colorscale\": [[0.0, \"#0d0887\"], [0.1111111111111111, \"#46039f\"], [0.2222222222222222, \"#7201a8\"], [0.3333333333333333, \"#9c179e\"], [0.4444444444444444, \"#bd3786\"], [0.5555555555555556, \"#d8576b\"], [0.6666666666666666, \"#ed7953\"], [0.7777777777777778, \"#fb9f3a\"], [0.8888888888888888, \"#fdca26\"], [1.0, \"#f0f921\"]], \"type\": \"heatmapgl\"}], \"histogram\": [{\"marker\": {\"colorbar\": {\"outlinewidth\": 0, \"ticks\": \"\"}}, \"type\": \"histogram\"}], \"histogram2d\": [{\"colorbar\": {\"outlinewidth\": 0, \"ticks\": \"\"}, \"colorscale\": [[0.0, \"#0d0887\"], [0.1111111111111111, \"#46039f\"], [0.2222222222222222, \"#7201a8\"], [0.3333333333333333, \"#9c179e\"], [0.4444444444444444, \"#bd3786\"], [0.5555555555555556, \"#d8576b\"], [0.6666666666666666, \"#ed7953\"], [0.7777777777777778, \"#fb9f3a\"], [0.8888888888888888, \"#fdca26\"], [1.0, \"#f0f921\"]], \"type\": \"histogram2d\"}], \"histogram2dcontour\": [{\"colorbar\": {\"outlinewidth\": 0, \"ticks\": \"\"}, \"colorscale\": [[0.0, \"#0d0887\"], [0.1111111111111111, \"#46039f\"], [0.2222222222222222, \"#7201a8\"], [0.3333333333333333, \"#9c179e\"], [0.4444444444444444, \"#bd3786\"], [0.5555555555555556, \"#d8576b\"], [0.6666666666666666, \"#ed7953\"], [0.7777777777777778, \"#fb9f3a\"], [0.8888888888888888, \"#fdca26\"], [1.0, \"#f0f921\"]], \"type\": \"histogram2dcontour\"}], \"mesh3d\": [{\"colorbar\": {\"outlinewidth\": 0, \"ticks\": \"\"}, \"type\": \"mesh3d\"}], \"parcoords\": [{\"line\": {\"colorbar\": {\"outlinewidth\": 0, \"ticks\": \"\"}}, \"type\": \"parcoords\"}], \"pie\": [{\"automargin\": true, \"type\": \"pie\"}], \"scatter\": [{\"marker\": {\"line\": {\"color\": \"#283442\"}}, \"type\": \"scatter\"}], \"scatter3d\": [{\"line\": {\"colorbar\": {\"outlinewidth\": 0, \"ticks\": \"\"}}, \"marker\": {\"colorbar\": {\"outlinewidth\": 0, \"ticks\": \"\"}}, \"type\": \"scatter3d\"}], \"scattercarpet\": [{\"marker\": {\"colorbar\": {\"outlinewidth\": 0, \"ticks\": \"\"}}, \"type\": \"scattercarpet\"}], \"scattergeo\": [{\"marker\": {\"colorbar\": {\"outlinewidth\": 0, \"ticks\": \"\"}}, \"type\": \"scattergeo\"}], \"scattergl\": [{\"marker\": {\"line\": {\"color\": \"#283442\"}}, \"type\": \"scattergl\"}], \"scattermapbox\": [{\"marker\": {\"colorbar\": {\"outlinewidth\": 0, \"ticks\": \"\"}}, \"type\": \"scattermapbox\"}], \"scatterpolar\": [{\"marker\": {\"colorbar\": {\"outlinewidth\": 0, \"ticks\": \"\"}}, \"type\": \"scatterpolar\"}], \"scatterpolargl\": [{\"marker\": {\"colorbar\": {\"outlinewidth\": 0, \"ticks\": \"\"}}, \"type\": \"scatterpolargl\"}], \"scatterternary\": [{\"marker\": {\"colorbar\": {\"outlinewidth\": 0, \"ticks\": \"\"}}, \"type\": \"scatterternary\"}], \"surface\": [{\"colorbar\": {\"outlinewidth\": 0, \"ticks\": \"\"}, \"colorscale\": [[0.0, \"#0d0887\"], [0.1111111111111111, \"#46039f\"], [0.2222222222222222, \"#7201a8\"], [0.3333333333333333, \"#9c179e\"], [0.4444444444444444, \"#bd3786\"], [0.5555555555555556, \"#d8576b\"], [0.6666666666666666, \"#ed7953\"], [0.7777777777777778, \"#fb9f3a\"], [0.8888888888888888, \"#fdca26\"], [1.0, \"#f0f921\"]], \"type\": \"surface\"}], \"table\": [{\"cells\": {\"fill\": {\"color\": \"#506784\"}, \"line\": {\"color\": \"rgb(17,17,17)\"}}, \"header\": {\"fill\": {\"color\": \"#2a3f5f\"}, \"line\": {\"color\": \"rgb(17,17,17)\"}}, \"type\": \"table\"}]}, \"layout\": {\"annotationdefaults\": {\"arrowcolor\": \"#f2f5fa\", \"arrowhead\": 0, \"arrowwidth\": 1}, \"autotypenumbers\": \"strict\", \"coloraxis\": {\"colorbar\": {\"outlinewidth\": 0, \"ticks\": \"\"}}, \"colorscale\": {\"diverging\": [[0, \"#8e0152\"], [0.1, \"#c51b7d\"], [0.2, \"#de77ae\"], [0.3, \"#f1b6da\"], [0.4, \"#fde0ef\"], [0.5, \"#f7f7f7\"], [0.6, \"#e6f5d0\"], [0.7, \"#b8e186\"], [0.8, \"#7fbc41\"], [0.9, \"#4d9221\"], [1, \"#276419\"]], \"sequential\": [[0.0, \"#0d0887\"], [0.1111111111111111, \"#46039f\"], [0.2222222222222222, \"#7201a8\"], [0.3333333333333333, \"#9c179e\"], [0.4444444444444444, \"#bd3786\"], [0.5555555555555556, \"#d8576b\"], [0.6666666666666666, \"#ed7953\"], [0.7777777777777778, \"#fb9f3a\"], [0.8888888888888888, \"#fdca26\"], [1.0, \"#f0f921\"]], \"sequentialminus\": [[0.0, \"#0d0887\"], [0.1111111111111111, \"#46039f\"], [0.2222222222222222, \"#7201a8\"], [0.3333333333333333, \"#9c179e\"], [0.4444444444444444, \"#bd3786\"], [0.5555555555555556, \"#d8576b\"], [0.6666666666666666, \"#ed7953\"], [0.7777777777777778, \"#fb9f3a\"], [0.8888888888888888, \"#fdca26\"], [1.0, \"#f0f921\"]]}, \"colorway\": [\"#636efa\", \"#EF553B\", \"#00cc96\", \"#ab63fa\", \"#FFA15A\", \"#19d3f3\", \"#FF6692\", \"#B6E880\", \"#FF97FF\", \"#FECB52\"], \"font\": {\"color\": \"#f2f5fa\"}, \"geo\": {\"bgcolor\": \"rgb(17,17,17)\", \"lakecolor\": \"rgb(17,17,17)\", \"landcolor\": \"rgb(17,17,17)\", \"showlakes\": true, \"showland\": true, \"subunitcolor\": \"#506784\"}, \"hoverlabel\": {\"align\": \"left\"}, \"hovermode\": \"closest\", \"mapbox\": {\"style\": \"dark\"}, \"paper_bgcolor\": \"rgb(17,17,17)\", \"plot_bgcolor\": \"rgb(17,17,17)\", \"polar\": {\"angularaxis\": {\"gridcolor\": \"#506784\", \"linecolor\": \"#506784\", \"ticks\": \"\"}, \"bgcolor\": \"rgb(17,17,17)\", \"radialaxis\": {\"gridcolor\": \"#506784\", \"linecolor\": \"#506784\", \"ticks\": \"\"}}, \"scene\": {\"xaxis\": {\"backgroundcolor\": \"rgb(17,17,17)\", \"gridcolor\": \"#506784\", \"gridwidth\": 2, \"linecolor\": \"#506784\", \"showbackground\": true, \"ticks\": \"\", \"zerolinecolor\": \"#C8D4E3\"}, \"yaxis\": {\"backgroundcolor\": \"rgb(17,17,17)\", \"gridcolor\": \"#506784\", \"gridwidth\": 2, \"linecolor\": \"#506784\", \"showbackground\": true, \"ticks\": \"\", \"zerolinecolor\": \"#C8D4E3\"}, \"zaxis\": {\"backgroundcolor\": \"rgb(17,17,17)\", \"gridcolor\": \"#506784\", \"gridwidth\": 2, \"linecolor\": \"#506784\", \"showbackground\": true, \"ticks\": \"\", \"zerolinecolor\": \"#C8D4E3\"}}, \"shapedefaults\": {\"line\": {\"color\": \"#f2f5fa\"}}, \"sliderdefaults\": {\"bgcolor\": \"#C8D4E3\", \"bordercolor\": \"rgb(17,17,17)\", \"borderwidth\": 1, \"tickwidth\": 0}, \"ternary\": {\"aaxis\": {\"gridcolor\": \"#506784\", \"linecolor\": \"#506784\", \"ticks\": \"\"}, \"baxis\": {\"gridcolor\": \"#506784\", \"linecolor\": \"#506784\", \"ticks\": \"\"}, \"bgcolor\": \"rgb(17,17,17)\", \"caxis\": {\"gridcolor\": \"#506784\", \"linecolor\": \"#506784\", \"ticks\": \"\"}}, \"title\": {\"x\": 0.05}, \"updatemenudefaults\": {\"bgcolor\": \"#506784\", \"borderwidth\": 0}, \"xaxis\": {\"automargin\": true, \"gridcolor\": \"#283442\", \"linecolor\": \"#506784\", \"ticks\": \"\", \"title\": {\"standoff\": 15}, \"zerolinecolor\": \"#283442\", \"zerolinewidth\": 2}, \"yaxis\": {\"automargin\": true, \"gridcolor\": \"#283442\", \"linecolor\": \"#506784\", \"ticks\": \"\", \"title\": {\"standoff\": 15}, \"zerolinecolor\": \"#283442\", \"zerolinewidth\": 2}}}, \"title\": {\"text\": \"\\u0394P vs Alkalinity, KB08\"}, \"xaxis\": {\"anchor\": \"y\", \"domain\": [0.0, 0.7363], \"title\": {\"text\": \"delta_P2\"}}, \"xaxis2\": {\"anchor\": \"y2\", \"domain\": [0.7413, 1.0], \"matches\": \"x2\", \"showgrid\": true, \"showline\": false, \"showticklabels\": false, \"ticks\": \"\"}, \"xaxis3\": {\"anchor\": \"y3\", \"domain\": [0.0, 0.7363], \"matches\": \"x\", \"showgrid\": true, \"showticklabels\": false}, \"xaxis4\": {\"anchor\": \"y4\", \"domain\": [0.7413, 1.0], \"matches\": \"x2\", \"showgrid\": true, \"showline\": false, \"showticklabels\": false, \"ticks\": \"\"}, \"yaxis\": {\"anchor\": \"x\", \"domain\": [0.0, 0.7326], \"title\": {\"text\": \"Probability\"}}, \"yaxis2\": {\"anchor\": \"x2\", \"domain\": [0.0, 0.7326], \"matches\": \"y\", \"showgrid\": true, \"showticklabels\": false}, \"yaxis3\": {\"anchor\": \"x3\", \"domain\": [0.7426, 1.0], \"matches\": \"y3\", \"showgrid\": true, \"showline\": false, \"showticklabels\": false, \"ticks\": \"\"}, \"yaxis4\": {\"anchor\": \"x4\", \"domain\": [0.7426, 1.0], \"matches\": \"y3\", \"showgrid\": true, \"showline\": false, \"showticklabels\": false, \"ticks\": \"\"}},                        {\"responsive\": true}                    ).then(function(){\n",
       "                            \n",
       "var gd = document.getElementById('bf2e5a68-c509-466e-bfad-b240cd89db76');\n",
       "var x = new MutationObserver(function (mutations, observer) {{\n",
       "        var display = window.getComputedStyle(gd).display;\n",
       "        if (!display || display === 'none') {{\n",
       "            console.log([gd, 'removed!']);\n",
       "            Plotly.purge(gd);\n",
       "            observer.disconnect();\n",
       "        }}\n",
       "}});\n",
       "\n",
       "// Listen for the removal of the full notebook cells\n",
       "var notebookContainer = gd.closest('#notebook-container');\n",
       "if (notebookContainer) {{\n",
       "    x.observe(notebookContainer, {childList: true});\n",
       "}}\n",
       "\n",
       "// Listen for the clearing of the current output cell\n",
       "var outputEl = gd.closest('.output');\n",
       "if (outputEl) {{\n",
       "    x.observe(outputEl, {childList: true});\n",
       "}}\n",
       "\n",
       "                        })                };                });            </script>        </div>"
      ]
     },
     "metadata": {},
     "output_type": "display_data"
    }
   ],
   "source": [
    "fig = px.scatter(df_Un, x=\"delta_P2\", y=\"Probability\",  template= \"plotly_dark\", labels={\"delta_P\": \"ΔP\",  \"Pressure_kbar\": \"Experimental Pressure\"}, marginal_x=\"histogram\", marginal_y=\"histogram\", color='alk',color_continuous_scale=px.colors.sequential.deep, title=\"ΔP vs Alkalinity, KB08\")\n",
    "fig.show()"
   ]
  },
  {
   "cell_type": "code",
   "execution_count": 63,
   "metadata": {},
   "outputs": [
    {
     "data": {
      "image/png": "[encoded data removed]",
      "text/plain": [
       "<Figure size 720x720 with 1 Axes>"
      ]
     },
     "metadata": {},
     "output_type": "display_data"
    }
   ],
   "source": [
    "sns.set_style(\"dark\")\n",
    "plt.style.use(\"dark_background\")\n",
    "#sns.set(rc={'figure.figsize':(10.0,10)})\n",
    "ax = sns.scatterplot(x=\"delta_P\", y=\"alk\", data=df_up, s=300, color = 'lemonchiffon', size = 'Phases', sizes = (500, 20), alpha = 0.6)\n",
    "ax.legend(loc='center left', bbox_to_anchor=(1.0, 0.5), ncol=1)\n",
    "plt.axvline(0)\n",
    "\n",
    "\n",
    "ax.axes.set_title(\"Alkalinity vs ΔP\",fontsize=25)\n",
    "ax.set_xlabel(\"ΔP\",fontsize=20)\n",
    "ax.set_ylabel(\"Alkalinity\",fontsize=20)\n",
    "ax.tick_params(labelsize=20)"
   ]
  },
  {
   "cell_type": "code",
   "execution_count": 15,
   "metadata": {},
   "outputs": [
    {
     "data": {
      "application/vnd.plotly.v1+json": {
       "config": {
        "plotlyServerURL": "https://plot.ly"
       },
       "data": [
        {
         "alignmentgroup": "True",
         "box": {
          "visible": false
         },
         "hovertemplate": "delta_P=%{x}<extra></extra>",
         "legendgroup": "",
         "marker": {
          "color": "#636efa"
         },
         "name": "",
         "offsetgroup": "",
         "orientation": "h",
         "scalegroup": "True",
         "showlegend": false,
         "type": "violin",
         "x": [
          -0.7184502733624623,
          0.30738296527975995,
          -0.6299009629245198,
          0.3972739452482525,
          -0.1291057290640712,
          1.396410659544079,
          0.40376668004160077,
          -0.2023139537937081,
          -1.0154137973289918,
          0.020067990657676005,
          -0.37704117014722094,
          -0.6628098573524176,
          0.9727769147782421,
          -0.27366617561450113,
          -0.9346846975967105,
          -2.350870986646548,
          0.6758270949803159,
          -0.905206322563929,
          -1.566940402928563,
          0.4317892026483253,
          -0.02926867484721888,
          -0.7647045366357849,
          -1.322581895546519,
          1.9590797418523198,
          0.9479332082264148,
          1.8035842349093616,
          1.486074661347976,
          -1.48666289513515,
          -2.7595538061457985,
          -2.686708585832543,
          -2.2196088016986977,
          -0.24416508116255461,
          -3.1161766852707697,
          -2.958180671774819,
          -3.5864267731542903,
          1.7627305502007096,
          1.0409988431377668,
          1.0078230057002575,
          0.13455945318689097,
          0.15877829998383516,
          -1.6206855533456603,
          -1.528893541753387,
          2.945295942429557,
          1.4917294586608838,
          1.2683208949478524,
          -0.31345443176234433,
          0.9052395570259552,
          -1.5929450055900953,
          3.000482376233701,
          2.948383397291074,
          2.6891014523720993,
          2.436213443966197,
          0.21889687695574744,
          0.34014454527855204,
          -0.5276328914785413,
          -0.9684341758018147,
          0.5280408870062924,
          -0.2613995913358246,
          0.6367025472476446,
          1.5765296233094137,
          1.8831051346872232,
          5.846817037772927,
          -0.025446360030355067,
          0.08961913287189255,
          1.3794748879580032,
          2.0106395702970414,
          1.2377085955072198,
          0.7289816426888536,
          0.6802404264820407,
          0.6838778018901926,
          4.903435363816639,
          4.4572031941288275,
          4.749986020104786,
          4.184726771618456,
          4.73097960686746,
          4.58033615154047,
          5.038807612224982,
          2.1855851113231797,
          4.498443521510064,
          4.831815237174058,
          2.503052457333534,
          2.309305806397403,
          1.8459656805310576,
          2.190982882719679,
          -0.8027109586157571,
          0.47215486335692936,
          -0.47392175119518065,
          2.336919101054987,
          1.9222041944882031,
          2.0604379236726498,
          2.5419615907167414,
          1.1861533496942815,
          2.5355576422756267,
          1.122121168657743,
          1.1869546255225512,
          0.6085403529225356,
          1.8535346597379192,
          0.4178094817184535,
          1.0051928277846218,
          2.0496405275893053,
          0.6800776528876379,
          1.067449054580603,
          0.6486701919892628,
          -0.036639677301450395,
          -0.6912172204612715,
          0.38867447061046645,
          0.015753267822704094,
          -0.07442560128845702,
          0.3974386508525427,
          4.294232065515066,
          8.511163299287627,
          3.0536034099615157,
          3.959388837494978,
          4.788724078516759,
          4.342992578765969,
          5.416190452599734,
          -1.9784059063574835,
          -1.2715052122100665,
          0.8489152408927164,
          0.18326984342022587,
          0.35439704611087264,
          2.190982882719679,
          -0.9242612463711491,
          0.10432247491140641,
          -0.8027109586157571,
          1.1588018232011656,
          9.200783498091699,
          0.6930375286568948,
          -0.1455625078342464,
          -0.1660240116060018,
          0.5196467414666077,
          -1.9984264667115008,
          0.33850737483112037,
          -1.9405541163091586,
          0.4119513232953537,
          5.088034381524278,
          4.63459660505057,
          4.619685822236436,
          3.7778483409457055
         ],
         "x0": " ",
         "xaxis": "x",
         "y0": " ",
         "yaxis": "y"
        }
       ],
       "layout": {
        "legend": {
         "tracegroupgap": 0
        },
        "template": {
         "data": {
          "bar": [
           {
            "error_x": {
             "color": "#2a3f5f"
            },
            "error_y": {
             "color": "#2a3f5f"
            },
            "marker": {
             "line": {
              "color": "#E5ECF6",
              "width": 0.5
             }
            },
            "type": "bar"
           }
          ],
          "barpolar": [
           {
            "marker": {
             "line": {
              "color": "#E5ECF6",
              "width": 0.5
             }
            },
            "type": "barpolar"
           }
          ],
          "carpet": [
           {
            "aaxis": {
             "endlinecolor": "#2a3f5f",
             "gridcolor": "white",
             "linecolor": "white",
             "minorgridcolor": "white",
             "startlinecolor": "#2a3f5f"
            },
            "baxis": {
             "endlinecolor": "#2a3f5f",
             "gridcolor": "white",
             "linecolor": "white",
             "minorgridcolor": "white",
             "startlinecolor": "#2a3f5f"
            },
            "type": "carpet"
           }
          ],
          "choropleth": [
           {
            "colorbar": {
             "outlinewidth": 0,
             "ticks": ""
            },
            "type": "choropleth"
           }
          ],
          "contour": [
           {
            "colorbar": {
             "outlinewidth": 0,
             "ticks": ""
            },
            "colorscale": [
             [
              0,
              "#0d0887"
             ],
             [
              0.1111111111111111,
              "#46039f"
             ],
             [
              0.2222222222222222,
              "#7201a8"
             ],
             [
              0.3333333333333333,
              "#9c179e"
             ],
             [
              0.4444444444444444,
              "#bd3786"
             ],
             [
              0.5555555555555556,
              "#d8576b"
             ],
             [
              0.6666666666666666,
              "#ed7953"
             ],
             [
              0.7777777777777778,
              "#fb9f3a"
             ],
             [
              0.8888888888888888,
              "#fdca26"
             ],
             [
              1,
              "#f0f921"
             ]
            ],
            "type": "contour"
           }
          ],
          "contourcarpet": [
           {
            "colorbar": {
             "outlinewidth": 0,
             "ticks": ""
            },
            "type": "contourcarpet"
           }
          ],
          "heatmap": [
           {
            "colorbar": {
             "outlinewidth": 0,
             "ticks": ""
            },
            "colorscale": [
             [
              0,
              "#0d0887"
             ],
             [
              0.1111111111111111,
              "#46039f"
             ],
             [
              0.2222222222222222,
              "#7201a8"
             ],
             [
              0.3333333333333333,
              "#9c179e"
             ],
             [
              0.4444444444444444,
              "#bd3786"
             ],
             [
              0.5555555555555556,
              "#d8576b"
             ],
             [
              0.6666666666666666,
              "#ed7953"
             ],
             [
              0.7777777777777778,
              "#fb9f3a"
             ],
             [
              0.8888888888888888,
              "#fdca26"
             ],
             [
              1,
              "#f0f921"
             ]
            ],
            "type": "heatmap"
           }
          ],
          "heatmapgl": [
           {
            "colorbar": {
             "outlinewidth": 0,
             "ticks": ""
            },
            "colorscale": [
             [
              0,
              "#0d0887"
             ],
             [
              0.1111111111111111,
              "#46039f"
             ],
             [
              0.2222222222222222,
              "#7201a8"
             ],
             [
              0.3333333333333333,
              "#9c179e"
             ],
             [
              0.4444444444444444,
              "#bd3786"
             ],
             [
              0.5555555555555556,
              "#d8576b"
             ],
             [
              0.6666666666666666,
              "#ed7953"
             ],
             [
              0.7777777777777778,
              "#fb9f3a"
             ],
             [
              0.8888888888888888,
              "#fdca26"
             ],
             [
              1,
              "#f0f921"
             ]
            ],
            "type": "heatmapgl"
           }
          ],
          "histogram": [
           {
            "marker": {
             "colorbar": {
              "outlinewidth": 0,
              "ticks": ""
             }
            },
            "type": "histogram"
           }
          ],
          "histogram2d": [
           {
            "colorbar": {
             "outlinewidth": 0,
             "ticks": ""
            },
            "colorscale": [
             [
              0,
              "#0d0887"
             ],
             [
              0.1111111111111111,
              "#46039f"
             ],
             [
              0.2222222222222222,
              "#7201a8"
             ],
             [
              0.3333333333333333,
              "#9c179e"
             ],
             [
              0.4444444444444444,
              "#bd3786"
             ],
             [
              0.5555555555555556,
              "#d8576b"
             ],
             [
              0.6666666666666666,
              "#ed7953"
             ],
             [
              0.7777777777777778,
              "#fb9f3a"
             ],
             [
              0.8888888888888888,
              "#fdca26"
             ],
             [
              1,
              "#f0f921"
             ]
            ],
            "type": "histogram2d"
           }
          ],
          "histogram2dcontour": [
           {
            "colorbar": {
             "outlinewidth": 0,
             "ticks": ""
            },
            "colorscale": [
             [
              0,
              "#0d0887"
             ],
             [
              0.1111111111111111,
              "#46039f"
             ],
             [
              0.2222222222222222,
              "#7201a8"
             ],
             [
              0.3333333333333333,
              "#9c179e"
             ],
             [
              0.4444444444444444,
              "#bd3786"
             ],
             [
              0.5555555555555556,
              "#d8576b"
             ],
             [
              0.6666666666666666,
              "#ed7953"
             ],
             [
              0.7777777777777778,
              "#fb9f3a"
             ],
             [
              0.8888888888888888,
              "#fdca26"
             ],
             [
              1,
              "#f0f921"
             ]
            ],
            "type": "histogram2dcontour"
           }
          ],
          "mesh3d": [
           {
            "colorbar": {
             "outlinewidth": 0,
             "ticks": ""
            },
            "type": "mesh3d"
           }
          ],
          "parcoords": [
           {
            "line": {
             "colorbar": {
              "outlinewidth": 0,
              "ticks": ""
             }
            },
            "type": "parcoords"
           }
          ],
          "pie": [
           {
            "automargin": true,
            "type": "pie"
           }
          ],
          "scatter": [
           {
            "marker": {
             "colorbar": {
              "outlinewidth": 0,
              "ticks": ""
             }
            },
            "type": "scatter"
           }
          ],
          "scatter3d": [
           {
            "line": {
             "colorbar": {
              "outlinewidth": 0,
              "ticks": ""
             }
            },
            "marker": {
             "colorbar": {
              "outlinewidth": 0,
              "ticks": ""
             }
            },
            "type": "scatter3d"
           }
          ],
          "scattercarpet": [
           {
            "marker": {
             "colorbar": {
              "outlinewidth": 0,
              "ticks": ""
             }
            },
            "type": "scattercarpet"
           }
          ],
          "scattergeo": [
           {
            "marker": {
             "colorbar": {
              "outlinewidth": 0,
              "ticks": ""
             }
            },
            "type": "scattergeo"
           }
          ],
          "scattergl": [
           {
            "marker": {
             "colorbar": {
              "outlinewidth": 0,
              "ticks": ""
             }
            },
            "type": "scattergl"
           }
          ],
          "scattermapbox": [
           {
            "marker": {
             "colorbar": {
              "outlinewidth": 0,
              "ticks": ""
             }
            },
            "type": "scattermapbox"
           }
          ],
          "scatterpolar": [
           {
            "marker": {
             "colorbar": {
              "outlinewidth": 0,
              "ticks": ""
             }
            },
            "type": "scatterpolar"
           }
          ],
          "scatterpolargl": [
           {
            "marker": {
             "colorbar": {
              "outlinewidth": 0,
              "ticks": ""
             }
            },
            "type": "scatterpolargl"
           }
          ],
          "scatterternary": [
           {
            "marker": {
             "colorbar": {
              "outlinewidth": 0,
              "ticks": ""
             }
            },
            "type": "scatterternary"
           }
          ],
          "surface": [
           {
            "colorbar": {
             "outlinewidth": 0,
             "ticks": ""
            },
            "colorscale": [
             [
              0,
              "#0d0887"
             ],
             [
              0.1111111111111111,
              "#46039f"
             ],
             [
              0.2222222222222222,
              "#7201a8"
             ],
             [
              0.3333333333333333,
              "#9c179e"
             ],
             [
              0.4444444444444444,
              "#bd3786"
             ],
             [
              0.5555555555555556,
              "#d8576b"
             ],
             [
              0.6666666666666666,
              "#ed7953"
             ],
             [
              0.7777777777777778,
              "#fb9f3a"
             ],
             [
              0.8888888888888888,
              "#fdca26"
             ],
             [
              1,
              "#f0f921"
             ]
            ],
            "type": "surface"
           }
          ],
          "table": [
           {
            "cells": {
             "fill": {
              "color": "#EBF0F8"
             },
             "line": {
              "color": "white"
             }
            },
            "header": {
             "fill": {
              "color": "#C8D4E3"
             },
             "line": {
              "color": "white"
             }
            },
            "type": "table"
           }
          ]
         },
         "layout": {
          "annotationdefaults": {
           "arrowcolor": "#2a3f5f",
           "arrowhead": 0,
           "arrowwidth": 1
          },
          "autotypenumbers": "strict",
          "coloraxis": {
           "colorbar": {
            "outlinewidth": 0,
            "ticks": ""
           }
          },
          "colorscale": {
           "diverging": [
            [
             0,
             "#8e0152"
            ],
            [
             0.1,
             "#c51b7d"
            ],
            [
             0.2,
             "#de77ae"
            ],
            [
             0.3,
             "#f1b6da"
            ],
            [
             0.4,
             "#fde0ef"
            ],
            [
             0.5,
             "#f7f7f7"
            ],
            [
             0.6,
             "#e6f5d0"
            ],
            [
             0.7,
             "#b8e186"
            ],
            [
             0.8,
             "#7fbc41"
            ],
            [
             0.9,
             "#4d9221"
            ],
            [
             1,
             "#276419"
            ]
           ],
           "sequential": [
            [
             0,
             "#0d0887"
            ],
            [
             0.1111111111111111,
             "#46039f"
            ],
            [
             0.2222222222222222,
             "#7201a8"
            ],
            [
             0.3333333333333333,
             "#9c179e"
            ],
            [
             0.4444444444444444,
             "#bd3786"
            ],
            [
             0.5555555555555556,
             "#d8576b"
            ],
            [
             0.6666666666666666,
             "#ed7953"
            ],
            [
             0.7777777777777778,
             "#fb9f3a"
            ],
            [
             0.8888888888888888,
             "#fdca26"
            ],
            [
             1,
             "#f0f921"
            ]
           ],
           "sequentialminus": [
            [
             0,
             "#0d0887"
            ],
            [
             0.1111111111111111,
             "#46039f"
            ],
            [
             0.2222222222222222,
             "#7201a8"
            ],
            [
             0.3333333333333333,
             "#9c179e"
            ],
            [
             0.4444444444444444,
             "#bd3786"
            ],
            [
             0.5555555555555556,
             "#d8576b"
            ],
            [
             0.6666666666666666,
             "#ed7953"
            ],
            [
             0.7777777777777778,
             "#fb9f3a"
            ],
            [
             0.8888888888888888,
             "#fdca26"
            ],
            [
             1,
             "#f0f921"
            ]
           ]
          },
          "colorway": [
           "#636efa",
           "#EF553B",
           "#00cc96",
           "#ab63fa",
           "#FFA15A",
           "#19d3f3",
           "#FF6692",
           "#B6E880",
           "#FF97FF",
           "#FECB52"
          ],
          "font": {
           "color": "#2a3f5f"
          },
          "geo": {
           "bgcolor": "white",
           "lakecolor": "white",
           "landcolor": "#E5ECF6",
           "showlakes": true,
           "showland": true,
           "subunitcolor": "white"
          },
          "hoverlabel": {
           "align": "left"
          },
          "hovermode": "closest",
          "mapbox": {
           "style": "light"
          },
          "paper_bgcolor": "white",
          "plot_bgcolor": "#E5ECF6",
          "polar": {
           "angularaxis": {
            "gridcolor": "white",
            "linecolor": "white",
            "ticks": ""
           },
           "bgcolor": "#E5ECF6",
           "radialaxis": {
            "gridcolor": "white",
            "linecolor": "white",
            "ticks": ""
           }
          },
          "scene": {
           "xaxis": {
            "backgroundcolor": "#E5ECF6",
            "gridcolor": "white",
            "gridwidth": 2,
            "linecolor": "white",
            "showbackground": true,
            "ticks": "",
            "zerolinecolor": "white"
           },
           "yaxis": {
            "backgroundcolor": "#E5ECF6",
            "gridcolor": "white",
            "gridwidth": 2,
            "linecolor": "white",
            "showbackground": true,
            "ticks": "",
            "zerolinecolor": "white"
           },
           "zaxis": {
            "backgroundcolor": "#E5ECF6",
            "gridcolor": "white",
            "gridwidth": 2,
            "linecolor": "white",
            "showbackground": true,
            "ticks": "",
            "zerolinecolor": "white"
           }
          },
          "shapedefaults": {
           "line": {
            "color": "#2a3f5f"
           }
          },
          "ternary": {
           "aaxis": {
            "gridcolor": "white",
            "linecolor": "white",
            "ticks": ""
           },
           "baxis": {
            "gridcolor": "white",
            "linecolor": "white",
            "ticks": ""
           },
           "bgcolor": "#E5ECF6",
           "caxis": {
            "gridcolor": "white",
            "linecolor": "white",
            "ticks": ""
           }
          },
          "title": {
           "x": 0.05
          },
          "xaxis": {
           "automargin": true,
           "gridcolor": "white",
           "linecolor": "white",
           "ticks": "",
           "title": {
            "standoff": 15
           },
           "zerolinecolor": "white",
           "zerolinewidth": 2
          },
          "yaxis": {
           "automargin": true,
           "gridcolor": "white",
           "linecolor": "white",
           "ticks": "",
           "title": {
            "standoff": 15
           },
           "zerolinecolor": "white",
           "zerolinewidth": 2
          }
         }
        },
        "title": {
         "text": "Unfiltered experimental 1 atm vs delta P"
        },
        "violinmode": "group",
        "xaxis": {
         "anchor": "y",
         "domain": [
          0,
          1
         ],
         "title": {
          "text": "delta_P"
         }
        },
        "yaxis": {
         "anchor": "x",
         "domain": [
          0,
          1
         ]
        }
       }
      },
      "text/html": [
       "<div>                            <div id=\"4327e509-42bd-4926-8c6b-989a1d183227\" class=\"plotly-graph-div\" style=\"height:525px; width:100%;\"></div>            <script type=\"text/javascript\">                require([\"plotly\"], function(Plotly) {                    window.PLOTLYENV=window.PLOTLYENV || {};                                    if (document.getElementById(\"4327e509-42bd-4926-8c6b-989a1d183227\")) {                    Plotly.newPlot(                        \"4327e509-42bd-4926-8c6b-989a1d183227\",                        [{\"alignmentgroup\": \"True\", \"box\": {\"visible\": false}, \"hovertemplate\": \"delta_P=%{x}<extra></extra>\", \"legendgroup\": \"\", \"marker\": {\"color\": \"#636efa\"}, \"name\": \"\", \"offsetgroup\": \"\", \"orientation\": \"h\", \"scalegroup\": \"True\", \"showlegend\": false, \"type\": \"violin\", \"x\": [-0.7184502733624623, 0.30738296527975995, -0.6299009629245198, 0.3972739452482525, -0.1291057290640712, 1.396410659544079, 0.40376668004160077, -0.2023139537937081, -1.0154137973289918, 0.020067990657676005, -0.37704117014722094, -0.6628098573524176, 0.9727769147782421, -0.27366617561450113, -0.9346846975967105, -2.350870986646548, 0.6758270949803159, -0.905206322563929, -1.566940402928563, 0.4317892026483253, -0.02926867484721888, -0.7647045366357849, -1.322581895546519, 1.9590797418523198, 0.9479332082264148, 1.8035842349093616, 1.486074661347976, -1.48666289513515, -2.7595538061457985, -2.686708585832543, -2.2196088016986977, -0.24416508116255461, -3.1161766852707697, -2.958180671774819, -3.5864267731542903, 1.7627305502007096, 1.0409988431377668, 1.0078230057002575, 0.13455945318689097, 0.15877829998383516, -1.6206855533456603, -1.528893541753387, 2.945295942429557, 1.4917294586608838, 1.2683208949478524, -0.31345443176234433, 0.9052395570259552, -1.5929450055900953, 3.000482376233701, 2.948383397291074, 2.6891014523720993, 2.436213443966197, 0.21889687695574744, 0.34014454527855204, -0.5276328914785413, -0.9684341758018147, 0.5280408870062924, -0.2613995913358246, 0.6367025472476446, 1.5765296233094137, 1.8831051346872232, 5.846817037772927, -0.025446360030355067, 0.08961913287189255, 1.3794748879580032, 2.0106395702970414, 1.2377085955072198, 0.7289816426888536, 0.6802404264820407, 0.6838778018901926, 4.903435363816639, 4.4572031941288275, 4.749986020104786, 4.184726771618456, 4.73097960686746, 4.58033615154047, 5.038807612224982, 2.1855851113231797, 4.498443521510064, 4.831815237174058, 2.503052457333534, 2.309305806397403, 1.8459656805310576, 2.190982882719679, -0.8027109586157571, 0.47215486335692936, -0.47392175119518065, 2.336919101054987, 1.9222041944882031, 2.0604379236726498, 2.5419615907167414, 1.1861533496942815, 2.5355576422756267, 1.122121168657743, 1.1869546255225512, 0.6085403529225356, 1.8535346597379192, 0.4178094817184535, 1.0051928277846218, 2.0496405275893053, 0.6800776528876379, 1.067449054580603, 0.6486701919892628, -0.036639677301450395, -0.6912172204612715, 0.38867447061046645, 0.015753267822704094, -0.07442560128845702, 0.3974386508525427, 4.294232065515066, 8.511163299287627, 3.0536034099615157, 3.959388837494978, 4.788724078516759, 4.342992578765969, 5.416190452599734, -1.9784059063574835, -1.2715052122100665, 0.8489152408927164, 0.18326984342022587, 0.35439704611087264, 2.190982882719679, -0.9242612463711491, 0.10432247491140641, -0.8027109586157571, 1.1588018232011656, 9.200783498091699, 0.6930375286568948, -0.1455625078342464, -0.1660240116060018, 0.5196467414666077, -1.9984264667115008, 0.33850737483112037, -1.9405541163091586, 0.4119513232953537, 5.088034381524278, 4.63459660505057, 4.619685822236436, 3.7778483409457055], \"x0\": \" \", \"xaxis\": \"x\", \"y0\": \" \", \"yaxis\": \"y\"}],                        {\"legend\": {\"tracegroupgap\": 0}, \"template\": {\"data\": {\"bar\": [{\"error_x\": {\"color\": \"#2a3f5f\"}, \"error_y\": {\"color\": \"#2a3f5f\"}, \"marker\": {\"line\": {\"color\": \"#E5ECF6\", \"width\": 0.5}}, \"type\": \"bar\"}], \"barpolar\": [{\"marker\": {\"line\": {\"color\": \"#E5ECF6\", \"width\": 0.5}}, \"type\": \"barpolar\"}], \"carpet\": [{\"aaxis\": {\"endlinecolor\": \"#2a3f5f\", \"gridcolor\": \"white\", \"linecolor\": \"white\", \"minorgridcolor\": \"white\", \"startlinecolor\": \"#2a3f5f\"}, \"baxis\": {\"endlinecolor\": \"#2a3f5f\", \"gridcolor\": \"white\", \"linecolor\": \"white\", \"minorgridcolor\": \"white\", \"startlinecolor\": \"#2a3f5f\"}, \"type\": \"carpet\"}], \"choropleth\": [{\"colorbar\": {\"outlinewidth\": 0, \"ticks\": \"\"}, \"type\": \"choropleth\"}], \"contour\": [{\"colorbar\": {\"outlinewidth\": 0, \"ticks\": \"\"}, \"colorscale\": [[0.0, \"#0d0887\"], [0.1111111111111111, \"#46039f\"], [0.2222222222222222, \"#7201a8\"], [0.3333333333333333, \"#9c179e\"], [0.4444444444444444, \"#bd3786\"], [0.5555555555555556, \"#d8576b\"], [0.6666666666666666, \"#ed7953\"], [0.7777777777777778, \"#fb9f3a\"], [0.8888888888888888, \"#fdca26\"], [1.0, \"#f0f921\"]], \"type\": \"contour\"}], \"contourcarpet\": [{\"colorbar\": {\"outlinewidth\": 0, \"ticks\": \"\"}, \"type\": \"contourcarpet\"}], \"heatmap\": [{\"colorbar\": {\"outlinewidth\": 0, \"ticks\": \"\"}, \"colorscale\": [[0.0, \"#0d0887\"], [0.1111111111111111, \"#46039f\"], [0.2222222222222222, \"#7201a8\"], [0.3333333333333333, \"#9c179e\"], [0.4444444444444444, \"#bd3786\"], [0.5555555555555556, \"#d8576b\"], [0.6666666666666666, \"#ed7953\"], [0.7777777777777778, \"#fb9f3a\"], [0.8888888888888888, \"#fdca26\"], [1.0, \"#f0f921\"]], \"type\": \"heatmap\"}], \"heatmapgl\": [{\"colorbar\": {\"outlinewidth\": 0, \"ticks\": \"\"}, \"colorscale\": [[0.0, \"#0d0887\"], [0.1111111111111111, \"#46039f\"], [0.2222222222222222, \"#7201a8\"], [0.3333333333333333, \"#9c179e\"], [0.4444444444444444, \"#bd3786\"], [0.5555555555555556, \"#d8576b\"], [0.6666666666666666, \"#ed7953\"], [0.7777777777777778, \"#fb9f3a\"], [0.8888888888888888, \"#fdca26\"], [1.0, \"#f0f921\"]], \"type\": \"heatmapgl\"}], \"histogram\": [{\"marker\": {\"colorbar\": {\"outlinewidth\": 0, \"ticks\": \"\"}}, \"type\": \"histogram\"}], \"histogram2d\": [{\"colorbar\": {\"outlinewidth\": 0, \"ticks\": \"\"}, \"colorscale\": [[0.0, \"#0d0887\"], [0.1111111111111111, \"#46039f\"], [0.2222222222222222, \"#7201a8\"], [0.3333333333333333, \"#9c179e\"], [0.4444444444444444, \"#bd3786\"], [0.5555555555555556, \"#d8576b\"], [0.6666666666666666, \"#ed7953\"], [0.7777777777777778, \"#fb9f3a\"], [0.8888888888888888, \"#fdca26\"], [1.0, \"#f0f921\"]], \"type\": \"histogram2d\"}], \"histogram2dcontour\": [{\"colorbar\": {\"outlinewidth\": 0, \"ticks\": \"\"}, \"colorscale\": [[0.0, \"#0d0887\"], [0.1111111111111111, \"#46039f\"], [0.2222222222222222, \"#7201a8\"], [0.3333333333333333, \"#9c179e\"], [0.4444444444444444, \"#bd3786\"], [0.5555555555555556, \"#d8576b\"], [0.6666666666666666, \"#ed7953\"], [0.7777777777777778, \"#fb9f3a\"], [0.8888888888888888, \"#fdca26\"], [1.0, \"#f0f921\"]], \"type\": \"histogram2dcontour\"}], \"mesh3d\": [{\"colorbar\": {\"outlinewidth\": 0, \"ticks\": \"\"}, \"type\": \"mesh3d\"}], \"parcoords\": [{\"line\": {\"colorbar\": {\"outlinewidth\": 0, \"ticks\": \"\"}}, \"type\": \"parcoords\"}], \"pie\": [{\"automargin\": true, \"type\": \"pie\"}], \"scatter\": [{\"marker\": {\"colorbar\": {\"outlinewidth\": 0, \"ticks\": \"\"}}, \"type\": \"scatter\"}], \"scatter3d\": [{\"line\": {\"colorbar\": {\"outlinewidth\": 0, \"ticks\": \"\"}}, \"marker\": {\"colorbar\": {\"outlinewidth\": 0, \"ticks\": \"\"}}, \"type\": \"scatter3d\"}], \"scattercarpet\": [{\"marker\": {\"colorbar\": {\"outlinewidth\": 0, \"ticks\": \"\"}}, \"type\": \"scattercarpet\"}], \"scattergeo\": [{\"marker\": {\"colorbar\": {\"outlinewidth\": 0, \"ticks\": \"\"}}, \"type\": \"scattergeo\"}], \"scattergl\": [{\"marker\": {\"colorbar\": {\"outlinewidth\": 0, \"ticks\": \"\"}}, \"type\": \"scattergl\"}], \"scattermapbox\": [{\"marker\": {\"colorbar\": {\"outlinewidth\": 0, \"ticks\": \"\"}}, \"type\": \"scattermapbox\"}], \"scatterpolar\": [{\"marker\": {\"colorbar\": {\"outlinewidth\": 0, \"ticks\": \"\"}}, \"type\": \"scatterpolar\"}], \"scatterpolargl\": [{\"marker\": {\"colorbar\": {\"outlinewidth\": 0, \"ticks\": \"\"}}, \"type\": \"scatterpolargl\"}], \"scatterternary\": [{\"marker\": {\"colorbar\": {\"outlinewidth\": 0, \"ticks\": \"\"}}, \"type\": \"scatterternary\"}], \"surface\": [{\"colorbar\": {\"outlinewidth\": 0, \"ticks\": \"\"}, \"colorscale\": [[0.0, \"#0d0887\"], [0.1111111111111111, \"#46039f\"], [0.2222222222222222, \"#7201a8\"], [0.3333333333333333, \"#9c179e\"], [0.4444444444444444, \"#bd3786\"], [0.5555555555555556, \"#d8576b\"], [0.6666666666666666, \"#ed7953\"], [0.7777777777777778, \"#fb9f3a\"], [0.8888888888888888, \"#fdca26\"], [1.0, \"#f0f921\"]], \"type\": \"surface\"}], \"table\": [{\"cells\": {\"fill\": {\"color\": \"#EBF0F8\"}, \"line\": {\"color\": \"white\"}}, \"header\": {\"fill\": {\"color\": \"#C8D4E3\"}, \"line\": {\"color\": \"white\"}}, \"type\": \"table\"}]}, \"layout\": {\"annotationdefaults\": {\"arrowcolor\": \"#2a3f5f\", \"arrowhead\": 0, \"arrowwidth\": 1}, \"autotypenumbers\": \"strict\", \"coloraxis\": {\"colorbar\": {\"outlinewidth\": 0, \"ticks\": \"\"}}, \"colorscale\": {\"diverging\": [[0, \"#8e0152\"], [0.1, \"#c51b7d\"], [0.2, \"#de77ae\"], [0.3, \"#f1b6da\"], [0.4, \"#fde0ef\"], [0.5, \"#f7f7f7\"], [0.6, \"#e6f5d0\"], [0.7, \"#b8e186\"], [0.8, \"#7fbc41\"], [0.9, \"#4d9221\"], [1, \"#276419\"]], \"sequential\": [[0.0, \"#0d0887\"], [0.1111111111111111, \"#46039f\"], [0.2222222222222222, \"#7201a8\"], [0.3333333333333333, \"#9c179e\"], [0.4444444444444444, \"#bd3786\"], [0.5555555555555556, \"#d8576b\"], [0.6666666666666666, \"#ed7953\"], [0.7777777777777778, \"#fb9f3a\"], [0.8888888888888888, \"#fdca26\"], [1.0, \"#f0f921\"]], \"sequentialminus\": [[0.0, \"#0d0887\"], [0.1111111111111111, \"#46039f\"], [0.2222222222222222, \"#7201a8\"], [0.3333333333333333, \"#9c179e\"], [0.4444444444444444, \"#bd3786\"], [0.5555555555555556, \"#d8576b\"], [0.6666666666666666, \"#ed7953\"], [0.7777777777777778, \"#fb9f3a\"], [0.8888888888888888, \"#fdca26\"], [1.0, \"#f0f921\"]]}, \"colorway\": [\"#636efa\", \"#EF553B\", \"#00cc96\", \"#ab63fa\", \"#FFA15A\", \"#19d3f3\", \"#FF6692\", \"#B6E880\", \"#FF97FF\", \"#FECB52\"], \"font\": {\"color\": \"#2a3f5f\"}, \"geo\": {\"bgcolor\": \"white\", \"lakecolor\": \"white\", \"landcolor\": \"#E5ECF6\", \"showlakes\": true, \"showland\": true, \"subunitcolor\": \"white\"}, \"hoverlabel\": {\"align\": \"left\"}, \"hovermode\": \"closest\", \"mapbox\": {\"style\": \"light\"}, \"paper_bgcolor\": \"white\", \"plot_bgcolor\": \"#E5ECF6\", \"polar\": {\"angularaxis\": {\"gridcolor\": \"white\", \"linecolor\": \"white\", \"ticks\": \"\"}, \"bgcolor\": \"#E5ECF6\", \"radialaxis\": {\"gridcolor\": \"white\", \"linecolor\": \"white\", \"ticks\": \"\"}}, \"scene\": {\"xaxis\": {\"backgroundcolor\": \"#E5ECF6\", \"gridcolor\": \"white\", \"gridwidth\": 2, \"linecolor\": \"white\", \"showbackground\": true, \"ticks\": \"\", \"zerolinecolor\": \"white\"}, \"yaxis\": {\"backgroundcolor\": \"#E5ECF6\", \"gridcolor\": \"white\", \"gridwidth\": 2, \"linecolor\": \"white\", \"showbackground\": true, \"ticks\": \"\", \"zerolinecolor\": \"white\"}, \"zaxis\": {\"backgroundcolor\": \"#E5ECF6\", \"gridcolor\": \"white\", \"gridwidth\": 2, \"linecolor\": \"white\", \"showbackground\": true, \"ticks\": \"\", \"zerolinecolor\": \"white\"}}, \"shapedefaults\": {\"line\": {\"color\": \"#2a3f5f\"}}, \"ternary\": {\"aaxis\": {\"gridcolor\": \"white\", \"linecolor\": \"white\", \"ticks\": \"\"}, \"baxis\": {\"gridcolor\": \"white\", \"linecolor\": \"white\", \"ticks\": \"\"}, \"bgcolor\": \"#E5ECF6\", \"caxis\": {\"gridcolor\": \"white\", \"linecolor\": \"white\", \"ticks\": \"\"}}, \"title\": {\"x\": 0.05}, \"xaxis\": {\"automargin\": true, \"gridcolor\": \"white\", \"linecolor\": \"white\", \"ticks\": \"\", \"title\": {\"standoff\": 15}, \"zerolinecolor\": \"white\", \"zerolinewidth\": 2}, \"yaxis\": {\"automargin\": true, \"gridcolor\": \"white\", \"linecolor\": \"white\", \"ticks\": \"\", \"title\": {\"standoff\": 15}, \"zerolinecolor\": \"white\", \"zerolinewidth\": 2}}}, \"title\": {\"text\": \"Unfiltered experimental 1 atm vs delta P\"}, \"violinmode\": \"group\", \"xaxis\": {\"anchor\": \"y\", \"domain\": [0.0, 1.0], \"title\": {\"text\": \"delta_P\"}}, \"yaxis\": {\"anchor\": \"x\", \"domain\": [0.0, 1.0]}},                        {\"responsive\": true}                    ).then(function(){\n",
       "                            \n",
       "var gd = document.getElementById('4327e509-42bd-4926-8c6b-989a1d183227');\n",
       "var x = new MutationObserver(function (mutations, observer) {{\n",
       "        var display = window.getComputedStyle(gd).display;\n",
       "        if (!display || display === 'none') {{\n",
       "            console.log([gd, 'removed!']);\n",
       "            Plotly.purge(gd);\n",
       "            observer.disconnect();\n",
       "        }}\n",
       "}});\n",
       "\n",
       "// Listen for the removal of the full notebook cells\n",
       "var notebookContainer = gd.closest('#notebook-container');\n",
       "if (notebookContainer) {{\n",
       "    x.observe(notebookContainer, {childList: true});\n",
       "}}\n",
       "\n",
       "// Listen for the clearing of the current output cell\n",
       "var outputEl = gd.closest('.output');\n",
       "if (outputEl) {{\n",
       "    x.observe(outputEl, {childList: true});\n",
       "}}\n",
       "\n",
       "                        })                };                });            </script>        </div>"
      ]
     },
     "metadata": {},
     "output_type": "display_data"
    }
   ],
   "source": [
    "import plotly.express as px\n",
    "#selecting data frames for pressure ranges\n",
    "atm = df_Un[df_Un['Pressure_kbar']== 0.001]\n",
    "fig = px.violin(atm, x=\"delta_P\", title= \"Unfiltered experimental 1 atm vs delta P\")\n",
    "fig.show()"
   ]
  },
  {
   "cell_type": "markdown",
   "metadata": {},
   "source": [
    "# **Filtered data ( P > 0.80)**"
   ]
  },
  {
   "cell_type": "code",
   "execution_count": 58,
   "metadata": {},
   "outputs": [
    {
     "name": "stdout",
     "output_type": "stream",
     "text": [
      "(113, 29)\n"
     ]
    }
   ],
   "source": [
    "#filter out data with low probability (>0.80)\n",
    "df_Thn = df_Un['Probability']>0.70\n",
    "df_prob = df_Un[df_Thn]\n",
    "df_up = df_prob.copy()\n",
    "\n",
    "columns=['Abs_deltaP','Sqrd_Rsd']\n",
    "df_up.drop(columns,inplace=True,axis=1)\n",
    "\n",
    "#check dataframe\n",
    "print (df_up.shape)"
   ]
  },
  {
   "cell_type": "code",
   "execution_count": 43,
   "metadata": {},
   "outputs": [
    {
     "data": {
      "text/html": [
       "<div>\n",
       "<style scoped>\n",
       "    .dataframe tbody tr th:only-of-type {\n",
       "        vertical-align: middle;\n",
       "    }\n",
       "\n",
       "    .dataframe tbody tr th {\n",
       "        vertical-align: top;\n",
       "    }\n",
       "\n",
       "    .dataframe thead th {\n",
       "        text-align: right;\n",
       "    }\n",
       "</style>\n",
       "<table border=\"1\" class=\"dataframe\">\n",
       "  <thead>\n",
       "    <tr style=\"text-align: right;\">\n",
       "      <th></th>\n",
       "      <th>Reference</th>\n",
       "      <th>Apparatus</th>\n",
       "      <th>Pressure_kbar</th>\n",
       "      <th>Pressure_error</th>\n",
       "      <th>Temperature_degC</th>\n",
       "      <th>Phases</th>\n",
       "      <th>SiO2</th>\n",
       "      <th>TiO2</th>\n",
       "      <th>Al2O3</th>\n",
       "      <th>FeO</th>\n",
       "      <th>...</th>\n",
       "      <th>Alk Line</th>\n",
       "      <th>Sub line</th>\n",
       "      <th>Alkalinity (S)</th>\n",
       "      <th>Alkalinity (A)</th>\n",
       "      <th>alk</th>\n",
       "      <th>KB08</th>\n",
       "      <th>Pressure_min</th>\n",
       "      <th>Probability</th>\n",
       "      <th>delta_P</th>\n",
       "      <th>delta_P2</th>\n",
       "    </tr>\n",
       "    <tr>\n",
       "      <th>Experiment</th>\n",
       "      <th></th>\n",
       "      <th></th>\n",
       "      <th></th>\n",
       "      <th></th>\n",
       "      <th></th>\n",
       "      <th></th>\n",
       "      <th></th>\n",
       "      <th></th>\n",
       "      <th></th>\n",
       "      <th></th>\n",
       "      <th></th>\n",
       "      <th></th>\n",
       "      <th></th>\n",
       "      <th></th>\n",
       "      <th></th>\n",
       "      <th></th>\n",
       "      <th></th>\n",
       "      <th></th>\n",
       "      <th></th>\n",
       "      <th></th>\n",
       "      <th></th>\n",
       "    </tr>\n",
       "  </thead>\n",
       "  <tbody>\n",
       "    <tr>\n",
       "      <th>KN-54-2-2-1</th>\n",
       "      <td>Grove1992</td>\n",
       "      <td>1atm_furnace</td>\n",
       "      <td>0.001</td>\n",
       "      <td>0.00001</td>\n",
       "      <td>1161</td>\n",
       "      <td>gl-ol-cp-pl</td>\n",
       "      <td>51.90</td>\n",
       "      <td>2.38</td>\n",
       "      <td>13.60</td>\n",
       "      <td>11.30</td>\n",
       "      <td>...</td>\n",
       "      <td>7.720</td>\n",
       "      <td>4.93360</td>\n",
       "      <td>1.32360</td>\n",
       "      <td>4.110</td>\n",
       "      <td>3.61</td>\n",
       "      <td>3.4945</td>\n",
       "      <td>-0.717450</td>\n",
       "      <td>0.820937</td>\n",
       "      <td>-0.718450</td>\n",
       "      <td>3.4935</td>\n",
       "    </tr>\n",
       "    <tr>\n",
       "      <th>ALV-1690-20</th>\n",
       "      <td>Grove1992</td>\n",
       "      <td>zhm_ar</td>\n",
       "      <td>2.000</td>\n",
       "      <td>0.02</td>\n",
       "      <td>1163</td>\n",
       "      <td>gl-ol-cp-pl</td>\n",
       "      <td>49.80</td>\n",
       "      <td>2.35</td>\n",
       "      <td>13.60</td>\n",
       "      <td>12.20</td>\n",
       "      <td>...</td>\n",
       "      <td>6.040</td>\n",
       "      <td>3.85420</td>\n",
       "      <td>0.43420</td>\n",
       "      <td>2.620</td>\n",
       "      <td>3.42</td>\n",
       "      <td>2.7700</td>\n",
       "      <td>2.316884</td>\n",
       "      <td>0.896354</td>\n",
       "      <td>0.316884</td>\n",
       "      <td>0.7700</td>\n",
       "    </tr>\n",
       "    <tr>\n",
       "      <th>ALV-1690-20</th>\n",
       "      <td>Grove1992</td>\n",
       "      <td>zhm_ar</td>\n",
       "      <td>2.000</td>\n",
       "      <td>0.02</td>\n",
       "      <td>1152</td>\n",
       "      <td>gl-ol-cp-pl</td>\n",
       "      <td>50.00</td>\n",
       "      <td>2.47</td>\n",
       "      <td>13.70</td>\n",
       "      <td>11.70</td>\n",
       "      <td>...</td>\n",
       "      <td>6.200</td>\n",
       "      <td>3.95700</td>\n",
       "      <td>0.37700</td>\n",
       "      <td>2.620</td>\n",
       "      <td>3.58</td>\n",
       "      <td>3.1305</td>\n",
       "      <td>1.681299</td>\n",
       "      <td>0.966585</td>\n",
       "      <td>-0.318701</td>\n",
       "      <td>1.1305</td>\n",
       "    </tr>\n",
       "    <tr>\n",
       "      <th>ALV-1690-20</th>\n",
       "      <td>Grove1992</td>\n",
       "      <td>zhm_ar</td>\n",
       "      <td>2.000</td>\n",
       "      <td>0.02</td>\n",
       "      <td>1148</td>\n",
       "      <td>gl-ol-cp-pl</td>\n",
       "      <td>49.80</td>\n",
       "      <td>2.30</td>\n",
       "      <td>13.70</td>\n",
       "      <td>12.00</td>\n",
       "      <td>...</td>\n",
       "      <td>6.040</td>\n",
       "      <td>3.85420</td>\n",
       "      <td>0.48420</td>\n",
       "      <td>2.670</td>\n",
       "      <td>3.37</td>\n",
       "      <td>3.4805</td>\n",
       "      <td>1.994374</td>\n",
       "      <td>0.985431</td>\n",
       "      <td>-0.005626</td>\n",
       "      <td>1.4805</td>\n",
       "    </tr>\n",
       "    <tr>\n",
       "      <th>ALV-1690-20</th>\n",
       "      <td>Grove1992</td>\n",
       "      <td>zhm_ar</td>\n",
       "      <td>2.000</td>\n",
       "      <td>0.02</td>\n",
       "      <td>1145</td>\n",
       "      <td>gl-ol-cp-pl</td>\n",
       "      <td>49.80</td>\n",
       "      <td>3.32</td>\n",
       "      <td>12.90</td>\n",
       "      <td>12.90</td>\n",
       "      <td>...</td>\n",
       "      <td>6.040</td>\n",
       "      <td>3.85420</td>\n",
       "      <td>0.49420</td>\n",
       "      <td>2.680</td>\n",
       "      <td>3.36</td>\n",
       "      <td>4.4773</td>\n",
       "      <td>1.035496</td>\n",
       "      <td>0.986987</td>\n",
       "      <td>-0.964504</td>\n",
       "      <td>2.4773</td>\n",
       "    </tr>\n",
       "    <tr>\n",
       "      <th>...</th>\n",
       "      <td>...</td>\n",
       "      <td>...</td>\n",
       "      <td>...</td>\n",
       "      <td>...</td>\n",
       "      <td>...</td>\n",
       "      <td>...</td>\n",
       "      <td>...</td>\n",
       "      <td>...</td>\n",
       "      <td>...</td>\n",
       "      <td>...</td>\n",
       "      <td>...</td>\n",
       "      <td>...</td>\n",
       "      <td>...</td>\n",
       "      <td>...</td>\n",
       "      <td>...</td>\n",
       "      <td>...</td>\n",
       "      <td>...</td>\n",
       "      <td>...</td>\n",
       "      <td>...</td>\n",
       "      <td>...</td>\n",
       "      <td>...</td>\n",
       "    </tr>\n",
       "    <tr>\n",
       "      <th>33</th>\n",
       "      <td>Thy 1991</td>\n",
       "      <td>Piston Cylinder</td>\n",
       "      <td>0.001</td>\n",
       "      <td>0</td>\n",
       "      <td>1131</td>\n",
       "      <td>gl-ol-cp-pl</td>\n",
       "      <td>47.62</td>\n",
       "      <td>4.30</td>\n",
       "      <td>12.40</td>\n",
       "      <td>14.07</td>\n",
       "      <td>...</td>\n",
       "      <td>4.296</td>\n",
       "      <td>2.73368</td>\n",
       "      <td>-1.44632</td>\n",
       "      <td>0.116</td>\n",
       "      <td>4.18</td>\n",
       "      <td>4.9644</td>\n",
       "      <td>-1.997426</td>\n",
       "      <td>0.942521</td>\n",
       "      <td>-1.998426</td>\n",
       "      <td>4.9634</td>\n",
       "    </tr>\n",
       "    <tr>\n",
       "      <th>18</th>\n",
       "      <td>Thy 1991</td>\n",
       "      <td>Piston Cylinder</td>\n",
       "      <td>0.001</td>\n",
       "      <td>0</td>\n",
       "      <td>1124</td>\n",
       "      <td>gl-ol-cp-pl-sp</td>\n",
       "      <td>47.17</td>\n",
       "      <td>3.42</td>\n",
       "      <td>12.77</td>\n",
       "      <td>13.59</td>\n",
       "      <td>...</td>\n",
       "      <td>3.936</td>\n",
       "      <td>2.50238</td>\n",
       "      <td>-1.45762</td>\n",
       "      <td>-0.024</td>\n",
       "      <td>3.96</td>\n",
       "      <td>5.2531</td>\n",
       "      <td>-1.939554</td>\n",
       "      <td>0.986441</td>\n",
       "      <td>-1.940554</td>\n",
       "      <td>5.2521</td>\n",
       "    </tr>\n",
       "    <tr>\n",
       "      <th>26</th>\n",
       "      <td>Thy 1991</td>\n",
       "      <td>Piston Cylinder</td>\n",
       "      <td>0.001</td>\n",
       "      <td>0</td>\n",
       "      <td>1118</td>\n",
       "      <td>gl-ol-cp-pl-sp</td>\n",
       "      <td>47.54</td>\n",
       "      <td>4.57</td>\n",
       "      <td>13.20</td>\n",
       "      <td>13.59</td>\n",
       "      <td>...</td>\n",
       "      <td>4.232</td>\n",
       "      <td>2.69256</td>\n",
       "      <td>-2.09744</td>\n",
       "      <td>-0.558</td>\n",
       "      <td>4.79</td>\n",
       "      <td>2.3632</td>\n",
       "      <td>0.412951</td>\n",
       "      <td>0.906633</td>\n",
       "      <td>0.411951</td>\n",
       "      <td>2.3622</td>\n",
       "    </tr>\n",
       "    <tr>\n",
       "      <th>3</th>\n",
       "      <td>Thy 1991</td>\n",
       "      <td>Piston Cylinder</td>\n",
       "      <td>10.000</td>\n",
       "      <td>0</td>\n",
       "      <td>1220</td>\n",
       "      <td>gl-ol-cp-pl</td>\n",
       "      <td>46.63</td>\n",
       "      <td>3.88</td>\n",
       "      <td>15.41</td>\n",
       "      <td>9.95</td>\n",
       "      <td>...</td>\n",
       "      <td>3.504</td>\n",
       "      <td>2.22482</td>\n",
       "      <td>-2.04518</td>\n",
       "      <td>-0.766</td>\n",
       "      <td>4.27</td>\n",
       "      <td>16.1643</td>\n",
       "      <td>6.104901</td>\n",
       "      <td>0.983469</td>\n",
       "      <td>-3.895099</td>\n",
       "      <td>6.1643</td>\n",
       "    </tr>\n",
       "    <tr>\n",
       "      <th>6</th>\n",
       "      <td>Thy 1991</td>\n",
       "      <td>Piston Cylinder</td>\n",
       "      <td>10.000</td>\n",
       "      <td>0</td>\n",
       "      <td>1180</td>\n",
       "      <td>gl-ol-cp-pl</td>\n",
       "      <td>45.49</td>\n",
       "      <td>4.01</td>\n",
       "      <td>14.97</td>\n",
       "      <td>14.86</td>\n",
       "      <td>...</td>\n",
       "      <td>2.592</td>\n",
       "      <td>1.63886</td>\n",
       "      <td>-3.36114</td>\n",
       "      <td>-2.408</td>\n",
       "      <td>5.00</td>\n",
       "      <td>7.0899</td>\n",
       "      <td>6.748706</td>\n",
       "      <td>0.974859</td>\n",
       "      <td>-3.251294</td>\n",
       "      <td>-2.9101</td>\n",
       "    </tr>\n",
       "  </tbody>\n",
       "</table>\n",
       "<p>113 rows × 29 columns</p>\n",
       "</div>"
      ],
      "text/plain": [
       "             Reference        Apparatus  Pressure_kbar Pressure_error  \\\n",
       "Experiment                                                              \n",
       "KN-54-2-2-1  Grove1992     1atm_furnace          0.001        0.00001   \n",
       "ALV-1690-20  Grove1992           zhm_ar          2.000           0.02   \n",
       "ALV-1690-20  Grove1992           zhm_ar          2.000           0.02   \n",
       "ALV-1690-20  Grove1992           zhm_ar          2.000           0.02   \n",
       "ALV-1690-20  Grove1992           zhm_ar          2.000           0.02   \n",
       "...                ...              ...            ...            ...   \n",
       "33            Thy 1991  Piston Cylinder          0.001              0   \n",
       "18            Thy 1991  Piston Cylinder          0.001              0   \n",
       "26            Thy 1991  Piston Cylinder          0.001              0   \n",
       "3             Thy 1991  Piston Cylinder         10.000              0   \n",
       "6             Thy 1991  Piston Cylinder         10.000              0   \n",
       "\n",
       "            Temperature_degC          Phases   SiO2  TiO2  Al2O3    FeO  ...  \\\n",
       "Experiment                                                               ...   \n",
       "KN-54-2-2-1             1161     gl-ol-cp-pl  51.90  2.38  13.60  11.30  ...   \n",
       "ALV-1690-20             1163     gl-ol-cp-pl  49.80  2.35  13.60  12.20  ...   \n",
       "ALV-1690-20             1152     gl-ol-cp-pl  50.00  2.47  13.70  11.70  ...   \n",
       "ALV-1690-20             1148     gl-ol-cp-pl  49.80  2.30  13.70  12.00  ...   \n",
       "ALV-1690-20             1145     gl-ol-cp-pl  49.80  3.32  12.90  12.90  ...   \n",
       "...                      ...             ...    ...   ...    ...    ...  ...   \n",
       "33                      1131     gl-ol-cp-pl  47.62  4.30  12.40  14.07  ...   \n",
       "18                      1124  gl-ol-cp-pl-sp  47.17  3.42  12.77  13.59  ...   \n",
       "26                      1118  gl-ol-cp-pl-sp  47.54  4.57  13.20  13.59  ...   \n",
       "3                       1220     gl-ol-cp-pl  46.63  3.88  15.41   9.95  ...   \n",
       "6                       1180     gl-ol-cp-pl  45.49  4.01  14.97  14.86  ...   \n",
       "\n",
       "             Alk Line  Sub line  Alkalinity (S)  Alkalinity (A)   alk  \\\n",
       "Experiment                                                              \n",
       "KN-54-2-2-1     7.720   4.93360         1.32360           4.110  3.61   \n",
       "ALV-1690-20     6.040   3.85420         0.43420           2.620  3.42   \n",
       "ALV-1690-20     6.200   3.95700         0.37700           2.620  3.58   \n",
       "ALV-1690-20     6.040   3.85420         0.48420           2.670  3.37   \n",
       "ALV-1690-20     6.040   3.85420         0.49420           2.680  3.36   \n",
       "...               ...       ...             ...             ...   ...   \n",
       "33              4.296   2.73368        -1.44632           0.116  4.18   \n",
       "18              3.936   2.50238        -1.45762          -0.024  3.96   \n",
       "26              4.232   2.69256        -2.09744          -0.558  4.79   \n",
       "3               3.504   2.22482        -2.04518          -0.766  4.27   \n",
       "6               2.592   1.63886        -3.36114          -2.408  5.00   \n",
       "\n",
       "                KB08  Pressure_min  Probability   delta_P  delta_P2  \n",
       "Experiment                                                           \n",
       "KN-54-2-2-1   3.4945     -0.717450     0.820937 -0.718450    3.4935  \n",
       "ALV-1690-20   2.7700      2.316884     0.896354  0.316884    0.7700  \n",
       "ALV-1690-20   3.1305      1.681299     0.966585 -0.318701    1.1305  \n",
       "ALV-1690-20   3.4805      1.994374     0.985431 -0.005626    1.4805  \n",
       "ALV-1690-20   4.4773      1.035496     0.986987 -0.964504    2.4773  \n",
       "...              ...           ...          ...       ...       ...  \n",
       "33            4.9644     -1.997426     0.942521 -1.998426    4.9634  \n",
       "18            5.2531     -1.939554     0.986441 -1.940554    5.2521  \n",
       "26            2.3632      0.412951     0.906633  0.411951    2.3622  \n",
       "3            16.1643      6.104901     0.983469 -3.895099    6.1643  \n",
       "6             7.0899      6.748706     0.974859 -3.251294   -2.9101  \n",
       "\n",
       "[113 rows x 29 columns]"
      ]
     },
     "execution_count": 43,
     "metadata": {},
     "output_type": "execute_result"
    }
   ],
   "source": [
    "df_up"
   ]
  },
  {
   "cell_type": "code",
   "execution_count": 44,
   "metadata": {},
   "outputs": [
    {
     "data": {
      "application/vnd.plotly.v1+json": {
       "config": {
        "plotlyServerURL": "https://plot.ly"
       },
       "data": [
        {
         "alignmentgroup": "True",
         "box": {
          "visible": false
         },
         "hovertemplate": "delta_P=%{x}<extra></extra>",
         "legendgroup": "",
         "marker": {
          "color": "#636efa"
         },
         "name": "",
         "offsetgroup": "",
         "orientation": "h",
         "scalegroup": "True",
         "showlegend": false,
         "type": "violin",
         "x": [
          -0.7184502733624623,
          0.30738296527975995,
          -0.6299009629245198,
          0.3972739452482525,
          1.396410659544079,
          0.40376668004160077,
          -0.2023139537937081,
          -1.0154137973289918,
          0.020067990657676005,
          -0.37704117014722094,
          -0.6628098573524176,
          0.9727769147782421,
          -0.27366617561450113,
          -0.9346846975967105,
          -2.350870986646548,
          0.6758270949803159,
          -0.905206322563929,
          -1.566940402928563,
          0.4317892026483253,
          -0.02926867484721888,
          -0.7647045366357849,
          -1.322581895546519,
          1.9590797418523198,
          0.9479332082264148,
          1.8035842349093616,
          1.486074661347976,
          -1.48666289513515,
          -2.7595538061457985,
          -2.2196088016986977,
          -0.24416508116255461,
          -3.1161766852707697,
          1.7627305502007096,
          1.0409988431377668,
          1.0078230057002575,
          0.13455945318689097,
          0.15877829998383516,
          2.945295942429557,
          1.4917294586608838,
          1.2683208949478524,
          0.9052395570259552,
          -1.5929450055900953,
          3.000482376233701,
          2.948383397291074,
          2.6891014523720993,
          2.436213443966197,
          0.21889687695574744,
          0.34014454527855204,
          -0.5276328914785413,
          -0.9684341758018147,
          0.5280408870062924,
          -0.2613995913358246,
          1.5765296233094137,
          1.8831051346872232,
          0.08961913287189255,
          2.0106395702970414,
          0.6802404264820407,
          0.6838778018901926,
          4.749986020104786,
          2.1855851113231797,
          2.503052457333534,
          2.309305806397403,
          1.8459656805310576,
          0.47215486335692936,
          -0.47392175119518065,
          1.9222041944882031,
          2.0604379236726498,
          2.5419615907167414,
          2.5355576422756267,
          1.1869546255225512,
          0.6085403529225356,
          1.8535346597379192,
          0.4178094817184535,
          1.0051928277846218,
          2.0496405275893053,
          0.6800776528876379,
          1.067449054580603,
          -0.036639677301450395,
          -0.6912172204612715,
          0.015753267822704094,
          -0.07442560128845702,
          0.3974386508525427,
          0.35439704611087264,
          1.1588018232011656,
          -0.1455625078342464,
          -1.9984264667115008,
          -1.9405541163091586,
          0.4119513232953537
         ],
         "x0": " ",
         "xaxis": "x",
         "y0": " ",
         "yaxis": "y"
        }
       ],
       "layout": {
        "legend": {
         "tracegroupgap": 0
        },
        "template": {
         "data": {
          "bar": [
           {
            "error_x": {
             "color": "#2a3f5f"
            },
            "error_y": {
             "color": "#2a3f5f"
            },
            "marker": {
             "line": {
              "color": "#E5ECF6",
              "width": 0.5
             }
            },
            "type": "bar"
           }
          ],
          "barpolar": [
           {
            "marker": {
             "line": {
              "color": "#E5ECF6",
              "width": 0.5
             }
            },
            "type": "barpolar"
           }
          ],
          "carpet": [
           {
            "aaxis": {
             "endlinecolor": "#2a3f5f",
             "gridcolor": "white",
             "linecolor": "white",
             "minorgridcolor": "white",
             "startlinecolor": "#2a3f5f"
            },
            "baxis": {
             "endlinecolor": "#2a3f5f",
             "gridcolor": "white",
             "linecolor": "white",
             "minorgridcolor": "white",
             "startlinecolor": "#2a3f5f"
            },
            "type": "carpet"
           }
          ],
          "choropleth": [
           {
            "colorbar": {
             "outlinewidth": 0,
             "ticks": ""
            },
            "type": "choropleth"
           }
          ],
          "contour": [
           {
            "colorbar": {
             "outlinewidth": 0,
             "ticks": ""
            },
            "colorscale": [
             [
              0,
              "#0d0887"
             ],
             [
              0.1111111111111111,
              "#46039f"
             ],
             [
              0.2222222222222222,
              "#7201a8"
             ],
             [
              0.3333333333333333,
              "#9c179e"
             ],
             [
              0.4444444444444444,
              "#bd3786"
             ],
             [
              0.5555555555555556,
              "#d8576b"
             ],
             [
              0.6666666666666666,
              "#ed7953"
             ],
             [
              0.7777777777777778,
              "#fb9f3a"
             ],
             [
              0.8888888888888888,
              "#fdca26"
             ],
             [
              1,
              "#f0f921"
             ]
            ],
            "type": "contour"
           }
          ],
          "contourcarpet": [
           {
            "colorbar": {
             "outlinewidth": 0,
             "ticks": ""
            },
            "type": "contourcarpet"
           }
          ],
          "heatmap": [
           {
            "colorbar": {
             "outlinewidth": 0,
             "ticks": ""
            },
            "colorscale": [
             [
              0,
              "#0d0887"
             ],
             [
              0.1111111111111111,
              "#46039f"
             ],
             [
              0.2222222222222222,
              "#7201a8"
             ],
             [
              0.3333333333333333,
              "#9c179e"
             ],
             [
              0.4444444444444444,
              "#bd3786"
             ],
             [
              0.5555555555555556,
              "#d8576b"
             ],
             [
              0.6666666666666666,
              "#ed7953"
             ],
             [
              0.7777777777777778,
              "#fb9f3a"
             ],
             [
              0.8888888888888888,
              "#fdca26"
             ],
             [
              1,
              "#f0f921"
             ]
            ],
            "type": "heatmap"
           }
          ],
          "heatmapgl": [
           {
            "colorbar": {
             "outlinewidth": 0,
             "ticks": ""
            },
            "colorscale": [
             [
              0,
              "#0d0887"
             ],
             [
              0.1111111111111111,
              "#46039f"
             ],
             [
              0.2222222222222222,
              "#7201a8"
             ],
             [
              0.3333333333333333,
              "#9c179e"
             ],
             [
              0.4444444444444444,
              "#bd3786"
             ],
             [
              0.5555555555555556,
              "#d8576b"
             ],
             [
              0.6666666666666666,
              "#ed7953"
             ],
             [
              0.7777777777777778,
              "#fb9f3a"
             ],
             [
              0.8888888888888888,
              "#fdca26"
             ],
             [
              1,
              "#f0f921"
             ]
            ],
            "type": "heatmapgl"
           }
          ],
          "histogram": [
           {
            "marker": {
             "colorbar": {
              "outlinewidth": 0,
              "ticks": ""
             }
            },
            "type": "histogram"
           }
          ],
          "histogram2d": [
           {
            "colorbar": {
             "outlinewidth": 0,
             "ticks": ""
            },
            "colorscale": [
             [
              0,
              "#0d0887"
             ],
             [
              0.1111111111111111,
              "#46039f"
             ],
             [
              0.2222222222222222,
              "#7201a8"
             ],
             [
              0.3333333333333333,
              "#9c179e"
             ],
             [
              0.4444444444444444,
              "#bd3786"
             ],
             [
              0.5555555555555556,
              "#d8576b"
             ],
             [
              0.6666666666666666,
              "#ed7953"
             ],
             [
              0.7777777777777778,
              "#fb9f3a"
             ],
             [
              0.8888888888888888,
              "#fdca26"
             ],
             [
              1,
              "#f0f921"
             ]
            ],
            "type": "histogram2d"
           }
          ],
          "histogram2dcontour": [
           {
            "colorbar": {
             "outlinewidth": 0,
             "ticks": ""
            },
            "colorscale": [
             [
              0,
              "#0d0887"
             ],
             [
              0.1111111111111111,
              "#46039f"
             ],
             [
              0.2222222222222222,
              "#7201a8"
             ],
             [
              0.3333333333333333,
              "#9c179e"
             ],
             [
              0.4444444444444444,
              "#bd3786"
             ],
             [
              0.5555555555555556,
              "#d8576b"
             ],
             [
              0.6666666666666666,
              "#ed7953"
             ],
             [
              0.7777777777777778,
              "#fb9f3a"
             ],
             [
              0.8888888888888888,
              "#fdca26"
             ],
             [
              1,
              "#f0f921"
             ]
            ],
            "type": "histogram2dcontour"
           }
          ],
          "mesh3d": [
           {
            "colorbar": {
             "outlinewidth": 0,
             "ticks": ""
            },
            "type": "mesh3d"
           }
          ],
          "parcoords": [
           {
            "line": {
             "colorbar": {
              "outlinewidth": 0,
              "ticks": ""
             }
            },
            "type": "parcoords"
           }
          ],
          "pie": [
           {
            "automargin": true,
            "type": "pie"
           }
          ],
          "scatter": [
           {
            "marker": {
             "colorbar": {
              "outlinewidth": 0,
              "ticks": ""
             }
            },
            "type": "scatter"
           }
          ],
          "scatter3d": [
           {
            "line": {
             "colorbar": {
              "outlinewidth": 0,
              "ticks": ""
             }
            },
            "marker": {
             "colorbar": {
              "outlinewidth": 0,
              "ticks": ""
             }
            },
            "type": "scatter3d"
           }
          ],
          "scattercarpet": [
           {
            "marker": {
             "colorbar": {
              "outlinewidth": 0,
              "ticks": ""
             }
            },
            "type": "scattercarpet"
           }
          ],
          "scattergeo": [
           {
            "marker": {
             "colorbar": {
              "outlinewidth": 0,
              "ticks": ""
             }
            },
            "type": "scattergeo"
           }
          ],
          "scattergl": [
           {
            "marker": {
             "colorbar": {
              "outlinewidth": 0,
              "ticks": ""
             }
            },
            "type": "scattergl"
           }
          ],
          "scattermapbox": [
           {
            "marker": {
             "colorbar": {
              "outlinewidth": 0,
              "ticks": ""
             }
            },
            "type": "scattermapbox"
           }
          ],
          "scatterpolar": [
           {
            "marker": {
             "colorbar": {
              "outlinewidth": 0,
              "ticks": ""
             }
            },
            "type": "scatterpolar"
           }
          ],
          "scatterpolargl": [
           {
            "marker": {
             "colorbar": {
              "outlinewidth": 0,
              "ticks": ""
             }
            },
            "type": "scatterpolargl"
           }
          ],
          "scatterternary": [
           {
            "marker": {
             "colorbar": {
              "outlinewidth": 0,
              "ticks": ""
             }
            },
            "type": "scatterternary"
           }
          ],
          "surface": [
           {
            "colorbar": {
             "outlinewidth": 0,
             "ticks": ""
            },
            "colorscale": [
             [
              0,
              "#0d0887"
             ],
             [
              0.1111111111111111,
              "#46039f"
             ],
             [
              0.2222222222222222,
              "#7201a8"
             ],
             [
              0.3333333333333333,
              "#9c179e"
             ],
             [
              0.4444444444444444,
              "#bd3786"
             ],
             [
              0.5555555555555556,
              "#d8576b"
             ],
             [
              0.6666666666666666,
              "#ed7953"
             ],
             [
              0.7777777777777778,
              "#fb9f3a"
             ],
             [
              0.8888888888888888,
              "#fdca26"
             ],
             [
              1,
              "#f0f921"
             ]
            ],
            "type": "surface"
           }
          ],
          "table": [
           {
            "cells": {
             "fill": {
              "color": "#EBF0F8"
             },
             "line": {
              "color": "white"
             }
            },
            "header": {
             "fill": {
              "color": "#C8D4E3"
             },
             "line": {
              "color": "white"
             }
            },
            "type": "table"
           }
          ]
         },
         "layout": {
          "annotationdefaults": {
           "arrowcolor": "#2a3f5f",
           "arrowhead": 0,
           "arrowwidth": 1
          },
          "autotypenumbers": "strict",
          "coloraxis": {
           "colorbar": {
            "outlinewidth": 0,
            "ticks": ""
           }
          },
          "colorscale": {
           "diverging": [
            [
             0,
             "#8e0152"
            ],
            [
             0.1,
             "#c51b7d"
            ],
            [
             0.2,
             "#de77ae"
            ],
            [
             0.3,
             "#f1b6da"
            ],
            [
             0.4,
             "#fde0ef"
            ],
            [
             0.5,
             "#f7f7f7"
            ],
            [
             0.6,
             "#e6f5d0"
            ],
            [
             0.7,
             "#b8e186"
            ],
            [
             0.8,
             "#7fbc41"
            ],
            [
             0.9,
             "#4d9221"
            ],
            [
             1,
             "#276419"
            ]
           ],
           "sequential": [
            [
             0,
             "#0d0887"
            ],
            [
             0.1111111111111111,
             "#46039f"
            ],
            [
             0.2222222222222222,
             "#7201a8"
            ],
            [
             0.3333333333333333,
             "#9c179e"
            ],
            [
             0.4444444444444444,
             "#bd3786"
            ],
            [
             0.5555555555555556,
             "#d8576b"
            ],
            [
             0.6666666666666666,
             "#ed7953"
            ],
            [
             0.7777777777777778,
             "#fb9f3a"
            ],
            [
             0.8888888888888888,
             "#fdca26"
            ],
            [
             1,
             "#f0f921"
            ]
           ],
           "sequentialminus": [
            [
             0,
             "#0d0887"
            ],
            [
             0.1111111111111111,
             "#46039f"
            ],
            [
             0.2222222222222222,
             "#7201a8"
            ],
            [
             0.3333333333333333,
             "#9c179e"
            ],
            [
             0.4444444444444444,
             "#bd3786"
            ],
            [
             0.5555555555555556,
             "#d8576b"
            ],
            [
             0.6666666666666666,
             "#ed7953"
            ],
            [
             0.7777777777777778,
             "#fb9f3a"
            ],
            [
             0.8888888888888888,
             "#fdca26"
            ],
            [
             1,
             "#f0f921"
            ]
           ]
          },
          "colorway": [
           "#636efa",
           "#EF553B",
           "#00cc96",
           "#ab63fa",
           "#FFA15A",
           "#19d3f3",
           "#FF6692",
           "#B6E880",
           "#FF97FF",
           "#FECB52"
          ],
          "font": {
           "color": "#2a3f5f"
          },
          "geo": {
           "bgcolor": "white",
           "lakecolor": "white",
           "landcolor": "#E5ECF6",
           "showlakes": true,
           "showland": true,
           "subunitcolor": "white"
          },
          "hoverlabel": {
           "align": "left"
          },
          "hovermode": "closest",
          "mapbox": {
           "style": "light"
          },
          "paper_bgcolor": "white",
          "plot_bgcolor": "#E5ECF6",
          "polar": {
           "angularaxis": {
            "gridcolor": "white",
            "linecolor": "white",
            "ticks": ""
           },
           "bgcolor": "#E5ECF6",
           "radialaxis": {
            "gridcolor": "white",
            "linecolor": "white",
            "ticks": ""
           }
          },
          "scene": {
           "xaxis": {
            "backgroundcolor": "#E5ECF6",
            "gridcolor": "white",
            "gridwidth": 2,
            "linecolor": "white",
            "showbackground": true,
            "ticks": "",
            "zerolinecolor": "white"
           },
           "yaxis": {
            "backgroundcolor": "#E5ECF6",
            "gridcolor": "white",
            "gridwidth": 2,
            "linecolor": "white",
            "showbackground": true,
            "ticks": "",
            "zerolinecolor": "white"
           },
           "zaxis": {
            "backgroundcolor": "#E5ECF6",
            "gridcolor": "white",
            "gridwidth": 2,
            "linecolor": "white",
            "showbackground": true,
            "ticks": "",
            "zerolinecolor": "white"
           }
          },
          "shapedefaults": {
           "line": {
            "color": "#2a3f5f"
           }
          },
          "ternary": {
           "aaxis": {
            "gridcolor": "white",
            "linecolor": "white",
            "ticks": ""
           },
           "baxis": {
            "gridcolor": "white",
            "linecolor": "white",
            "ticks": ""
           },
           "bgcolor": "#E5ECF6",
           "caxis": {
            "gridcolor": "white",
            "linecolor": "white",
            "ticks": ""
           }
          },
          "title": {
           "x": 0.05
          },
          "xaxis": {
           "automargin": true,
           "gridcolor": "white",
           "linecolor": "white",
           "ticks": "",
           "title": {
            "standoff": 15
           },
           "zerolinecolor": "white",
           "zerolinewidth": 2
          },
          "yaxis": {
           "automargin": true,
           "gridcolor": "white",
           "linecolor": "white",
           "ticks": "",
           "title": {
            "standoff": 15
           },
           "zerolinecolor": "white",
           "zerolinewidth": 2
          }
         }
        },
        "title": {
         "text": "filtered experimental 1 atm vs delta P"
        },
        "violinmode": "group",
        "xaxis": {
         "anchor": "y",
         "domain": [
          0,
          1
         ],
         "title": {
          "text": "delta_P"
         }
        },
        "yaxis": {
         "anchor": "x",
         "domain": [
          0,
          1
         ]
        }
       }
      },
      "text/html": [
       "<div>                            <div id=\"d0acb05f-95ff-45c8-ba23-390ebb80b156\" class=\"plotly-graph-div\" style=\"height:525px; width:100%;\"></div>            <script type=\"text/javascript\">                require([\"plotly\"], function(Plotly) {                    window.PLOTLYENV=window.PLOTLYENV || {};                                    if (document.getElementById(\"d0acb05f-95ff-45c8-ba23-390ebb80b156\")) {                    Plotly.newPlot(                        \"d0acb05f-95ff-45c8-ba23-390ebb80b156\",                        [{\"alignmentgroup\": \"True\", \"box\": {\"visible\": false}, \"hovertemplate\": \"delta_P=%{x}<extra></extra>\", \"legendgroup\": \"\", \"marker\": {\"color\": \"#636efa\"}, \"name\": \"\", \"offsetgroup\": \"\", \"orientation\": \"h\", \"scalegroup\": \"True\", \"showlegend\": false, \"type\": \"violin\", \"x\": [-0.7184502733624623, 0.30738296527975995, -0.6299009629245198, 0.3972739452482525, 1.396410659544079, 0.40376668004160077, -0.2023139537937081, -1.0154137973289918, 0.020067990657676005, -0.37704117014722094, -0.6628098573524176, 0.9727769147782421, -0.27366617561450113, -0.9346846975967105, -2.350870986646548, 0.6758270949803159, -0.905206322563929, -1.566940402928563, 0.4317892026483253, -0.02926867484721888, -0.7647045366357849, -1.322581895546519, 1.9590797418523198, 0.9479332082264148, 1.8035842349093616, 1.486074661347976, -1.48666289513515, -2.7595538061457985, -2.2196088016986977, -0.24416508116255461, -3.1161766852707697, 1.7627305502007096, 1.0409988431377668, 1.0078230057002575, 0.13455945318689097, 0.15877829998383516, 2.945295942429557, 1.4917294586608838, 1.2683208949478524, 0.9052395570259552, -1.5929450055900953, 3.000482376233701, 2.948383397291074, 2.6891014523720993, 2.436213443966197, 0.21889687695574744, 0.34014454527855204, -0.5276328914785413, -0.9684341758018147, 0.5280408870062924, -0.2613995913358246, 1.5765296233094137, 1.8831051346872232, 0.08961913287189255, 2.0106395702970414, 0.6802404264820407, 0.6838778018901926, 4.749986020104786, 2.1855851113231797, 2.503052457333534, 2.309305806397403, 1.8459656805310576, 0.47215486335692936, -0.47392175119518065, 1.9222041944882031, 2.0604379236726498, 2.5419615907167414, 2.5355576422756267, 1.1869546255225512, 0.6085403529225356, 1.8535346597379192, 0.4178094817184535, 1.0051928277846218, 2.0496405275893053, 0.6800776528876379, 1.067449054580603, -0.036639677301450395, -0.6912172204612715, 0.015753267822704094, -0.07442560128845702, 0.3974386508525427, 0.35439704611087264, 1.1588018232011656, -0.1455625078342464, -1.9984264667115008, -1.9405541163091586, 0.4119513232953537], \"x0\": \" \", \"xaxis\": \"x\", \"y0\": \" \", \"yaxis\": \"y\"}],                        {\"legend\": {\"tracegroupgap\": 0}, \"template\": {\"data\": {\"bar\": [{\"error_x\": {\"color\": \"#2a3f5f\"}, \"error_y\": {\"color\": \"#2a3f5f\"}, \"marker\": {\"line\": {\"color\": \"#E5ECF6\", \"width\": 0.5}}, \"type\": \"bar\"}], \"barpolar\": [{\"marker\": {\"line\": {\"color\": \"#E5ECF6\", \"width\": 0.5}}, \"type\": \"barpolar\"}], \"carpet\": [{\"aaxis\": {\"endlinecolor\": \"#2a3f5f\", \"gridcolor\": \"white\", \"linecolor\": \"white\", \"minorgridcolor\": \"white\", \"startlinecolor\": \"#2a3f5f\"}, \"baxis\": {\"endlinecolor\": \"#2a3f5f\", \"gridcolor\": \"white\", \"linecolor\": \"white\", \"minorgridcolor\": \"white\", \"startlinecolor\": \"#2a3f5f\"}, \"type\": \"carpet\"}], \"choropleth\": [{\"colorbar\": {\"outlinewidth\": 0, \"ticks\": \"\"}, \"type\": \"choropleth\"}], \"contour\": [{\"colorbar\": {\"outlinewidth\": 0, \"ticks\": \"\"}, \"colorscale\": [[0.0, \"#0d0887\"], [0.1111111111111111, \"#46039f\"], [0.2222222222222222, \"#7201a8\"], [0.3333333333333333, \"#9c179e\"], [0.4444444444444444, \"#bd3786\"], [0.5555555555555556, \"#d8576b\"], [0.6666666666666666, \"#ed7953\"], [0.7777777777777778, \"#fb9f3a\"], [0.8888888888888888, \"#fdca26\"], [1.0, \"#f0f921\"]], \"type\": \"contour\"}], \"contourcarpet\": [{\"colorbar\": {\"outlinewidth\": 0, \"ticks\": \"\"}, \"type\": \"contourcarpet\"}], \"heatmap\": [{\"colorbar\": {\"outlinewidth\": 0, \"ticks\": \"\"}, \"colorscale\": [[0.0, \"#0d0887\"], [0.1111111111111111, \"#46039f\"], [0.2222222222222222, \"#7201a8\"], [0.3333333333333333, \"#9c179e\"], [0.4444444444444444, \"#bd3786\"], [0.5555555555555556, \"#d8576b\"], [0.6666666666666666, \"#ed7953\"], [0.7777777777777778, \"#fb9f3a\"], [0.8888888888888888, \"#fdca26\"], [1.0, \"#f0f921\"]], \"type\": \"heatmap\"}], \"heatmapgl\": [{\"colorbar\": {\"outlinewidth\": 0, \"ticks\": \"\"}, \"colorscale\": [[0.0, \"#0d0887\"], [0.1111111111111111, \"#46039f\"], [0.2222222222222222, \"#7201a8\"], [0.3333333333333333, \"#9c179e\"], [0.4444444444444444, \"#bd3786\"], [0.5555555555555556, \"#d8576b\"], [0.6666666666666666, \"#ed7953\"], [0.7777777777777778, \"#fb9f3a\"], [0.8888888888888888, \"#fdca26\"], [1.0, \"#f0f921\"]], \"type\": \"heatmapgl\"}], \"histogram\": [{\"marker\": {\"colorbar\": {\"outlinewidth\": 0, \"ticks\": \"\"}}, \"type\": \"histogram\"}], \"histogram2d\": [{\"colorbar\": {\"outlinewidth\": 0, \"ticks\": \"\"}, \"colorscale\": [[0.0, \"#0d0887\"], [0.1111111111111111, \"#46039f\"], [0.2222222222222222, \"#7201a8\"], [0.3333333333333333, \"#9c179e\"], [0.4444444444444444, \"#bd3786\"], [0.5555555555555556, \"#d8576b\"], [0.6666666666666666, \"#ed7953\"], [0.7777777777777778, \"#fb9f3a\"], [0.8888888888888888, \"#fdca26\"], [1.0, \"#f0f921\"]], \"type\": \"histogram2d\"}], \"histogram2dcontour\": [{\"colorbar\": {\"outlinewidth\": 0, \"ticks\": \"\"}, \"colorscale\": [[0.0, \"#0d0887\"], [0.1111111111111111, \"#46039f\"], [0.2222222222222222, \"#7201a8\"], [0.3333333333333333, \"#9c179e\"], [0.4444444444444444, \"#bd3786\"], [0.5555555555555556, \"#d8576b\"], [0.6666666666666666, \"#ed7953\"], [0.7777777777777778, \"#fb9f3a\"], [0.8888888888888888, \"#fdca26\"], [1.0, \"#f0f921\"]], \"type\": \"histogram2dcontour\"}], \"mesh3d\": [{\"colorbar\": {\"outlinewidth\": 0, \"ticks\": \"\"}, \"type\": \"mesh3d\"}], \"parcoords\": [{\"line\": {\"colorbar\": {\"outlinewidth\": 0, \"ticks\": \"\"}}, \"type\": \"parcoords\"}], \"pie\": [{\"automargin\": true, \"type\": \"pie\"}], \"scatter\": [{\"marker\": {\"colorbar\": {\"outlinewidth\": 0, \"ticks\": \"\"}}, \"type\": \"scatter\"}], \"scatter3d\": [{\"line\": {\"colorbar\": {\"outlinewidth\": 0, \"ticks\": \"\"}}, \"marker\": {\"colorbar\": {\"outlinewidth\": 0, \"ticks\": \"\"}}, \"type\": \"scatter3d\"}], \"scattercarpet\": [{\"marker\": {\"colorbar\": {\"outlinewidth\": 0, \"ticks\": \"\"}}, \"type\": \"scattercarpet\"}], \"scattergeo\": [{\"marker\": {\"colorbar\": {\"outlinewidth\": 0, \"ticks\": \"\"}}, \"type\": \"scattergeo\"}], \"scattergl\": [{\"marker\": {\"colorbar\": {\"outlinewidth\": 0, \"ticks\": \"\"}}, \"type\": \"scattergl\"}], \"scattermapbox\": [{\"marker\": {\"colorbar\": {\"outlinewidth\": 0, \"ticks\": \"\"}}, \"type\": \"scattermapbox\"}], \"scatterpolar\": [{\"marker\": {\"colorbar\": {\"outlinewidth\": 0, \"ticks\": \"\"}}, \"type\": \"scatterpolar\"}], \"scatterpolargl\": [{\"marker\": {\"colorbar\": {\"outlinewidth\": 0, \"ticks\": \"\"}}, \"type\": \"scatterpolargl\"}], \"scatterternary\": [{\"marker\": {\"colorbar\": {\"outlinewidth\": 0, \"ticks\": \"\"}}, \"type\": \"scatterternary\"}], \"surface\": [{\"colorbar\": {\"outlinewidth\": 0, \"ticks\": \"\"}, \"colorscale\": [[0.0, \"#0d0887\"], [0.1111111111111111, \"#46039f\"], [0.2222222222222222, \"#7201a8\"], [0.3333333333333333, \"#9c179e\"], [0.4444444444444444, \"#bd3786\"], [0.5555555555555556, \"#d8576b\"], [0.6666666666666666, \"#ed7953\"], [0.7777777777777778, \"#fb9f3a\"], [0.8888888888888888, \"#fdca26\"], [1.0, \"#f0f921\"]], \"type\": \"surface\"}], \"table\": [{\"cells\": {\"fill\": {\"color\": \"#EBF0F8\"}, \"line\": {\"color\": \"white\"}}, \"header\": {\"fill\": {\"color\": \"#C8D4E3\"}, \"line\": {\"color\": \"white\"}}, \"type\": \"table\"}]}, \"layout\": {\"annotationdefaults\": {\"arrowcolor\": \"#2a3f5f\", \"arrowhead\": 0, \"arrowwidth\": 1}, \"autotypenumbers\": \"strict\", \"coloraxis\": {\"colorbar\": {\"outlinewidth\": 0, \"ticks\": \"\"}}, \"colorscale\": {\"diverging\": [[0, \"#8e0152\"], [0.1, \"#c51b7d\"], [0.2, \"#de77ae\"], [0.3, \"#f1b6da\"], [0.4, \"#fde0ef\"], [0.5, \"#f7f7f7\"], [0.6, \"#e6f5d0\"], [0.7, \"#b8e186\"], [0.8, \"#7fbc41\"], [0.9, \"#4d9221\"], [1, \"#276419\"]], \"sequential\": [[0.0, \"#0d0887\"], [0.1111111111111111, \"#46039f\"], [0.2222222222222222, \"#7201a8\"], [0.3333333333333333, \"#9c179e\"], [0.4444444444444444, \"#bd3786\"], [0.5555555555555556, \"#d8576b\"], [0.6666666666666666, \"#ed7953\"], [0.7777777777777778, \"#fb9f3a\"], [0.8888888888888888, \"#fdca26\"], [1.0, \"#f0f921\"]], \"sequentialminus\": [[0.0, \"#0d0887\"], [0.1111111111111111, \"#46039f\"], [0.2222222222222222, \"#7201a8\"], [0.3333333333333333, \"#9c179e\"], [0.4444444444444444, \"#bd3786\"], [0.5555555555555556, \"#d8576b\"], [0.6666666666666666, \"#ed7953\"], [0.7777777777777778, \"#fb9f3a\"], [0.8888888888888888, \"#fdca26\"], [1.0, \"#f0f921\"]]}, \"colorway\": [\"#636efa\", \"#EF553B\", \"#00cc96\", \"#ab63fa\", \"#FFA15A\", \"#19d3f3\", \"#FF6692\", \"#B6E880\", \"#FF97FF\", \"#FECB52\"], \"font\": {\"color\": \"#2a3f5f\"}, \"geo\": {\"bgcolor\": \"white\", \"lakecolor\": \"white\", \"landcolor\": \"#E5ECF6\", \"showlakes\": true, \"showland\": true, \"subunitcolor\": \"white\"}, \"hoverlabel\": {\"align\": \"left\"}, \"hovermode\": \"closest\", \"mapbox\": {\"style\": \"light\"}, \"paper_bgcolor\": \"white\", \"plot_bgcolor\": \"#E5ECF6\", \"polar\": {\"angularaxis\": {\"gridcolor\": \"white\", \"linecolor\": \"white\", \"ticks\": \"\"}, \"bgcolor\": \"#E5ECF6\", \"radialaxis\": {\"gridcolor\": \"white\", \"linecolor\": \"white\", \"ticks\": \"\"}}, \"scene\": {\"xaxis\": {\"backgroundcolor\": \"#E5ECF6\", \"gridcolor\": \"white\", \"gridwidth\": 2, \"linecolor\": \"white\", \"showbackground\": true, \"ticks\": \"\", \"zerolinecolor\": \"white\"}, \"yaxis\": {\"backgroundcolor\": \"#E5ECF6\", \"gridcolor\": \"white\", \"gridwidth\": 2, \"linecolor\": \"white\", \"showbackground\": true, \"ticks\": \"\", \"zerolinecolor\": \"white\"}, \"zaxis\": {\"backgroundcolor\": \"#E5ECF6\", \"gridcolor\": \"white\", \"gridwidth\": 2, \"linecolor\": \"white\", \"showbackground\": true, \"ticks\": \"\", \"zerolinecolor\": \"white\"}}, \"shapedefaults\": {\"line\": {\"color\": \"#2a3f5f\"}}, \"ternary\": {\"aaxis\": {\"gridcolor\": \"white\", \"linecolor\": \"white\", \"ticks\": \"\"}, \"baxis\": {\"gridcolor\": \"white\", \"linecolor\": \"white\", \"ticks\": \"\"}, \"bgcolor\": \"#E5ECF6\", \"caxis\": {\"gridcolor\": \"white\", \"linecolor\": \"white\", \"ticks\": \"\"}}, \"title\": {\"x\": 0.05}, \"xaxis\": {\"automargin\": true, \"gridcolor\": \"white\", \"linecolor\": \"white\", \"ticks\": \"\", \"title\": {\"standoff\": 15}, \"zerolinecolor\": \"white\", \"zerolinewidth\": 2}, \"yaxis\": {\"automargin\": true, \"gridcolor\": \"white\", \"linecolor\": \"white\", \"ticks\": \"\", \"title\": {\"standoff\": 15}, \"zerolinecolor\": \"white\", \"zerolinewidth\": 2}}}, \"title\": {\"text\": \"filtered experimental 1 atm vs delta P\"}, \"violinmode\": \"group\", \"xaxis\": {\"anchor\": \"y\", \"domain\": [0.0, 1.0], \"title\": {\"text\": \"delta_P\"}}, \"yaxis\": {\"anchor\": \"x\", \"domain\": [0.0, 1.0]}},                        {\"responsive\": true}                    ).then(function(){\n",
       "                            \n",
       "var gd = document.getElementById('d0acb05f-95ff-45c8-ba23-390ebb80b156');\n",
       "var x = new MutationObserver(function (mutations, observer) {{\n",
       "        var display = window.getComputedStyle(gd).display;\n",
       "        if (!display || display === 'none') {{\n",
       "            console.log([gd, 'removed!']);\n",
       "            Plotly.purge(gd);\n",
       "            observer.disconnect();\n",
       "        }}\n",
       "}});\n",
       "\n",
       "// Listen for the removal of the full notebook cells\n",
       "var notebookContainer = gd.closest('#notebook-container');\n",
       "if (notebookContainer) {{\n",
       "    x.observe(notebookContainer, {childList: true});\n",
       "}}\n",
       "\n",
       "// Listen for the clearing of the current output cell\n",
       "var outputEl = gd.closest('.output');\n",
       "if (outputEl) {{\n",
       "    x.observe(outputEl, {childList: true});\n",
       "}}\n",
       "\n",
       "                        })                };                });            </script>        </div>"
      ]
     },
     "metadata": {},
     "output_type": "display_data"
    }
   ],
   "source": [
    "import plotly.express as px\n",
    "atmb = df_up[df_up['Pressure_kbar']== 0.001]\n",
    "fig = px.violin(atmb, x=\"delta_P\", title= \"filtered experimental 1 atm vs delta P\")\n",
    "fig.show()"
   ]
  },
  {
   "cell_type": "code",
   "execution_count": 59,
   "metadata": {
    "scrolled": true
   },
   "outputs": [
    {
     "name": "stdout",
     "output_type": "stream",
     "text": [
      "1.1931165961349375\n"
     ]
    }
   ],
   "source": [
    "\"Finding Mean Absolute Error\"\n",
    "df_up['Abs_deltaP']=abs(df_up['delta_P'])#print (df_up['Abs_deltaP'])\n",
    "Sum_of_error = sum(df_up['Abs_deltaP'])\n",
    "#print (Sum_of_error)\n",
    "N2 = len(df_up.index)\n",
    "#print (N2)\n",
    "MAE = Sum_of_error/N2\n",
    "print (MAE)"
   ]
  },
  {
   "cell_type": "code",
   "execution_count": 46,
   "metadata": {},
   "outputs": [
    {
     "name": "stdout",
     "output_type": "stream",
     "text": [
      "1.5383144677212386\n"
     ]
    }
   ],
   "source": [
    "\"Finding RMSE\"\n",
    "#Residuals squared\n",
    "df_up['Sqrd_Rsd']=df_up['delta_P']**2\n",
    "#print (df['Sqrd_Rsd'])\n",
    "\n",
    "F_Res = sum(df_up['Sqrd_Rsd'])#mean of residuals\n",
    "#print (F_Res)\n",
    "M = len(df_up.index)\n",
    "#print (M)\n",
    "Mean_Res = F_Res/M\n",
    "#print (Mean_Res)\n",
    "\n",
    "Filtered_RMSE = math.sqrt(Mean_Res)#Squared root of mean residuals\n",
    "print (Filtered_RMSE)"
   ]
  },
  {
   "cell_type": "code",
   "execution_count": 47,
   "metadata": {},
   "outputs": [
    {
     "data": {
      "image/png": "[encoded data removed]",
      "text/plain": [
       "<Figure size 720x720 with 1 Axes>"
      ]
     },
     "metadata": {},
     "output_type": "display_data"
    }
   ],
   "source": [
    "#plot results before probability filter\n",
    "'Known experimental pressure versus Predicted pressure'\n",
    "sns.set(rc={'figure.figsize':(10,10)})\n",
    "sns.set_style(\"dark\")\n",
    "plt.style.use(\"dark_background\")\n",
    "ax = sns.scatterplot(x=\"Pressure_min\", y=\"Pressure_kbar\", data=df_up, s=300, color = \"azure\", alpha = 0.3)\n",
    "#ax.legend(loc='center left', bbox_to_anchor=(1.25, 0.5), ncol=1)\n",
    "\n",
    "ax.axes.set_title(\"Experimental vs Calculated Pressures (Filtered)\",fontsize=25)\n",
    "ax.set_xlabel(\"Calculated Pressure (Kbar)\",fontsize=20)\n",
    "ax.set_ylabel(\"Experimental Pressure (Kbar)\",fontsize=20)\n",
    "ax.tick_params(labelsize=20)\n",
    "\n",
    "#creating 1:1 line\n",
    "x = np.linspace(-1,15,100)\n",
    "y = 1*x+0\n",
    "plt.plot(x, y, '-w', linewidth=4.0)\n",
    "plt.show()"
   ]
  },
  {
   "cell_type": "code",
   "execution_count": 48,
   "metadata": {},
   "outputs": [
    {
     "data": {
      "image/png": "[encoded data removed]",
      "text/plain": [
       "<Figure size 720x720 with 1 Axes>"
      ]
     },
     "metadata": {},
     "output_type": "display_data"
    }
   ],
   "source": [
    "'Known experimental pressure versus Predicted pressure'\n",
    "sns.set(rc={'figure.figsize':(10,10)})\n",
    "sns.set_style(\"white\")\n",
    "ax = sns.scatterplot(x=\"Pressure_min\", y=\"Pressure_kbar\", data=df_Un, s=300, color = \"midnightblue\", alpha = 0.3)\n",
    "#ax.legend(loc='center left', bbox_to_anchor=(1.25, 0.5), ncol=1)\n",
    "\n",
    "ax.axes.set_title(\"Experimental vs Calculated Pressures (Unfiltered)\",fontsize=25)\n",
    "ax.set_xlabel(\"Calculated Pressure (Kbar)\",fontsize=20)\n",
    "ax.set_ylabel(\"Experimental Pressure (Kbar)\",fontsize=20)\n",
    "ax.tick_params(labelsize=20)\n",
    "\n",
    "#creating 1:1 line\n",
    "x = np.linspace(-1,15,100)\n",
    "y = 1*x+0\n",
    "plt.plot(x, y, '-k', linewidth=4.0)\n",
    "\n",
    "plt.savefig('Experimental vs Calculated Pressures (Unfiltered).png',dpi=500)"
   ]
  },
  {
   "cell_type": "code",
   "execution_count": 49,
   "metadata": {},
   "outputs": [
    {
     "data": {
      "image/png": "[encoded data removed]",
      "text/plain": [
       "<Figure size 720x720 with 1 Axes>"
      ]
     },
     "metadata": {},
     "output_type": "display_data"
    }
   ],
   "source": [
    "sns.set_style(\"dark\")\n",
    "plt.style.use(\"dark_background\")\n",
    "#sns.set(rc={'figure.figsize':(10.0,10)})\n",
    "ax = sns.scatterplot(x=\"delta_P\", y=\"alk\", data=df_up, s=300, color = 'honeydew', alpha = 0.5)\n",
    "plt.axvline(0)\n",
    "\n",
    "ax.axes.set_title(\"Alkalinity vs ΔP\",fontsize=25)\n",
    "ax.set_xlabel(\"ΔP\",fontsize=20)\n",
    "ax.set_ylabel(\"Alkalinity\",fontsize=20)\n",
    "ax.tick_params(labelsize=20)"
   ]
  },
  {
   "cell_type": "code",
   "execution_count": 60,
   "metadata": {},
   "outputs": [
    {
     "data": {
      "application/vnd.plotly.v1+json": {
       "config": {
        "plotlyServerURL": "https://plot.ly"
       },
       "data": [
        {
         "customdata": [
          [
           "Grove1992",
           "gl-ol-cp-pl",
           "1atm_furnace"
          ],
          [
           "Grove1992",
           "gl-ol-cp-pl",
           "zhm_ar"
          ],
          [
           "Grove1992",
           "gl-ol-cp-pl",
           "zhm_ar"
          ],
          [
           "Grove1992",
           "gl-ol-cp-pl",
           "zhm_ar"
          ],
          [
           "Grove1992",
           "gl-ol-cp-pl",
           "zhm_ar"
          ],
          [
           "Grove1992",
           "gl-ol-cp-pl",
           "zhm_ar"
          ],
          [
           "Grove1992",
           "gl-ol-cp-pl",
           "Piston Cylinder"
          ],
          [
           "Grove1992",
           "gl-ol-cp-pl",
           "Piston Cylinder"
          ],
          [
           "Grove1992",
           "gl-ol-cp-pl",
           "Piston Cylinder"
          ],
          [
           "Grove1992",
           "gl-ol-cp-pl",
           "Piston Cylinder"
          ],
          [
           "Grove1992",
           "gl-ol-cp-pl",
           "Piston Cylinder"
          ],
          [
           "Grove1992",
           "gl-ol-cp-pl",
           "Piston Cylinder"
          ],
          [
           "Grove1992",
           "gl-ol-cp-pl",
           "Piston Cylinder"
          ],
          [
           "Grove1992",
           "gl-ol-cp-pl",
           "Piston Cylinder"
          ],
          [
           "Grove1992",
           "gl-ol-cp-pl",
           "Piston Cylinder"
          ],
          [
           "Grove1992",
           "gl-ol-cp-pl",
           "Piston Cylinder"
          ],
          [
           "Tormey1987",
           "gl-ol-cp-pl",
           "1atm_furnace"
          ],
          [
           "Tormey1987",
           "gl-ol-cp-pl",
           "1atm_furnace"
          ],
          [
           "Tormey1987",
           "gl-ol-cp-pl",
           "1atm_furnace"
          ],
          [
           "Tormey1987",
           "gl-ol-cp-pl",
           "1atm_furnace"
          ],
          [
           "BakerEggler1987",
           "gl-ol-cp-pl",
           "Piston Cylinder"
          ],
          [
           "BakerEggler1987",
           "gl-ol-cp-pl",
           "Piston Cylinder"
          ],
          [
           "BakerEggler1987",
           "gl-ol-cp-pl",
           "Piston Cylinder"
          ],
          [
           "Yang1996",
           "gl-ol-cp-pl",
           "1atm_furnace"
          ],
          [
           "Yang1996",
           "gl-ol-cp-pl",
           "1atm_furnace"
          ],
          [
           "Yang1996",
           "gl-ol-cp-pl",
           "1atm_furnace"
          ],
          [
           "Yang1996",
           "gl-ol-cp-pl",
           "1atm_furnace"
          ],
          [
           "Yang1996",
           "gl-ol-cp-pl",
           "1atm_furnace"
          ],
          [
           "Yang1996",
           "gl-ol-cp-pl",
           "1atm_furnace"
          ],
          [
           "Yang1996",
           "gl-ol-cp-pl",
           "1atm_furnace"
          ],
          [
           "Yang1996",
           "gl-ol-cp-pl",
           "1atm_furnace"
          ],
          [
           "Yang1996",
           "gl-ol-cp-pl",
           "1atm_furnace"
          ],
          [
           "Yang1996",
           "gl-ol-cp-pl",
           "1atm_furnace"
          ],
          [
           "Yang1996",
           "gl-ol-cp-pl",
           "1atm_furnace"
          ],
          [
           "Yang1996",
           "gl-ol-cp-pl",
           "1atm_furnace"
          ],
          [
           "Yang1996",
           "gl-ol-cp-pl",
           "1atm_furnace"
          ],
          [
           "Yang1996",
           "gl-ol-cp-pl",
           "1atm_furnace"
          ],
          [
           "Yang1996",
           "gl-ol-cp-pl",
           "1atm_furnace"
          ],
          [
           "Yang1996",
           "gl-ol-cp-pl",
           "1atm_furnace"
          ],
          [
           "Yang1996",
           "gl-ol-cp-pl",
           "1atm_furnace"
          ],
          [
           "Yang1996",
           "gl-ol-cp-pl",
           "1atm_furnace"
          ],
          [
           "Yang1996",
           "gl-ol-cp-pl",
           "1atm_furnace"
          ],
          [
           "Yang1996",
           "gl-ol-cp-pl",
           "1atm_furnace"
          ],
          [
           "Yang1996",
           "gl-ol-cp-pl",
           "1atm_furnace"
          ],
          [
           "ToplisCarroll1995",
           "gl-ol-cp-pl",
           "1atm_furnace"
          ],
          [
           "ToplisCarroll1995",
           "gl-ol-cp-pl",
           "1atm_furnace"
          ],
          [
           "ToplisCarroll1995",
           "gl-ol-cp-pl",
           "1atm_furnace"
          ],
          [
           "ToplisCarroll1995",
           "gl-ol-cp-pl",
           "1atm_furnace"
          ],
          [
           "ToplisCarroll1995",
           "gl-ol-cp-pl",
           "1atm_furnace"
          ],
          [
           "Thy2006",
           "gl-ol-cp-pl",
           "1atm_furnace"
          ],
          [
           "Thy2006",
           "gl-ol-cp-pl",
           "1atm_furnace"
          ],
          [
           "Thy2006",
           "gl-ol-cp-pl",
           "1atm_furnace"
          ],
          [
           "Thy2006",
           "gl-ol-cp-pl",
           "1atm_furnace"
          ],
          [
           "Thy2006",
           "gl-ol-cp-pl",
           "1atm_furnace"
          ],
          [
           "Thy2006",
           "gl-ol-cp-pl",
           "1atm_furnace"
          ],
          [
           "Thy2006",
           "gl-ol-cp-pl",
           "1atm_furnace"
          ],
          [
           "Thy2006",
           "gl-ol-cp-pl",
           "1atm_furnace"
          ],
          [
           "Thy2006",
           "gl-ol-cp-pl",
           "1atm_furnace"
          ],
          [
           "Thy2006",
           "gl-ol-cp-pl",
           "1atm_furnace"
          ],
          [
           "Thy2006",
           "gl-ol-cp-pl",
           "1atm_furnace"
          ],
          [
           "Thy2006",
           "gl-ol-cp-pl",
           "1atm_furnace"
          ],
          [
           "Thy2006",
           "gl-ol-cp-pl",
           "1atm_furnace"
          ],
          [
           "Thy2006",
           "gl-ol-cp-pl",
           "1atm_furnace"
          ],
          [
           "Thy2006",
           "gl-ol-cp-pl",
           "1atm_furnace"
          ],
          [
           "Thy2006",
           "gl-ol-cp-pl",
           "1atm_furnace"
          ],
          [
           "Thy2006",
           "gl-ol-cp-pl",
           "1atm_furnace"
          ],
          [
           "Thy2006",
           "gl-ol-cp-pl",
           "1atm_furnace"
          ],
          [
           "Thy2006",
           "gl-ol-cp-pl",
           "1atm_furnace"
          ],
          [
           "Whitaker2007",
           "gl-ol-cp-pl",
           "Piston Cylinder"
          ],
          [
           "Whitaker2007",
           "gl-ol-cp-pl",
           "Piston Cylinder"
          ],
          [
           "Whitaker2007",
           "gl-ol-cp-pl-sp",
           "1atm_furnace"
          ],
          [
           "Husen2016",
           "gl-ol-cp-pl",
           "IHPV"
          ],
          [
           "Neave et al., 2019 (HAL)",
           "gl-ol-cp-pl",
           "IHPV"
          ],
          [
           "Neave et al., 2019 (HAL)",
           "gl-ol-cp-pl",
           "IHPV"
          ],
          [
           "Neave et al., 2019 (STA)",
           "gl-ol-cp-pl",
           "IHPV"
          ],
          [
           "Voigt et al., 2017",
           "gl-ol-cp-pl-sp",
           "1atm_furnace"
          ],
          [
           "Voigt et al., 2017",
           "gl-ol-cp-pl",
           "1atm_furnace"
          ],
          [
           "Voigt et al., 2017",
           "gl-ol-cp-pl",
           "1atm_furnace"
          ],
          [
           "Voigt et al., 2017",
           "gl-ol-cp-pl",
           "1atm_furnace"
          ],
          [
           "Voigt et al., 2017",
           "gl-ol-cp-pl",
           "1atm_furnace"
          ],
          [
           "Voigt et al., 2017",
           "gl-ol-cp-pl",
           "1atm_furnace"
          ],
          [
           "Voigt et al., 2017",
           "gl-ol-cp-pl-sp",
           "1atm_furnace"
          ],
          [
           "Voigt et al., 2017",
           "gl-ol-cp-pl",
           "1atm_furnace"
          ],
          [
           "Gaetani Unpublished",
           "gl-ol-cp-pl",
           "Piston Cylinder"
          ],
          [
           "Gaetani Unpublished",
           "gl-ol-cp-pl",
           "Piston Cylinder"
          ],
          [
           "Gaetani Unpublished",
           "gl-ol-cp-pl",
           "Piston Cylinder"
          ],
          [
           "Baker, M.B., Grove, T.L., Price, R. (1994)",
           "gl-ol-cp-pl",
           "1atm_furnace"
          ],
          [
           "Baker, M.B., Grove, T.L., Price, R. (1994)",
           "gl-ol-cp-pl",
           "1atm_furnace"
          ],
          [
           "Grove, T.L., Bryan, W.B. (1983)",
           "gl-ol-cp-pl",
           "1atm_furnace"
          ],
          [
           "Grove, T.L., Bryan, W.B. (1983)",
           "gl-ol-cp-pl",
           "1atm_furnace"
          ],
          [
           "Grove, T.L., Bryan, W.B. (1983)",
           "gl-ol-cp-pl",
           "1atm_furnace"
          ],
          [
           "Grove, T.L., Bryan, W.B. (1983)",
           "gl-ol-cp-pl",
           "1atm_furnace"
          ],
          [
           "Grove, T.L., Bryan, W.B. (1983)",
           "gl-ol-cp-pl",
           "1atm_furnace"
          ],
          [
           "Grove, T.L., Bryan, W.B. (1983)",
           "gl-ol-cp-pl",
           "1atm_furnace"
          ],
          [
           "Grove, T.L., Bryan, W.B. (1983)",
           "gl-ol-cp-pl",
           "1atm_furnace"
          ],
          [
           "Grove, T.L., Bryan, W.B. (1983)",
           "gl-ol-cp-pl",
           "1atm_furnace"
          ],
          [
           "Grove, T.L., Bryan, W.B. (1983)",
           "gl-ol-cp-pl-sp",
           "1atm_furnace"
          ],
          [
           "Grove, T.L., Bryan, W.B. (1983)",
           "gl-ol-cp-pl-sp",
           "1atm_furnace"
          ],
          [
           "Grove, T.L., Bryan, W.B. (1983)",
           "gl-ol-cp-pl",
           "1atm_furnace"
          ],
          [
           "Grove, T.L., Bryan, W.B. (1983)",
           "gl-ol-cp-pl",
           "1atm_furnace"
          ],
          [
           "Grove, T.L., Bryan, W.B. (1983)",
           "gl-ol-cp-pl",
           "1atm_furnace"
          ],
          [
           "Grove, T.L., Bryan, W.B. (1983)",
           "gl-ol-cp-pl",
           "1atm_furnace"
          ],
          [
           "Grove, T.L., Bryan, W.B. (1983)",
           "gl-ol-cp-pl",
           "1atm_furnace"
          ],
          [
           "Grove, T.L., Bryan, W.B. (1983)",
           "gl-ol-cp-pl",
           "1atm_furnace"
          ],
          [
           "Grove, T.L., Bryan, W.B. (1983)",
           "gl-ol-cp-pl",
           "1atm_furnace"
          ],
          [
           "Mahood, G.A., Baker, D.R. (1986)",
           "gl-ol-cp-pl",
           "1atm_furnace"
          ],
          [
           "Kennedy, A.K., Grove, T.L., Johnson, R.W. (1990)",
           "gl-ol-cp-pl",
           "1atm_furnace"
          ],
          [
           "Kennedy, A.K., Grove, T.L., Johnson, R.W. (1990)",
           "gl-ol-cp-pl",
           "1atm_furnace"
          ],
          [
           "Thy 1991",
           "gl-ol-cp-pl",
           "Piston Cylinder"
          ],
          [
           "Thy 1991",
           "gl-ol-cp-pl-sp",
           "Piston Cylinder"
          ],
          [
           "Thy 1991",
           "gl-ol-cp-pl-sp",
           "Piston Cylinder"
          ],
          [
           "Thy 1991",
           "gl-ol-cp-pl",
           "Piston Cylinder"
          ],
          [
           "Thy 1991",
           "gl-ol-cp-pl",
           "Piston Cylinder"
          ]
         ],
         "hovertemplate": "ΔP=%{x}<br>Probability=%{y}<br>Reference=%{customdata[0]}<br>Phases=%{customdata[1]}<br>Apparatus=%{customdata[2]}<br>alk=%{marker.color}<extra></extra>",
         "legendgroup": "",
         "marker": {
          "color": [
           3.61,
           3.42,
           3.58,
           3.37,
           3.36,
           3.57,
           3.25,
           3.71,
           3.76,
           2.44,
           2.35,
           2.42,
           3.28,
           3.48,
           3.97,
           3.35,
           3.44,
           3.15,
           3.72,
           3.93,
           3.07,
           3.06,
           3.19,
           2.69,
           2.76,
           2.83,
           3.69,
           3.7,
           3,
           2.83,
           3.45,
           3.95,
           4,
           3.25,
           3.28,
           3.19,
           2.92,
           3.22,
           3.45,
           3.45,
           1.49,
           1.63,
           1.84,
           1.61,
           3.12,
           3.07,
           3.37,
           3.26,
           3.47,
           2.73,
           2.75,
           2.74,
           3.22,
           3.27,
           2.49,
           2.52,
           3.04,
           3.01,
           3.16,
           2.82,
           3.08,
           3.15,
           3.09,
           2.82,
           2.9,
           3.12,
           3.22,
           3.07,
           3.85,
           3.7,
           3.18,
           3.97,
           2.04,
           2.07,
           2.86,
           2.6,
           2.44,
           2.78,
           2.35,
           2.24,
           2.29,
           2.29,
           2.38,
           1.01,
           1.44,
           1.67,
           4.21,
           4.58,
           1.6,
           1.57,
           1.56,
           1.63,
           1.94,
           1.7,
           1.65,
           2.23,
           2.1,
           2.17,
           2.59,
           2.07,
           2.64,
           3.02,
           2.71,
           2.99,
           2.46,
           5.68,
           6.16,
           5.73,
           4.18,
           3.96,
           4.79,
           4.27,
           5
          ],
          "coloraxis": "coloraxis",
          "symbol": "circle"
         },
         "mode": "markers",
         "name": "",
         "orientation": "v",
         "showlegend": false,
         "type": "scatter",
         "x": [
          -0.7184502733624623,
          0.3168841452710347,
          -0.31870080287410696,
          -0.005625768773046325,
          -0.964504022524997,
          -0.9065078202684169,
          -1.3639489828816895,
          0.39779131417254554,
          -0.274825482493549,
          1.8960207290109743,
          -0.7610154789998269,
          -0.26518144378849406,
          0.55359341079091,
          -2.583994797052651,
          0.5165787186831388,
          2.1079057813829127,
          0.30738296527975995,
          -0.6299009629245198,
          0.3972739452482525,
          1.396410659544079,
          1.9075990453387757,
          0.24823787153804844,
          -0.2474877795182744,
          0.40376668004160077,
          -0.2023139537937081,
          -1.0154137973289918,
          0.020067990657676005,
          -0.37704117014722094,
          -0.6628098573524176,
          0.9727769147782421,
          -0.27366617561450113,
          -0.9346846975967105,
          -2.350870986646548,
          0.6758270949803159,
          -0.905206322563929,
          -1.566940402928563,
          0.4317892026483253,
          -0.02926867484721888,
          -0.7647045366357849,
          -1.322581895546519,
          1.9590797418523198,
          0.9479332082264148,
          1.8035842349093616,
          1.486074661347976,
          -1.48666289513515,
          -2.7595538061457985,
          -2.2196088016986977,
          -0.24416508116255461,
          -3.1161766852707697,
          1.7627305502007096,
          1.0409988431377668,
          1.0078230057002575,
          0.13455945318689097,
          0.15877829998383516,
          2.945295942429557,
          1.4917294586608838,
          1.2683208949478524,
          0.9052395570259552,
          -1.5929450055900953,
          3.000482376233701,
          2.948383397291074,
          2.6891014523720993,
          2.436213443966197,
          0.21889687695574744,
          0.34014454527855204,
          -0.5276328914785413,
          -0.9684341758018147,
          0.5280408870062924,
          2.8739676855086405,
          -1.2932691803804097,
          -0.2613995913358246,
          -0.05122300256920331,
          0.0380680729016456,
          0.65249450151483,
          -1.9027056722707558,
          1.5765296233094137,
          1.8831051346872232,
          0.08961913287189255,
          2.0106395702970414,
          0.6802404264820407,
          0.6838778018901926,
          4.749986020104786,
          2.1855851113231797,
          2.503052457333534,
          2.309305806397403,
          1.8459656805310576,
          0.47215486335692936,
          -0.47392175119518065,
          1.9222041944882031,
          2.0604379236726498,
          2.5419615907167414,
          2.5355576422756267,
          1.1869546255225512,
          0.6085403529225356,
          1.8535346597379192,
          0.4178094817184535,
          1.0051928277846218,
          2.0496405275893053,
          0.6800776528876379,
          1.067449054580603,
          -0.036639677301450395,
          -0.6912172204612715,
          0.015753267822704094,
          -0.07442560128845702,
          0.3974386508525427,
          0.35439704611087264,
          1.1588018232011656,
          -0.1455625078342464,
          -1.9984264667115008,
          -1.9405541163091586,
          0.4119513232953537,
          -3.8950991977194436,
          -3.251294115354148
         ],
         "xaxis": "x",
         "y": [
          0.8209372194811392,
          0.896354299398174,
          0.9665851031253295,
          0.9854308975217188,
          0.9869869700434856,
          0.703742618478878,
          0.959800304548087,
          0.9074989309794503,
          0.9508294990973474,
          0.9738326202648905,
          0.8353230198382104,
          0.9723138655521862,
          0.8366132836713415,
          0.956555199227138,
          0.9051337712913186,
          0.9722657778003455,
          0.9404159563243957,
          0.9644558553425885,
          0.7974040217801179,
          0.9457028007851369,
          0.8786893438270998,
          0.719597231623585,
          0.9548717473396539,
          0.9833385854994126,
          0.9945019667859394,
          0.9137037817344903,
          0.9346535569120309,
          0.9877590233676162,
          0.9597884208450668,
          0.9896492720804259,
          0.9685439448668752,
          0.9676145185130273,
          0.8383923251397513,
          0.924751122420079,
          0.889011058925085,
          0.8828822137056273,
          0.9958775693359069,
          0.9916214757764308,
          0.9852375041761754,
          0.9171902424689333,
          0.908424285406523,
          0.8623954557407918,
          0.982952000506152,
          0.8128778825206385,
          0.7976032762575175,
          0.8001294215240162,
          0.7476855763504415,
          0.756366513864398,
          0.7004612403330415,
          0.9678092446616063,
          0.9450848384614687,
          0.8251706376977097,
          0.8681632246041231,
          0.883543471570022,
          0.9994643136422503,
          0.8613899781752191,
          0.9815135947230735,
          0.9601374634998799,
          0.8887360689469619,
          0.960005154690388,
          0.9114161135009525,
          0.785331534222599,
          0.9437011199066249,
          0.9742224979232014,
          0.9387538462781208,
          0.9101723709683076,
          0.9344759692200637,
          0.9480580377246914,
          0.7196440055160507,
          0.8436220126875862,
          0.840536067522814,
          0.9983600559496042,
          0.9992940180551476,
          0.9815420654144593,
          0.9760405774423395,
          0.8561907466118521,
          0.8335063539737729,
          0.7556570062157393,
          0.8248418275560765,
          0.8409921115772019,
          0.9552499680919331,
          0.848881707411733,
          0.8942092107003409,
          0.9881567969871916,
          0.9975095070063648,
          0.8325324045437645,
          0.778798940863053,
          0.8442420104278501,
          0.8682444644290148,
          0.9586014798375162,
          0.7715787007325965,
          0.7646833033672861,
          0.9933481516358599,
          0.9689261664747582,
          0.7093979781843858,
          0.9834560015880214,
          0.9882428469942937,
          0.9503269227015372,
          0.7460011526000017,
          0.9647566343119921,
          0.967698362575021,
          0.8676842323317498,
          0.8996536539029529,
          0.8717718457314045,
          0.949983569234108,
          0.7474177609685559,
          0.7337706337231589,
          0.7155464042413353,
          0.9425206138785955,
          0.9864409968276755,
          0.9066330227148516,
          0.9834689295230287,
          0.9748591304885881
         ],
         "yaxis": "y"
        },
        {
         "alignmentgroup": "True",
         "bingroup": "x",
         "hovertemplate": "ΔP=%{x}<br>count=%{y}<extra></extra>",
         "legendgroup": "",
         "marker": {
          "color": "rgb(247, 254, 174)"
         },
         "name": "",
         "offsetgroup": "",
         "opacity": 0.5,
         "showlegend": false,
         "type": "histogram",
         "x": [
          -0.7184502733624623,
          0.3168841452710347,
          -0.31870080287410696,
          -0.005625768773046325,
          -0.964504022524997,
          -0.9065078202684169,
          -1.3639489828816895,
          0.39779131417254554,
          -0.274825482493549,
          1.8960207290109743,
          -0.7610154789998269,
          -0.26518144378849406,
          0.55359341079091,
          -2.583994797052651,
          0.5165787186831388,
          2.1079057813829127,
          0.30738296527975995,
          -0.6299009629245198,
          0.3972739452482525,
          1.396410659544079,
          1.9075990453387757,
          0.24823787153804844,
          -0.2474877795182744,
          0.40376668004160077,
          -0.2023139537937081,
          -1.0154137973289918,
          0.020067990657676005,
          -0.37704117014722094,
          -0.6628098573524176,
          0.9727769147782421,
          -0.27366617561450113,
          -0.9346846975967105,
          -2.350870986646548,
          0.6758270949803159,
          -0.905206322563929,
          -1.566940402928563,
          0.4317892026483253,
          -0.02926867484721888,
          -0.7647045366357849,
          -1.322581895546519,
          1.9590797418523198,
          0.9479332082264148,
          1.8035842349093616,
          1.486074661347976,
          -1.48666289513515,
          -2.7595538061457985,
          -2.2196088016986977,
          -0.24416508116255461,
          -3.1161766852707697,
          1.7627305502007096,
          1.0409988431377668,
          1.0078230057002575,
          0.13455945318689097,
          0.15877829998383516,
          2.945295942429557,
          1.4917294586608838,
          1.2683208949478524,
          0.9052395570259552,
          -1.5929450055900953,
          3.000482376233701,
          2.948383397291074,
          2.6891014523720993,
          2.436213443966197,
          0.21889687695574744,
          0.34014454527855204,
          -0.5276328914785413,
          -0.9684341758018147,
          0.5280408870062924,
          2.8739676855086405,
          -1.2932691803804097,
          -0.2613995913358246,
          -0.05122300256920331,
          0.0380680729016456,
          0.65249450151483,
          -1.9027056722707558,
          1.5765296233094137,
          1.8831051346872232,
          0.08961913287189255,
          2.0106395702970414,
          0.6802404264820407,
          0.6838778018901926,
          4.749986020104786,
          2.1855851113231797,
          2.503052457333534,
          2.309305806397403,
          1.8459656805310576,
          0.47215486335692936,
          -0.47392175119518065,
          1.9222041944882031,
          2.0604379236726498,
          2.5419615907167414,
          2.5355576422756267,
          1.1869546255225512,
          0.6085403529225356,
          1.8535346597379192,
          0.4178094817184535,
          1.0051928277846218,
          2.0496405275893053,
          0.6800776528876379,
          1.067449054580603,
          -0.036639677301450395,
          -0.6912172204612715,
          0.015753267822704094,
          -0.07442560128845702,
          0.3974386508525427,
          0.35439704611087264,
          1.1588018232011656,
          -0.1455625078342464,
          -1.9984264667115008,
          -1.9405541163091586,
          0.4119513232953537,
          -3.8950991977194436,
          -3.251294115354148
         ],
         "xaxis": "x3",
         "yaxis": "y3"
        },
        {
         "alignmentgroup": "True",
         "bingroup": "y",
         "hovertemplate": "Probability=%{y}<br>count=%{x}<extra></extra>",
         "legendgroup": "",
         "marker": {
          "color": "rgb(247, 254, 174)"
         },
         "name": "",
         "offsetgroup": "",
         "opacity": 0.5,
         "showlegend": false,
         "type": "histogram",
         "xaxis": "x2",
         "y": [
          0.8209372194811392,
          0.896354299398174,
          0.9665851031253295,
          0.9854308975217188,
          0.9869869700434856,
          0.703742618478878,
          0.959800304548087,
          0.9074989309794503,
          0.9508294990973474,
          0.9738326202648905,
          0.8353230198382104,
          0.9723138655521862,
          0.8366132836713415,
          0.956555199227138,
          0.9051337712913186,
          0.9722657778003455,
          0.9404159563243957,
          0.9644558553425885,
          0.7974040217801179,
          0.9457028007851369,
          0.8786893438270998,
          0.719597231623585,
          0.9548717473396539,
          0.9833385854994126,
          0.9945019667859394,
          0.9137037817344903,
          0.9346535569120309,
          0.9877590233676162,
          0.9597884208450668,
          0.9896492720804259,
          0.9685439448668752,
          0.9676145185130273,
          0.8383923251397513,
          0.924751122420079,
          0.889011058925085,
          0.8828822137056273,
          0.9958775693359069,
          0.9916214757764308,
          0.9852375041761754,
          0.9171902424689333,
          0.908424285406523,
          0.8623954557407918,
          0.982952000506152,
          0.8128778825206385,
          0.7976032762575175,
          0.8001294215240162,
          0.7476855763504415,
          0.756366513864398,
          0.7004612403330415,
          0.9678092446616063,
          0.9450848384614687,
          0.8251706376977097,
          0.8681632246041231,
          0.883543471570022,
          0.9994643136422503,
          0.8613899781752191,
          0.9815135947230735,
          0.9601374634998799,
          0.8887360689469619,
          0.960005154690388,
          0.9114161135009525,
          0.785331534222599,
          0.9437011199066249,
          0.9742224979232014,
          0.9387538462781208,
          0.9101723709683076,
          0.9344759692200637,
          0.9480580377246914,
          0.7196440055160507,
          0.8436220126875862,
          0.840536067522814,
          0.9983600559496042,
          0.9992940180551476,
          0.9815420654144593,
          0.9760405774423395,
          0.8561907466118521,
          0.8335063539737729,
          0.7556570062157393,
          0.8248418275560765,
          0.8409921115772019,
          0.9552499680919331,
          0.848881707411733,
          0.8942092107003409,
          0.9881567969871916,
          0.9975095070063648,
          0.8325324045437645,
          0.778798940863053,
          0.8442420104278501,
          0.8682444644290148,
          0.9586014798375162,
          0.7715787007325965,
          0.7646833033672861,
          0.9933481516358599,
          0.9689261664747582,
          0.7093979781843858,
          0.9834560015880214,
          0.9882428469942937,
          0.9503269227015372,
          0.7460011526000017,
          0.9647566343119921,
          0.967698362575021,
          0.8676842323317498,
          0.8996536539029529,
          0.8717718457314045,
          0.949983569234108,
          0.7474177609685559,
          0.7337706337231589,
          0.7155464042413353,
          0.9425206138785955,
          0.9864409968276755,
          0.9066330227148516,
          0.9834689295230287,
          0.9748591304885881
         ],
         "yaxis": "y2"
        }
       ],
       "layout": {
        "barmode": "overlay",
        "coloraxis": {
         "colorbar": {
          "title": {
           "text": "alk"
          }
         },
         "colorscale": [
          [
           0,
           "rgb(247, 254, 174)"
          ],
          [
           0.16666666666666666,
           "rgb(183, 230, 165)"
          ],
          [
           0.3333333333333333,
           "rgb(124, 203, 162)"
          ],
          [
           0.5,
           "rgb(70, 174, 160)"
          ],
          [
           0.6666666666666666,
           "rgb(8, 144, 153)"
          ],
          [
           0.8333333333333334,
           "rgb(0, 113, 139)"
          ],
          [
           1,
           "rgb(4, 82, 117)"
          ]
         ]
        },
        "legend": {
         "tracegroupgap": 0
        },
        "template": {
         "data": {
          "bar": [
           {
            "error_x": {
             "color": "#f2f5fa"
            },
            "error_y": {
             "color": "#f2f5fa"
            },
            "marker": {
             "line": {
              "color": "rgb(17,17,17)",
              "width": 0.5
             }
            },
            "type": "bar"
           }
          ],
          "barpolar": [
           {
            "marker": {
             "line": {
              "color": "rgb(17,17,17)",
              "width": 0.5
             }
            },
            "type": "barpolar"
           }
          ],
          "carpet": [
           {
            "aaxis": {
             "endlinecolor": "#A2B1C6",
             "gridcolor": "#506784",
             "linecolor": "#506784",
             "minorgridcolor": "#506784",
             "startlinecolor": "#A2B1C6"
            },
            "baxis": {
             "endlinecolor": "#A2B1C6",
             "gridcolor": "#506784",
             "linecolor": "#506784",
             "minorgridcolor": "#506784",
             "startlinecolor": "#A2B1C6"
            },
            "type": "carpet"
           }
          ],
          "choropleth": [
           {
            "colorbar": {
             "outlinewidth": 0,
             "ticks": ""
            },
            "type": "choropleth"
           }
          ],
          "contour": [
           {
            "colorbar": {
             "outlinewidth": 0,
             "ticks": ""
            },
            "colorscale": [
             [
              0,
              "#0d0887"
             ],
             [
              0.1111111111111111,
              "#46039f"
             ],
             [
              0.2222222222222222,
              "#7201a8"
             ],
             [
              0.3333333333333333,
              "#9c179e"
             ],
             [
              0.4444444444444444,
              "#bd3786"
             ],
             [
              0.5555555555555556,
              "#d8576b"
             ],
             [
              0.6666666666666666,
              "#ed7953"
             ],
             [
              0.7777777777777778,
              "#fb9f3a"
             ],
             [
              0.8888888888888888,
              "#fdca26"
             ],
             [
              1,
              "#f0f921"
             ]
            ],
            "type": "contour"
           }
          ],
          "contourcarpet": [
           {
            "colorbar": {
             "outlinewidth": 0,
             "ticks": ""
            },
            "type": "contourcarpet"
           }
          ],
          "heatmap": [
           {
            "colorbar": {
             "outlinewidth": 0,
             "ticks": ""
            },
            "colorscale": [
             [
              0,
              "#0d0887"
             ],
             [
              0.1111111111111111,
              "#46039f"
             ],
             [
              0.2222222222222222,
              "#7201a8"
             ],
             [
              0.3333333333333333,
              "#9c179e"
             ],
             [
              0.4444444444444444,
              "#bd3786"
             ],
             [
              0.5555555555555556,
              "#d8576b"
             ],
             [
              0.6666666666666666,
              "#ed7953"
             ],
             [
              0.7777777777777778,
              "#fb9f3a"
             ],
             [
              0.8888888888888888,
              "#fdca26"
             ],
             [
              1,
              "#f0f921"
             ]
            ],
            "type": "heatmap"
           }
          ],
          "heatmapgl": [
           {
            "colorbar": {
             "outlinewidth": 0,
             "ticks": ""
            },
            "colorscale": [
             [
              0,
              "#0d0887"
             ],
             [
              0.1111111111111111,
              "#46039f"
             ],
             [
              0.2222222222222222,
              "#7201a8"
             ],
             [
              0.3333333333333333,
              "#9c179e"
             ],
             [
              0.4444444444444444,
              "#bd3786"
             ],
             [
              0.5555555555555556,
              "#d8576b"
             ],
             [
              0.6666666666666666,
              "#ed7953"
             ],
             [
              0.7777777777777778,
              "#fb9f3a"
             ],
             [
              0.8888888888888888,
              "#fdca26"
             ],
             [
              1,
              "#f0f921"
             ]
            ],
            "type": "heatmapgl"
           }
          ],
          "histogram": [
           {
            "marker": {
             "colorbar": {
              "outlinewidth": 0,
              "ticks": ""
             }
            },
            "type": "histogram"
           }
          ],
          "histogram2d": [
           {
            "colorbar": {
             "outlinewidth": 0,
             "ticks": ""
            },
            "colorscale": [
             [
              0,
              "#0d0887"
             ],
             [
              0.1111111111111111,
              "#46039f"
             ],
             [
              0.2222222222222222,
              "#7201a8"
             ],
             [
              0.3333333333333333,
              "#9c179e"
             ],
             [
              0.4444444444444444,
              "#bd3786"
             ],
             [
              0.5555555555555556,
              "#d8576b"
             ],
             [
              0.6666666666666666,
              "#ed7953"
             ],
             [
              0.7777777777777778,
              "#fb9f3a"
             ],
             [
              0.8888888888888888,
              "#fdca26"
             ],
             [
              1,
              "#f0f921"
             ]
            ],
            "type": "histogram2d"
           }
          ],
          "histogram2dcontour": [
           {
            "colorbar": {
             "outlinewidth": 0,
             "ticks": ""
            },
            "colorscale": [
             [
              0,
              "#0d0887"
             ],
             [
              0.1111111111111111,
              "#46039f"
             ],
             [
              0.2222222222222222,
              "#7201a8"
             ],
             [
              0.3333333333333333,
              "#9c179e"
             ],
             [
              0.4444444444444444,
              "#bd3786"
             ],
             [
              0.5555555555555556,
              "#d8576b"
             ],
             [
              0.6666666666666666,
              "#ed7953"
             ],
             [
              0.7777777777777778,
              "#fb9f3a"
             ],
             [
              0.8888888888888888,
              "#fdca26"
             ],
             [
              1,
              "#f0f921"
             ]
            ],
            "type": "histogram2dcontour"
           }
          ],
          "mesh3d": [
           {
            "colorbar": {
             "outlinewidth": 0,
             "ticks": ""
            },
            "type": "mesh3d"
           }
          ],
          "parcoords": [
           {
            "line": {
             "colorbar": {
              "outlinewidth": 0,
              "ticks": ""
             }
            },
            "type": "parcoords"
           }
          ],
          "pie": [
           {
            "automargin": true,
            "type": "pie"
           }
          ],
          "scatter": [
           {
            "marker": {
             "line": {
              "color": "#283442"
             }
            },
            "type": "scatter"
           }
          ],
          "scatter3d": [
           {
            "line": {
             "colorbar": {
              "outlinewidth": 0,
              "ticks": ""
             }
            },
            "marker": {
             "colorbar": {
              "outlinewidth": 0,
              "ticks": ""
             }
            },
            "type": "scatter3d"
           }
          ],
          "scattercarpet": [
           {
            "marker": {
             "colorbar": {
              "outlinewidth": 0,
              "ticks": ""
             }
            },
            "type": "scattercarpet"
           }
          ],
          "scattergeo": [
           {
            "marker": {
             "colorbar": {
              "outlinewidth": 0,
              "ticks": ""
             }
            },
            "type": "scattergeo"
           }
          ],
          "scattergl": [
           {
            "marker": {
             "line": {
              "color": "#283442"
             }
            },
            "type": "scattergl"
           }
          ],
          "scattermapbox": [
           {
            "marker": {
             "colorbar": {
              "outlinewidth": 0,
              "ticks": ""
             }
            },
            "type": "scattermapbox"
           }
          ],
          "scatterpolar": [
           {
            "marker": {
             "colorbar": {
              "outlinewidth": 0,
              "ticks": ""
             }
            },
            "type": "scatterpolar"
           }
          ],
          "scatterpolargl": [
           {
            "marker": {
             "colorbar": {
              "outlinewidth": 0,
              "ticks": ""
             }
            },
            "type": "scatterpolargl"
           }
          ],
          "scatterternary": [
           {
            "marker": {
             "colorbar": {
              "outlinewidth": 0,
              "ticks": ""
             }
            },
            "type": "scatterternary"
           }
          ],
          "surface": [
           {
            "colorbar": {
             "outlinewidth": 0,
             "ticks": ""
            },
            "colorscale": [
             [
              0,
              "#0d0887"
             ],
             [
              0.1111111111111111,
              "#46039f"
             ],
             [
              0.2222222222222222,
              "#7201a8"
             ],
             [
              0.3333333333333333,
              "#9c179e"
             ],
             [
              0.4444444444444444,
              "#bd3786"
             ],
             [
              0.5555555555555556,
              "#d8576b"
             ],
             [
              0.6666666666666666,
              "#ed7953"
             ],
             [
              0.7777777777777778,
              "#fb9f3a"
             ],
             [
              0.8888888888888888,
              "#fdca26"
             ],
             [
              1,
              "#f0f921"
             ]
            ],
            "type": "surface"
           }
          ],
          "table": [
           {
            "cells": {
             "fill": {
              "color": "#506784"
             },
             "line": {
              "color": "rgb(17,17,17)"
             }
            },
            "header": {
             "fill": {
              "color": "#2a3f5f"
             },
             "line": {
              "color": "rgb(17,17,17)"
             }
            },
            "type": "table"
           }
          ]
         },
         "layout": {
          "annotationdefaults": {
           "arrowcolor": "#f2f5fa",
           "arrowhead": 0,
           "arrowwidth": 1
          },
          "autotypenumbers": "strict",
          "coloraxis": {
           "colorbar": {
            "outlinewidth": 0,
            "ticks": ""
           }
          },
          "colorscale": {
           "diverging": [
            [
             0,
             "#8e0152"
            ],
            [
             0.1,
             "#c51b7d"
            ],
            [
             0.2,
             "#de77ae"
            ],
            [
             0.3,
             "#f1b6da"
            ],
            [
             0.4,
             "#fde0ef"
            ],
            [
             0.5,
             "#f7f7f7"
            ],
            [
             0.6,
             "#e6f5d0"
            ],
            [
             0.7,
             "#b8e186"
            ],
            [
             0.8,
             "#7fbc41"
            ],
            [
             0.9,
             "#4d9221"
            ],
            [
             1,
             "#276419"
            ]
           ],
           "sequential": [
            [
             0,
             "#0d0887"
            ],
            [
             0.1111111111111111,
             "#46039f"
            ],
            [
             0.2222222222222222,
             "#7201a8"
            ],
            [
             0.3333333333333333,
             "#9c179e"
            ],
            [
             0.4444444444444444,
             "#bd3786"
            ],
            [
             0.5555555555555556,
             "#d8576b"
            ],
            [
             0.6666666666666666,
             "#ed7953"
            ],
            [
             0.7777777777777778,
             "#fb9f3a"
            ],
            [
             0.8888888888888888,
             "#fdca26"
            ],
            [
             1,
             "#f0f921"
            ]
           ],
           "sequentialminus": [
            [
             0,
             "#0d0887"
            ],
            [
             0.1111111111111111,
             "#46039f"
            ],
            [
             0.2222222222222222,
             "#7201a8"
            ],
            [
             0.3333333333333333,
             "#9c179e"
            ],
            [
             0.4444444444444444,
             "#bd3786"
            ],
            [
             0.5555555555555556,
             "#d8576b"
            ],
            [
             0.6666666666666666,
             "#ed7953"
            ],
            [
             0.7777777777777778,
             "#fb9f3a"
            ],
            [
             0.8888888888888888,
             "#fdca26"
            ],
            [
             1,
             "#f0f921"
            ]
           ]
          },
          "colorway": [
           "#636efa",
           "#EF553B",
           "#00cc96",
           "#ab63fa",
           "#FFA15A",
           "#19d3f3",
           "#FF6692",
           "#B6E880",
           "#FF97FF",
           "#FECB52"
          ],
          "font": {
           "color": "#f2f5fa"
          },
          "geo": {
           "bgcolor": "rgb(17,17,17)",
           "lakecolor": "rgb(17,17,17)",
           "landcolor": "rgb(17,17,17)",
           "showlakes": true,
           "showland": true,
           "subunitcolor": "#506784"
          },
          "hoverlabel": {
           "align": "left"
          },
          "hovermode": "closest",
          "mapbox": {
           "style": "dark"
          },
          "paper_bgcolor": "rgb(17,17,17)",
          "plot_bgcolor": "rgb(17,17,17)",
          "polar": {
           "angularaxis": {
            "gridcolor": "#506784",
            "linecolor": "#506784",
            "ticks": ""
           },
           "bgcolor": "rgb(17,17,17)",
           "radialaxis": {
            "gridcolor": "#506784",
            "linecolor": "#506784",
            "ticks": ""
           }
          },
          "scene": {
           "xaxis": {
            "backgroundcolor": "rgb(17,17,17)",
            "gridcolor": "#506784",
            "gridwidth": 2,
            "linecolor": "#506784",
            "showbackground": true,
            "ticks": "",
            "zerolinecolor": "#C8D4E3"
           },
           "yaxis": {
            "backgroundcolor": "rgb(17,17,17)",
            "gridcolor": "#506784",
            "gridwidth": 2,
            "linecolor": "#506784",
            "showbackground": true,
            "ticks": "",
            "zerolinecolor": "#C8D4E3"
           },
           "zaxis": {
            "backgroundcolor": "rgb(17,17,17)",
            "gridcolor": "#506784",
            "gridwidth": 2,
            "linecolor": "#506784",
            "showbackground": true,
            "ticks": "",
            "zerolinecolor": "#C8D4E3"
           }
          },
          "shapedefaults": {
           "line": {
            "color": "#f2f5fa"
           }
          },
          "sliderdefaults": {
           "bgcolor": "#C8D4E3",
           "bordercolor": "rgb(17,17,17)",
           "borderwidth": 1,
           "tickwidth": 0
          },
          "ternary": {
           "aaxis": {
            "gridcolor": "#506784",
            "linecolor": "#506784",
            "ticks": ""
           },
           "baxis": {
            "gridcolor": "#506784",
            "linecolor": "#506784",
            "ticks": ""
           },
           "bgcolor": "rgb(17,17,17)",
           "caxis": {
            "gridcolor": "#506784",
            "linecolor": "#506784",
            "ticks": ""
           }
          },
          "title": {
           "x": 0.05
          },
          "updatemenudefaults": {
           "bgcolor": "#506784",
           "borderwidth": 0
          },
          "xaxis": {
           "automargin": true,
           "gridcolor": "#283442",
           "linecolor": "#506784",
           "ticks": "",
           "title": {
            "standoff": 15
           },
           "zerolinecolor": "#283442",
           "zerolinewidth": 2
          },
          "yaxis": {
           "automargin": true,
           "gridcolor": "#283442",
           "linecolor": "#506784",
           "ticks": "",
           "title": {
            "standoff": 15
           },
           "zerolinecolor": "#283442",
           "zerolinewidth": 2
          }
         }
        },
        "title": {
         "text": "ΔP vs Probability influenced by Alkalinity?"
        },
        "xaxis": {
         "anchor": "y",
         "domain": [
          0,
          0.7363
         ],
         "title": {
          "text": "ΔP"
         }
        },
        "xaxis2": {
         "anchor": "y2",
         "domain": [
          0.7413,
          1
         ],
         "matches": "x2",
         "showgrid": true,
         "showline": false,
         "showticklabels": false,
         "ticks": ""
        },
        "xaxis3": {
         "anchor": "y3",
         "domain": [
          0,
          0.7363
         ],
         "matches": "x",
         "showgrid": true,
         "showticklabels": false
        },
        "xaxis4": {
         "anchor": "y4",
         "domain": [
          0.7413,
          1
         ],
         "matches": "x2",
         "showgrid": true,
         "showline": false,
         "showticklabels": false,
         "ticks": ""
        },
        "yaxis": {
         "anchor": "x",
         "domain": [
          0,
          0.7326
         ],
         "title": {
          "text": "Probability"
         }
        },
        "yaxis2": {
         "anchor": "x2",
         "domain": [
          0,
          0.7326
         ],
         "matches": "y",
         "showgrid": true,
         "showticklabels": false
        },
        "yaxis3": {
         "anchor": "x3",
         "domain": [
          0.7426,
          1
         ],
         "matches": "y3",
         "showgrid": true,
         "showline": false,
         "showticklabels": false,
         "ticks": ""
        },
        "yaxis4": {
         "anchor": "x4",
         "domain": [
          0.7426,
          1
         ],
         "matches": "y3",
         "showgrid": true,
         "showline": false,
         "showticklabels": false,
         "ticks": ""
        }
       }
      },
      "text/html": [
       "<div>                            <div id=\"ac899b76-19a2-41a5-af19-887aedf4fa7f\" class=\"plotly-graph-div\" style=\"height:525px; width:100%;\"></div>            <script type=\"text/javascript\">                require([\"plotly\"], function(Plotly) {                    window.PLOTLYENV=window.PLOTLYENV || {};                                    if (document.getElementById(\"ac899b76-19a2-41a5-af19-887aedf4fa7f\")) {                    Plotly.newPlot(                        \"ac899b76-19a2-41a5-af19-887aedf4fa7f\",                        [{\"customdata\": [[\"Grove1992\", \"gl-ol-cp-pl\", \"1atm_furnace\"], [\"Grove1992\", \"gl-ol-cp-pl\", \"zhm_ar\"], [\"Grove1992\", \"gl-ol-cp-pl\", \"zhm_ar\"], [\"Grove1992\", \"gl-ol-cp-pl\", \"zhm_ar\"], [\"Grove1992\", \"gl-ol-cp-pl\", \"zhm_ar\"], [\"Grove1992\", \"gl-ol-cp-pl\", \"zhm_ar\"], [\"Grove1992\", \"gl-ol-cp-pl\", \"Piston Cylinder\"], [\"Grove1992\", \"gl-ol-cp-pl\", \"Piston Cylinder\"], [\"Grove1992\", \"gl-ol-cp-pl\", \"Piston Cylinder\"], [\"Grove1992\", \"gl-ol-cp-pl\", \"Piston Cylinder\"], [\"Grove1992\", \"gl-ol-cp-pl\", \"Piston Cylinder\"], [\"Grove1992\", \"gl-ol-cp-pl\", \"Piston Cylinder\"], [\"Grove1992\", \"gl-ol-cp-pl\", \"Piston Cylinder\"], [\"Grove1992\", \"gl-ol-cp-pl\", \"Piston Cylinder\"], [\"Grove1992\", \"gl-ol-cp-pl\", \"Piston Cylinder\"], [\"Grove1992\", \"gl-ol-cp-pl\", \"Piston Cylinder\"], [\"Tormey1987\", \"gl-ol-cp-pl\", \"1atm_furnace\"], [\"Tormey1987\", \"gl-ol-cp-pl\", \"1atm_furnace\"], [\"Tormey1987\", \"gl-ol-cp-pl\", \"1atm_furnace\"], [\"Tormey1987\", \"gl-ol-cp-pl\", \"1atm_furnace\"], [\"BakerEggler1987\", \"gl-ol-cp-pl\", \"Piston Cylinder\"], [\"BakerEggler1987\", \"gl-ol-cp-pl\", \"Piston Cylinder\"], [\"BakerEggler1987\", \"gl-ol-cp-pl\", \"Piston Cylinder\"], [\"Yang1996\", \"gl-ol-cp-pl\", \"1atm_furnace\"], [\"Yang1996\", \"gl-ol-cp-pl\", \"1atm_furnace\"], [\"Yang1996\", \"gl-ol-cp-pl\", \"1atm_furnace\"], [\"Yang1996\", \"gl-ol-cp-pl\", \"1atm_furnace\"], [\"Yang1996\", \"gl-ol-cp-pl\", \"1atm_furnace\"], [\"Yang1996\", \"gl-ol-cp-pl\", \"1atm_furnace\"], [\"Yang1996\", \"gl-ol-cp-pl\", \"1atm_furnace\"], [\"Yang1996\", \"gl-ol-cp-pl\", \"1atm_furnace\"], [\"Yang1996\", \"gl-ol-cp-pl\", \"1atm_furnace\"], [\"Yang1996\", \"gl-ol-cp-pl\", \"1atm_furnace\"], [\"Yang1996\", \"gl-ol-cp-pl\", \"1atm_furnace\"], [\"Yang1996\", \"gl-ol-cp-pl\", \"1atm_furnace\"], [\"Yang1996\", \"gl-ol-cp-pl\", \"1atm_furnace\"], [\"Yang1996\", \"gl-ol-cp-pl\", \"1atm_furnace\"], [\"Yang1996\", \"gl-ol-cp-pl\", \"1atm_furnace\"], [\"Yang1996\", \"gl-ol-cp-pl\", \"1atm_furnace\"], [\"Yang1996\", \"gl-ol-cp-pl\", \"1atm_furnace\"], [\"Yang1996\", \"gl-ol-cp-pl\", \"1atm_furnace\"], [\"Yang1996\", \"gl-ol-cp-pl\", \"1atm_furnace\"], [\"Yang1996\", \"gl-ol-cp-pl\", \"1atm_furnace\"], [\"Yang1996\", \"gl-ol-cp-pl\", \"1atm_furnace\"], [\"ToplisCarroll1995\", \"gl-ol-cp-pl\", \"1atm_furnace\"], [\"ToplisCarroll1995\", \"gl-ol-cp-pl\", \"1atm_furnace\"], [\"ToplisCarroll1995\", \"gl-ol-cp-pl\", \"1atm_furnace\"], [\"ToplisCarroll1995\", \"gl-ol-cp-pl\", \"1atm_furnace\"], [\"ToplisCarroll1995\", \"gl-ol-cp-pl\", \"1atm_furnace\"], [\"Thy2006\", \"gl-ol-cp-pl\", \"1atm_furnace\"], [\"Thy2006\", \"gl-ol-cp-pl\", \"1atm_furnace\"], [\"Thy2006\", \"gl-ol-cp-pl\", \"1atm_furnace\"], [\"Thy2006\", \"gl-ol-cp-pl\", \"1atm_furnace\"], [\"Thy2006\", \"gl-ol-cp-pl\", \"1atm_furnace\"], [\"Thy2006\", \"gl-ol-cp-pl\", \"1atm_furnace\"], [\"Thy2006\", \"gl-ol-cp-pl\", \"1atm_furnace\"], [\"Thy2006\", \"gl-ol-cp-pl\", \"1atm_furnace\"], [\"Thy2006\", \"gl-ol-cp-pl\", \"1atm_furnace\"], [\"Thy2006\", \"gl-ol-cp-pl\", \"1atm_furnace\"], [\"Thy2006\", \"gl-ol-cp-pl\", \"1atm_furnace\"], [\"Thy2006\", \"gl-ol-cp-pl\", \"1atm_furnace\"], [\"Thy2006\", \"gl-ol-cp-pl\", \"1atm_furnace\"], [\"Thy2006\", \"gl-ol-cp-pl\", \"1atm_furnace\"], [\"Thy2006\", \"gl-ol-cp-pl\", \"1atm_furnace\"], [\"Thy2006\", \"gl-ol-cp-pl\", \"1atm_furnace\"], [\"Thy2006\", \"gl-ol-cp-pl\", \"1atm_furnace\"], [\"Thy2006\", \"gl-ol-cp-pl\", \"1atm_furnace\"], [\"Thy2006\", \"gl-ol-cp-pl\", \"1atm_furnace\"], [\"Whitaker2007\", \"gl-ol-cp-pl\", \"Piston Cylinder\"], [\"Whitaker2007\", \"gl-ol-cp-pl\", \"Piston Cylinder\"], [\"Whitaker2007\", \"gl-ol-cp-pl-sp\", \"1atm_furnace\"], [\"Husen2016\", \"gl-ol-cp-pl\", \"IHPV\"], [\"Neave et al., 2019 (HAL)\", \"gl-ol-cp-pl\", \"IHPV\"], [\"Neave et al., 2019 (HAL)\", \"gl-ol-cp-pl\", \"IHPV\"], [\"Neave et al., 2019 (STA)\", \"gl-ol-cp-pl\", \"IHPV\"], [\"Voigt et al., 2017\", \"gl-ol-cp-pl-sp\", \"1atm_furnace\"], [\"Voigt et al., 2017\", \"gl-ol-cp-pl\", \"1atm_furnace\"], [\"Voigt et al., 2017\", \"gl-ol-cp-pl\", \"1atm_furnace\"], [\"Voigt et al., 2017\", \"gl-ol-cp-pl\", \"1atm_furnace\"], [\"Voigt et al., 2017\", \"gl-ol-cp-pl\", \"1atm_furnace\"], [\"Voigt et al., 2017\", \"gl-ol-cp-pl\", \"1atm_furnace\"], [\"Voigt et al., 2017\", \"gl-ol-cp-pl-sp\", \"1atm_furnace\"], [\"Voigt et al., 2017\", \"gl-ol-cp-pl\", \"1atm_furnace\"], [\"Gaetani Unpublished\", \"gl-ol-cp-pl\", \"Piston Cylinder\"], [\"Gaetani Unpublished\", \"gl-ol-cp-pl\", \"Piston Cylinder\"], [\"Gaetani Unpublished\", \"gl-ol-cp-pl\", \"Piston Cylinder\"], [\"Baker, M.B., Grove, T.L., Price, R. (1994)\", \"gl-ol-cp-pl\", \"1atm_furnace\"], [\"Baker, M.B., Grove, T.L., Price, R. (1994)\", \"gl-ol-cp-pl\", \"1atm_furnace\"], [\"Grove, T.L., Bryan, W.B. (1983)\", \"gl-ol-cp-pl\", \"1atm_furnace\"], [\"Grove, T.L., Bryan, W.B. (1983)\", \"gl-ol-cp-pl\", \"1atm_furnace\"], [\"Grove, T.L., Bryan, W.B. (1983)\", \"gl-ol-cp-pl\", \"1atm_furnace\"], [\"Grove, T.L., Bryan, W.B. (1983)\", \"gl-ol-cp-pl\", \"1atm_furnace\"], [\"Grove, T.L., Bryan, W.B. (1983)\", \"gl-ol-cp-pl\", \"1atm_furnace\"], [\"Grove, T.L., Bryan, W.B. (1983)\", \"gl-ol-cp-pl\", \"1atm_furnace\"], [\"Grove, T.L., Bryan, W.B. (1983)\", \"gl-ol-cp-pl\", \"1atm_furnace\"], [\"Grove, T.L., Bryan, W.B. (1983)\", \"gl-ol-cp-pl\", \"1atm_furnace\"], [\"Grove, T.L., Bryan, W.B. (1983)\", \"gl-ol-cp-pl-sp\", \"1atm_furnace\"], [\"Grove, T.L., Bryan, W.B. (1983)\", \"gl-ol-cp-pl-sp\", \"1atm_furnace\"], [\"Grove, T.L., Bryan, W.B. (1983)\", \"gl-ol-cp-pl\", \"1atm_furnace\"], [\"Grove, T.L., Bryan, W.B. (1983)\", \"gl-ol-cp-pl\", \"1atm_furnace\"], [\"Grove, T.L., Bryan, W.B. (1983)\", \"gl-ol-cp-pl\", \"1atm_furnace\"], [\"Grove, T.L., Bryan, W.B. (1983)\", \"gl-ol-cp-pl\", \"1atm_furnace\"], [\"Grove, T.L., Bryan, W.B. (1983)\", \"gl-ol-cp-pl\", \"1atm_furnace\"], [\"Grove, T.L., Bryan, W.B. (1983)\", \"gl-ol-cp-pl\", \"1atm_furnace\"], [\"Grove, T.L., Bryan, W.B. (1983)\", \"gl-ol-cp-pl\", \"1atm_furnace\"], [\"Mahood, G.A., Baker, D.R. (1986)\", \"gl-ol-cp-pl\", \"1atm_furnace\"], [\"Kennedy, A.K., Grove, T.L., Johnson, R.W. (1990)\", \"gl-ol-cp-pl\", \"1atm_furnace\"], [\"Kennedy, A.K., Grove, T.L., Johnson, R.W. (1990)\", \"gl-ol-cp-pl\", \"1atm_furnace\"], [\"Thy 1991\", \"gl-ol-cp-pl\", \"Piston Cylinder\"], [\"Thy 1991\", \"gl-ol-cp-pl-sp\", \"Piston Cylinder\"], [\"Thy 1991\", \"gl-ol-cp-pl-sp\", \"Piston Cylinder\"], [\"Thy 1991\", \"gl-ol-cp-pl\", \"Piston Cylinder\"], [\"Thy 1991\", \"gl-ol-cp-pl\", \"Piston Cylinder\"]], \"hovertemplate\": \"\\u0394P=%{x}<br>Probability=%{y}<br>Reference=%{customdata[0]}<br>Phases=%{customdata[1]}<br>Apparatus=%{customdata[2]}<br>alk=%{marker.color}<extra></extra>\", \"legendgroup\": \"\", \"marker\": {\"color\": [3.61, 3.42, 3.58, 3.37, 3.36, 3.57, 3.25, 3.71, 3.76, 2.44, 2.35, 2.42, 3.28, 3.48, 3.97, 3.35, 3.44, 3.15, 3.72, 3.93, 3.07, 3.06, 3.19, 2.69, 2.76, 2.83, 3.69, 3.7, 3.0, 2.83, 3.45, 3.95, 4.0, 3.25, 3.28, 3.19, 2.92, 3.22, 3.45, 3.45, 1.49, 1.63, 1.84, 1.61, 3.12, 3.07, 3.37, 3.26, 3.47, 2.73, 2.75, 2.74, 3.22, 3.27, 2.49, 2.52, 3.04, 3.01, 3.16, 2.82, 3.08, 3.15, 3.09, 2.82, 2.9, 3.12, 3.22, 3.07, 3.85, 3.7, 3.18, 3.97, 2.04, 2.07, 2.86, 2.6, 2.44, 2.78, 2.35, 2.24, 2.29, 2.29, 2.38, 1.01, 1.44, 1.67, 4.21, 4.58, 1.6, 1.57, 1.56, 1.63, 1.94, 1.7, 1.65, 2.23, 2.1, 2.17, 2.59, 2.07, 2.64, 3.02, 2.71, 2.99, 2.46, 5.68, 6.16, 5.73, 4.18, 3.96, 4.79, 4.27, 5.0], \"coloraxis\": \"coloraxis\", \"symbol\": \"circle\"}, \"mode\": \"markers\", \"name\": \"\", \"orientation\": \"v\", \"showlegend\": false, \"type\": \"scatter\", \"x\": [-0.7184502733624623, 0.3168841452710347, -0.31870080287410696, -0.005625768773046325, -0.964504022524997, -0.9065078202684169, -1.3639489828816895, 0.39779131417254554, -0.274825482493549, 1.8960207290109743, -0.7610154789998269, -0.26518144378849406, 0.55359341079091, -2.583994797052651, 0.5165787186831388, 2.1079057813829127, 0.30738296527975995, -0.6299009629245198, 0.3972739452482525, 1.396410659544079, 1.9075990453387757, 0.24823787153804844, -0.2474877795182744, 0.40376668004160077, -0.2023139537937081, -1.0154137973289918, 0.020067990657676005, -0.37704117014722094, -0.6628098573524176, 0.9727769147782421, -0.27366617561450113, -0.9346846975967105, -2.350870986646548, 0.6758270949803159, -0.905206322563929, -1.566940402928563, 0.4317892026483253, -0.02926867484721888, -0.7647045366357849, -1.322581895546519, 1.9590797418523198, 0.9479332082264148, 1.8035842349093616, 1.486074661347976, -1.48666289513515, -2.7595538061457985, -2.2196088016986977, -0.24416508116255461, -3.1161766852707697, 1.7627305502007096, 1.0409988431377668, 1.0078230057002575, 0.13455945318689097, 0.15877829998383516, 2.945295942429557, 1.4917294586608838, 1.2683208949478524, 0.9052395570259552, -1.5929450055900953, 3.000482376233701, 2.948383397291074, 2.6891014523720993, 2.436213443966197, 0.21889687695574744, 0.34014454527855204, -0.5276328914785413, -0.9684341758018147, 0.5280408870062924, 2.8739676855086405, -1.2932691803804097, -0.2613995913358246, -0.05122300256920331, 0.0380680729016456, 0.65249450151483, -1.9027056722707558, 1.5765296233094137, 1.8831051346872232, 0.08961913287189255, 2.0106395702970414, 0.6802404264820407, 0.6838778018901926, 4.749986020104786, 2.1855851113231797, 2.503052457333534, 2.309305806397403, 1.8459656805310576, 0.47215486335692936, -0.47392175119518065, 1.9222041944882031, 2.0604379236726498, 2.5419615907167414, 2.5355576422756267, 1.1869546255225512, 0.6085403529225356, 1.8535346597379192, 0.4178094817184535, 1.0051928277846218, 2.0496405275893053, 0.6800776528876379, 1.067449054580603, -0.036639677301450395, -0.6912172204612715, 0.015753267822704094, -0.07442560128845702, 0.3974386508525427, 0.35439704611087264, 1.1588018232011656, -0.1455625078342464, -1.9984264667115008, -1.9405541163091586, 0.4119513232953537, -3.8950991977194436, -3.251294115354148], \"xaxis\": \"x\", \"y\": [0.8209372194811392, 0.896354299398174, 0.9665851031253295, 0.9854308975217188, 0.9869869700434856, 0.703742618478878, 0.959800304548087, 0.9074989309794503, 0.9508294990973474, 0.9738326202648905, 0.8353230198382104, 0.9723138655521862, 0.8366132836713415, 0.956555199227138, 0.9051337712913186, 0.9722657778003455, 0.9404159563243957, 0.9644558553425885, 0.7974040217801179, 0.9457028007851369, 0.8786893438270998, 0.719597231623585, 0.9548717473396539, 0.9833385854994126, 0.9945019667859394, 0.9137037817344903, 0.9346535569120309, 0.9877590233676162, 0.9597884208450668, 0.9896492720804259, 0.9685439448668752, 0.9676145185130273, 0.8383923251397513, 0.924751122420079, 0.889011058925085, 0.8828822137056273, 0.9958775693359069, 0.9916214757764308, 0.9852375041761754, 0.9171902424689333, 0.908424285406523, 0.8623954557407918, 0.982952000506152, 0.8128778825206385, 0.7976032762575175, 0.8001294215240162, 0.7476855763504415, 0.756366513864398, 0.7004612403330415, 0.9678092446616063, 0.9450848384614687, 0.8251706376977097, 0.8681632246041231, 0.883543471570022, 0.9994643136422503, 0.8613899781752191, 0.9815135947230735, 0.9601374634998799, 0.8887360689469619, 0.960005154690388, 0.9114161135009525, 0.785331534222599, 0.9437011199066249, 0.9742224979232014, 0.9387538462781208, 0.9101723709683076, 0.9344759692200637, 0.9480580377246914, 0.7196440055160507, 0.8436220126875862, 0.840536067522814, 0.9983600559496042, 0.9992940180551476, 0.9815420654144593, 0.9760405774423395, 0.8561907466118521, 0.8335063539737729, 0.7556570062157393, 0.8248418275560765, 0.8409921115772019, 0.9552499680919331, 0.848881707411733, 0.8942092107003409, 0.9881567969871916, 0.9975095070063648, 0.8325324045437645, 0.778798940863053, 0.8442420104278501, 0.8682444644290148, 0.9586014798375162, 0.7715787007325965, 0.7646833033672861, 0.9933481516358599, 0.9689261664747582, 0.7093979781843858, 0.9834560015880214, 0.9882428469942937, 0.9503269227015372, 0.7460011526000017, 0.9647566343119921, 0.967698362575021, 0.8676842323317498, 0.8996536539029529, 0.8717718457314045, 0.949983569234108, 0.7474177609685559, 0.7337706337231589, 0.7155464042413353, 0.9425206138785955, 0.9864409968276755, 0.9066330227148516, 0.9834689295230287, 0.9748591304885881], \"yaxis\": \"y\"}, {\"alignmentgroup\": \"True\", \"bingroup\": \"x\", \"hovertemplate\": \"\\u0394P=%{x}<br>count=%{y}<extra></extra>\", \"legendgroup\": \"\", \"marker\": {\"color\": \"rgb(247, 254, 174)\"}, \"name\": \"\", \"offsetgroup\": \"\", \"opacity\": 0.5, \"showlegend\": false, \"type\": \"histogram\", \"x\": [-0.7184502733624623, 0.3168841452710347, -0.31870080287410696, -0.005625768773046325, -0.964504022524997, -0.9065078202684169, -1.3639489828816895, 0.39779131417254554, -0.274825482493549, 1.8960207290109743, -0.7610154789998269, -0.26518144378849406, 0.55359341079091, -2.583994797052651, 0.5165787186831388, 2.1079057813829127, 0.30738296527975995, -0.6299009629245198, 0.3972739452482525, 1.396410659544079, 1.9075990453387757, 0.24823787153804844, -0.2474877795182744, 0.40376668004160077, -0.2023139537937081, -1.0154137973289918, 0.020067990657676005, -0.37704117014722094, -0.6628098573524176, 0.9727769147782421, -0.27366617561450113, -0.9346846975967105, -2.350870986646548, 0.6758270949803159, -0.905206322563929, -1.566940402928563, 0.4317892026483253, -0.02926867484721888, -0.7647045366357849, -1.322581895546519, 1.9590797418523198, 0.9479332082264148, 1.8035842349093616, 1.486074661347976, -1.48666289513515, -2.7595538061457985, -2.2196088016986977, -0.24416508116255461, -3.1161766852707697, 1.7627305502007096, 1.0409988431377668, 1.0078230057002575, 0.13455945318689097, 0.15877829998383516, 2.945295942429557, 1.4917294586608838, 1.2683208949478524, 0.9052395570259552, -1.5929450055900953, 3.000482376233701, 2.948383397291074, 2.6891014523720993, 2.436213443966197, 0.21889687695574744, 0.34014454527855204, -0.5276328914785413, -0.9684341758018147, 0.5280408870062924, 2.8739676855086405, -1.2932691803804097, -0.2613995913358246, -0.05122300256920331, 0.0380680729016456, 0.65249450151483, -1.9027056722707558, 1.5765296233094137, 1.8831051346872232, 0.08961913287189255, 2.0106395702970414, 0.6802404264820407, 0.6838778018901926, 4.749986020104786, 2.1855851113231797, 2.503052457333534, 2.309305806397403, 1.8459656805310576, 0.47215486335692936, -0.47392175119518065, 1.9222041944882031, 2.0604379236726498, 2.5419615907167414, 2.5355576422756267, 1.1869546255225512, 0.6085403529225356, 1.8535346597379192, 0.4178094817184535, 1.0051928277846218, 2.0496405275893053, 0.6800776528876379, 1.067449054580603, -0.036639677301450395, -0.6912172204612715, 0.015753267822704094, -0.07442560128845702, 0.3974386508525427, 0.35439704611087264, 1.1588018232011656, -0.1455625078342464, -1.9984264667115008, -1.9405541163091586, 0.4119513232953537, -3.8950991977194436, -3.251294115354148], \"xaxis\": \"x3\", \"yaxis\": \"y3\"}, {\"alignmentgroup\": \"True\", \"bingroup\": \"y\", \"hovertemplate\": \"Probability=%{y}<br>count=%{x}<extra></extra>\", \"legendgroup\": \"\", \"marker\": {\"color\": \"rgb(247, 254, 174)\"}, \"name\": \"\", \"offsetgroup\": \"\", \"opacity\": 0.5, \"showlegend\": false, \"type\": \"histogram\", \"xaxis\": \"x2\", \"y\": [0.8209372194811392, 0.896354299398174, 0.9665851031253295, 0.9854308975217188, 0.9869869700434856, 0.703742618478878, 0.959800304548087, 0.9074989309794503, 0.9508294990973474, 0.9738326202648905, 0.8353230198382104, 0.9723138655521862, 0.8366132836713415, 0.956555199227138, 0.9051337712913186, 0.9722657778003455, 0.9404159563243957, 0.9644558553425885, 0.7974040217801179, 0.9457028007851369, 0.8786893438270998, 0.719597231623585, 0.9548717473396539, 0.9833385854994126, 0.9945019667859394, 0.9137037817344903, 0.9346535569120309, 0.9877590233676162, 0.9597884208450668, 0.9896492720804259, 0.9685439448668752, 0.9676145185130273, 0.8383923251397513, 0.924751122420079, 0.889011058925085, 0.8828822137056273, 0.9958775693359069, 0.9916214757764308, 0.9852375041761754, 0.9171902424689333, 0.908424285406523, 0.8623954557407918, 0.982952000506152, 0.8128778825206385, 0.7976032762575175, 0.8001294215240162, 0.7476855763504415, 0.756366513864398, 0.7004612403330415, 0.9678092446616063, 0.9450848384614687, 0.8251706376977097, 0.8681632246041231, 0.883543471570022, 0.9994643136422503, 0.8613899781752191, 0.9815135947230735, 0.9601374634998799, 0.8887360689469619, 0.960005154690388, 0.9114161135009525, 0.785331534222599, 0.9437011199066249, 0.9742224979232014, 0.9387538462781208, 0.9101723709683076, 0.9344759692200637, 0.9480580377246914, 0.7196440055160507, 0.8436220126875862, 0.840536067522814, 0.9983600559496042, 0.9992940180551476, 0.9815420654144593, 0.9760405774423395, 0.8561907466118521, 0.8335063539737729, 0.7556570062157393, 0.8248418275560765, 0.8409921115772019, 0.9552499680919331, 0.848881707411733, 0.8942092107003409, 0.9881567969871916, 0.9975095070063648, 0.8325324045437645, 0.778798940863053, 0.8442420104278501, 0.8682444644290148, 0.9586014798375162, 0.7715787007325965, 0.7646833033672861, 0.9933481516358599, 0.9689261664747582, 0.7093979781843858, 0.9834560015880214, 0.9882428469942937, 0.9503269227015372, 0.7460011526000017, 0.9647566343119921, 0.967698362575021, 0.8676842323317498, 0.8996536539029529, 0.8717718457314045, 0.949983569234108, 0.7474177609685559, 0.7337706337231589, 0.7155464042413353, 0.9425206138785955, 0.9864409968276755, 0.9066330227148516, 0.9834689295230287, 0.9748591304885881], \"yaxis\": \"y2\"}],                        {\"barmode\": \"overlay\", \"coloraxis\": {\"colorbar\": {\"title\": {\"text\": \"alk\"}}, \"colorscale\": [[0.0, \"rgb(247, 254, 174)\"], [0.16666666666666666, \"rgb(183, 230, 165)\"], [0.3333333333333333, \"rgb(124, 203, 162)\"], [0.5, \"rgb(70, 174, 160)\"], [0.6666666666666666, \"rgb(8, 144, 153)\"], [0.8333333333333334, \"rgb(0, 113, 139)\"], [1.0, \"rgb(4, 82, 117)\"]]}, \"legend\": {\"tracegroupgap\": 0}, \"template\": {\"data\": {\"bar\": [{\"error_x\": {\"color\": \"#f2f5fa\"}, \"error_y\": {\"color\": \"#f2f5fa\"}, \"marker\": {\"line\": {\"color\": \"rgb(17,17,17)\", \"width\": 0.5}}, \"type\": \"bar\"}], \"barpolar\": [{\"marker\": {\"line\": {\"color\": \"rgb(17,17,17)\", \"width\": 0.5}}, \"type\": \"barpolar\"}], \"carpet\": [{\"aaxis\": {\"endlinecolor\": \"#A2B1C6\", \"gridcolor\": \"#506784\", \"linecolor\": \"#506784\", \"minorgridcolor\": \"#506784\", \"startlinecolor\": \"#A2B1C6\"}, \"baxis\": {\"endlinecolor\": \"#A2B1C6\", \"gridcolor\": \"#506784\", \"linecolor\": \"#506784\", \"minorgridcolor\": \"#506784\", \"startlinecolor\": \"#A2B1C6\"}, \"type\": \"carpet\"}], \"choropleth\": [{\"colorbar\": {\"outlinewidth\": 0, \"ticks\": \"\"}, \"type\": \"choropleth\"}], \"contour\": [{\"colorbar\": {\"outlinewidth\": 0, \"ticks\": \"\"}, \"colorscale\": [[0.0, \"#0d0887\"], [0.1111111111111111, \"#46039f\"], [0.2222222222222222, \"#7201a8\"], [0.3333333333333333, \"#9c179e\"], [0.4444444444444444, \"#bd3786\"], [0.5555555555555556, \"#d8576b\"], [0.6666666666666666, \"#ed7953\"], [0.7777777777777778, \"#fb9f3a\"], [0.8888888888888888, \"#fdca26\"], [1.0, \"#f0f921\"]], \"type\": \"contour\"}], \"contourcarpet\": [{\"colorbar\": {\"outlinewidth\": 0, \"ticks\": \"\"}, \"type\": \"contourcarpet\"}], \"heatmap\": [{\"colorbar\": {\"outlinewidth\": 0, \"ticks\": \"\"}, \"colorscale\": [[0.0, \"#0d0887\"], [0.1111111111111111, \"#46039f\"], [0.2222222222222222, \"#7201a8\"], [0.3333333333333333, \"#9c179e\"], [0.4444444444444444, \"#bd3786\"], [0.5555555555555556, \"#d8576b\"], [0.6666666666666666, \"#ed7953\"], [0.7777777777777778, \"#fb9f3a\"], [0.8888888888888888, \"#fdca26\"], [1.0, \"#f0f921\"]], \"type\": \"heatmap\"}], \"heatmapgl\": [{\"colorbar\": {\"outlinewidth\": 0, \"ticks\": \"\"}, \"colorscale\": [[0.0, \"#0d0887\"], [0.1111111111111111, \"#46039f\"], [0.2222222222222222, \"#7201a8\"], [0.3333333333333333, \"#9c179e\"], [0.4444444444444444, \"#bd3786\"], [0.5555555555555556, \"#d8576b\"], [0.6666666666666666, \"#ed7953\"], [0.7777777777777778, \"#fb9f3a\"], [0.8888888888888888, \"#fdca26\"], [1.0, \"#f0f921\"]], \"type\": \"heatmapgl\"}], \"histogram\": [{\"marker\": {\"colorbar\": {\"outlinewidth\": 0, \"ticks\": \"\"}}, \"type\": \"histogram\"}], \"histogram2d\": [{\"colorbar\": {\"outlinewidth\": 0, \"ticks\": \"\"}, \"colorscale\": [[0.0, \"#0d0887\"], [0.1111111111111111, \"#46039f\"], [0.2222222222222222, \"#7201a8\"], [0.3333333333333333, \"#9c179e\"], [0.4444444444444444, \"#bd3786\"], [0.5555555555555556, \"#d8576b\"], [0.6666666666666666, \"#ed7953\"], [0.7777777777777778, \"#fb9f3a\"], [0.8888888888888888, \"#fdca26\"], [1.0, \"#f0f921\"]], \"type\": \"histogram2d\"}], \"histogram2dcontour\": [{\"colorbar\": {\"outlinewidth\": 0, \"ticks\": \"\"}, \"colorscale\": [[0.0, \"#0d0887\"], [0.1111111111111111, \"#46039f\"], [0.2222222222222222, \"#7201a8\"], [0.3333333333333333, \"#9c179e\"], [0.4444444444444444, \"#bd3786\"], [0.5555555555555556, \"#d8576b\"], [0.6666666666666666, \"#ed7953\"], [0.7777777777777778, \"#fb9f3a\"], [0.8888888888888888, \"#fdca26\"], [1.0, \"#f0f921\"]], \"type\": \"histogram2dcontour\"}], \"mesh3d\": [{\"colorbar\": {\"outlinewidth\": 0, \"ticks\": \"\"}, \"type\": \"mesh3d\"}], \"parcoords\": [{\"line\": {\"colorbar\": {\"outlinewidth\": 0, \"ticks\": \"\"}}, \"type\": \"parcoords\"}], \"pie\": [{\"automargin\": true, \"type\": \"pie\"}], \"scatter\": [{\"marker\": {\"line\": {\"color\": \"#283442\"}}, \"type\": \"scatter\"}], \"scatter3d\": [{\"line\": {\"colorbar\": {\"outlinewidth\": 0, \"ticks\": \"\"}}, \"marker\": {\"colorbar\": {\"outlinewidth\": 0, \"ticks\": \"\"}}, \"type\": \"scatter3d\"}], \"scattercarpet\": [{\"marker\": {\"colorbar\": {\"outlinewidth\": 0, \"ticks\": \"\"}}, \"type\": \"scattercarpet\"}], \"scattergeo\": [{\"marker\": {\"colorbar\": {\"outlinewidth\": 0, \"ticks\": \"\"}}, \"type\": \"scattergeo\"}], \"scattergl\": [{\"marker\": {\"line\": {\"color\": \"#283442\"}}, \"type\": \"scattergl\"}], \"scattermapbox\": [{\"marker\": {\"colorbar\": {\"outlinewidth\": 0, \"ticks\": \"\"}}, \"type\": \"scattermapbox\"}], \"scatterpolar\": [{\"marker\": {\"colorbar\": {\"outlinewidth\": 0, \"ticks\": \"\"}}, \"type\": \"scatterpolar\"}], \"scatterpolargl\": [{\"marker\": {\"colorbar\": {\"outlinewidth\": 0, \"ticks\": \"\"}}, \"type\": \"scatterpolargl\"}], \"scatterternary\": [{\"marker\": {\"colorbar\": {\"outlinewidth\": 0, \"ticks\": \"\"}}, \"type\": \"scatterternary\"}], \"surface\": [{\"colorbar\": {\"outlinewidth\": 0, \"ticks\": \"\"}, \"colorscale\": [[0.0, \"#0d0887\"], [0.1111111111111111, \"#46039f\"], [0.2222222222222222, \"#7201a8\"], [0.3333333333333333, \"#9c179e\"], [0.4444444444444444, \"#bd3786\"], [0.5555555555555556, \"#d8576b\"], [0.6666666666666666, \"#ed7953\"], [0.7777777777777778, \"#fb9f3a\"], [0.8888888888888888, \"#fdca26\"], [1.0, \"#f0f921\"]], \"type\": \"surface\"}], \"table\": [{\"cells\": {\"fill\": {\"color\": \"#506784\"}, \"line\": {\"color\": \"rgb(17,17,17)\"}}, \"header\": {\"fill\": {\"color\": \"#2a3f5f\"}, \"line\": {\"color\": \"rgb(17,17,17)\"}}, \"type\": \"table\"}]}, \"layout\": {\"annotationdefaults\": {\"arrowcolor\": \"#f2f5fa\", \"arrowhead\": 0, \"arrowwidth\": 1}, \"autotypenumbers\": \"strict\", \"coloraxis\": {\"colorbar\": {\"outlinewidth\": 0, \"ticks\": \"\"}}, \"colorscale\": {\"diverging\": [[0, \"#8e0152\"], [0.1, \"#c51b7d\"], [0.2, \"#de77ae\"], [0.3, \"#f1b6da\"], [0.4, \"#fde0ef\"], [0.5, \"#f7f7f7\"], [0.6, \"#e6f5d0\"], [0.7, \"#b8e186\"], [0.8, \"#7fbc41\"], [0.9, \"#4d9221\"], [1, \"#276419\"]], \"sequential\": [[0.0, \"#0d0887\"], [0.1111111111111111, \"#46039f\"], [0.2222222222222222, \"#7201a8\"], [0.3333333333333333, \"#9c179e\"], [0.4444444444444444, \"#bd3786\"], [0.5555555555555556, \"#d8576b\"], [0.6666666666666666, \"#ed7953\"], [0.7777777777777778, \"#fb9f3a\"], [0.8888888888888888, \"#fdca26\"], [1.0, \"#f0f921\"]], \"sequentialminus\": [[0.0, \"#0d0887\"], [0.1111111111111111, \"#46039f\"], [0.2222222222222222, \"#7201a8\"], [0.3333333333333333, \"#9c179e\"], [0.4444444444444444, \"#bd3786\"], [0.5555555555555556, \"#d8576b\"], [0.6666666666666666, \"#ed7953\"], [0.7777777777777778, \"#fb9f3a\"], [0.8888888888888888, \"#fdca26\"], [1.0, \"#f0f921\"]]}, \"colorway\": [\"#636efa\", \"#EF553B\", \"#00cc96\", \"#ab63fa\", \"#FFA15A\", \"#19d3f3\", \"#FF6692\", \"#B6E880\", \"#FF97FF\", \"#FECB52\"], \"font\": {\"color\": \"#f2f5fa\"}, \"geo\": {\"bgcolor\": \"rgb(17,17,17)\", \"lakecolor\": \"rgb(17,17,17)\", \"landcolor\": \"rgb(17,17,17)\", \"showlakes\": true, \"showland\": true, \"subunitcolor\": \"#506784\"}, \"hoverlabel\": {\"align\": \"left\"}, \"hovermode\": \"closest\", \"mapbox\": {\"style\": \"dark\"}, \"paper_bgcolor\": \"rgb(17,17,17)\", \"plot_bgcolor\": \"rgb(17,17,17)\", \"polar\": {\"angularaxis\": {\"gridcolor\": \"#506784\", \"linecolor\": \"#506784\", \"ticks\": \"\"}, \"bgcolor\": \"rgb(17,17,17)\", \"radialaxis\": {\"gridcolor\": \"#506784\", \"linecolor\": \"#506784\", \"ticks\": \"\"}}, \"scene\": {\"xaxis\": {\"backgroundcolor\": \"rgb(17,17,17)\", \"gridcolor\": \"#506784\", \"gridwidth\": 2, \"linecolor\": \"#506784\", \"showbackground\": true, \"ticks\": \"\", \"zerolinecolor\": \"#C8D4E3\"}, \"yaxis\": {\"backgroundcolor\": \"rgb(17,17,17)\", \"gridcolor\": \"#506784\", \"gridwidth\": 2, \"linecolor\": \"#506784\", \"showbackground\": true, \"ticks\": \"\", \"zerolinecolor\": \"#C8D4E3\"}, \"zaxis\": {\"backgroundcolor\": \"rgb(17,17,17)\", \"gridcolor\": \"#506784\", \"gridwidth\": 2, \"linecolor\": \"#506784\", \"showbackground\": true, \"ticks\": \"\", \"zerolinecolor\": \"#C8D4E3\"}}, \"shapedefaults\": {\"line\": {\"color\": \"#f2f5fa\"}}, \"sliderdefaults\": {\"bgcolor\": \"#C8D4E3\", \"bordercolor\": \"rgb(17,17,17)\", \"borderwidth\": 1, \"tickwidth\": 0}, \"ternary\": {\"aaxis\": {\"gridcolor\": \"#506784\", \"linecolor\": \"#506784\", \"ticks\": \"\"}, \"baxis\": {\"gridcolor\": \"#506784\", \"linecolor\": \"#506784\", \"ticks\": \"\"}, \"bgcolor\": \"rgb(17,17,17)\", \"caxis\": {\"gridcolor\": \"#506784\", \"linecolor\": \"#506784\", \"ticks\": \"\"}}, \"title\": {\"x\": 0.05}, \"updatemenudefaults\": {\"bgcolor\": \"#506784\", \"borderwidth\": 0}, \"xaxis\": {\"automargin\": true, \"gridcolor\": \"#283442\", \"linecolor\": \"#506784\", \"ticks\": \"\", \"title\": {\"standoff\": 15}, \"zerolinecolor\": \"#283442\", \"zerolinewidth\": 2}, \"yaxis\": {\"automargin\": true, \"gridcolor\": \"#283442\", \"linecolor\": \"#506784\", \"ticks\": \"\", \"title\": {\"standoff\": 15}, \"zerolinecolor\": \"#283442\", \"zerolinewidth\": 2}}}, \"title\": {\"text\": \"\\u0394P vs Probability influenced by Alkalinity?\"}, \"xaxis\": {\"anchor\": \"y\", \"domain\": [0.0, 0.7363], \"title\": {\"text\": \"\\u0394P\"}}, \"xaxis2\": {\"anchor\": \"y2\", \"domain\": [0.7413, 1.0], \"matches\": \"x2\", \"showgrid\": true, \"showline\": false, \"showticklabels\": false, \"ticks\": \"\"}, \"xaxis3\": {\"anchor\": \"y3\", \"domain\": [0.0, 0.7363], \"matches\": \"x\", \"showgrid\": true, \"showticklabels\": false}, \"xaxis4\": {\"anchor\": \"y4\", \"domain\": [0.7413, 1.0], \"matches\": \"x2\", \"showgrid\": true, \"showline\": false, \"showticklabels\": false, \"ticks\": \"\"}, \"yaxis\": {\"anchor\": \"x\", \"domain\": [0.0, 0.7326], \"title\": {\"text\": \"Probability\"}}, \"yaxis2\": {\"anchor\": \"x2\", \"domain\": [0.0, 0.7326], \"matches\": \"y\", \"showgrid\": true, \"showticklabels\": false}, \"yaxis3\": {\"anchor\": \"x3\", \"domain\": [0.7426, 1.0], \"matches\": \"y3\", \"showgrid\": true, \"showline\": false, \"showticklabels\": false, \"ticks\": \"\"}, \"yaxis4\": {\"anchor\": \"x4\", \"domain\": [0.7426, 1.0], \"matches\": \"y3\", \"showgrid\": true, \"showline\": false, \"showticklabels\": false, \"ticks\": \"\"}},                        {\"responsive\": true}                    ).then(function(){\n",
       "                            \n",
       "var gd = document.getElementById('ac899b76-19a2-41a5-af19-887aedf4fa7f');\n",
       "var x = new MutationObserver(function (mutations, observer) {{\n",
       "        var display = window.getComputedStyle(gd).display;\n",
       "        if (!display || display === 'none') {{\n",
       "            console.log([gd, 'removed!']);\n",
       "            Plotly.purge(gd);\n",
       "            observer.disconnect();\n",
       "        }}\n",
       "}});\n",
       "\n",
       "// Listen for the removal of the full notebook cells\n",
       "var notebookContainer = gd.closest('#notebook-container');\n",
       "if (notebookContainer) {{\n",
       "    x.observe(notebookContainer, {childList: true});\n",
       "}}\n",
       "\n",
       "// Listen for the clearing of the current output cell\n",
       "var outputEl = gd.closest('.output');\n",
       "if (outputEl) {{\n",
       "    x.observe(outputEl, {childList: true});\n",
       "}}\n",
       "\n",
       "                        })                };                });            </script>        </div>"
      ]
     },
     "metadata": {},
     "output_type": "display_data"
    }
   ],
   "source": [
    "fig = px.scatter(\n",
    "    df_up, \n",
    "    x=\"delta_P\", \n",
    "    y=\"Probability\",  \n",
    "    template= \"plotly_dark\", \n",
    "    labels={\"delta_P\": \"ΔP\",  \"Pressure_kbar\": \"Experimental Pressure\"}, \n",
    "    marginal_x=\"histogram\", \n",
    "    marginal_y=\"histogram\", \n",
    "    color='alk',\n",
    "    hover_data=['Reference', 'Phases', 'Apparatus'],\n",
    "    color_continuous_scale=px.colors.sequential.Bluyl, \n",
    "    title=\"ΔP vs Probability influenced by Alkalinity?\")\n",
    "fig.show()"
   ]
  },
  {
   "cell_type": "code",
   "execution_count": 51,
   "metadata": {},
   "outputs": [
    {
     "data": {
      "image/png": "[encoded data removed]",
      "text/plain": [
       "<Figure size 720x720 with 1 Axes>"
      ]
     },
     "metadata": {},
     "output_type": "display_data"
    }
   ],
   "source": [
    "'Known experimental pressure versus Predicted pressure'\n",
    "sns.set(rc={'figure.figsize':(10,10)})\n",
    "sns.set_style(\"white\")\n",
    "ax = sns.scatterplot(x=\"Pressure_min\", y=\"Pressure_kbar\", data=df_up, s=300, color = \"midnightblue\", alpha = 0.3)\n",
    "#ax.legend(loc='center left', bbox_to_anchor=(1.25, 0.5), ncol=1)\n",
    "\n",
    "ax.axes.set_title(\"Experimental vs Calculated Pressures (Filtered)\",fontsize=25)\n",
    "ax.set_xlabel(\"Calculated Pressure (Kbar)\",fontsize=20)\n",
    "ax.set_ylabel(\"Experimental Pressure (Kbar)\",fontsize=20)\n",
    "ax.tick_params(labelsize=20)\n",
    "\n",
    "#creating 1:1 line\n",
    "x = np.linspace(-1,15,100)\n",
    "y = 1*x+0\n",
    "plt.plot(x, y, '-k', linewidth=4.0)\n",
    "\n",
    "plt.savefig('Experimental vs Calculated Pressures (Filtered).png',dpi=500)"
   ]
  },
  {
   "cell_type": "code",
   "execution_count": 52,
   "metadata": {},
   "outputs": [
    {
     "data": {
      "text/plain": [
       "\"writer = pd.ExcelWriter('myDataFrame.xlsx')\\ndf.to_excel(writer, 'DataFrame')\\nwriter.save()\""
      ]
     },
     "execution_count": 52,
     "metadata": {},
     "output_type": "execute_result"
    }
   ],
   "source": [
    "#turn dataframe back to csv file\n",
    "#df_up.to_csv('Filtered_OPAM_CHi_minimisation.csv')\n",
    "\n",
    "#For Excel\n",
    "'''writer = pd.ExcelWriter('myDataFrame.xlsx')\n",
    "df.to_excel(writer, 'DataFrame')\n",
    "writer.save()'''"
   ]
  }
 ],
 "metadata": {
  "kernelspec": {
   "display_name": "Python 3",
   "language": "python",
   "name": "python3"
  },
  "language_info": {
   "codemirror_mode": {
    "name": "ipython",
    "version": 3
   },
   "file_extension": ".py",
   "mimetype": "text/x-python",
   "name": "python",
   "nbconvert_exporter": "python",
   "pygments_lexer": "ipython3",
   "version": "3.8.6"
  }
 },
 "nbformat": 4,
 "nbformat_minor": 2
}
